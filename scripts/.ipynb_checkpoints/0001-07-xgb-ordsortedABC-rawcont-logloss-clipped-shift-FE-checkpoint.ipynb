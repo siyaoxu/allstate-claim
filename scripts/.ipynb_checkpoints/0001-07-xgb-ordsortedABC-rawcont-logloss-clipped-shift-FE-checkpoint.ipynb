{
 "cells": [
  {
   "cell_type": "markdown",
   "metadata": {},
   "source": [
    "# Load the data"
   ]
  },
  {
   "cell_type": "code",
   "execution_count": 1,
   "metadata": {
    "collapsed": false
   },
   "outputs": [],
   "source": [
    "# This Python 3 environment comes with many helpful analytics libraries installed\n",
    "# It is defined by the kaggle/python docker image: https://github.com/kaggle/docker-python\n",
    "# For example, here's several helpful packages to load in \n",
    "\n",
    "import numpy as np # linear algebra\n",
    "import pandas as pd # data processing, CSV file I/O (e.g. pd.read_csv)\n",
    "import scipy as sp\n",
    "\n",
    "# from scipy.special import erfinv\n",
    "from scipy.stats import norm\n",
    "\n",
    "# Input data files are available in the \"../input/\" directory.\n",
    "# For example, running this (by clicking run or pressing Shift+Enter) will list the files in the input directory\n",
    "\n",
    "# from subprocess import check_output\n",
    "# print(check_output([\"ls\", \"../input\"]).decode(\"utf8\"))\n",
    "\n",
    "# Any results you write to the current directory are saved as output.\n",
    "\n",
    "%matplotlib inline\n",
    "\n",
    "import matplotlib.pyplot as plt"
   ]
  },
  {
   "cell_type": "code",
   "execution_count": 2,
   "metadata": {
    "collapsed": false
   },
   "outputs": [],
   "source": [
    "data_train_raw = pd.read_csv('../input/train.csv')\n",
    "data_train_raw = data_train_raw.sample(frac=0.01, random_state=0)\n",
    "data_test_raw = pd.read_csv('../input/test.csv')"
   ]
  },
  {
   "cell_type": "code",
   "execution_count": 3,
   "metadata": {
    "collapsed": false
   },
   "outputs": [
    {
     "data": {
      "text/plain": [
       "(1883, 132)"
      ]
     },
     "execution_count": 3,
     "metadata": {},
     "output_type": "execute_result"
    }
   ],
   "source": [
    "data_train_raw.shape"
   ]
  },
  {
   "cell_type": "markdown",
   "metadata": {},
   "source": [
    "# Data EDA and Transformation"
   ]
  },
  {
   "cell_type": "code",
   "execution_count": 4,
   "metadata": {
    "collapsed": true
   },
   "outputs": [],
   "source": [
    "def lossRescale(logloss,ymean,ystd):\n",
    "    loss = (logloss-ymean)/ystd\n",
    "    return loss\n",
    "def lossRestore(logloss, ymean, ystd):\n",
    "    loss = np.exp(logloss*ystd+ymean)\n",
    "    return loss"
   ]
  },
  {
   "cell_type": "code",
   "execution_count": 5,
   "metadata": {
    "collapsed": false
   },
   "outputs": [
    {
     "name": "stdout",
     "output_type": "stream",
     "text": [
      "Skewness of raw loss values: 3.01855468631\n",
      "Skewness of log1p loss values: 0.389480535812\n"
     ]
    }
   ],
   "source": [
    "shift=200\n",
    "colLabel = 'logloss'\n",
    "colRawLabel = 'loss'\n",
    "labelColumns = [colLabel, colRawLabel]\n",
    "data_train_raw[colLabel]=np.log(data_train_raw[colRawLabel]+shift)\n",
    "print('Skewness of raw loss values: {}'.format(data_train_raw[colRawLabel].skew()))\n",
    "print('Skewness of log1p loss values: {}'.format(data_train_raw[colLabel].skew()))"
   ]
  },
  {
   "cell_type": "code",
   "execution_count": 6,
   "metadata": {
    "collapsed": false
   },
   "outputs": [],
   "source": [
    "# ymean=0\n",
    "# ystd=1\n",
    "ymean=data_train_raw[colLabel].min()\n",
    "ystd=(data_train_raw[colLabel]-ymean).max()\n",
    "data_train_raw[colLabel]=lossRescale(data_train_raw[colLabel],ymean,ystd)"
   ]
  },
  {
   "cell_type": "code",
   "execution_count": 7,
   "metadata": {
    "collapsed": false
   },
   "outputs": [
    {
     "name": "stdout",
     "output_type": "stream",
     "text": [
      "Mean of rescaled log1py: 0.416627782623\n",
      "Std of rescaled log1py: 0.416627782623\n",
      "Lower clipping bound: -0.0757800281798\n",
      "Upper clipping bound: 0.909035593425\n",
      "Shape of cleaned data: (1879, 133)\n",
      "Skewness of clipped log1p loss: 0.345052290541\n"
     ]
    }
   ],
   "source": [
    "# clean outliers in training data\n",
    "rescaledMean = data_train_raw[colLabel].mean()\n",
    "rescaledStd = data_train_raw[colLabel].std()\n",
    "print('Mean of rescaled log1py: {}'.format(rescaledMean))\n",
    "print('Std of rescaled log1py: {}'.format(rescaledMean))\n",
    "\n",
    "lbound = rescaledMean-3*rescaledStd\n",
    "ubound = rescaledMean+3*rescaledStd\n",
    "print('Lower clipping bound: {}\\nUpper clipping bound: {}'.format(lbound, ubound))\n",
    "data_train_raw = data_train_raw[(data_train_raw[colLabel]>=lbound) & (data_train_raw[colLabel]<=ubound)]\n",
    "print('Shape of cleaned data: {}'.format(data_train_raw.shape))\n",
    "print('Skewness of clipped log1p loss: {}'.format(data_train_raw[colLabel].skew()))"
   ]
  },
  {
   "cell_type": "code",
   "execution_count": 8,
   "metadata": {
    "collapsed": false
   },
   "outputs": [
    {
     "data": {
      "image/png": "[encoded data removed]",
      "text/plain": [
       "<matplotlib.figure.Figure at 0x7f44baf7a110>"
      ]
     },
     "metadata": {},
     "output_type": "display_data"
    }
   ],
   "source": [
    "plt.figure(figsize=(15,4))\n",
    "\n",
    "plt.subplot(3,1,1)\n",
    "plt.hist(data_train_raw[colRawLabel],100)\n",
    "plt.title(colRawLabel);\n",
    "plt.subplot(3,1,2)\n",
    "plt.hist(data_train_raw[colLabel],100)\n",
    "plt.title(colLabel);\n",
    "plt.subplot(3,1,3)\n",
    "plt.hist(lossRestore(data_train_raw[colLabel],ymean,ystd),100)\n",
    "plt.title('Restored '+colLabel);"
   ]
  },
  {
   "cell_type": "code",
   "execution_count": 9,
   "metadata": {
    "collapsed": false
   },
   "outputs": [
    {
     "name": "stdout",
     "output_type": "stream",
     "text": [
      "Are there any null values?\n",
      "False\n",
      "False\n"
     ]
    }
   ],
   "source": [
    "print('Are there any null values?')\n",
    "print(data_train_raw.isnull().any().any())\n",
    "print(data_test_raw.isnull().any().any())"
   ]
  },
  {
   "cell_type": "code",
   "execution_count": 10,
   "metadata": {
    "collapsed": false
   },
   "outputs": [
    {
     "name": "stdout",
     "output_type": "stream",
     "text": [
      "Logarithmic transformed, rescaled, clipped loss:\n"
     ]
    },
    {
     "data": {
      "text/plain": [
       "count    1879.000000\n",
       "mean        0.415479\n",
       "std         0.162401\n",
       "min         0.000000\n",
       "25%         0.297358\n",
       "50%         0.401486\n",
       "75%         0.525609\n",
       "max         0.903217\n",
       "Name: logloss, dtype: float64"
      ]
     },
     "execution_count": 10,
     "metadata": {},
     "output_type": "execute_result"
    }
   ],
   "source": [
    "print('Logarithmic transformed, rescaled, clipped loss:')\n",
    "data_train_raw[colLabel].describe()"
   ]
  },
  {
   "cell_type": "markdown",
   "metadata": {},
   "source": [
    "# Data preparation - labeling cat features with ordinal information encoded"
   ]
  },
  {
   "cell_type": "code",
   "execution_count": 11,
   "metadata": {
    "collapsed": false
   },
   "outputs": [
    {
     "name": "stdout",
     "output_type": "stream",
     "text": [
      "trainDf has 1879 features from the raw data:\n",
      "Index([u'cat1', u'cat2', u'cat3', u'cat4', u'cat5', u'cat6', u'cat7', u'cat8',\n",
      "       u'cat9', u'cat10',\n",
      "       ...\n",
      "       u'cont5', u'cont6', u'cont7', u'cont8', u'cont9', u'cont10', u'cont11',\n",
      "       u'cont12', u'cont13', u'cont14'],\n",
      "      dtype='object', length=130)\n",
      "testDf has 125546 features from the raw data:\n",
      "Index([u'cat1', u'cat2', u'cat3', u'cat4', u'cat5', u'cat6', u'cat7', u'cat8',\n",
      "       u'cat9', u'cat10',\n",
      "       ...\n",
      "       u'cont5', u'cont6', u'cont7', u'cont8', u'cont9', u'cont10', u'cont11',\n",
      "       u'cont12', u'cont13', u'cont14'],\n",
      "      dtype='object', length=130)\n"
     ]
    }
   ],
   "source": [
    "# save label in a seperate serie\n",
    "labelSs = data_train_raw[colLabel]\n",
    "labelColumns.append('id')\n",
    "trainDf = data_train_raw.drop(labelColumns,axis=1)\n",
    "subId = data_test_raw['id']\n",
    "testDf = data_test_raw.drop(['id'],axis=1)\n",
    "\n",
    "print('trainDf has {} features from the raw data:\\n{}'.format(len(trainDf), trainDf.columns))\n",
    "print('testDf has {} features from the raw data:\\n{}'.format(len(testDf),testDf.columns))"
   ]
  },
  {
   "cell_type": "code",
   "execution_count": 12,
   "metadata": {
    "collapsed": false
   },
   "outputs": [
    {
     "name": "stdout",
     "output_type": "stream",
     "text": [
      "the stacked data's dimension are:\n",
      "(127425, 130)\n",
      "(127425, 116) of which are categorical\n",
      "(127425, 14) of which are continuous\n"
     ]
    }
   ],
   "source": [
    "dataAll = pd.concat([trainDf,testDf])\n",
    "dataCatAll = dataAll.select_dtypes(include=['object'])\n",
    "dataFltAll = dataAll.select_dtypes(include=['float64'])\n",
    "print('the stacked data\\'s dimension are:\\n{}'.format(dataAll.shape))\n",
    "print('{} of which are categorical'.format(dataCatAll.shape))\n",
    "print('{} of which are continuous'.format(dataFltAll.shape))"
   ]
  },
  {
   "cell_type": "code",
   "execution_count": 13,
   "metadata": {
    "collapsed": false
   },
   "outputs": [
    {
     "data": {
      "text/html": [
       "<div>\n",
       "<table border=\"1\" class=\"dataframe\">\n",
       "  <thead>\n",
       "    <tr style=\"text-align: right;\">\n",
       "      <th></th>\n",
       "      <th>cat1</th>\n",
       "      <th>cat2</th>\n",
       "      <th>cat3</th>\n",
       "      <th>cat4</th>\n",
       "      <th>cat5</th>\n",
       "      <th>cat6</th>\n",
       "      <th>cat7</th>\n",
       "      <th>cat8</th>\n",
       "      <th>cat9</th>\n",
       "      <th>cat10</th>\n",
       "      <th>...</th>\n",
       "      <th>cat107</th>\n",
       "      <th>cat108</th>\n",
       "      <th>cat109</th>\n",
       "      <th>cat110</th>\n",
       "      <th>cat111</th>\n",
       "      <th>cat112</th>\n",
       "      <th>cat113</th>\n",
       "      <th>cat114</th>\n",
       "      <th>cat115</th>\n",
       "      <th>cat116</th>\n",
       "    </tr>\n",
       "  </thead>\n",
       "  <tbody>\n",
       "    <tr>\n",
       "      <th>74790</th>\n",
       "      <td>A</td>\n",
       "      <td>A</td>\n",
       "      <td>A</td>\n",
       "      <td>A</td>\n",
       "      <td>A</td>\n",
       "      <td>B</td>\n",
       "      <td>A</td>\n",
       "      <td>A</td>\n",
       "      <td>A</td>\n",
       "      <td>A</td>\n",
       "      <td>...</td>\n",
       "      <td>K</td>\n",
       "      <td>K</td>\n",
       "      <td>BI</td>\n",
       "      <td>CQ</td>\n",
       "      <td>A</td>\n",
       "      <td>AH</td>\n",
       "      <td>BM</td>\n",
       "      <td>F</td>\n",
       "      <td>O</td>\n",
       "      <td>DP</td>\n",
       "    </tr>\n",
       "    <tr>\n",
       "      <th>22054</th>\n",
       "      <td>A</td>\n",
       "      <td>B</td>\n",
       "      <td>A</td>\n",
       "      <td>A</td>\n",
       "      <td>B</td>\n",
       "      <td>A</td>\n",
       "      <td>A</td>\n",
       "      <td>A</td>\n",
       "      <td>B</td>\n",
       "      <td>A</td>\n",
       "      <td>...</td>\n",
       "      <td>H</td>\n",
       "      <td>G</td>\n",
       "      <td>BI</td>\n",
       "      <td>A</td>\n",
       "      <td>A</td>\n",
       "      <td>AT</td>\n",
       "      <td>BM</td>\n",
       "      <td>A</td>\n",
       "      <td>O</td>\n",
       "      <td>IE</td>\n",
       "    </tr>\n",
       "    <tr>\n",
       "      <th>25894</th>\n",
       "      <td>A</td>\n",
       "      <td>A</td>\n",
       "      <td>A</td>\n",
       "      <td>B</td>\n",
       "      <td>A</td>\n",
       "      <td>B</td>\n",
       "      <td>A</td>\n",
       "      <td>A</td>\n",
       "      <td>A</td>\n",
       "      <td>A</td>\n",
       "      <td>...</td>\n",
       "      <td>J</td>\n",
       "      <td>K</td>\n",
       "      <td>BI</td>\n",
       "      <td>AK</td>\n",
       "      <td>C</td>\n",
       "      <td>I</td>\n",
       "      <td>BM</td>\n",
       "      <td>J</td>\n",
       "      <td>O</td>\n",
       "      <td>IE</td>\n",
       "    </tr>\n",
       "    <tr>\n",
       "      <th>3604</th>\n",
       "      <td>B</td>\n",
       "      <td>A</td>\n",
       "      <td>A</td>\n",
       "      <td>A</td>\n",
       "      <td>A</td>\n",
       "      <td>B</td>\n",
       "      <td>A</td>\n",
       "      <td>A</td>\n",
       "      <td>A</td>\n",
       "      <td>A</td>\n",
       "      <td>...</td>\n",
       "      <td>F</td>\n",
       "      <td>D</td>\n",
       "      <td>BI</td>\n",
       "      <td>BT</td>\n",
       "      <td>A</td>\n",
       "      <td>AI</td>\n",
       "      <td>A</td>\n",
       "      <td>C</td>\n",
       "      <td>J</td>\n",
       "      <td>HB</td>\n",
       "    </tr>\n",
       "    <tr>\n",
       "      <th>178001</th>\n",
       "      <td>A</td>\n",
       "      <td>B</td>\n",
       "      <td>A</td>\n",
       "      <td>A</td>\n",
       "      <td>A</td>\n",
       "      <td>A</td>\n",
       "      <td>A</td>\n",
       "      <td>A</td>\n",
       "      <td>B</td>\n",
       "      <td>B</td>\n",
       "      <td>...</td>\n",
       "      <td>K</td>\n",
       "      <td>K</td>\n",
       "      <td>BI</td>\n",
       "      <td>W</td>\n",
       "      <td>A</td>\n",
       "      <td>AH</td>\n",
       "      <td>AX</td>\n",
       "      <td>A</td>\n",
       "      <td>P</td>\n",
       "      <td>HK</td>\n",
       "    </tr>\n",
       "  </tbody>\n",
       "</table>\n",
       "<p>5 rows × 116 columns</p>\n",
       "</div>"
      ],
      "text/plain": [
       "       cat1 cat2 cat3 cat4 cat5 cat6 cat7 cat8 cat9 cat10  ...   cat107  \\\n",
       "74790     A    A    A    A    A    B    A    A    A     A  ...        K   \n",
       "22054     A    B    A    A    B    A    A    A    B     A  ...        H   \n",
       "25894     A    A    A    B    A    B    A    A    A     A  ...        J   \n",
       "3604      B    A    A    A    A    B    A    A    A     A  ...        F   \n",
       "178001    A    B    A    A    A    A    A    A    B     B  ...        K   \n",
       "\n",
       "       cat108 cat109 cat110 cat111 cat112 cat113 cat114 cat115 cat116  \n",
       "74790       K     BI     CQ      A     AH     BM      F      O     DP  \n",
       "22054       G     BI      A      A     AT     BM      A      O     IE  \n",
       "25894       K     BI     AK      C      I     BM      J      O     IE  \n",
       "3604        D     BI     BT      A     AI      A      C      J     HB  \n",
       "178001      K     BI      W      A     AH     AX      A      P     HK  \n",
       "\n",
       "[5 rows x 116 columns]"
      ]
     },
     "execution_count": 13,
     "metadata": {},
     "output_type": "execute_result"
    }
   ],
   "source": [
    "dataCatAll.head()"
   ]
  },
  {
   "cell_type": "code",
   "execution_count": 14,
   "metadata": {
    "collapsed": false
   },
   "outputs": [
    {
     "data": {
      "text/html": [
       "<div>\n",
       "<table border=\"1\" class=\"dataframe\">\n",
       "  <thead>\n",
       "    <tr style=\"text-align: right;\">\n",
       "      <th></th>\n",
       "      <th>cat1</th>\n",
       "      <th>cat2</th>\n",
       "      <th>cat3</th>\n",
       "      <th>cat4</th>\n",
       "      <th>cat5</th>\n",
       "      <th>cat6</th>\n",
       "      <th>cat7</th>\n",
       "      <th>cat8</th>\n",
       "      <th>cat9</th>\n",
       "      <th>cat10</th>\n",
       "      <th>...</th>\n",
       "      <th>cat107</th>\n",
       "      <th>cat108</th>\n",
       "      <th>cat109</th>\n",
       "      <th>cat110</th>\n",
       "      <th>cat111</th>\n",
       "      <th>cat112</th>\n",
       "      <th>cat113</th>\n",
       "      <th>cat114</th>\n",
       "      <th>cat115</th>\n",
       "      <th>cat116</th>\n",
       "    </tr>\n",
       "  </thead>\n",
       "  <tbody>\n",
       "    <tr>\n",
       "      <th>74790</th>\n",
       "      <td>0A</td>\n",
       "      <td>0A</td>\n",
       "      <td>0A</td>\n",
       "      <td>0A</td>\n",
       "      <td>0A</td>\n",
       "      <td>0B</td>\n",
       "      <td>0A</td>\n",
       "      <td>0A</td>\n",
       "      <td>0A</td>\n",
       "      <td>0A</td>\n",
       "      <td>...</td>\n",
       "      <td>0K</td>\n",
       "      <td>0K</td>\n",
       "      <td>BI</td>\n",
       "      <td>CQ</td>\n",
       "      <td>0A</td>\n",
       "      <td>AH</td>\n",
       "      <td>BM</td>\n",
       "      <td>0F</td>\n",
       "      <td>0O</td>\n",
       "      <td>DP</td>\n",
       "    </tr>\n",
       "    <tr>\n",
       "      <th>22054</th>\n",
       "      <td>0A</td>\n",
       "      <td>0B</td>\n",
       "      <td>0A</td>\n",
       "      <td>0A</td>\n",
       "      <td>0B</td>\n",
       "      <td>0A</td>\n",
       "      <td>0A</td>\n",
       "      <td>0A</td>\n",
       "      <td>0B</td>\n",
       "      <td>0A</td>\n",
       "      <td>...</td>\n",
       "      <td>0H</td>\n",
       "      <td>0G</td>\n",
       "      <td>BI</td>\n",
       "      <td>0A</td>\n",
       "      <td>0A</td>\n",
       "      <td>AT</td>\n",
       "      <td>BM</td>\n",
       "      <td>0A</td>\n",
       "      <td>0O</td>\n",
       "      <td>IE</td>\n",
       "    </tr>\n",
       "    <tr>\n",
       "      <th>25894</th>\n",
       "      <td>0A</td>\n",
       "      <td>0A</td>\n",
       "      <td>0A</td>\n",
       "      <td>0B</td>\n",
       "      <td>0A</td>\n",
       "      <td>0B</td>\n",
       "      <td>0A</td>\n",
       "      <td>0A</td>\n",
       "      <td>0A</td>\n",
       "      <td>0A</td>\n",
       "      <td>...</td>\n",
       "      <td>0J</td>\n",
       "      <td>0K</td>\n",
       "      <td>BI</td>\n",
       "      <td>AK</td>\n",
       "      <td>0C</td>\n",
       "      <td>0I</td>\n",
       "      <td>BM</td>\n",
       "      <td>0J</td>\n",
       "      <td>0O</td>\n",
       "      <td>IE</td>\n",
       "    </tr>\n",
       "    <tr>\n",
       "      <th>3604</th>\n",
       "      <td>0B</td>\n",
       "      <td>0A</td>\n",
       "      <td>0A</td>\n",
       "      <td>0A</td>\n",
       "      <td>0A</td>\n",
       "      <td>0B</td>\n",
       "      <td>0A</td>\n",
       "      <td>0A</td>\n",
       "      <td>0A</td>\n",
       "      <td>0A</td>\n",
       "      <td>...</td>\n",
       "      <td>0F</td>\n",
       "      <td>0D</td>\n",
       "      <td>BI</td>\n",
       "      <td>BT</td>\n",
       "      <td>0A</td>\n",
       "      <td>AI</td>\n",
       "      <td>0A</td>\n",
       "      <td>0C</td>\n",
       "      <td>0J</td>\n",
       "      <td>HB</td>\n",
       "    </tr>\n",
       "    <tr>\n",
       "      <th>178001</th>\n",
       "      <td>0A</td>\n",
       "      <td>0B</td>\n",
       "      <td>0A</td>\n",
       "      <td>0A</td>\n",
       "      <td>0A</td>\n",
       "      <td>0A</td>\n",
       "      <td>0A</td>\n",
       "      <td>0A</td>\n",
       "      <td>0B</td>\n",
       "      <td>0B</td>\n",
       "      <td>...</td>\n",
       "      <td>0K</td>\n",
       "      <td>0K</td>\n",
       "      <td>BI</td>\n",
       "      <td>0W</td>\n",
       "      <td>0A</td>\n",
       "      <td>AH</td>\n",
       "      <td>AX</td>\n",
       "      <td>0A</td>\n",
       "      <td>0P</td>\n",
       "      <td>HK</td>\n",
       "    </tr>\n",
       "  </tbody>\n",
       "</table>\n",
       "<p>5 rows × 116 columns</p>\n",
       "</div>"
      ],
      "text/plain": [
       "       cat1 cat2 cat3 cat4 cat5 cat6 cat7 cat8 cat9 cat10  ...   cat107  \\\n",
       "74790    0A   0A   0A   0A   0A   0B   0A   0A   0A    0A  ...       0K   \n",
       "22054    0A   0B   0A   0A   0B   0A   0A   0A   0B    0A  ...       0H   \n",
       "25894    0A   0A   0A   0B   0A   0B   0A   0A   0A    0A  ...       0J   \n",
       "3604     0B   0A   0A   0A   0A   0B   0A   0A   0A    0A  ...       0F   \n",
       "178001   0A   0B   0A   0A   0A   0A   0A   0A   0B    0B  ...       0K   \n",
       "\n",
       "       cat108 cat109 cat110 cat111 cat112 cat113 cat114 cat115 cat116  \n",
       "74790      0K     BI     CQ     0A     AH     BM     0F     0O     DP  \n",
       "22054      0G     BI     0A     0A     AT     BM     0A     0O     IE  \n",
       "25894      0K     BI     AK     0C     0I     BM     0J     0O     IE  \n",
       "3604       0D     BI     BT     0A     AI     0A     0C     0J     HB  \n",
       "178001     0K     BI     0W     0A     AH     AX     0A     0P     HK  \n",
       "\n",
       "[5 rows x 116 columns]"
      ]
     },
     "execution_count": 14,
     "metadata": {},
     "output_type": "execute_result"
    }
   ],
   "source": [
    "LevelList = {'A','B','C','D','E','F','G','H','I','J','K','L','M','N','O','P','Q','R','S','T','U','V','W','X','Y','Z'}\n",
    "# def LetterRep(x,LevelList):\n",
    "#     if x in LevelList:\n",
    "#         x = '0'+x\n",
    "#     return x\n",
    "    \n",
    "def LetterRep(x,LevelList):\n",
    "    if x in LevelList:\n",
    "        x = '0'+x\n",
    "    return x\n",
    "\n",
    "dataCatAll = dataCatAll.applymap(lambda x: LetterRep(x,LevelList))\n",
    "dataCatAll.head()"
   ]
  },
  {
   "cell_type": "code",
   "execution_count": 15,
   "metadata": {
    "collapsed": false
   },
   "outputs": [
    {
     "data": {
      "text/html": [
       "<div>\n",
       "<table border=\"1\" class=\"dataframe\">\n",
       "  <thead>\n",
       "    <tr style=\"text-align: right;\">\n",
       "      <th></th>\n",
       "      <th>cat1</th>\n",
       "      <th>cat2</th>\n",
       "      <th>cat3</th>\n",
       "      <th>cat4</th>\n",
       "      <th>cat5</th>\n",
       "      <th>cat6</th>\n",
       "      <th>cat7</th>\n",
       "      <th>cat8</th>\n",
       "      <th>cat9</th>\n",
       "      <th>cat10</th>\n",
       "      <th>...</th>\n",
       "      <th>cat107</th>\n",
       "      <th>cat108</th>\n",
       "      <th>cat109</th>\n",
       "      <th>cat110</th>\n",
       "      <th>cat111</th>\n",
       "      <th>cat112</th>\n",
       "      <th>cat113</th>\n",
       "      <th>cat114</th>\n",
       "      <th>cat115</th>\n",
       "      <th>cat116</th>\n",
       "    </tr>\n",
       "  </thead>\n",
       "  <tbody>\n",
       "    <tr>\n",
       "      <th>74790</th>\n",
       "      <td>0</td>\n",
       "      <td>0</td>\n",
       "      <td>0</td>\n",
       "      <td>0</td>\n",
       "      <td>0</td>\n",
       "      <td>1</td>\n",
       "      <td>0</td>\n",
       "      <td>0</td>\n",
       "      <td>0</td>\n",
       "      <td>0</td>\n",
       "      <td>...</td>\n",
       "      <td>10</td>\n",
       "      <td>10</td>\n",
       "      <td>51</td>\n",
       "      <td>79</td>\n",
       "      <td>0</td>\n",
       "      <td>32</td>\n",
       "      <td>57</td>\n",
       "      <td>5</td>\n",
       "      <td>14</td>\n",
       "      <td>99</td>\n",
       "    </tr>\n",
       "    <tr>\n",
       "      <th>22054</th>\n",
       "      <td>0</td>\n",
       "      <td>1</td>\n",
       "      <td>0</td>\n",
       "      <td>0</td>\n",
       "      <td>1</td>\n",
       "      <td>0</td>\n",
       "      <td>0</td>\n",
       "      <td>0</td>\n",
       "      <td>1</td>\n",
       "      <td>0</td>\n",
       "      <td>...</td>\n",
       "      <td>7</td>\n",
       "      <td>6</td>\n",
       "      <td>51</td>\n",
       "      <td>0</td>\n",
       "      <td>0</td>\n",
       "      <td>44</td>\n",
       "      <td>57</td>\n",
       "      <td>0</td>\n",
       "      <td>14</td>\n",
       "      <td>202</td>\n",
       "    </tr>\n",
       "    <tr>\n",
       "      <th>25894</th>\n",
       "      <td>0</td>\n",
       "      <td>0</td>\n",
       "      <td>0</td>\n",
       "      <td>1</td>\n",
       "      <td>0</td>\n",
       "      <td>1</td>\n",
       "      <td>0</td>\n",
       "      <td>0</td>\n",
       "      <td>0</td>\n",
       "      <td>0</td>\n",
       "      <td>...</td>\n",
       "      <td>9</td>\n",
       "      <td>10</td>\n",
       "      <td>51</td>\n",
       "      <td>31</td>\n",
       "      <td>2</td>\n",
       "      <td>8</td>\n",
       "      <td>57</td>\n",
       "      <td>8</td>\n",
       "      <td>14</td>\n",
       "      <td>202</td>\n",
       "    </tr>\n",
       "    <tr>\n",
       "      <th>3604</th>\n",
       "      <td>1</td>\n",
       "      <td>0</td>\n",
       "      <td>0</td>\n",
       "      <td>0</td>\n",
       "      <td>0</td>\n",
       "      <td>1</td>\n",
       "      <td>0</td>\n",
       "      <td>0</td>\n",
       "      <td>0</td>\n",
       "      <td>0</td>\n",
       "      <td>...</td>\n",
       "      <td>5</td>\n",
       "      <td>3</td>\n",
       "      <td>51</td>\n",
       "      <td>59</td>\n",
       "      <td>0</td>\n",
       "      <td>33</td>\n",
       "      <td>0</td>\n",
       "      <td>2</td>\n",
       "      <td>9</td>\n",
       "      <td>177</td>\n",
       "    </tr>\n",
       "    <tr>\n",
       "      <th>178001</th>\n",
       "      <td>0</td>\n",
       "      <td>1</td>\n",
       "      <td>0</td>\n",
       "      <td>0</td>\n",
       "      <td>0</td>\n",
       "      <td>0</td>\n",
       "      <td>0</td>\n",
       "      <td>0</td>\n",
       "      <td>1</td>\n",
       "      <td>1</td>\n",
       "      <td>...</td>\n",
       "      <td>10</td>\n",
       "      <td>10</td>\n",
       "      <td>51</td>\n",
       "      <td>19</td>\n",
       "      <td>0</td>\n",
       "      <td>32</td>\n",
       "      <td>44</td>\n",
       "      <td>0</td>\n",
       "      <td>15</td>\n",
       "      <td>186</td>\n",
       "    </tr>\n",
       "  </tbody>\n",
       "</table>\n",
       "<p>5 rows × 116 columns</p>\n",
       "</div>"
      ],
      "text/plain": [
       "        cat1  cat2  cat3  cat4  cat5  cat6  cat7  cat8  cat9  cat10   ...    \\\n",
       "74790      0     0     0     0     0     1     0     0     0      0   ...     \n",
       "22054      0     1     0     0     1     0     0     0     1      0   ...     \n",
       "25894      0     0     0     1     0     1     0     0     0      0   ...     \n",
       "3604       1     0     0     0     0     1     0     0     0      0   ...     \n",
       "178001     0     1     0     0     0     0     0     0     1      1   ...     \n",
       "\n",
       "        cat107  cat108  cat109  cat110  cat111  cat112  cat113  cat114  \\\n",
       "74790       10      10      51      79       0      32      57       5   \n",
       "22054        7       6      51       0       0      44      57       0   \n",
       "25894        9      10      51      31       2       8      57       8   \n",
       "3604         5       3      51      59       0      33       0       2   \n",
       "178001      10      10      51      19       0      32      44       0   \n",
       "\n",
       "        cat115  cat116  \n",
       "74790       14      99  \n",
       "22054       14     202  \n",
       "25894       14     202  \n",
       "3604         9     177  \n",
       "178001      15     186  \n",
       "\n",
       "[5 rows x 116 columns]"
      ]
     },
     "execution_count": 15,
     "metadata": {},
     "output_type": "execute_result"
    }
   ],
   "source": [
    "features = dataCatAll.columns[0:]\n",
    "cats = [feature for feature in features if feature.startswith('cat')]\n",
    "for feat in cats:\n",
    "    dataCatAll[feat] = pd.factorize(dataCatAll[feat], sort=True)[0]\n",
    "dataCatAll.head()\n",
    "# le.classes_"
   ]
  },
  {
   "cell_type": "code",
   "execution_count": 16,
   "metadata": {
    "collapsed": false
   },
   "outputs": [],
   "source": [
    "# rescale the labeled categorical data\n",
    "from sklearn.preprocessing import MinMaxScaler\n",
    "mms = MinMaxScaler()\n",
    "x_catAll = mms.fit_transform(dataCatAll)"
   ]
  },
  {
   "cell_type": "code",
   "execution_count": 17,
   "metadata": {
    "collapsed": false
   },
   "outputs": [
    {
     "name": "stdout",
     "output_type": "stream",
     "text": [
      "(127425, 116)\n"
     ]
    },
    {
     "data": {
      "text/plain": [
       "array([[ 0.        ,  0.        ,  0.        , ...,  0.29411765,\n",
       "         0.63636364,  0.31832797],\n",
       "       [ 0.        ,  1.        ,  0.        , ...,  0.        ,\n",
       "         0.63636364,  0.64951768],\n",
       "       [ 0.        ,  0.        ,  0.        , ...,  0.47058824,\n",
       "         0.63636364,  0.64951768],\n",
       "       ..., \n",
       "       [ 1.        ,  1.        ,  0.        , ...,  0.        ,\n",
       "         0.68181818,  0.92926045],\n",
       "       [ 0.        ,  0.        ,  0.        , ...,  0.23529412,\n",
       "         0.63636364,  0.29903537],\n",
       "       [ 0.        ,  1.        ,  0.        , ...,  0.        ,\n",
       "         0.5       ,  0.24437299]])"
      ]
     },
     "execution_count": 17,
     "metadata": {},
     "output_type": "execute_result"
    }
   ],
   "source": [
    "print(x_catAll.shape)\n",
    "x_catAll"
   ]
  },
  {
   "cell_type": "markdown",
   "metadata": {},
   "source": [
    "# one-hot-encoding - skipped in order to keep the alphabetical order"
   ]
  },
  {
   "cell_type": "code",
   "execution_count": 18,
   "metadata": {
    "collapsed": false
   },
   "outputs": [],
   "source": [
    "# # one-hot-encoding the categorical features\n",
    "# from sklearn.preprocessing import OneHotEncoder\n",
    "# enc = OneHotEncoder()\n",
    "# x_catAll = enc.fit_transform(dataCatAll)\n",
    "# print(x_catAll.shape)"
   ]
  },
  {
   "cell_type": "markdown",
   "metadata": {},
   "source": [
    "# feature engineering with clustering"
   ]
  },
  {
   "cell_type": "markdown",
   "metadata": {},
   "source": [
    "### testing clustering on training data"
   ]
  },
  {
   "cell_type": "code",
   "execution_count": 19,
   "metadata": {
    "collapsed": false
   },
   "outputs": [
    {
     "data": {
      "text/plain": [
       "(1879, 130)"
      ]
     },
     "execution_count": 19,
     "metadata": {},
     "output_type": "execute_result"
    }
   ],
   "source": [
    "d_train = sp.sparse.hstack((x_catAll[0:len(labelSs),:],sp.sparse.csr_matrix(dataFltAll.as_matrix())[0:len(labelSs),:]))\n",
    "d_train.shape"
   ]
  },
  {
   "cell_type": "code",
   "execution_count": 20,
   "metadata": {
    "collapsed": false
   },
   "outputs": [],
   "source": [
    "from sklearn.decomposition import PCA\n",
    "pca = PCA(random_state=0,n_components = 35)\n",
    "d_train = pca.fit_transform(d_train.todense())\n",
    "print(d_train.shape)\n",
    "print(sum(pca.explained_variance_ratio_))"
   ]
  },
  {
   "cell_type": "code",
   "execution_count": null,
   "metadata": {
    "collapsed": false
   },
   "outputs": [],
   "source": [
    "# from sklearn.metrics.pairwise import cosine_similarity\n",
    "from sklearn.metrics import pairwise_distances\n",
    "\n",
    "# from sklearn.neighbors import DistanceMetric\n",
    "# def gower_distance(X):\n",
    "#     \"\"\"\n",
    "#     This function expects a pandas dataframe as input\n",
    "#     The data frame is to contain the features along the columns. Based on these features a\n",
    "#     distance matrix will be returned which will contain the pairwise gower distance between the rows\n",
    "#     All variables of object type will be treated as nominal variables and the others will be treated as \n",
    "#     numeric variables.\n",
    "#     Distance metrics used for:\n",
    "#     Nominal variables: Dice distance (https://en.wikipedia.org/wiki/S%C3%B8rensen%E2%80%93Dice_coefficient)\n",
    "#     Numeric variables: Manhattan distance normalized by the range of the variable (https://en.wikipedia.org/wiki/Taxicab_geometry)\n",
    "#     \"\"\"\n",
    "#     individual_variable_distances = []\n",
    "\n",
    "#     for i in range(X.shape[1]):\n",
    "#         feature = X.iloc[:,[i]]\n",
    "#         if feature.dtypes[0] == np.object:\n",
    "#             feature_dist = DistanceMetric.get_metric('dice').pairwise(pd.get_dummies(feature))\n",
    "#         else:\n",
    "#             feature_dist = DistanceMetric.get_metric('manhattan').pairwise(feature) / np.ptp(feature.values)\n",
    "\n",
    "#         individual_variable_distances.append(feature_dist)\n",
    "\n",
    "#     return np.array(individual_variable_distances).mean(0)\n",
    "\n",
    "d_train_dist = pairwise_distances(d_train,metric = 'manhattan')"
   ]
  },
  {
   "cell_type": "code",
   "execution_count": null,
   "metadata": {
    "collapsed": false
   },
   "outputs": [],
   "source": [
    "# from sklearn.cluster import KMeans\n",
    "# kms = KMeans(random_state=0,n_jobs=7)\n",
    "# cluster = kms.fit_predict(d_train)\n",
    "# cluster\n",
    "\n",
    "from sklearn.cluster import DBSCAN\n",
    "# dbs = DBSCAN(n_jobs=7)\n",
    "dbs = DBSCAN(eps=60,n_jobs=-1,min_samples=1)\n",
    "# dbs = DBSCAN(eps=1.62,n_jobs=-1,min_samples=5)\n",
    "cluster = dbs.fit_predict(d_train_dist)\n",
    "cluster\n",
    "\n",
    "# from sklearn.cluster import AgglomerativeClustering\n",
    "# ahc = AgglomerativeClustering(n_clusters=5, compute_full_tree=False)\n",
    "# cluster = ahc.fit_predict(d_train)\n",
    "# cluster"
   ]
  },
  {
   "cell_type": "code",
   "execution_count": null,
   "metadata": {
    "collapsed": false
   },
   "outputs": [],
   "source": [
    "plt.figure(figsize=(15,4))\n",
    "plt.subplot(1,1,1)\n",
    "plt.hist(cluster,bins=100);\n",
    "print(np.unique(cluster))\n",
    "print(len(np.unique(cluster)))"
   ]
  },
  {
   "cell_type": "code",
   "execution_count": null,
   "metadata": {
    "collapsed": false
   },
   "outputs": [],
   "source": [
    "ncluster = len(np.unique(cluster))\n",
    "listCluster = np.unique(cluster)\n",
    "for k in listCluster[0:30]:\n",
    "    plt.figure(figsize=(15,4))\n",
    "    plt.subplot(1,1,1)\n",
    "    plt.hist(lossRestore(labelSs[cluster==k],ymean,ystd),bins=50);\n",
    "    plt.xlabel('cluster {}: ({},{})'.format(k,np.min(lossRestore(labelSs[cluster==k],ymean,ystd)), np.max(lossRestore(labelSs[cluster==k],ymean,ystd))))\n",
    "#     print('({},{})'.format(np.mean(lossRestore(labelSs[cluster==k],ymean,ystd)),np.std(lossRestore(labelSs[cluster==k],ymean,ystd))))"
   ]
  },
  {
   "cell_type": "markdown",
   "metadata": {},
   "source": [
    "# split x_train and x_test"
   ]
  },
  {
   "cell_type": "code",
   "execution_count": null,
   "metadata": {
    "collapsed": false
   },
   "outputs": [],
   "source": [
    "# split x_train and x_test\n",
    "x_train = sp.sparse.hstack((x_catAll[0:len(labelSs),:],sp.sparse.csr_matrix(dataFltAll.as_matrix())[0:len(labelSs),:]))\n",
    "x_test = sp.sparse.hstack((x_catAll[len(labelSs):,:],sp.sparse.csr_matrix(dataFltAll.as_matrix())[len(labelSs):,:]))\n",
    "y_train = labelSs.values"
   ]
  },
  {
   "cell_type": "markdown",
   "metadata": {},
   "source": [
    "# check the dimension of prepared data"
   ]
  },
  {
   "cell_type": "code",
   "execution_count": null,
   "metadata": {
    "collapsed": false
   },
   "outputs": [],
   "source": [
    "print(x_test.shape)\n",
    "print(x_train.shape)\n",
    "print(y_train.shape)"
   ]
  },
  {
   "cell_type": "markdown",
   "metadata": {},
   "source": [
    "# splite the training data for valication"
   ]
  },
  {
   "cell_type": "code",
   "execution_count": null,
   "metadata": {
    "collapsed": false
   },
   "outputs": [],
   "source": [
    "from sklearn import cross_validation\n",
    "val_size = 0.2\n",
    "seed = 0\n",
    "x_train, x_val, y_train, y_val = cross_validation.train_test_split(x_train, y_train, test_size=val_size, random_state=seed)\n",
    "print(x_train.shape)\n",
    "print(y_train.shape)\n",
    "print(x_val.shape)\n",
    "print(y_val.shape)"
   ]
  },
  {
   "cell_type": "code",
   "execution_count": null,
   "metadata": {
    "collapsed": true
   },
   "outputs": [],
   "source": [
    "# del x_Train\n",
    "# del y_Train\n",
    "# del x_catAll\n",
    "# del dataCatAll\n",
    "# del trainDf\n",
    "# del testDf"
   ]
  },
  {
   "cell_type": "markdown",
   "metadata": {},
   "source": [
    "# Model Fitting"
   ]
  },
  {
   "cell_type": "code",
   "execution_count": null,
   "metadata": {
    "collapsed": true
   },
   "outputs": [],
   "source": [
    "from sklearn.metrics import mean_absolute_error\n",
    "y_pred = []\n",
    "y_pred_val = []\n",
    "submission = pd.read_csv('../input/sample_submission.csv')"
   ]
  },
  {
   "cell_type": "code",
   "execution_count": null,
   "metadata": {
    "collapsed": false
   },
   "outputs": [],
   "source": [
    "testList = ['XGBoostTrees']"
   ]
  },
  {
   "cell_type": "markdown",
   "metadata": {},
   "source": [
    "### XGBoost Trees"
   ]
  },
  {
   "cell_type": "code",
   "execution_count": null,
   "metadata": {
    "collapsed": true
   },
   "outputs": [],
   "source": [
    "def logregobj(preds, dtrain):\n",
    "    labels = dtrain.get_label()\n",
    "    con = 2\n",
    "    x =preds-labels\n",
    "    grad =con*x / (np.abs(x)+con)\n",
    "    hess =con**2 / (np.abs(x)+con)**2\n",
    "    return grad, hess \n",
    "\n",
    "def evalerror(preds, dtrain):\n",
    "    labels = dtrain.get_label()\n",
    "    return 'mae', mean_absolute_error(np.exp(preds), np.exp(labels))\n",
    "# def evalerror(preds, dtrain):\n",
    "#     labels = dtrain.get_label()\n",
    "#     return 'mae', mean_absolute_error(preds, labels)"
   ]
  },
  {
   "cell_type": "code",
   "execution_count": null,
   "metadata": {
    "collapsed": false
   },
   "outputs": [],
   "source": [
    "import xgboost as xgb\n",
    "# from sklearn.grid_search import GridSearchCV"
   ]
  },
  {
   "cell_type": "code",
   "execution_count": null,
   "metadata": {
    "collapsed": false
   },
   "outputs": [],
   "source": [
    "d_train_xgb = xgb.DMatrix(x_train.tocsc(),label=y_train)\n",
    "d_val_xgb = xgb.DMatrix(x_val.tocsc(),label = y_val)\n",
    "x_val_xgb = xgb.DMatrix(x_val.tocsc())\n",
    "d_test_xgb = xgb.DMatrix(x_test.tocsc())"
   ]
  },
  {
   "cell_type": "code",
   "execution_count": null,
   "metadata": {
    "collapsed": true
   },
   "outputs": [],
   "source": [
    "# params = { 'max_depth': [4, 6, 10], 'min_child_weight':[0,1,2], 'gamma':[0,1,2], \\\n",
    "#            'subsample':[0.5,0.8,1], 'colsample_bytree':[0,1,2], \\\n",
    "#            'eval_metric': 'mae'\n",
    "#            }\n",
    "# num_round = 500\n",
    "# xgbt = GridSearchCV(xgb.XGBRegressor, )"
   ]
  },
  {
   "cell_type": "code",
   "execution_count": null,
   "metadata": {
    "collapsed": false
   },
   "outputs": [],
   "source": [
    "num_round = 720\n",
    "\n",
    "# params = {'eval_metric':'mae','max_depth':6,'colsample_bytree':1,'alpha':1,'gamma':0, \\\n",
    "#           'eta':0.02,'min_child_weight':0,'subsample':0.8}# 1125.68, customized MAE obj function, log, rescale, 3000 round\n",
    "params = {'eval_metric':'mae','max_depth':12,'colsample_bytree':1,'alpha':1,'gamma':0, \\\n",
    "          'eta':0.02,'min_child_weight':0,'subsample':0.8}# 1125.68, customized MAE obj function, log, rescale, 3000 round\n",
    "\n",
    "watchlist  = [(d_val_xgb,'eval'), (d_train_xgb,'train')]\n",
    "gbt = xgb.train(params, d_train_xgb,num_round,watchlist, obj=logregobj, early_stopping_rounds=300)\n",
    "# gbt = xgb.train(params, d_train_xgb, num_round, watchlist, early_stopping_rounds=300)"
   ]
  },
  {
   "cell_type": "code",
   "execution_count": null,
   "metadata": {
    "collapsed": false
   },
   "outputs": [],
   "source": [
    "# print(mean_absolute_error(lossRestore(y_val,ymean,ystd)-shift,lossRestore(gbt.predict(x_val_xgb),ymean,ystd)-shift))\n",
    "print(mean_absolute_error(lossRestore(y_val,ymean,ystd)-shift,lossRestore(gbt.predict(x_val_xgb),ymean,ystd)-shift))\n",
    "# print(mean_absolute_error(y_val,gbt.predict(x_val_xgb)))"
   ]
  },
  {
   "cell_type": "code",
   "execution_count": null,
   "metadata": {
    "collapsed": false
   },
   "outputs": [],
   "source": [
    "fig = plt.figure(figsize=(20,35))\n",
    "\n",
    "xgb.plot_importance(gbt,ax = fig.gca() );"
   ]
  },
  {
   "cell_type": "code",
   "execution_count": null,
   "metadata": {
    "collapsed": false
   },
   "outputs": [],
   "source": [
    "y_pred_i = gbt.predict(d_test_xgb)\n",
    "y_pred.append(lossRestore(y_pred_i,ymean,ystd)-shift)\n",
    "y_pred_val.append(lossRestore(gbt.predict(x_val_xgb),ymean,ystd)-shift)\n",
    "# y_pred_i = gbt.predict(d_test_xgb)\n",
    "# y_pred.append(y_pred_i)\n",
    "# y_pred_val.append(gbt.predict(x_val_xgb))"
   ]
  },
  {
   "cell_type": "code",
   "execution_count": null,
   "metadata": {
    "collapsed": false
   },
   "outputs": [],
   "source": [
    "err_val = lossRestore(gbt.predict(x_val_xgb),ymean,ystd)-lossRestore(y_val,ymean,ystd)\n",
    "err_val_idx = np.abs(err_val)>10000\n",
    "\n",
    "plt.figure(figsize=(15,4))\n",
    "plt.subplot(3,1,1)\n",
    "plt.hist(err_val,bins=50);\n",
    "plt.subplot(3,1,2)\n",
    "plt.hist(lossRestore(y_val,ymean,ystd), bins = 30)\n",
    "plt.subplot(3,1,3)\n",
    "plt.hist(lossRestore(y_val[err_val_idx],ymean,ystd), bins = 30)\n",
    "\n",
    "print(sum(err_val_idx))\n"
   ]
  },
  {
   "cell_type": "code",
   "execution_count": null,
   "metadata": {
    "collapsed": false
   },
   "outputs": [],
   "source": [
    "plt.figure(figsize=(15,8))\n",
    "plt.subplot(2,1,1)\n",
    "plt.scatter(lossRestore(y_val,ymean,ystd),lossRestore(gbt.predict(x_val_xgb),ymean,ystd));\n",
    "plt.plot([0,23000],[0,23000],'r');\n",
    "plt.subplot(2,1,2)\n",
    "plt.scatter(lossRestore(y_val[err_val_idx],ymean,ystd),lossRestore(gbt.predict(x_val_xgb)[err_val_idx],ymean,ystd));\n",
    "plt.plot([0,23000],[0,23000],'r');"
   ]
  },
  {
   "cell_type": "markdown",
   "metadata": {},
   "source": [
    "# save files for submission"
   ]
  },
  {
   "cell_type": "code",
   "execution_count": null,
   "metadata": {
    "collapsed": false
   },
   "outputs": [],
   "source": [
    "# # remove the shift\n",
    "# y_pred = [y_array-shift for y_array in y_pred];\n",
    "# y_pred_val_en = [y_array-shift for y_array in y_pred_val_en];"
   ]
  },
  {
   "cell_type": "code",
   "execution_count": null,
   "metadata": {
    "collapsed": false
   },
   "outputs": [],
   "source": [
    "# Save all the predictions for submission\n",
    "for i,stri in enumerate(testList):\n",
    "    submission['id'] = subId\n",
    "    submission['loss']=pd.Series(data=y_pred[i])\n",
    "    submission.to_csv('../output/'+stri+'.csv',index=False)"
   ]
  },
  {
   "cell_type": "code",
   "execution_count": null,
   "metadata": {
    "collapsed": false
   },
   "outputs": [],
   "source": [
    "from sklearn.externals import joblib\n",
    "joblib.dump([gbt, y_pred, y_pred_val, x_train, x_val, y_train, y_val, x_test, shift]\n",
    "            ,'../output/models-raw-features-rescale-loss-shift.pkl',compress=3) \n",
    "\n",
    "# clf = joblib.load('filename.pkl') "
   ]
  },
  {
   "cell_type": "code",
   "execution_count": null,
   "metadata": {
    "collapsed": false
   },
   "outputs": [],
   "source": [
    "testList\n"
   ]
  },
  {
   "cell_type": "code",
   "execution_count": null,
   "metadata": {
    "collapsed": true
   },
   "outputs": [],
   "source": []
  }
 ],
 "metadata": {
  "kernelspec": {
   "display_name": "Python [Root]",
   "language": "python",
   "name": "Python [Root]"
  },
  "language_info": {
   "codemirror_mode": {
    "name": "ipython",
    "version": 2
   },
   "file_extension": ".py",
   "mimetype": "text/x-python",
   "name": "python",
   "nbconvert_exporter": "python",
   "pygments_lexer": "ipython2",
   "version": "2.7.12"
  }
 },
 "nbformat": 4,
 "nbformat_minor": 0
}
