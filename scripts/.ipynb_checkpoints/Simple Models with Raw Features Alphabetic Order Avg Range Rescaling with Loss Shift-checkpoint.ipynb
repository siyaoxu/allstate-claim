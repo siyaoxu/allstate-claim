{
 "cells": [
  {
   "cell_type": "markdown",
   "metadata": {},
   "source": [
    "# Load the data"
   ]
  },
  {
   "cell_type": "code",
   "execution_count": 2,
   "metadata": {
    "collapsed": false
   },
   "outputs": [],
   "source": [
    "# This Python 3 environment comes with many helpful analytics libraries installed\n",
    "# It is defined by the kaggle/python docker image: https://github.com/kaggle/docker-python\n",
    "# For example, here's several helpful packages to load in \n",
    "\n",
    "import numpy as np # linear algebra\n",
    "import pandas as pd # data processing, CSV file I/O (e.g. pd.read_csv)\n",
    "import scipy as sp\n",
    "\n",
    "# from scipy.special import erfinv\n",
    "from scipy.stats import norm\n",
    "\n",
    "# Input data files are available in the \"../input/\" directory.\n",
    "# For example, running this (by clicking run or pressing Shift+Enter) will list the files in the input directory\n",
    "\n",
    "# from subprocess import check_output\n",
    "# print(check_output([\"ls\", \"../input\"]).decode(\"utf8\"))\n",
    "\n",
    "# Any results you write to the current directory are saved as output.\n",
    "\n",
    "%matplotlib inline\n",
    "\n",
    "import matplotlib.pyplot as plt"
   ]
  },
  {
   "cell_type": "code",
   "execution_count": 3,
   "metadata": {
    "collapsed": false
   },
   "outputs": [],
   "source": [
    "data_train_raw = pd.read_csv('../input/train.csv')\n",
    "# data_train_raw = data_train_raw.sample(frac=0.01, random_state=0)\n",
    "data_test_raw = pd.read_csv('../input/test.csv')"
   ]
  },
  {
   "cell_type": "code",
   "execution_count": 4,
   "metadata": {
    "collapsed": false
   },
   "outputs": [
    {
     "data": {
      "text/plain": [
       "(188318, 132)"
      ]
     },
     "execution_count": 4,
     "metadata": {},
     "output_type": "execute_result"
    }
   ],
   "source": [
    "data_train_raw.shape"
   ]
  },
  {
   "cell_type": "markdown",
   "metadata": {},
   "source": [
    "# Data transformation"
   ]
  },
  {
   "cell_type": "code",
   "execution_count": 5,
   "metadata": {
    "collapsed": false
   },
   "outputs": [],
   "source": [
    "ylog=np.log1p(data_train_raw['loss'])\n",
    "## ymean=ylog.mean()\n",
    "## ystd=ylog.std()\n",
    "ymean=ylog.min()\n",
    "ystd=ylog.max()-ymean\n",
    "data_train_raw['loss_g']=(ylog-ymean)/ystd\n",
    "# data_train_raw['loss_g']=ylog"
   ]
  },
  {
   "cell_type": "code",
   "execution_count": 6,
   "metadata": {
    "collapsed": false
   },
   "outputs": [
    {
     "name": "stdout",
     "output_type": "stream",
     "text": [
      "Mean of log1py: 0.389725739865\n",
      "Std of log1py: 0.114276556585\n",
      "Lower clipping bound: 0.0468960701107\n",
      "Upper clipping bound: 0.732555409619\n",
      "Shape of cleaned data: (187994, 133)\n"
     ]
    }
   ],
   "source": [
    "# clean outliers in training data\n",
    "lossMean = data_train_raw['loss_g'].mean()\n",
    "lossStd = data_train_raw['loss_g'].std()\n",
    "print('Mean of log1py: {}'.format(lossMean))\n",
    "print('Std of log1py: {}'.format(lossStd))\n",
    "lbound = lossMean-3.0*lossStd\n",
    "ubound = lossMean+3.0*lossStd\n",
    "print('Lower clipping bound: {}\\nUpper clipping bound: {}'.format(lbound, ubound))\n",
    "data_train_raw = data_train_raw[(data_train_raw['loss_g']>=lbound) & (data_train_raw['loss_g']<=ubound)]\n",
    "print('Shape of cleaned data: {}'.format(data_train_raw.shape))"
   ]
  },
  {
   "cell_type": "code",
   "execution_count": 7,
   "metadata": {
    "collapsed": true
   },
   "outputs": [],
   "source": [
    "# # rescale cleaned data\n",
    "# ymean=data_train_raw['loss_g'].min()\n",
    "# ystd=data_train_raw['loss_g'].max()\n",
    "# data_train_raw['loss_g']=(ylog-ymean)/(ystd-ymean)"
   ]
  },
  {
   "cell_type": "code",
   "execution_count": 8,
   "metadata": {
    "collapsed": false
   },
   "outputs": [],
   "source": [
    "def ToUniform(y):\n",
    "    z = norm.cdf(-y/np.sqrt(2))\n",
    "    return z\n",
    "def UniformToGauss(z):\n",
    "    return -np.sqrt(2)*norm.ppf(z)*ystd+ymean\n",
    "# def BackToOriginal(z):\n",
    "#     return np.exp(UniformToGauss(z))\n",
    "\n",
    "data_train_raw['loss_u']=ToUniform(data_train_raw['loss_g'])\n",
    "\n",
    "def lossRestore(logloss, ymean, ystd):\n",
    "    loss = np.expm1(logloss*ystd+ymean)\n",
    "    return loss"
   ]
  },
  {
   "cell_type": "code",
   "execution_count": 9,
   "metadata": {
    "collapsed": false
   },
   "outputs": [
    {
     "data": {
      "image/png": "[encoded data removed]",
      "text/plain": [
       "<matplotlib.figure.Figure at 0x7f5ecb0da3d0>"
      ]
     },
     "metadata": {},
     "output_type": "display_data"
    }
   ],
   "source": [
    "plt.figure(figsize=(15,4))\n",
    "\n",
    "plt.subplot(2,2,1)\n",
    "plt.hist(data_train_raw['loss'],100)\n",
    "plt.title('loss');\n",
    "\n",
    "plt.subplot(2,2,2)\n",
    "plt.hist(ylog,100)\n",
    "plt.title('log(loss) - Gauss');\n",
    "\n",
    "plt.subplot(2,2,3)\n",
    "plt.hist(data_train_raw['loss_g'],100)\n",
    "plt.title('Normal');\n",
    "\n",
    "plt.subplot(2,2,4)\n",
    "plt.hist(lossRestore(data_train_raw['loss_g'],ymean,ystd),100)\n",
    "plt.title('Normal');"
   ]
  },
  {
   "cell_type": "markdown",
   "metadata": {},
   "source": [
    "# Data preparation - labeling encoder"
   ]
  },
  {
   "cell_type": "code",
   "execution_count": 10,
   "metadata": {
    "collapsed": false
   },
   "outputs": [
    {
     "name": "stdout",
     "output_type": "stream",
     "text": [
      "trainDf has features from the raw data:\n",
      "Index([u'cat1', u'cat2', u'cat3', u'cat4', u'cat5', u'cat6', u'cat7', u'cat8',\n",
      "       u'cat9', u'cat10',\n",
      "       ...\n",
      "       u'cont5', u'cont6', u'cont7', u'cont8', u'cont9', u'cont10', u'cont11',\n",
      "       u'cont12', u'cont13', u'cont14'],\n",
      "      dtype='object', length=130)\n",
      "testDf has features from the raw data:\n",
      "Index([u'cat1', u'cat2', u'cat3', u'cat4', u'cat5', u'cat6', u'cat7', u'cat8',\n",
      "       u'cat9', u'cat10',\n",
      "       ...\n",
      "       u'cont5', u'cont6', u'cont7', u'cont8', u'cont9', u'cont10', u'cont11',\n",
      "       u'cont12', u'cont13', u'cont14'],\n",
      "      dtype='object', length=130)\n"
     ]
    }
   ],
   "source": [
    "# save label in a seperate serie\n",
    "labelSs = data_train_raw['loss_g'] \n",
    "trainDf = data_train_raw.drop(['id','loss','loss_g','loss_u'],axis=1)\n",
    "subId = data_test_raw['id']\n",
    "testDf = data_test_raw.drop(['id'],axis=1)\n",
    "\n",
    "print('trainDf has features from the raw data:\\n{}'.format(trainDf.columns))\n",
    "print('testDf has features from the raw data:\\n{}'.format(testDf.columns))"
   ]
  },
  {
   "cell_type": "code",
   "execution_count": 11,
   "metadata": {
    "collapsed": false
   },
   "outputs": [
    {
     "name": "stdout",
     "output_type": "stream",
     "text": [
      "the stacked data's dimension are:\n",
      "(313540, 130)\n",
      "(313540, 116) of which are categorical\n",
      "(313540, 14) of which are continuous\n"
     ]
    }
   ],
   "source": [
    "dataAll = pd.concat([trainDf,testDf])\n",
    "dataCatAll = dataAll.select_dtypes(include=['object'])\n",
    "dataFltAll = dataAll.select_dtypes(include=['float64'])\n",
    "print('the stacked data\\'s dimension are:\\n{}'.format(dataAll.shape))\n",
    "print('{} of which are categorical'.format(dataCatAll.shape))\n",
    "print('{} of which are continuous'.format(dataFltAll.shape))"
   ]
  },
  {
   "cell_type": "code",
   "execution_count": 12,
   "metadata": {
    "collapsed": false
   },
   "outputs": [
    {
     "data": {
      "text/html": [
       "<div>\n",
       "<table border=\"1\" class=\"dataframe\">\n",
       "  <thead>\n",
       "    <tr style=\"text-align: right;\">\n",
       "      <th></th>\n",
       "      <th>cat1</th>\n",
       "      <th>cat2</th>\n",
       "      <th>cat3</th>\n",
       "      <th>cat4</th>\n",
       "      <th>cat5</th>\n",
       "      <th>cat6</th>\n",
       "      <th>cat7</th>\n",
       "      <th>cat8</th>\n",
       "      <th>cat9</th>\n",
       "      <th>cat10</th>\n",
       "      <th>...</th>\n",
       "      <th>cat107</th>\n",
       "      <th>cat108</th>\n",
       "      <th>cat109</th>\n",
       "      <th>cat110</th>\n",
       "      <th>cat111</th>\n",
       "      <th>cat112</th>\n",
       "      <th>cat113</th>\n",
       "      <th>cat114</th>\n",
       "      <th>cat115</th>\n",
       "      <th>cat116</th>\n",
       "    </tr>\n",
       "  </thead>\n",
       "  <tbody>\n",
       "    <tr>\n",
       "      <th>0</th>\n",
       "      <td>A</td>\n",
       "      <td>B</td>\n",
       "      <td>A</td>\n",
       "      <td>B</td>\n",
       "      <td>A</td>\n",
       "      <td>A</td>\n",
       "      <td>A</td>\n",
       "      <td>A</td>\n",
       "      <td>B</td>\n",
       "      <td>A</td>\n",
       "      <td>...</td>\n",
       "      <td>J</td>\n",
       "      <td>G</td>\n",
       "      <td>BU</td>\n",
       "      <td>BC</td>\n",
       "      <td>C</td>\n",
       "      <td>AS</td>\n",
       "      <td>S</td>\n",
       "      <td>A</td>\n",
       "      <td>O</td>\n",
       "      <td>LB</td>\n",
       "    </tr>\n",
       "    <tr>\n",
       "      <th>1</th>\n",
       "      <td>A</td>\n",
       "      <td>B</td>\n",
       "      <td>A</td>\n",
       "      <td>A</td>\n",
       "      <td>A</td>\n",
       "      <td>A</td>\n",
       "      <td>A</td>\n",
       "      <td>A</td>\n",
       "      <td>B</td>\n",
       "      <td>B</td>\n",
       "      <td>...</td>\n",
       "      <td>K</td>\n",
       "      <td>K</td>\n",
       "      <td>BI</td>\n",
       "      <td>CQ</td>\n",
       "      <td>A</td>\n",
       "      <td>AV</td>\n",
       "      <td>BM</td>\n",
       "      <td>A</td>\n",
       "      <td>O</td>\n",
       "      <td>DP</td>\n",
       "    </tr>\n",
       "    <tr>\n",
       "      <th>2</th>\n",
       "      <td>A</td>\n",
       "      <td>B</td>\n",
       "      <td>A</td>\n",
       "      <td>A</td>\n",
       "      <td>B</td>\n",
       "      <td>A</td>\n",
       "      <td>A</td>\n",
       "      <td>A</td>\n",
       "      <td>B</td>\n",
       "      <td>B</td>\n",
       "      <td>...</td>\n",
       "      <td>F</td>\n",
       "      <td>A</td>\n",
       "      <td>AB</td>\n",
       "      <td>DK</td>\n",
       "      <td>A</td>\n",
       "      <td>C</td>\n",
       "      <td>AF</td>\n",
       "      <td>A</td>\n",
       "      <td>I</td>\n",
       "      <td>GK</td>\n",
       "    </tr>\n",
       "    <tr>\n",
       "      <th>3</th>\n",
       "      <td>B</td>\n",
       "      <td>B</td>\n",
       "      <td>A</td>\n",
       "      <td>B</td>\n",
       "      <td>A</td>\n",
       "      <td>A</td>\n",
       "      <td>A</td>\n",
       "      <td>A</td>\n",
       "      <td>B</td>\n",
       "      <td>A</td>\n",
       "      <td>...</td>\n",
       "      <td>K</td>\n",
       "      <td>K</td>\n",
       "      <td>BI</td>\n",
       "      <td>CS</td>\n",
       "      <td>C</td>\n",
       "      <td>N</td>\n",
       "      <td>AE</td>\n",
       "      <td>A</td>\n",
       "      <td>O</td>\n",
       "      <td>DJ</td>\n",
       "    </tr>\n",
       "    <tr>\n",
       "      <th>4</th>\n",
       "      <td>A</td>\n",
       "      <td>B</td>\n",
       "      <td>A</td>\n",
       "      <td>B</td>\n",
       "      <td>A</td>\n",
       "      <td>A</td>\n",
       "      <td>A</td>\n",
       "      <td>A</td>\n",
       "      <td>B</td>\n",
       "      <td>B</td>\n",
       "      <td>...</td>\n",
       "      <td>G</td>\n",
       "      <td>B</td>\n",
       "      <td>H</td>\n",
       "      <td>C</td>\n",
       "      <td>C</td>\n",
       "      <td>Y</td>\n",
       "      <td>BM</td>\n",
       "      <td>A</td>\n",
       "      <td>K</td>\n",
       "      <td>CK</td>\n",
       "    </tr>\n",
       "  </tbody>\n",
       "</table>\n",
       "<p>5 rows × 116 columns</p>\n",
       "</div>"
      ],
      "text/plain": [
       "  cat1 cat2 cat3 cat4 cat5 cat6 cat7 cat8 cat9 cat10  ...   cat107 cat108  \\\n",
       "0    A    B    A    B    A    A    A    A    B     A  ...        J      G   \n",
       "1    A    B    A    A    A    A    A    A    B     B  ...        K      K   \n",
       "2    A    B    A    A    B    A    A    A    B     B  ...        F      A   \n",
       "3    B    B    A    B    A    A    A    A    B     A  ...        K      K   \n",
       "4    A    B    A    B    A    A    A    A    B     B  ...        G      B   \n",
       "\n",
       "  cat109 cat110 cat111 cat112 cat113 cat114 cat115 cat116  \n",
       "0     BU     BC      C     AS      S      A      O     LB  \n",
       "1     BI     CQ      A     AV     BM      A      O     DP  \n",
       "2     AB     DK      A      C     AF      A      I     GK  \n",
       "3     BI     CS      C      N     AE      A      O     DJ  \n",
       "4      H      C      C      Y     BM      A      K     CK  \n",
       "\n",
       "[5 rows x 116 columns]"
      ]
     },
     "execution_count": 12,
     "metadata": {},
     "output_type": "execute_result"
    }
   ],
   "source": [
    "dataCatAll.head()"
   ]
  },
  {
   "cell_type": "code",
   "execution_count": 13,
   "metadata": {
    "collapsed": false
   },
   "outputs": [
    {
     "data": {
      "text/html": [
       "<div>\n",
       "<table border=\"1\" class=\"dataframe\">\n",
       "  <thead>\n",
       "    <tr style=\"text-align: right;\">\n",
       "      <th></th>\n",
       "      <th>cat1</th>\n",
       "      <th>cat2</th>\n",
       "      <th>cat3</th>\n",
       "      <th>cat4</th>\n",
       "      <th>cat5</th>\n",
       "      <th>cat6</th>\n",
       "      <th>cat7</th>\n",
       "      <th>cat8</th>\n",
       "      <th>cat9</th>\n",
       "      <th>cat10</th>\n",
       "      <th>...</th>\n",
       "      <th>cat107</th>\n",
       "      <th>cat108</th>\n",
       "      <th>cat109</th>\n",
       "      <th>cat110</th>\n",
       "      <th>cat111</th>\n",
       "      <th>cat112</th>\n",
       "      <th>cat113</th>\n",
       "      <th>cat114</th>\n",
       "      <th>cat115</th>\n",
       "      <th>cat116</th>\n",
       "    </tr>\n",
       "  </thead>\n",
       "  <tbody>\n",
       "    <tr>\n",
       "      <th>0</th>\n",
       "      <td>0A</td>\n",
       "      <td>0B</td>\n",
       "      <td>0A</td>\n",
       "      <td>0B</td>\n",
       "      <td>0A</td>\n",
       "      <td>0A</td>\n",
       "      <td>0A</td>\n",
       "      <td>0A</td>\n",
       "      <td>0B</td>\n",
       "      <td>0A</td>\n",
       "      <td>...</td>\n",
       "      <td>0J</td>\n",
       "      <td>0G</td>\n",
       "      <td>BU</td>\n",
       "      <td>BC</td>\n",
       "      <td>0C</td>\n",
       "      <td>AS</td>\n",
       "      <td>0S</td>\n",
       "      <td>0A</td>\n",
       "      <td>0O</td>\n",
       "      <td>LB</td>\n",
       "    </tr>\n",
       "    <tr>\n",
       "      <th>1</th>\n",
       "      <td>0A</td>\n",
       "      <td>0B</td>\n",
       "      <td>0A</td>\n",
       "      <td>0A</td>\n",
       "      <td>0A</td>\n",
       "      <td>0A</td>\n",
       "      <td>0A</td>\n",
       "      <td>0A</td>\n",
       "      <td>0B</td>\n",
       "      <td>0B</td>\n",
       "      <td>...</td>\n",
       "      <td>0K</td>\n",
       "      <td>0K</td>\n",
       "      <td>BI</td>\n",
       "      <td>CQ</td>\n",
       "      <td>0A</td>\n",
       "      <td>AV</td>\n",
       "      <td>BM</td>\n",
       "      <td>0A</td>\n",
       "      <td>0O</td>\n",
       "      <td>DP</td>\n",
       "    </tr>\n",
       "    <tr>\n",
       "      <th>2</th>\n",
       "      <td>0A</td>\n",
       "      <td>0B</td>\n",
       "      <td>0A</td>\n",
       "      <td>0A</td>\n",
       "      <td>0B</td>\n",
       "      <td>0A</td>\n",
       "      <td>0A</td>\n",
       "      <td>0A</td>\n",
       "      <td>0B</td>\n",
       "      <td>0B</td>\n",
       "      <td>...</td>\n",
       "      <td>0F</td>\n",
       "      <td>0A</td>\n",
       "      <td>AB</td>\n",
       "      <td>DK</td>\n",
       "      <td>0A</td>\n",
       "      <td>0C</td>\n",
       "      <td>AF</td>\n",
       "      <td>0A</td>\n",
       "      <td>0I</td>\n",
       "      <td>GK</td>\n",
       "    </tr>\n",
       "    <tr>\n",
       "      <th>3</th>\n",
       "      <td>0B</td>\n",
       "      <td>0B</td>\n",
       "      <td>0A</td>\n",
       "      <td>0B</td>\n",
       "      <td>0A</td>\n",
       "      <td>0A</td>\n",
       "      <td>0A</td>\n",
       "      <td>0A</td>\n",
       "      <td>0B</td>\n",
       "      <td>0A</td>\n",
       "      <td>...</td>\n",
       "      <td>0K</td>\n",
       "      <td>0K</td>\n",
       "      <td>BI</td>\n",
       "      <td>CS</td>\n",
       "      <td>0C</td>\n",
       "      <td>0N</td>\n",
       "      <td>AE</td>\n",
       "      <td>0A</td>\n",
       "      <td>0O</td>\n",
       "      <td>DJ</td>\n",
       "    </tr>\n",
       "    <tr>\n",
       "      <th>4</th>\n",
       "      <td>0A</td>\n",
       "      <td>0B</td>\n",
       "      <td>0A</td>\n",
       "      <td>0B</td>\n",
       "      <td>0A</td>\n",
       "      <td>0A</td>\n",
       "      <td>0A</td>\n",
       "      <td>0A</td>\n",
       "      <td>0B</td>\n",
       "      <td>0B</td>\n",
       "      <td>...</td>\n",
       "      <td>0G</td>\n",
       "      <td>0B</td>\n",
       "      <td>0H</td>\n",
       "      <td>0C</td>\n",
       "      <td>0C</td>\n",
       "      <td>0Y</td>\n",
       "      <td>BM</td>\n",
       "      <td>0A</td>\n",
       "      <td>0K</td>\n",
       "      <td>CK</td>\n",
       "    </tr>\n",
       "  </tbody>\n",
       "</table>\n",
       "<p>5 rows × 116 columns</p>\n",
       "</div>"
      ],
      "text/plain": [
       "  cat1 cat2 cat3 cat4 cat5 cat6 cat7 cat8 cat9 cat10  ...   cat107 cat108  \\\n",
       "0   0A   0B   0A   0B   0A   0A   0A   0A   0B    0A  ...       0J     0G   \n",
       "1   0A   0B   0A   0A   0A   0A   0A   0A   0B    0B  ...       0K     0K   \n",
       "2   0A   0B   0A   0A   0B   0A   0A   0A   0B    0B  ...       0F     0A   \n",
       "3   0B   0B   0A   0B   0A   0A   0A   0A   0B    0A  ...       0K     0K   \n",
       "4   0A   0B   0A   0B   0A   0A   0A   0A   0B    0B  ...       0G     0B   \n",
       "\n",
       "  cat109 cat110 cat111 cat112 cat113 cat114 cat115 cat116  \n",
       "0     BU     BC     0C     AS     0S     0A     0O     LB  \n",
       "1     BI     CQ     0A     AV     BM     0A     0O     DP  \n",
       "2     AB     DK     0A     0C     AF     0A     0I     GK  \n",
       "3     BI     CS     0C     0N     AE     0A     0O     DJ  \n",
       "4     0H     0C     0C     0Y     BM     0A     0K     CK  \n",
       "\n",
       "[5 rows x 116 columns]"
      ]
     },
     "execution_count": 13,
     "metadata": {},
     "output_type": "execute_result"
    }
   ],
   "source": [
    "LevelList = {'A','B','C','D','E','F','G','H','I','J','K','L','M','N','O','P','Q','R','S','T','U','V','W','X','Y','Z'}\n",
    "def LetterRep(x,LevelList):\n",
    "    if x in LevelList:\n",
    "        x = '0'+x\n",
    "    return x\n",
    "        \n",
    "dataCatAll = dataCatAll.applymap(lambda x: LetterRep(x,LevelList))\n",
    "dataCatAll.head()"
   ]
  },
  {
   "cell_type": "code",
   "execution_count": 14,
   "metadata": {
    "collapsed": false
   },
   "outputs": [
    {
     "name": "stderr",
     "output_type": "stream",
     "text": [
      "/home/ec2-user/anaconda2/lib/python2.7/site-packages/ipykernel/__main__.py:5: SettingWithCopyWarning: \n",
      "A value is trying to be set on a copy of a slice from a DataFrame.\n",
      "Try using .loc[row_indexer,col_indexer] = value instead\n",
      "\n",
      "See the caveats in the documentation: http://pandas.pydata.org/pandas-docs/stable/indexing.html#indexing-view-versus-copy\n"
     ]
    },
    {
     "data": {
      "text/html": [
       "<div>\n",
       "<table border=\"1\" class=\"dataframe\">\n",
       "  <thead>\n",
       "    <tr style=\"text-align: right;\">\n",
       "      <th></th>\n",
       "      <th>cat2</th>\n",
       "      <th>cat3</th>\n",
       "      <th>cat4</th>\n",
       "      <th>cat5</th>\n",
       "      <th>cat6</th>\n",
       "      <th>cat7</th>\n",
       "      <th>cat8</th>\n",
       "      <th>cat9</th>\n",
       "      <th>cat10</th>\n",
       "      <th>cat11</th>\n",
       "      <th>...</th>\n",
       "      <th>cat107</th>\n",
       "      <th>cat108</th>\n",
       "      <th>cat109</th>\n",
       "      <th>cat110</th>\n",
       "      <th>cat111</th>\n",
       "      <th>cat112</th>\n",
       "      <th>cat113</th>\n",
       "      <th>cat114</th>\n",
       "      <th>cat115</th>\n",
       "      <th>cat116</th>\n",
       "    </tr>\n",
       "  </thead>\n",
       "  <tbody>\n",
       "    <tr>\n",
       "      <th>0</th>\n",
       "      <td>1</td>\n",
       "      <td>0</td>\n",
       "      <td>1</td>\n",
       "      <td>0</td>\n",
       "      <td>0</td>\n",
       "      <td>0</td>\n",
       "      <td>0</td>\n",
       "      <td>1</td>\n",
       "      <td>0</td>\n",
       "      <td>1</td>\n",
       "      <td>...</td>\n",
       "      <td>9</td>\n",
       "      <td>6</td>\n",
       "      <td>68</td>\n",
       "      <td>49</td>\n",
       "      <td>2</td>\n",
       "      <td>43</td>\n",
       "      <td>17</td>\n",
       "      <td>0</td>\n",
       "      <td>14</td>\n",
       "      <td>299</td>\n",
       "    </tr>\n",
       "    <tr>\n",
       "      <th>1</th>\n",
       "      <td>1</td>\n",
       "      <td>0</td>\n",
       "      <td>0</td>\n",
       "      <td>0</td>\n",
       "      <td>0</td>\n",
       "      <td>0</td>\n",
       "      <td>0</td>\n",
       "      <td>1</td>\n",
       "      <td>1</td>\n",
       "      <td>0</td>\n",
       "      <td>...</td>\n",
       "      <td>10</td>\n",
       "      <td>10</td>\n",
       "      <td>56</td>\n",
       "      <td>87</td>\n",
       "      <td>0</td>\n",
       "      <td>46</td>\n",
       "      <td>60</td>\n",
       "      <td>0</td>\n",
       "      <td>14</td>\n",
       "      <td>114</td>\n",
       "    </tr>\n",
       "    <tr>\n",
       "      <th>2</th>\n",
       "      <td>1</td>\n",
       "      <td>0</td>\n",
       "      <td>0</td>\n",
       "      <td>1</td>\n",
       "      <td>0</td>\n",
       "      <td>0</td>\n",
       "      <td>0</td>\n",
       "      <td>1</td>\n",
       "      <td>1</td>\n",
       "      <td>1</td>\n",
       "      <td>...</td>\n",
       "      <td>5</td>\n",
       "      <td>0</td>\n",
       "      <td>25</td>\n",
       "      <td>106</td>\n",
       "      <td>0</td>\n",
       "      <td>2</td>\n",
       "      <td>28</td>\n",
       "      <td>0</td>\n",
       "      <td>8</td>\n",
       "      <td>184</td>\n",
       "    </tr>\n",
       "    <tr>\n",
       "      <th>3</th>\n",
       "      <td>1</td>\n",
       "      <td>0</td>\n",
       "      <td>1</td>\n",
       "      <td>0</td>\n",
       "      <td>0</td>\n",
       "      <td>0</td>\n",
       "      <td>0</td>\n",
       "      <td>1</td>\n",
       "      <td>0</td>\n",
       "      <td>0</td>\n",
       "      <td>...</td>\n",
       "      <td>10</td>\n",
       "      <td>10</td>\n",
       "      <td>56</td>\n",
       "      <td>89</td>\n",
       "      <td>2</td>\n",
       "      <td>13</td>\n",
       "      <td>27</td>\n",
       "      <td>0</td>\n",
       "      <td>14</td>\n",
       "      <td>108</td>\n",
       "    </tr>\n",
       "    <tr>\n",
       "      <th>4</th>\n",
       "      <td>1</td>\n",
       "      <td>0</td>\n",
       "      <td>1</td>\n",
       "      <td>0</td>\n",
       "      <td>0</td>\n",
       "      <td>0</td>\n",
       "      <td>0</td>\n",
       "      <td>1</td>\n",
       "      <td>1</td>\n",
       "      <td>0</td>\n",
       "      <td>...</td>\n",
       "      <td>6</td>\n",
       "      <td>1</td>\n",
       "      <td>7</td>\n",
       "      <td>2</td>\n",
       "      <td>2</td>\n",
       "      <td>24</td>\n",
       "      <td>60</td>\n",
       "      <td>0</td>\n",
       "      <td>10</td>\n",
       "      <td>84</td>\n",
       "    </tr>\n",
       "  </tbody>\n",
       "</table>\n",
       "<p>5 rows × 115 columns</p>\n",
       "</div>"
      ],
      "text/plain": [
       "   cat2  cat3  cat4  cat5  cat6  cat7  cat8  cat9  cat10  cat11   ...    \\\n",
       "0     1     0     1     0     0     0     0     1      0      1   ...     \n",
       "1     1     0     0     0     0     0     0     1      1      0   ...     \n",
       "2     1     0     0     1     0     0     0     1      1      1   ...     \n",
       "3     1     0     1     0     0     0     0     1      0      0   ...     \n",
       "4     1     0     1     0     0     0     0     1      1      0   ...     \n",
       "\n",
       "   cat107  cat108  cat109  cat110  cat111  cat112  cat113  cat114  cat115  \\\n",
       "0       9       6      68      49       2      43      17       0      14   \n",
       "1      10      10      56      87       0      46      60       0      14   \n",
       "2       5       0      25     106       0       2      28       0       8   \n",
       "3      10      10      56      89       2      13      27       0      14   \n",
       "4       6       1       7       2       2      24      60       0      10   \n",
       "\n",
       "   cat116  \n",
       "0     299  \n",
       "1     114  \n",
       "2     184  \n",
       "3     108  \n",
       "4      84  \n",
       "\n",
       "[5 rows x 115 columns]"
      ]
     },
     "execution_count": 14,
     "metadata": {},
     "output_type": "execute_result"
    }
   ],
   "source": [
    "features = dataCatAll.columns[1:]\n",
    "dataCatAll_2 = dataCatAll[features]\n",
    "cats = [feature for feature in features if feature.startswith('cat')]\n",
    "for feat in cats:\n",
    "    dataCatAll_2[feat] = pd.factorize(dataCatAll_2[feat], sort=True)[0]\n",
    "dataCatAll_2.head()\n",
    "# le.classes_"
   ]
  },
  {
   "cell_type": "code",
   "execution_count": 15,
   "metadata": {
    "collapsed": false
   },
   "outputs": [
    {
     "data": {
      "text/html": [
       "<div>\n",
       "<table border=\"1\" class=\"dataframe\">\n",
       "  <thead>\n",
       "    <tr style=\"text-align: right;\">\n",
       "      <th></th>\n",
       "      <th>cat1</th>\n",
       "    </tr>\n",
       "  </thead>\n",
       "  <tbody>\n",
       "    <tr>\n",
       "      <th>0</th>\n",
       "      <td>0A</td>\n",
       "    </tr>\n",
       "    <tr>\n",
       "      <th>1</th>\n",
       "      <td>0A</td>\n",
       "    </tr>\n",
       "    <tr>\n",
       "      <th>2</th>\n",
       "      <td>0A</td>\n",
       "    </tr>\n",
       "    <tr>\n",
       "      <th>3</th>\n",
       "      <td>0B</td>\n",
       "    </tr>\n",
       "    <tr>\n",
       "      <th>4</th>\n",
       "      <td>0A</td>\n",
       "    </tr>\n",
       "  </tbody>\n",
       "</table>\n",
       "</div>"
      ],
      "text/plain": [
       "  cat1\n",
       "0   0A\n",
       "1   0A\n",
       "2   0A\n",
       "3   0B\n",
       "4   0A"
      ]
     },
     "execution_count": 15,
     "metadata": {},
     "output_type": "execute_result"
    }
   ],
   "source": [
    "dataCatAll = dataCatAll.drop(features,axis=1)\n",
    "dataCatAll.head()"
   ]
  },
  {
   "cell_type": "code",
   "execution_count": 16,
   "metadata": {
    "collapsed": false
   },
   "outputs": [
    {
     "name": "stdout",
     "output_type": "stream",
     "text": [
      "Index([u'cat1'], dtype='object')\n"
     ]
    }
   ],
   "source": [
    "from sklearn import preprocessing\n",
    "le = preprocessing.LabelEncoder()\n",
    "\n",
    "for col in dataCatAll.columns:\n",
    "    if (col.find('cat') !=-1):\n",
    "#        print(col)\n",
    "        dataCatAll[col]=le.fit_transform(dataCatAll[col])\n",
    "#         dataAll[col] = dataAll[col].map(lambda s: '<unknown>' if s not in le.classes_ else s)\n",
    "#         le.classes_ = np.append(le.classes_, '<unknown>')\n",
    "#         data_test_raw[str(col+'_numerical')]=le.transform(data_test_raw[col])\n",
    "print(dataCatAll.columns)\n"
   ]
  },
  {
   "cell_type": "code",
   "execution_count": 17,
   "metadata": {
    "collapsed": false
   },
   "outputs": [
    {
     "data": {
      "text/html": [
       "<div>\n",
       "<table border=\"1\" class=\"dataframe\">\n",
       "  <thead>\n",
       "    <tr style=\"text-align: right;\">\n",
       "      <th></th>\n",
       "      <th>cat1</th>\n",
       "    </tr>\n",
       "  </thead>\n",
       "  <tbody>\n",
       "    <tr>\n",
       "      <th>0</th>\n",
       "      <td>0</td>\n",
       "    </tr>\n",
       "    <tr>\n",
       "      <th>1</th>\n",
       "      <td>0</td>\n",
       "    </tr>\n",
       "    <tr>\n",
       "      <th>2</th>\n",
       "      <td>0</td>\n",
       "    </tr>\n",
       "    <tr>\n",
       "      <th>3</th>\n",
       "      <td>1</td>\n",
       "    </tr>\n",
       "    <tr>\n",
       "      <th>4</th>\n",
       "      <td>0</td>\n",
       "    </tr>\n",
       "  </tbody>\n",
       "</table>\n",
       "</div>"
      ],
      "text/plain": [
       "   cat1\n",
       "0     0\n",
       "1     0\n",
       "2     0\n",
       "3     1\n",
       "4     0"
      ]
     },
     "execution_count": 17,
     "metadata": {},
     "output_type": "execute_result"
    }
   ],
   "source": [
    "dataCatAll.head()"
   ]
  },
  {
   "cell_type": "code",
   "execution_count": 18,
   "metadata": {
    "collapsed": true
   },
   "outputs": [],
   "source": [
    "# rescale the labeled categorical data\n",
    "from sklearn.preprocessing import MinMaxScaler\n",
    "mms = MinMaxScaler()\n",
    "x_catAll_2 = mms.fit_transform(dataCatAll_2)"
   ]
  },
  {
   "cell_type": "code",
   "execution_count": 19,
   "metadata": {
    "collapsed": false
   },
   "outputs": [
    {
     "name": "stdout",
     "output_type": "stream",
     "text": [
      "(313540, 115)\n"
     ]
    },
    {
     "data": {
      "text/plain": [
       "array([[ 1.        ,  0.        ,  1.        , ...,  0.        ,\n",
       "         0.63636364,  0.86416185],\n",
       "       [ 1.        ,  0.        ,  0.        , ...,  0.        ,\n",
       "         0.63636364,  0.32947977],\n",
       "       [ 1.        ,  0.        ,  0.        , ...,  0.        ,\n",
       "         0.36363636,  0.53179191],\n",
       "       ..., \n",
       "       [ 1.        ,  0.        ,  0.        , ...,  0.        ,\n",
       "         0.68181818,  0.93063584],\n",
       "       [ 0.        ,  0.        ,  0.        , ...,  0.22222222,\n",
       "         0.63636364,  0.31213873],\n",
       "       [ 1.        ,  0.        ,  0.        , ...,  0.        ,\n",
       "         0.5       ,  0.26300578]])"
      ]
     },
     "execution_count": 19,
     "metadata": {},
     "output_type": "execute_result"
    }
   ],
   "source": [
    "print(x_catAll_2.shape)\n",
    "x_catAll_2"
   ]
  },
  {
   "cell_type": "markdown",
   "metadata": {},
   "source": [
    "# restore to x_trainDf and x_testDf - skipped"
   ]
  },
  {
   "cell_type": "code",
   "execution_count": 20,
   "metadata": {
    "collapsed": false
   },
   "outputs": [],
   "source": [
    "# # hstack all the features and .\n",
    "# x_allDf = pd.concat([dataCatAll,dataFltAll],axis=1)\n",
    "# x_means = x_allDf.mean()\n",
    "# x_stds = x_allDf.std()\n",
    "# x_allDf = (x_allDf-x_means)/x_stds\n",
    "# x_allDf.head()"
   ]
  },
  {
   "cell_type": "code",
   "execution_count": 21,
   "metadata": {
    "collapsed": true
   },
   "outputs": [],
   "source": [
    "# x_Train = x_allDf.iloc[0:len(labelSs),:]\n",
    "# x_Test = x_allDf.iloc[len(labelSs):,:]\n",
    "# y_Train = labelSs"
   ]
  },
  {
   "cell_type": "markdown",
   "metadata": {},
   "source": [
    "# one-hot-encoding - skipped in order to keep the alphabetical order"
   ]
  },
  {
   "cell_type": "code",
   "execution_count": 22,
   "metadata": {
    "collapsed": false
   },
   "outputs": [
    {
     "name": "stdout",
     "output_type": "stream",
     "text": [
      "(313540, 2)\n"
     ]
    }
   ],
   "source": [
    "# one-hot-encoding the categorical features\n",
    "enc = preprocessing.OneHotEncoder()\n",
    "x_catAll = enc.fit_transform(dataCatAll)\n",
    "print(x_catAll.shape)"
   ]
  },
  {
   "cell_type": "markdown",
   "metadata": {},
   "source": [
    "# split x_train and x_test"
   ]
  },
  {
   "cell_type": "code",
   "execution_count": 23,
   "metadata": {
    "collapsed": false
   },
   "outputs": [],
   "source": [
    "# split x_train and x_test\n",
    "x_Train = sp.sparse.hstack((x_catAll[0:len(labelSs),:],x_catAll_2[0:len(labelSs),:],sp.sparse.csr_matrix(dataFltAll.as_matrix())[0:len(labelSs),:]))\n",
    "x_Test = sp.sparse.hstack((x_catAll[len(labelSs):,:],x_catAll_2[len(labelSs):,:],sp.sparse.csr_matrix(dataFltAll.as_matrix())[len(labelSs):,:]))\n",
    "y_Train = labelSs.values"
   ]
  },
  {
   "cell_type": "markdown",
   "metadata": {},
   "source": [
    "# check the dimension of prepared data"
   ]
  },
  {
   "cell_type": "code",
   "execution_count": 24,
   "metadata": {
    "collapsed": false
   },
   "outputs": [
    {
     "name": "stdout",
     "output_type": "stream",
     "text": [
      "(125546, 131)\n",
      "(187994, 131)\n",
      "(187994,)\n"
     ]
    }
   ],
   "source": [
    "print(x_Test.shape)\n",
    "print(x_Train.shape)\n",
    "print(y_Train.shape)"
   ]
  },
  {
   "cell_type": "markdown",
   "metadata": {},
   "source": [
    "# splite the training data for valication"
   ]
  },
  {
   "cell_type": "code",
   "execution_count": 25,
   "metadata": {
    "collapsed": false
   },
   "outputs": [
    {
     "name": "stderr",
     "output_type": "stream",
     "text": [
      "/home/ec2-user/anaconda2/lib/python2.7/site-packages/sklearn/cross_validation.py:44: DeprecationWarning: This module was deprecated in version 0.18 in favor of the model_selection module into which all the refactored classes and functions are moved. Also note that the interface of the new CV iterators are different from that of this module. This module will be removed in 0.20.\n",
      "  \"This module will be removed in 0.20.\", DeprecationWarning)\n"
     ]
    },
    {
     "name": "stdout",
     "output_type": "stream",
     "text": [
      "(150395, 131)\n",
      "(150395,)\n",
      "(37599, 131)\n",
      "(37599,)\n"
     ]
    }
   ],
   "source": [
    "from sklearn import cross_validation\n",
    "val_size = 0.2\n",
    "seed = 0\n",
    "x_train, x_val, y_train, y_val = cross_validation.train_test_split(x_Train, y_Train, test_size=val_size, random_state=seed)\n",
    "print(x_train.shape)\n",
    "print(y_train.shape)\n",
    "print(x_val.shape)\n",
    "print(y_val.shape)"
   ]
  },
  {
   "cell_type": "code",
   "execution_count": 26,
   "metadata": {
    "collapsed": true
   },
   "outputs": [],
   "source": [
    "del x_Train\n",
    "del y_Train\n",
    "del x_catAll\n",
    "del dataCatAll\n",
    "# del trainDf\n",
    "# del testDf"
   ]
  },
  {
   "cell_type": "markdown",
   "metadata": {},
   "source": [
    "# Model Fitting"
   ]
  },
  {
   "cell_type": "code",
   "execution_count": 27,
   "metadata": {
    "collapsed": true
   },
   "outputs": [],
   "source": [
    "from sklearn.metrics import mean_absolute_error\n",
    "y_pred = []\n",
    "y_pred_val = []\n",
    "submission = pd.read_csv('../input/sample_submission.csv')"
   ]
  },
  {
   "cell_type": "code",
   "execution_count": 28,
   "metadata": {
    "collapsed": false
   },
   "outputs": [],
   "source": [
    "testList = ['XGBoostTrees', 'AdaBoosting', 'MLPRegressor','Ensemble']"
   ]
  },
  {
   "cell_type": "markdown",
   "metadata": {},
   "source": [
    "### Ridge Regression"
   ]
  },
  {
   "cell_type": "code",
   "execution_count": 29,
   "metadata": {
    "collapsed": true
   },
   "outputs": [],
   "source": [
    "# from sklearn.linear_model import RidgeCV\n",
    "# # from sklearn.linear_model import Ridge"
   ]
  },
  {
   "cell_type": "code",
   "execution_count": 30,
   "metadata": {
    "collapsed": false
   },
   "outputs": [],
   "source": [
    "# cv = 3\n",
    "# # alphas = (1e-2,1e-1,1,1e1,1e2)\n",
    "# # alphas = (5,20,30,40)\n",
    "# alphas = [10]\n",
    "# regCV = RidgeCV(cv=cv,alphas = alphas)\n",
    "# regCV.fit(x_train,y_train)\n",
    "# print('alpha: {}\\n'.format(regCV.alpha_))\n",
    "# # print('cv_values_: {}\\n'.format(regCV.cv_values_))"
   ]
  },
  {
   "cell_type": "code",
   "execution_count": 31,
   "metadata": {
    "collapsed": false
   },
   "outputs": [],
   "source": [
    "# print(mean_absolute_error(lossRestore(y_val,ymean,ystd),lossRestore(regCV.predict(x_val),ymean,ystd)))"
   ]
  },
  {
   "cell_type": "code",
   "execution_count": 32,
   "metadata": {
    "collapsed": false
   },
   "outputs": [],
   "source": [
    "# y_pred_i = lossRestore(regCV.predict(x_Test),ymean,ystd)\n",
    "# y_pred.append(y_pred_i)\n",
    "# y_pred_val.append(lossRestore(regCV.predict(x_val),ymean,ystd))"
   ]
  },
  {
   "cell_type": "markdown",
   "metadata": {},
   "source": [
    "### Lasso Regression"
   ]
  },
  {
   "cell_type": "code",
   "execution_count": 33,
   "metadata": {
    "collapsed": true
   },
   "outputs": [],
   "source": [
    "# from sklearn.linear_model import LassoCV"
   ]
  },
  {
   "cell_type": "code",
   "execution_count": 34,
   "metadata": {
    "collapsed": false
   },
   "outputs": [],
   "source": [
    "# cv = 3\n",
    "# # alphas = (1e-3,1e-2,1e-1,1,1e1,1e2,1e3)\n",
    "# # alphas = (0.0005,0.0007,0.001,0.003,0.005)\n",
    "# # alphas = [0.00005,0.0001,0.0003,0.0005]\n",
    "# alphas = [0.00005]\n",
    "# LassoCV = LassoCV(cv=cv,alphas = alphas)\n",
    "# LassoCV.fit(x_train,y_train)\n",
    "# print('alpha: {}\\n'.format(LassoCV.alpha_))"
   ]
  },
  {
   "cell_type": "code",
   "execution_count": 35,
   "metadata": {
    "collapsed": false
   },
   "outputs": [],
   "source": [
    "# print(mean_absolute_error(lossRestore(y_val,ymean,ystd),lossRestore(LassoCV.predict(x_val),ymean,ystd)))"
   ]
  },
  {
   "cell_type": "code",
   "execution_count": 36,
   "metadata": {
    "collapsed": false
   },
   "outputs": [],
   "source": [
    "# y_pred_i = lossRestore(LassoCV.predict(x_Test),ymean,ystd)\n",
    "# y_pred.append(y_pred_i)\n",
    "# y_pred_val.append(lossRestore(LassoCV.predict(x_val),ymean,ystd))"
   ]
  },
  {
   "cell_type": "markdown",
   "metadata": {},
   "source": [
    "### Skipped - Random Forest - using mse rather than mae, because the mae implementation is much slower."
   ]
  },
  {
   "cell_type": "code",
   "execution_count": 37,
   "metadata": {
    "collapsed": true
   },
   "outputs": [],
   "source": [
    "# from sklearn.ensemble import RandomForestRegressor"
   ]
  },
  {
   "cell_type": "code",
   "execution_count": 38,
   "metadata": {
    "collapsed": false
   },
   "outputs": [],
   "source": [
    "# criterion = 'mse'\n",
    "# n_estimators = [30]\n",
    "# err = 999999999\n",
    "# n_estimator = 0\n",
    "# random_state = 0\n",
    "# for n_est in n_estimators:\n",
    "#     tmpRFReg = RandomForestRegressor(n_estimators = n_est,criterion = criterion, random_state = random_state)\n",
    "#     tmpRFReg.fit(x_train,y_train)\n",
    "#     err_i = mean_absolute_error(lossRestore(y_val,ymean,ystd),lossRestore(tmpRFReg.predict(x_val),ymean,ystd))\n",
    "#     print(err_i)\n",
    "#     if err_i < err:\n",
    "#         RFReg = tmpRFReg\n",
    "#         n_estimator = n_est\n",
    "#         err = err_i"
   ]
  },
  {
   "cell_type": "code",
   "execution_count": 39,
   "metadata": {
    "collapsed": false
   },
   "outputs": [],
   "source": [
    "# print('n_estimator = {}'.format(n_estimator))\n",
    "# print(mean_absolute_error(lossRestore(y_val,ymean,ystd),lossRestore(RFReg.predict(x_val),ymean,ystd)))"
   ]
  },
  {
   "cell_type": "code",
   "execution_count": 40,
   "metadata": {
    "collapsed": false
   },
   "outputs": [],
   "source": [
    "# y_pred_i = lossRestore(RFReg.predict(x_Test),ymean,ystd)\n",
    "# y_pred.append(y_pred_i)\n",
    "# y_pred_val.append(lossRestore(RFReg.predict(x_val),ymean,ystd))"
   ]
  },
  {
   "cell_type": "markdown",
   "metadata": {},
   "source": [
    "### XGBoost Trees"
   ]
  },
  {
   "cell_type": "code",
   "execution_count": 41,
   "metadata": {
    "collapsed": false
   },
   "outputs": [],
   "source": [
    "import xgboost as xgb"
   ]
  },
  {
   "cell_type": "code",
   "execution_count": 42,
   "metadata": {
    "collapsed": false
   },
   "outputs": [],
   "source": [
    "d_train_xgb = xgb.DMatrix(x_train.tocsc(),label=y_train)\n",
    "d_val_xgb = xgb.DMatrix(x_val.tocsc(),label = y_val)\n",
    "x_val_xgb = xgb.DMatrix(x_val.tocsc())\n",
    "d_test_xgb = xgb.DMatrix(x_Test.tocsc())"
   ]
  },
  {
   "cell_type": "code",
   "execution_count": 45,
   "metadata": {
    "collapsed": false
   },
   "outputs": [
    {
     "name": "stdout",
     "output_type": "stream",
     "text": [
      "[0]\teval-mae:0.128997\ttrain-mae:0.128273\n",
      "[1]\teval-mae:0.124289\ttrain-mae:0.123572\n",
      "[2]\teval-mae:0.119904\ttrain-mae:0.119208\n",
      "[3]\teval-mae:0.1158\ttrain-mae:0.115128\n",
      "[4]\teval-mae:0.111988\ttrain-mae:0.111341\n",
      "[5]\teval-mae:0.108443\ttrain-mae:0.107813\n",
      "[6]\teval-mae:0.105147\ttrain-mae:0.104535\n",
      "[7]\teval-mae:0.102089\ttrain-mae:0.10148\n",
      "[8]\teval-mae:0.099257\ttrain-mae:0.098653\n",
      "[9]\teval-mae:0.096628\ttrain-mae:0.096026\n",
      "[10]\teval-mae:0.094175\ttrain-mae:0.093579\n",
      "[11]\teval-mae:0.091931\ttrain-mae:0.091334\n",
      "[12]\teval-mae:0.089841\ttrain-mae:0.089245\n",
      "[13]\teval-mae:0.087932\ttrain-mae:0.087332\n",
      "[14]\teval-mae:0.086148\ttrain-mae:0.085545\n",
      "[15]\teval-mae:0.084496\ttrain-mae:0.083897\n",
      "[16]\teval-mae:0.082968\ttrain-mae:0.082356\n",
      "[17]\teval-mae:0.081534\ttrain-mae:0.080919\n",
      "[18]\teval-mae:0.080219\ttrain-mae:0.079597\n",
      "[19]\teval-mae:0.079007\ttrain-mae:0.078381\n",
      "[20]\teval-mae:0.077881\ttrain-mae:0.077253\n",
      "[21]\teval-mae:0.076838\ttrain-mae:0.07621\n",
      "[22]\teval-mae:0.075872\ttrain-mae:0.075246\n",
      "[23]\teval-mae:0.074979\ttrain-mae:0.074348\n",
      "[24]\teval-mae:0.074154\ttrain-mae:0.073521\n",
      "[25]\teval-mae:0.07339\ttrain-mae:0.072751\n",
      "[26]\teval-mae:0.072646\ttrain-mae:0.072018\n",
      "[27]\teval-mae:0.07195\ttrain-mae:0.071335\n",
      "[28]\teval-mae:0.071334\ttrain-mae:0.070728\n",
      "[29]\teval-mae:0.070753\ttrain-mae:0.070148\n",
      "[30]\teval-mae:0.070233\ttrain-mae:0.069626\n",
      "[31]\teval-mae:0.069711\ttrain-mae:0.069109\n",
      "[32]\teval-mae:0.06922\ttrain-mae:0.068625\n",
      "[33]\teval-mae:0.068755\ttrain-mae:0.068165\n",
      "[34]\teval-mae:0.068328\ttrain-mae:0.067742\n",
      "[35]\teval-mae:0.067919\ttrain-mae:0.067342\n",
      "[36]\teval-mae:0.067565\ttrain-mae:0.066986\n",
      "[37]\teval-mae:0.067223\ttrain-mae:0.066647\n",
      "[38]\teval-mae:0.066912\ttrain-mae:0.066338\n",
      "[39]\teval-mae:0.066593\ttrain-mae:0.06602\n",
      "[40]\teval-mae:0.066278\ttrain-mae:0.065708\n",
      "[41]\teval-mae:0.066027\ttrain-mae:0.065459\n",
      "[42]\teval-mae:0.065786\ttrain-mae:0.065219\n",
      "[43]\teval-mae:0.065541\ttrain-mae:0.064969\n",
      "[44]\teval-mae:0.065332\ttrain-mae:0.064759\n",
      "[45]\teval-mae:0.065125\ttrain-mae:0.064542\n",
      "[46]\teval-mae:0.064928\ttrain-mae:0.064344\n",
      "[47]\teval-mae:0.064717\ttrain-mae:0.064133\n",
      "[48]\teval-mae:0.064514\ttrain-mae:0.063925\n",
      "[49]\teval-mae:0.064347\ttrain-mae:0.063754\n",
      "[50]\teval-mae:0.064187\ttrain-mae:0.063589\n",
      "[51]\teval-mae:0.063998\ttrain-mae:0.063396\n",
      "[52]\teval-mae:0.06386\ttrain-mae:0.063252\n",
      "[53]\teval-mae:0.063726\ttrain-mae:0.06311\n",
      "[54]\teval-mae:0.063569\ttrain-mae:0.062948\n",
      "[55]\teval-mae:0.063413\ttrain-mae:0.062795\n",
      "[56]\teval-mae:0.063288\ttrain-mae:0.062663\n",
      "[57]\teval-mae:0.06315\ttrain-mae:0.062514\n",
      "[58]\teval-mae:0.063045\ttrain-mae:0.062404\n",
      "[59]\teval-mae:0.062928\ttrain-mae:0.062285\n",
      "[60]\teval-mae:0.062831\ttrain-mae:0.062186\n",
      "[61]\teval-mae:0.062711\ttrain-mae:0.062064\n",
      "[62]\teval-mae:0.062598\ttrain-mae:0.061945\n",
      "[63]\teval-mae:0.062517\ttrain-mae:0.061858\n",
      "[64]\teval-mae:0.062424\ttrain-mae:0.061763\n",
      "[65]\teval-mae:0.062336\ttrain-mae:0.061669\n",
      "[66]\teval-mae:0.062268\ttrain-mae:0.061593\n",
      "[67]\teval-mae:0.06218\ttrain-mae:0.061496\n",
      "[68]\teval-mae:0.062082\ttrain-mae:0.061393\n",
      "[69]\teval-mae:0.062016\ttrain-mae:0.061322\n",
      "[70]\teval-mae:0.061941\ttrain-mae:0.061244\n",
      "[71]\teval-mae:0.061865\ttrain-mae:0.061165\n",
      "[72]\teval-mae:0.061748\ttrain-mae:0.061046\n",
      "[73]\teval-mae:0.061685\ttrain-mae:0.060972\n",
      "[74]\teval-mae:0.061612\ttrain-mae:0.060892\n",
      "[75]\teval-mae:0.061545\ttrain-mae:0.060819\n",
      "[76]\teval-mae:0.06148\ttrain-mae:0.060752\n",
      "[77]\teval-mae:0.061403\ttrain-mae:0.06067\n",
      "[78]\teval-mae:0.061352\ttrain-mae:0.06061\n",
      "[79]\teval-mae:0.061297\ttrain-mae:0.06055\n",
      "[80]\teval-mae:0.061251\ttrain-mae:0.060496\n",
      "[81]\teval-mae:0.061199\ttrain-mae:0.060445\n",
      "[82]\teval-mae:0.061154\ttrain-mae:0.060389\n",
      "[83]\teval-mae:0.061098\ttrain-mae:0.060325\n",
      "[84]\teval-mae:0.061059\ttrain-mae:0.060278\n",
      "[85]\teval-mae:0.060991\ttrain-mae:0.060207\n",
      "[86]\teval-mae:0.060936\ttrain-mae:0.060149\n",
      "[87]\teval-mae:0.060888\ttrain-mae:0.060097\n",
      "[88]\teval-mae:0.060846\ttrain-mae:0.06005\n",
      "[89]\teval-mae:0.060805\ttrain-mae:0.06\n",
      "[90]\teval-mae:0.060768\ttrain-mae:0.059961\n",
      "[91]\teval-mae:0.060732\ttrain-mae:0.05992\n",
      "[92]\teval-mae:0.060693\ttrain-mae:0.059873\n",
      "[93]\teval-mae:0.06065\ttrain-mae:0.059826\n",
      "[94]\teval-mae:0.060601\ttrain-mae:0.059774\n",
      "[95]\teval-mae:0.060564\ttrain-mae:0.059731\n",
      "[96]\teval-mae:0.060534\ttrain-mae:0.059695\n",
      "[97]\teval-mae:0.060506\ttrain-mae:0.05966\n",
      "[98]\teval-mae:0.060467\ttrain-mae:0.059615\n",
      "[99]\teval-mae:0.060435\ttrain-mae:0.059576\n",
      "[100]\teval-mae:0.060418\ttrain-mae:0.05955\n",
      "[101]\teval-mae:0.060378\ttrain-mae:0.059507\n",
      "[102]\teval-mae:0.060322\ttrain-mae:0.059449\n",
      "[103]\teval-mae:0.060297\ttrain-mae:0.059419\n",
      "[104]\teval-mae:0.060275\ttrain-mae:0.059391\n",
      "[105]\teval-mae:0.060253\ttrain-mae:0.059363\n",
      "[106]\teval-mae:0.060229\ttrain-mae:0.059335\n",
      "[107]\teval-mae:0.060199\ttrain-mae:0.0593\n",
      "[108]\teval-mae:0.060184\ttrain-mae:0.059277\n",
      "[109]\teval-mae:0.060153\ttrain-mae:0.059242\n",
      "[110]\teval-mae:0.060118\ttrain-mae:0.059205\n",
      "[111]\teval-mae:0.060092\ttrain-mae:0.059173\n",
      "[112]\teval-mae:0.060057\ttrain-mae:0.059132\n",
      "[113]\teval-mae:0.060037\ttrain-mae:0.059106\n",
      "[114]\teval-mae:0.060021\ttrain-mae:0.059082\n",
      "[115]\teval-mae:0.060002\ttrain-mae:0.059055\n",
      "[116]\teval-mae:0.059982\ttrain-mae:0.05903\n",
      "[117]\teval-mae:0.05995\ttrain-mae:0.058998\n",
      "[118]\teval-mae:0.059924\ttrain-mae:0.058967\n",
      "[119]\teval-mae:0.059885\ttrain-mae:0.058924\n",
      "[120]\teval-mae:0.059866\ttrain-mae:0.058902\n",
      "[121]\teval-mae:0.059845\ttrain-mae:0.058878\n",
      "[122]\teval-mae:0.059834\ttrain-mae:0.058858\n",
      "[123]\teval-mae:0.059805\ttrain-mae:0.058824\n",
      "[124]\teval-mae:0.059784\ttrain-mae:0.058798\n",
      "[125]\teval-mae:0.059761\ttrain-mae:0.058771\n",
      "[126]\teval-mae:0.059749\ttrain-mae:0.058753\n",
      "[127]\teval-mae:0.059733\ttrain-mae:0.05873\n",
      "[128]\teval-mae:0.059706\ttrain-mae:0.058701\n",
      "[129]\teval-mae:0.059672\ttrain-mae:0.058663\n",
      "[130]\teval-mae:0.059659\ttrain-mae:0.058644\n",
      "[131]\teval-mae:0.059638\ttrain-mae:0.058616\n",
      "[132]\teval-mae:0.059623\ttrain-mae:0.058598\n",
      "[133]\teval-mae:0.059607\ttrain-mae:0.058583\n",
      "[134]\teval-mae:0.05959\ttrain-mae:0.058564\n",
      "[135]\teval-mae:0.05958\ttrain-mae:0.058549\n",
      "[136]\teval-mae:0.059568\ttrain-mae:0.05853\n",
      "[137]\teval-mae:0.059546\ttrain-mae:0.058505\n",
      "[138]\teval-mae:0.059534\ttrain-mae:0.058487\n",
      "[139]\teval-mae:0.059523\ttrain-mae:0.058472\n",
      "[140]\teval-mae:0.05951\ttrain-mae:0.058452\n",
      "[141]\teval-mae:0.059499\ttrain-mae:0.058433\n",
      "[142]\teval-mae:0.059488\ttrain-mae:0.058419\n",
      "[143]\teval-mae:0.059471\ttrain-mae:0.058397\n",
      "[144]\teval-mae:0.059453\ttrain-mae:0.058373\n",
      "[145]\teval-mae:0.059446\ttrain-mae:0.058359\n",
      "[146]\teval-mae:0.05943\ttrain-mae:0.058342\n",
      "[147]\teval-mae:0.059412\ttrain-mae:0.058321\n",
      "[148]\teval-mae:0.059396\ttrain-mae:0.0583\n",
      "[149]\teval-mae:0.059386\ttrain-mae:0.058285\n",
      "[150]\teval-mae:0.059373\ttrain-mae:0.058269\n",
      "[151]\teval-mae:0.059362\ttrain-mae:0.058255\n",
      "[152]\teval-mae:0.059347\ttrain-mae:0.058237\n",
      "[153]\teval-mae:0.059336\ttrain-mae:0.05822\n",
      "[154]\teval-mae:0.059325\ttrain-mae:0.058206\n",
      "[155]\teval-mae:0.059314\ttrain-mae:0.058191\n",
      "[156]\teval-mae:0.059299\ttrain-mae:0.058175\n",
      "[157]\teval-mae:0.059286\ttrain-mae:0.058159\n",
      "[158]\teval-mae:0.059276\ttrain-mae:0.058145\n",
      "[159]\teval-mae:0.059268\ttrain-mae:0.058134\n",
      "[160]\teval-mae:0.059258\ttrain-mae:0.058119\n",
      "[161]\teval-mae:0.059241\ttrain-mae:0.058096\n",
      "[162]\teval-mae:0.059229\ttrain-mae:0.058079\n",
      "[163]\teval-mae:0.05922\ttrain-mae:0.058065\n",
      "[164]\teval-mae:0.059207\ttrain-mae:0.058046\n",
      "[165]\teval-mae:0.059195\ttrain-mae:0.058031\n",
      "[166]\teval-mae:0.059189\ttrain-mae:0.058021\n",
      "[167]\teval-mae:0.059179\ttrain-mae:0.058007\n",
      "[168]\teval-mae:0.05917\ttrain-mae:0.057994\n",
      "[169]\teval-mae:0.059165\ttrain-mae:0.057983\n",
      "[170]\teval-mae:0.05916\ttrain-mae:0.057972\n",
      "[171]\teval-mae:0.05915\ttrain-mae:0.057958\n",
      "[172]\teval-mae:0.059144\ttrain-mae:0.057946\n",
      "[173]\teval-mae:0.059133\ttrain-mae:0.05793\n",
      "[174]\teval-mae:0.059115\ttrain-mae:0.057908\n",
      "[175]\teval-mae:0.059106\ttrain-mae:0.057891\n",
      "[176]\teval-mae:0.059102\ttrain-mae:0.057881\n",
      "[177]\teval-mae:0.059094\ttrain-mae:0.057867\n",
      "[178]\teval-mae:0.059084\ttrain-mae:0.057856\n",
      "[179]\teval-mae:0.059076\ttrain-mae:0.05784\n",
      "[180]\teval-mae:0.059067\ttrain-mae:0.05783\n",
      "[181]\teval-mae:0.05906\ttrain-mae:0.057817\n",
      "[182]\teval-mae:0.059049\ttrain-mae:0.0578\n",
      "[183]\teval-mae:0.059041\ttrain-mae:0.057786\n",
      "[184]\teval-mae:0.05903\ttrain-mae:0.057772\n",
      "[185]\teval-mae:0.059022\ttrain-mae:0.05776\n",
      "[186]\teval-mae:0.059012\ttrain-mae:0.057744\n",
      "[187]\teval-mae:0.059001\ttrain-mae:0.057728\n",
      "[188]\teval-mae:0.058992\ttrain-mae:0.057713\n",
      "[189]\teval-mae:0.058985\ttrain-mae:0.057703\n",
      "[190]\teval-mae:0.058981\ttrain-mae:0.057696\n",
      "[191]\teval-mae:0.058974\ttrain-mae:0.057682\n",
      "[192]\teval-mae:0.058962\ttrain-mae:0.057666\n",
      "[193]\teval-mae:0.058953\ttrain-mae:0.057653\n",
      "[194]\teval-mae:0.058946\ttrain-mae:0.057643\n",
      "[195]\teval-mae:0.058937\ttrain-mae:0.05763\n",
      "[196]\teval-mae:0.05893\ttrain-mae:0.05762\n",
      "[197]\teval-mae:0.058915\ttrain-mae:0.057602\n",
      "[198]\teval-mae:0.058907\ttrain-mae:0.057587\n",
      "[199]\teval-mae:0.0589\ttrain-mae:0.057578\n",
      "[200]\teval-mae:0.058891\ttrain-mae:0.057563\n",
      "[201]\teval-mae:0.058889\ttrain-mae:0.057559\n",
      "[202]\teval-mae:0.058879\ttrain-mae:0.057544\n",
      "[203]\teval-mae:0.058869\ttrain-mae:0.057531\n",
      "[204]\teval-mae:0.058866\ttrain-mae:0.057522\n",
      "[205]\teval-mae:0.058862\ttrain-mae:0.057516\n",
      "[206]\teval-mae:0.058855\ttrain-mae:0.057504\n",
      "[207]\teval-mae:0.058851\ttrain-mae:0.057494\n",
      "[208]\teval-mae:0.058848\ttrain-mae:0.057484\n",
      "[209]\teval-mae:0.058842\ttrain-mae:0.057472\n",
      "[210]\teval-mae:0.058835\ttrain-mae:0.05746\n",
      "[211]\teval-mae:0.058826\ttrain-mae:0.057448\n",
      "[212]\teval-mae:0.058815\ttrain-mae:0.057431\n",
      "[213]\teval-mae:0.058811\ttrain-mae:0.057424\n",
      "[214]\teval-mae:0.058802\ttrain-mae:0.057412\n",
      "[215]\teval-mae:0.058798\ttrain-mae:0.057405\n",
      "[216]\teval-mae:0.058792\ttrain-mae:0.057395\n",
      "[217]\teval-mae:0.058785\ttrain-mae:0.057386\n",
      "[218]\teval-mae:0.058775\ttrain-mae:0.057372\n",
      "[219]\teval-mae:0.058772\ttrain-mae:0.057365\n",
      "[220]\teval-mae:0.058765\ttrain-mae:0.057354\n",
      "[221]\teval-mae:0.058762\ttrain-mae:0.057346\n",
      "[222]\teval-mae:0.058759\ttrain-mae:0.057339\n",
      "[223]\teval-mae:0.058749\ttrain-mae:0.057329\n",
      "[224]\teval-mae:0.058747\ttrain-mae:0.05732\n",
      "[225]\teval-mae:0.058741\ttrain-mae:0.057307\n",
      "[226]\teval-mae:0.058736\ttrain-mae:0.057296\n",
      "[227]\teval-mae:0.058736\ttrain-mae:0.057289\n",
      "[228]\teval-mae:0.058731\ttrain-mae:0.057279\n",
      "[229]\teval-mae:0.058728\ttrain-mae:0.057271\n",
      "[230]\teval-mae:0.058725\ttrain-mae:0.057263\n",
      "[231]\teval-mae:0.058721\ttrain-mae:0.057253\n",
      "[232]\teval-mae:0.058719\ttrain-mae:0.057247\n",
      "[233]\teval-mae:0.058719\ttrain-mae:0.057237\n",
      "[234]\teval-mae:0.058713\ttrain-mae:0.057227\n",
      "[235]\teval-mae:0.058705\ttrain-mae:0.057217\n",
      "[236]\teval-mae:0.058701\ttrain-mae:0.05721\n",
      "[237]\teval-mae:0.058697\ttrain-mae:0.057203\n",
      "[238]\teval-mae:0.058692\ttrain-mae:0.057192\n",
      "[239]\teval-mae:0.05869\ttrain-mae:0.057185\n",
      "[240]\teval-mae:0.058685\ttrain-mae:0.057177\n",
      "[241]\teval-mae:0.058675\ttrain-mae:0.057163\n",
      "[242]\teval-mae:0.05867\ttrain-mae:0.057157\n",
      "[243]\teval-mae:0.058664\ttrain-mae:0.057146\n",
      "[244]\teval-mae:0.058659\ttrain-mae:0.057135\n",
      "[245]\teval-mae:0.058655\ttrain-mae:0.057127\n",
      "[246]\teval-mae:0.05865\ttrain-mae:0.057118\n",
      "[247]\teval-mae:0.058647\ttrain-mae:0.057111\n",
      "[248]\teval-mae:0.058644\ttrain-mae:0.057105\n",
      "[249]\teval-mae:0.058637\ttrain-mae:0.057094\n",
      "[250]\teval-mae:0.058637\ttrain-mae:0.05709\n",
      "[251]\teval-mae:0.058635\ttrain-mae:0.057086\n",
      "[252]\teval-mae:0.05863\ttrain-mae:0.057077\n",
      "[253]\teval-mae:0.058621\ttrain-mae:0.057065\n",
      "[254]\teval-mae:0.058617\ttrain-mae:0.057055\n",
      "[255]\teval-mae:0.058614\ttrain-mae:0.05705\n",
      "[256]\teval-mae:0.05861\ttrain-mae:0.057042\n",
      "[257]\teval-mae:0.058609\ttrain-mae:0.057039\n",
      "[258]\teval-mae:0.058606\ttrain-mae:0.057029\n",
      "[259]\teval-mae:0.058603\ttrain-mae:0.057021\n",
      "[260]\teval-mae:0.058595\ttrain-mae:0.057012\n",
      "[261]\teval-mae:0.05859\ttrain-mae:0.057004\n",
      "[262]\teval-mae:0.058583\ttrain-mae:0.05699\n",
      "[263]\teval-mae:0.058576\ttrain-mae:0.056979\n",
      "[264]\teval-mae:0.058572\ttrain-mae:0.056969\n",
      "[265]\teval-mae:0.058567\ttrain-mae:0.056959\n",
      "[266]\teval-mae:0.058563\ttrain-mae:0.05695\n",
      "[267]\teval-mae:0.058559\ttrain-mae:0.056942\n",
      "[268]\teval-mae:0.058557\ttrain-mae:0.056936\n",
      "[269]\teval-mae:0.058551\ttrain-mae:0.056927\n",
      "[270]\teval-mae:0.058549\ttrain-mae:0.056923\n",
      "[271]\teval-mae:0.058549\ttrain-mae:0.056918\n",
      "[272]\teval-mae:0.058545\ttrain-mae:0.05691\n",
      "[273]\teval-mae:0.058543\ttrain-mae:0.056906\n",
      "[274]\teval-mae:0.058538\ttrain-mae:0.056898\n",
      "[275]\teval-mae:0.058535\ttrain-mae:0.056888\n",
      "[276]\teval-mae:0.058536\ttrain-mae:0.056882\n",
      "[277]\teval-mae:0.058534\ttrain-mae:0.056876\n",
      "[278]\teval-mae:0.058534\ttrain-mae:0.056873\n",
      "[279]\teval-mae:0.05853\ttrain-mae:0.056865\n",
      "[280]\teval-mae:0.05853\ttrain-mae:0.056862\n",
      "[281]\teval-mae:0.058528\ttrain-mae:0.056853\n",
      "[282]\teval-mae:0.058527\ttrain-mae:0.056848\n",
      "[283]\teval-mae:0.05852\ttrain-mae:0.056836\n",
      "[284]\teval-mae:0.058518\ttrain-mae:0.056827\n",
      "[285]\teval-mae:0.058513\ttrain-mae:0.056821\n",
      "[286]\teval-mae:0.05851\ttrain-mae:0.056815\n",
      "[287]\teval-mae:0.058505\ttrain-mae:0.056806\n",
      "[288]\teval-mae:0.058504\ttrain-mae:0.056797\n",
      "[289]\teval-mae:0.058501\ttrain-mae:0.056792\n",
      "[290]\teval-mae:0.058497\ttrain-mae:0.056786\n",
      "[291]\teval-mae:0.058492\ttrain-mae:0.056777\n",
      "[292]\teval-mae:0.05849\ttrain-mae:0.056771\n",
      "[293]\teval-mae:0.058488\ttrain-mae:0.056764\n",
      "[294]\teval-mae:0.058484\ttrain-mae:0.056757\n",
      "[295]\teval-mae:0.058483\ttrain-mae:0.056752\n",
      "[296]\teval-mae:0.058478\ttrain-mae:0.056744\n",
      "[297]\teval-mae:0.058475\ttrain-mae:0.056738\n",
      "[298]\teval-mae:0.058473\ttrain-mae:0.056731\n",
      "[299]\teval-mae:0.058472\ttrain-mae:0.056723\n",
      "[300]\teval-mae:0.058468\ttrain-mae:0.056716\n",
      "[301]\teval-mae:0.058466\ttrain-mae:0.056706\n",
      "[302]\teval-mae:0.058457\ttrain-mae:0.056691\n",
      "[303]\teval-mae:0.058454\ttrain-mae:0.056685\n",
      "[304]\teval-mae:0.058448\ttrain-mae:0.056677\n",
      "[305]\teval-mae:0.058444\ttrain-mae:0.056667\n",
      "[306]\teval-mae:0.058441\ttrain-mae:0.056658\n",
      "[307]\teval-mae:0.058436\ttrain-mae:0.05665\n",
      "[308]\teval-mae:0.058434\ttrain-mae:0.056643\n",
      "[309]\teval-mae:0.058434\ttrain-mae:0.056639\n",
      "[310]\teval-mae:0.058434\ttrain-mae:0.056635\n",
      "[311]\teval-mae:0.058431\ttrain-mae:0.056626\n",
      "[312]\teval-mae:0.058427\ttrain-mae:0.05662\n",
      "[313]\teval-mae:0.058425\ttrain-mae:0.056613\n",
      "[314]\teval-mae:0.058423\ttrain-mae:0.05661\n",
      "[315]\teval-mae:0.058421\ttrain-mae:0.056606\n",
      "[316]\teval-mae:0.058416\ttrain-mae:0.056598\n",
      "[317]\teval-mae:0.058414\ttrain-mae:0.056593\n",
      "[318]\teval-mae:0.058413\ttrain-mae:0.056588\n",
      "[319]\teval-mae:0.058408\ttrain-mae:0.056581\n",
      "[320]\teval-mae:0.058403\ttrain-mae:0.056572\n",
      "[321]\teval-mae:0.058399\ttrain-mae:0.056566\n",
      "[322]\teval-mae:0.058397\ttrain-mae:0.056561\n",
      "[323]\teval-mae:0.058394\ttrain-mae:0.056552\n",
      "[324]\teval-mae:0.05839\ttrain-mae:0.056542\n",
      "[325]\teval-mae:0.058388\ttrain-mae:0.056535\n",
      "[326]\teval-mae:0.058385\ttrain-mae:0.056524\n",
      "[327]\teval-mae:0.058383\ttrain-mae:0.056518\n",
      "[328]\teval-mae:0.05838\ttrain-mae:0.05651\n",
      "[329]\teval-mae:0.058378\ttrain-mae:0.056501\n",
      "[330]\teval-mae:0.058373\ttrain-mae:0.056494\n",
      "[331]\teval-mae:0.058368\ttrain-mae:0.056487\n",
      "[332]\teval-mae:0.058367\ttrain-mae:0.056481\n",
      "[333]\teval-mae:0.058363\ttrain-mae:0.056475\n",
      "[334]\teval-mae:0.058362\ttrain-mae:0.056471\n",
      "[335]\teval-mae:0.058361\ttrain-mae:0.056464\n",
      "[336]\teval-mae:0.058359\ttrain-mae:0.056456\n",
      "[337]\teval-mae:0.058356\ttrain-mae:0.056448\n",
      "[338]\teval-mae:0.058354\ttrain-mae:0.05644\n",
      "[339]\teval-mae:0.058353\ttrain-mae:0.056435\n",
      "[340]\teval-mae:0.058355\ttrain-mae:0.05643\n",
      "[341]\teval-mae:0.058354\ttrain-mae:0.056423\n",
      "[342]\teval-mae:0.058352\ttrain-mae:0.056416\n",
      "[343]\teval-mae:0.058351\ttrain-mae:0.05641\n",
      "[344]\teval-mae:0.058347\ttrain-mae:0.056403\n",
      "[345]\teval-mae:0.058346\ttrain-mae:0.056395\n",
      "[346]\teval-mae:0.058346\ttrain-mae:0.056392\n",
      "[347]\teval-mae:0.058344\ttrain-mae:0.056386\n",
      "[348]\teval-mae:0.058342\ttrain-mae:0.056379\n",
      "[349]\teval-mae:0.05834\ttrain-mae:0.056375\n",
      "[350]\teval-mae:0.058339\ttrain-mae:0.05637\n",
      "[351]\teval-mae:0.058333\ttrain-mae:0.056359\n",
      "[352]\teval-mae:0.058328\ttrain-mae:0.056346\n",
      "[353]\teval-mae:0.058327\ttrain-mae:0.056338\n",
      "[354]\teval-mae:0.058327\ttrain-mae:0.056333\n",
      "[355]\teval-mae:0.058324\ttrain-mae:0.056325\n",
      "[356]\teval-mae:0.058323\ttrain-mae:0.056321\n",
      "[357]\teval-mae:0.058322\ttrain-mae:0.056315\n",
      "[358]\teval-mae:0.058317\ttrain-mae:0.056305\n",
      "[359]\teval-mae:0.058315\ttrain-mae:0.056299\n",
      "[360]\teval-mae:0.058311\ttrain-mae:0.056294\n",
      "[361]\teval-mae:0.058306\ttrain-mae:0.056285\n",
      "[362]\teval-mae:0.058304\ttrain-mae:0.056278\n",
      "[363]\teval-mae:0.058303\ttrain-mae:0.056273\n",
      "[364]\teval-mae:0.058301\ttrain-mae:0.056267\n",
      "[365]\teval-mae:0.058299\ttrain-mae:0.056259\n",
      "[366]\teval-mae:0.058299\ttrain-mae:0.056256\n",
      "[367]\teval-mae:0.058296\ttrain-mae:0.056251\n",
      "[368]\teval-mae:0.058297\ttrain-mae:0.056246\n",
      "[369]\teval-mae:0.058294\ttrain-mae:0.056242\n",
      "[370]\teval-mae:0.058291\ttrain-mae:0.056237\n",
      "[371]\teval-mae:0.05829\ttrain-mae:0.056233\n",
      "[372]\teval-mae:0.05829\ttrain-mae:0.05623\n",
      "[373]\teval-mae:0.058288\ttrain-mae:0.056224\n",
      "[374]\teval-mae:0.058285\ttrain-mae:0.056215\n",
      "[375]\teval-mae:0.058282\ttrain-mae:0.056209\n",
      "[376]\teval-mae:0.058281\ttrain-mae:0.056205\n",
      "[377]\teval-mae:0.058277\ttrain-mae:0.056197\n",
      "[378]\teval-mae:0.058273\ttrain-mae:0.056188\n",
      "[379]\teval-mae:0.058271\ttrain-mae:0.056184\n",
      "[380]\teval-mae:0.05827\ttrain-mae:0.056179\n",
      "[381]\teval-mae:0.058269\ttrain-mae:0.056172\n",
      "[382]\teval-mae:0.058267\ttrain-mae:0.056168\n",
      "[383]\teval-mae:0.058265\ttrain-mae:0.056164\n",
      "[384]\teval-mae:0.058265\ttrain-mae:0.056161\n",
      "[385]\teval-mae:0.058262\ttrain-mae:0.056156\n",
      "[386]\teval-mae:0.058261\ttrain-mae:0.056149\n",
      "[387]\teval-mae:0.058261\ttrain-mae:0.056145\n",
      "[388]\teval-mae:0.058259\ttrain-mae:0.056141\n",
      "[389]\teval-mae:0.058258\ttrain-mae:0.056136\n",
      "[390]\teval-mae:0.058256\ttrain-mae:0.056131\n",
      "[391]\teval-mae:0.058256\ttrain-mae:0.056128\n",
      "[392]\teval-mae:0.058253\ttrain-mae:0.056123\n",
      "[393]\teval-mae:0.058252\ttrain-mae:0.056117\n",
      "[394]\teval-mae:0.058252\ttrain-mae:0.056114\n",
      "[395]\teval-mae:0.058249\ttrain-mae:0.056107\n",
      "[396]\teval-mae:0.058249\ttrain-mae:0.056102\n",
      "[397]\teval-mae:0.058248\ttrain-mae:0.056094\n",
      "[398]\teval-mae:0.058247\ttrain-mae:0.056088\n",
      "[399]\teval-mae:0.058246\ttrain-mae:0.056084\n",
      "[400]\teval-mae:0.058245\ttrain-mae:0.056078\n",
      "[401]\teval-mae:0.058243\ttrain-mae:0.056072\n",
      "[402]\teval-mae:0.058242\ttrain-mae:0.056066\n",
      "[403]\teval-mae:0.05824\ttrain-mae:0.056061\n",
      "[404]\teval-mae:0.05824\ttrain-mae:0.056055\n",
      "[405]\teval-mae:0.058239\ttrain-mae:0.05605\n",
      "[406]\teval-mae:0.058237\ttrain-mae:0.056044\n",
      "[407]\teval-mae:0.058231\ttrain-mae:0.056034\n",
      "[408]\teval-mae:0.058231\ttrain-mae:0.05603\n",
      "[409]\teval-mae:0.05823\ttrain-mae:0.056026\n",
      "[410]\teval-mae:0.058229\ttrain-mae:0.056022\n",
      "[411]\teval-mae:0.058229\ttrain-mae:0.056016\n",
      "[412]\teval-mae:0.058229\ttrain-mae:0.056011\n",
      "[413]\teval-mae:0.058228\ttrain-mae:0.056005\n",
      "[414]\teval-mae:0.058225\ttrain-mae:0.055999\n",
      "[415]\teval-mae:0.058222\ttrain-mae:0.055991\n",
      "[416]\teval-mae:0.058221\ttrain-mae:0.055986\n",
      "[417]\teval-mae:0.05822\ttrain-mae:0.055982\n",
      "[418]\teval-mae:0.058218\ttrain-mae:0.055975\n",
      "[419]\teval-mae:0.058216\ttrain-mae:0.05597\n",
      "[420]\teval-mae:0.058213\ttrain-mae:0.055965\n",
      "[421]\teval-mae:0.058211\ttrain-mae:0.055958\n",
      "[422]\teval-mae:0.05821\ttrain-mae:0.055955\n",
      "[423]\teval-mae:0.058209\ttrain-mae:0.055951\n",
      "[424]\teval-mae:0.05821\ttrain-mae:0.055944\n",
      "[425]\teval-mae:0.058209\ttrain-mae:0.055938\n",
      "[426]\teval-mae:0.058207\ttrain-mae:0.055931\n",
      "[427]\teval-mae:0.058204\ttrain-mae:0.055925\n",
      "[428]\teval-mae:0.058203\ttrain-mae:0.055921\n",
      "[429]\teval-mae:0.058202\ttrain-mae:0.055915\n",
      "[430]\teval-mae:0.0582\ttrain-mae:0.055908\n",
      "[431]\teval-mae:0.058198\ttrain-mae:0.0559\n",
      "[432]\teval-mae:0.058196\ttrain-mae:0.055893\n",
      "[433]\teval-mae:0.058196\ttrain-mae:0.055889\n",
      "[434]\teval-mae:0.058195\ttrain-mae:0.055886\n",
      "[435]\teval-mae:0.058196\ttrain-mae:0.055881\n",
      "[436]\teval-mae:0.058196\ttrain-mae:0.055879\n",
      "[437]\teval-mae:0.058193\ttrain-mae:0.05587\n",
      "[438]\teval-mae:0.058191\ttrain-mae:0.055863\n",
      "[439]\teval-mae:0.058191\ttrain-mae:0.055859\n",
      "[440]\teval-mae:0.058189\ttrain-mae:0.055852\n",
      "[441]\teval-mae:0.058189\ttrain-mae:0.055848\n",
      "[442]\teval-mae:0.058187\ttrain-mae:0.055839\n",
      "[443]\teval-mae:0.058185\ttrain-mae:0.055833\n",
      "[444]\teval-mae:0.058183\ttrain-mae:0.055828\n",
      "[445]\teval-mae:0.058182\ttrain-mae:0.055821\n",
      "[446]\teval-mae:0.058181\ttrain-mae:0.055817\n",
      "[447]\teval-mae:0.05818\ttrain-mae:0.055814\n",
      "[448]\teval-mae:0.058179\ttrain-mae:0.055808\n",
      "[449]\teval-mae:0.058175\ttrain-mae:0.055799\n",
      "[450]\teval-mae:0.058177\ttrain-mae:0.055792\n",
      "[451]\teval-mae:0.058176\ttrain-mae:0.055787\n",
      "[452]\teval-mae:0.058173\ttrain-mae:0.055781\n",
      "[453]\teval-mae:0.058171\ttrain-mae:0.055775\n",
      "[454]\teval-mae:0.058168\ttrain-mae:0.055768\n",
      "[455]\teval-mae:0.05817\ttrain-mae:0.055763\n",
      "[456]\teval-mae:0.058168\ttrain-mae:0.055758\n",
      "[457]\teval-mae:0.058167\ttrain-mae:0.055752\n",
      "[458]\teval-mae:0.058165\ttrain-mae:0.055745\n",
      "[459]\teval-mae:0.058162\ttrain-mae:0.055739\n",
      "[460]\teval-mae:0.05816\ttrain-mae:0.055735\n",
      "[461]\teval-mae:0.058159\ttrain-mae:0.055732\n",
      "[462]\teval-mae:0.058158\ttrain-mae:0.055727\n",
      "[463]\teval-mae:0.058156\ttrain-mae:0.055721\n",
      "[464]\teval-mae:0.058156\ttrain-mae:0.055715\n",
      "[465]\teval-mae:0.058155\ttrain-mae:0.055711\n",
      "[466]\teval-mae:0.058152\ttrain-mae:0.055706\n",
      "[467]\teval-mae:0.05815\ttrain-mae:0.0557\n",
      "[468]\teval-mae:0.058148\ttrain-mae:0.055694\n",
      "[469]\teval-mae:0.058146\ttrain-mae:0.055689\n",
      "[470]\teval-mae:0.058145\ttrain-mae:0.055686\n",
      "[471]\teval-mae:0.058143\ttrain-mae:0.05568\n",
      "[472]\teval-mae:0.058143\ttrain-mae:0.055676\n",
      "[473]\teval-mae:0.058142\ttrain-mae:0.055672\n",
      "[474]\teval-mae:0.058142\ttrain-mae:0.055667\n",
      "[475]\teval-mae:0.05814\ttrain-mae:0.055664\n",
      "[476]\teval-mae:0.058139\ttrain-mae:0.055658\n",
      "[477]\teval-mae:0.058137\ttrain-mae:0.055652\n",
      "[478]\teval-mae:0.058138\ttrain-mae:0.055647\n",
      "[479]\teval-mae:0.058136\ttrain-mae:0.055641\n",
      "[480]\teval-mae:0.058136\ttrain-mae:0.055634\n",
      "[481]\teval-mae:0.058134\ttrain-mae:0.055629\n",
      "[482]\teval-mae:0.058133\ttrain-mae:0.055623\n",
      "[483]\teval-mae:0.058132\ttrain-mae:0.055618\n",
      "[484]\teval-mae:0.05813\ttrain-mae:0.055614\n",
      "[485]\teval-mae:0.058129\ttrain-mae:0.055609\n",
      "[486]\teval-mae:0.058128\ttrain-mae:0.055603\n",
      "[487]\teval-mae:0.058127\ttrain-mae:0.055596\n",
      "[488]\teval-mae:0.058125\ttrain-mae:0.055591\n",
      "[489]\teval-mae:0.058124\ttrain-mae:0.055587\n",
      "[490]\teval-mae:0.058122\ttrain-mae:0.055583\n",
      "[491]\teval-mae:0.058122\ttrain-mae:0.055579\n",
      "[492]\teval-mae:0.058121\ttrain-mae:0.055575\n",
      "[493]\teval-mae:0.05812\ttrain-mae:0.055571\n",
      "[494]\teval-mae:0.05812\ttrain-mae:0.055566\n",
      "[495]\teval-mae:0.058116\ttrain-mae:0.055559\n",
      "[496]\teval-mae:0.058116\ttrain-mae:0.055554\n",
      "[497]\teval-mae:0.058114\ttrain-mae:0.05555\n",
      "[498]\teval-mae:0.058112\ttrain-mae:0.055545\n",
      "[499]\teval-mae:0.058112\ttrain-mae:0.055542\n",
      "[500]\teval-mae:0.058111\ttrain-mae:0.055539\n",
      "[501]\teval-mae:0.058111\ttrain-mae:0.055534\n",
      "[502]\teval-mae:0.058111\ttrain-mae:0.055528\n",
      "[503]\teval-mae:0.058109\ttrain-mae:0.055524\n",
      "[504]\teval-mae:0.058106\ttrain-mae:0.055516\n",
      "[505]\teval-mae:0.058105\ttrain-mae:0.055514\n",
      "[506]\teval-mae:0.058105\ttrain-mae:0.05551\n",
      "[507]\teval-mae:0.058102\ttrain-mae:0.055504\n",
      "[508]\teval-mae:0.058101\ttrain-mae:0.055498\n",
      "[509]\teval-mae:0.058098\ttrain-mae:0.055493\n",
      "[510]\teval-mae:0.058098\ttrain-mae:0.05549\n",
      "[511]\teval-mae:0.058099\ttrain-mae:0.055487\n",
      "[512]\teval-mae:0.058098\ttrain-mae:0.055484\n",
      "[513]\teval-mae:0.058095\ttrain-mae:0.055478\n",
      "[514]\teval-mae:0.058095\ttrain-mae:0.055475\n",
      "[515]\teval-mae:0.058094\ttrain-mae:0.055468\n",
      "[516]\teval-mae:0.058093\ttrain-mae:0.055465\n",
      "[517]\teval-mae:0.058094\ttrain-mae:0.055459\n",
      "[518]\teval-mae:0.058093\ttrain-mae:0.055455\n",
      "[519]\teval-mae:0.058093\ttrain-mae:0.055449\n",
      "[520]\teval-mae:0.058091\ttrain-mae:0.055445\n",
      "[521]\teval-mae:0.058091\ttrain-mae:0.05544\n",
      "[522]\teval-mae:0.05809\ttrain-mae:0.055435\n",
      "[523]\teval-mae:0.05809\ttrain-mae:0.05543\n",
      "[524]\teval-mae:0.058091\ttrain-mae:0.055426\n",
      "[525]\teval-mae:0.058091\ttrain-mae:0.055423\n",
      "[526]\teval-mae:0.058088\ttrain-mae:0.055417\n",
      "[527]\teval-mae:0.058088\ttrain-mae:0.055412\n",
      "[528]\teval-mae:0.058087\ttrain-mae:0.055407\n",
      "[529]\teval-mae:0.058085\ttrain-mae:0.055401\n",
      "[530]\teval-mae:0.058083\ttrain-mae:0.055395\n",
      "[531]\teval-mae:0.058082\ttrain-mae:0.05539\n",
      "[532]\teval-mae:0.05808\ttrain-mae:0.055385\n",
      "[533]\teval-mae:0.058078\ttrain-mae:0.055379\n",
      "[534]\teval-mae:0.058079\ttrain-mae:0.055376\n",
      "[535]\teval-mae:0.058077\ttrain-mae:0.055372\n",
      "[536]\teval-mae:0.058076\ttrain-mae:0.055365\n",
      "[537]\teval-mae:0.058074\ttrain-mae:0.055358\n",
      "[538]\teval-mae:0.058069\ttrain-mae:0.055349\n",
      "[539]\teval-mae:0.058068\ttrain-mae:0.055344\n",
      "[540]\teval-mae:0.058068\ttrain-mae:0.055341\n",
      "[541]\teval-mae:0.058067\ttrain-mae:0.055335\n",
      "[542]\teval-mae:0.058066\ttrain-mae:0.055331\n",
      "[543]\teval-mae:0.058065\ttrain-mae:0.055328\n",
      "[544]\teval-mae:0.058065\ttrain-mae:0.055325\n",
      "[545]\teval-mae:0.058063\ttrain-mae:0.05532\n",
      "[546]\teval-mae:0.058063\ttrain-mae:0.055317\n",
      "[547]\teval-mae:0.058063\ttrain-mae:0.05531\n",
      "[548]\teval-mae:0.058062\ttrain-mae:0.055306\n",
      "[549]\teval-mae:0.058062\ttrain-mae:0.055302\n",
      "[550]\teval-mae:0.058063\ttrain-mae:0.055299\n",
      "[551]\teval-mae:0.058062\ttrain-mae:0.055295\n",
      "[552]\teval-mae:0.058062\ttrain-mae:0.055291\n",
      "[553]\teval-mae:0.058062\ttrain-mae:0.055288\n",
      "[554]\teval-mae:0.058061\ttrain-mae:0.055285\n",
      "[555]\teval-mae:0.058061\ttrain-mae:0.05528\n",
      "[556]\teval-mae:0.058059\ttrain-mae:0.055275\n",
      "[557]\teval-mae:0.058056\ttrain-mae:0.05527\n",
      "[558]\teval-mae:0.058053\ttrain-mae:0.055264\n",
      "[559]\teval-mae:0.05805\ttrain-mae:0.05526\n",
      "[560]\teval-mae:0.058049\ttrain-mae:0.055254\n",
      "[561]\teval-mae:0.058049\ttrain-mae:0.05525\n",
      "[562]\teval-mae:0.058049\ttrain-mae:0.055244\n",
      "[563]\teval-mae:0.058048\ttrain-mae:0.055241\n",
      "[564]\teval-mae:0.058047\ttrain-mae:0.055237\n",
      "[565]\teval-mae:0.058044\ttrain-mae:0.055231\n",
      "[566]\teval-mae:0.058044\ttrain-mae:0.055228\n",
      "[567]\teval-mae:0.058042\ttrain-mae:0.055222\n",
      "[568]\teval-mae:0.05804\ttrain-mae:0.055216\n",
      "[569]\teval-mae:0.058037\ttrain-mae:0.055209\n",
      "[570]\teval-mae:0.058035\ttrain-mae:0.055203\n",
      "[571]\teval-mae:0.058034\ttrain-mae:0.0552\n",
      "[572]\teval-mae:0.058034\ttrain-mae:0.055195\n",
      "[573]\teval-mae:0.058034\ttrain-mae:0.055192\n",
      "[574]\teval-mae:0.058033\ttrain-mae:0.055188\n",
      "[575]\teval-mae:0.058033\ttrain-mae:0.055184\n",
      "[576]\teval-mae:0.058032\ttrain-mae:0.055181\n",
      "[577]\teval-mae:0.05803\ttrain-mae:0.055175\n",
      "[578]\teval-mae:0.05803\ttrain-mae:0.055171\n",
      "[579]\teval-mae:0.058029\ttrain-mae:0.055166\n",
      "[580]\teval-mae:0.058028\ttrain-mae:0.055162\n",
      "[581]\teval-mae:0.058027\ttrain-mae:0.05516\n",
      "[582]\teval-mae:0.058027\ttrain-mae:0.055156\n",
      "[583]\teval-mae:0.058024\ttrain-mae:0.055149\n",
      "[584]\teval-mae:0.058025\ttrain-mae:0.055146\n",
      "[585]\teval-mae:0.058024\ttrain-mae:0.05514\n",
      "[586]\teval-mae:0.058023\ttrain-mae:0.055135\n",
      "[587]\teval-mae:0.058022\ttrain-mae:0.05513\n",
      "[588]\teval-mae:0.058021\ttrain-mae:0.055127\n",
      "[589]\teval-mae:0.058019\ttrain-mae:0.055121\n",
      "[590]\teval-mae:0.058019\ttrain-mae:0.055117\n",
      "[591]\teval-mae:0.058018\ttrain-mae:0.055112\n",
      "[592]\teval-mae:0.058018\ttrain-mae:0.055109\n",
      "[593]\teval-mae:0.058018\ttrain-mae:0.055103\n",
      "[594]\teval-mae:0.058014\ttrain-mae:0.055097\n",
      "[595]\teval-mae:0.058014\ttrain-mae:0.055095\n",
      "[596]\teval-mae:0.058011\ttrain-mae:0.055088\n",
      "[597]\teval-mae:0.058011\ttrain-mae:0.055083\n",
      "[598]\teval-mae:0.05801\ttrain-mae:0.055079\n",
      "[599]\teval-mae:0.058009\ttrain-mae:0.055075\n",
      "[600]\teval-mae:0.058007\ttrain-mae:0.05507\n",
      "[601]\teval-mae:0.058007\ttrain-mae:0.055065\n",
      "[602]\teval-mae:0.058006\ttrain-mae:0.055059\n",
      "[603]\teval-mae:0.058005\ttrain-mae:0.055054\n",
      "[604]\teval-mae:0.058005\ttrain-mae:0.055052\n",
      "[605]\teval-mae:0.058004\ttrain-mae:0.055047\n",
      "[606]\teval-mae:0.058005\ttrain-mae:0.055043\n",
      "[607]\teval-mae:0.058004\ttrain-mae:0.055039\n",
      "[608]\teval-mae:0.058004\ttrain-mae:0.055035\n",
      "[609]\teval-mae:0.058004\ttrain-mae:0.055031\n",
      "[610]\teval-mae:0.058004\ttrain-mae:0.055023\n",
      "[611]\teval-mae:0.058001\ttrain-mae:0.055018\n",
      "[612]\teval-mae:0.057999\ttrain-mae:0.055013\n",
      "[613]\teval-mae:0.057999\ttrain-mae:0.055009\n",
      "[614]\teval-mae:0.058\ttrain-mae:0.055004\n",
      "[615]\teval-mae:0.058\ttrain-mae:0.055\n",
      "[616]\teval-mae:0.058\ttrain-mae:0.054998\n",
      "[617]\teval-mae:0.058\ttrain-mae:0.054994\n",
      "[618]\teval-mae:0.057999\ttrain-mae:0.05499\n",
      "[619]\teval-mae:0.057997\ttrain-mae:0.054985\n",
      "[620]\teval-mae:0.057998\ttrain-mae:0.054981\n",
      "[621]\teval-mae:0.057998\ttrain-mae:0.054976\n",
      "[622]\teval-mae:0.057996\ttrain-mae:0.054971\n",
      "[623]\teval-mae:0.057996\ttrain-mae:0.054966\n",
      "[624]\teval-mae:0.057996\ttrain-mae:0.054962\n",
      "[625]\teval-mae:0.057996\ttrain-mae:0.054957\n",
      "[626]\teval-mae:0.057994\ttrain-mae:0.054951\n",
      "[627]\teval-mae:0.057992\ttrain-mae:0.054946\n",
      "[628]\teval-mae:0.057992\ttrain-mae:0.054941\n",
      "[629]\teval-mae:0.057991\ttrain-mae:0.054937\n",
      "[630]\teval-mae:0.05799\ttrain-mae:0.054932\n",
      "[631]\teval-mae:0.05799\ttrain-mae:0.054929\n",
      "[632]\teval-mae:0.057991\ttrain-mae:0.054924\n",
      "[633]\teval-mae:0.05799\ttrain-mae:0.054919\n",
      "[634]\teval-mae:0.05799\ttrain-mae:0.054915\n",
      "[635]\teval-mae:0.057989\ttrain-mae:0.054908\n",
      "[636]\teval-mae:0.057989\ttrain-mae:0.054902\n",
      "[637]\teval-mae:0.057988\ttrain-mae:0.054897\n",
      "[638]\teval-mae:0.057986\ttrain-mae:0.054892\n",
      "[639]\teval-mae:0.057985\ttrain-mae:0.054887\n",
      "[640]\teval-mae:0.057984\ttrain-mae:0.054883\n",
      "[641]\teval-mae:0.057984\ttrain-mae:0.054878\n",
      "[642]\teval-mae:0.057985\ttrain-mae:0.054874\n",
      "[643]\teval-mae:0.057984\ttrain-mae:0.054871\n",
      "[644]\teval-mae:0.057985\ttrain-mae:0.054866\n",
      "[645]\teval-mae:0.057985\ttrain-mae:0.054862\n",
      "[646]\teval-mae:0.057985\ttrain-mae:0.054858\n",
      "[647]\teval-mae:0.057984\ttrain-mae:0.054853\n",
      "[648]\teval-mae:0.057983\ttrain-mae:0.054848\n",
      "[649]\teval-mae:0.057983\ttrain-mae:0.054844\n",
      "[650]\teval-mae:0.057984\ttrain-mae:0.054838\n",
      "[651]\teval-mae:0.057982\ttrain-mae:0.054832\n",
      "[652]\teval-mae:0.057981\ttrain-mae:0.054828\n",
      "[653]\teval-mae:0.057981\ttrain-mae:0.054824\n",
      "[654]\teval-mae:0.057981\ttrain-mae:0.054821\n",
      "[655]\teval-mae:0.05798\ttrain-mae:0.054817\n",
      "[656]\teval-mae:0.05798\ttrain-mae:0.054814\n",
      "[657]\teval-mae:0.057978\ttrain-mae:0.054808\n",
      "[658]\teval-mae:0.057976\ttrain-mae:0.054804\n",
      "[659]\teval-mae:0.057976\ttrain-mae:0.0548\n",
      "[660]\teval-mae:0.057975\ttrain-mae:0.054795\n",
      "[661]\teval-mae:0.057974\ttrain-mae:0.05479\n",
      "[662]\teval-mae:0.057974\ttrain-mae:0.054785\n",
      "[663]\teval-mae:0.057974\ttrain-mae:0.054782\n",
      "[664]\teval-mae:0.057975\ttrain-mae:0.05478\n",
      "[665]\teval-mae:0.057973\ttrain-mae:0.054775\n",
      "[666]\teval-mae:0.05797\ttrain-mae:0.054769\n",
      "[667]\teval-mae:0.057968\ttrain-mae:0.054765\n",
      "[668]\teval-mae:0.057969\ttrain-mae:0.054762\n",
      "[669]\teval-mae:0.057968\ttrain-mae:0.054757\n",
      "[670]\teval-mae:0.057968\ttrain-mae:0.054752\n",
      "[671]\teval-mae:0.057967\ttrain-mae:0.054749\n",
      "[672]\teval-mae:0.057967\ttrain-mae:0.054744\n",
      "[673]\teval-mae:0.057967\ttrain-mae:0.054738\n",
      "[674]\teval-mae:0.057968\ttrain-mae:0.054734\n",
      "[675]\teval-mae:0.057965\ttrain-mae:0.054729\n",
      "[676]\teval-mae:0.057965\ttrain-mae:0.054726\n",
      "[677]\teval-mae:0.057963\ttrain-mae:0.054721\n",
      "[678]\teval-mae:0.057962\ttrain-mae:0.054717\n",
      "[679]\teval-mae:0.057961\ttrain-mae:0.054712\n",
      "[680]\teval-mae:0.057962\ttrain-mae:0.054707\n",
      "[681]\teval-mae:0.057961\ttrain-mae:0.054702\n",
      "[682]\teval-mae:0.05796\ttrain-mae:0.054696\n",
      "[683]\teval-mae:0.05796\ttrain-mae:0.054692\n",
      "[684]\teval-mae:0.057959\ttrain-mae:0.054688\n",
      "[685]\teval-mae:0.057958\ttrain-mae:0.054683\n",
      "[686]\teval-mae:0.057957\ttrain-mae:0.054677\n",
      "[687]\teval-mae:0.057955\ttrain-mae:0.054672\n",
      "[688]\teval-mae:0.057952\ttrain-mae:0.054666\n",
      "[689]\teval-mae:0.057953\ttrain-mae:0.054661\n",
      "[690]\teval-mae:0.057952\ttrain-mae:0.054657\n",
      "[691]\teval-mae:0.057952\ttrain-mae:0.054654\n",
      "[692]\teval-mae:0.057951\ttrain-mae:0.05465\n",
      "[693]\teval-mae:0.057953\ttrain-mae:0.054645\n",
      "[694]\teval-mae:0.057953\ttrain-mae:0.054641\n",
      "[695]\teval-mae:0.057955\ttrain-mae:0.054636\n",
      "[696]\teval-mae:0.057953\ttrain-mae:0.054633\n",
      "[697]\teval-mae:0.057953\ttrain-mae:0.054629\n",
      "[698]\teval-mae:0.057953\ttrain-mae:0.054624\n",
      "[699]\teval-mae:0.057952\ttrain-mae:0.054621\n",
      "[700]\teval-mae:0.057952\ttrain-mae:0.054616\n",
      "[701]\teval-mae:0.057952\ttrain-mae:0.054612\n",
      "[702]\teval-mae:0.057952\ttrain-mae:0.054606\n",
      "[703]\teval-mae:0.057952\ttrain-mae:0.054602\n",
      "[704]\teval-mae:0.057951\ttrain-mae:0.054595\n",
      "[705]\teval-mae:0.057952\ttrain-mae:0.054591\n",
      "[706]\teval-mae:0.05795\ttrain-mae:0.054586\n",
      "[707]\teval-mae:0.057949\ttrain-mae:0.05458\n",
      "[708]\teval-mae:0.05795\ttrain-mae:0.054577\n",
      "[709]\teval-mae:0.057948\ttrain-mae:0.054572\n",
      "[710]\teval-mae:0.057948\ttrain-mae:0.05457\n",
      "[711]\teval-mae:0.057948\ttrain-mae:0.054565\n",
      "[712]\teval-mae:0.057946\ttrain-mae:0.054559\n",
      "[713]\teval-mae:0.057946\ttrain-mae:0.054557\n",
      "[714]\teval-mae:0.057946\ttrain-mae:0.054552\n",
      "[715]\teval-mae:0.057946\ttrain-mae:0.054549\n",
      "[716]\teval-mae:0.057945\ttrain-mae:0.054544\n",
      "[717]\teval-mae:0.057945\ttrain-mae:0.05454\n",
      "[718]\teval-mae:0.057944\ttrain-mae:0.054534\n",
      "[719]\teval-mae:0.057945\ttrain-mae:0.05453\n",
      "[720]\teval-mae:0.057944\ttrain-mae:0.054525\n",
      "[721]\teval-mae:0.057943\ttrain-mae:0.05452\n",
      "[722]\teval-mae:0.057943\ttrain-mae:0.054516\n",
      "[723]\teval-mae:0.057943\ttrain-mae:0.054511\n",
      "[724]\teval-mae:0.057942\ttrain-mae:0.054506\n",
      "[725]\teval-mae:0.057943\ttrain-mae:0.054502\n",
      "[726]\teval-mae:0.057941\ttrain-mae:0.054497\n",
      "[727]\teval-mae:0.057939\ttrain-mae:0.05449\n",
      "[728]\teval-mae:0.057938\ttrain-mae:0.054487\n",
      "[729]\teval-mae:0.057939\ttrain-mae:0.054482\n",
      "[730]\teval-mae:0.057938\ttrain-mae:0.054476\n",
      "[731]\teval-mae:0.057938\ttrain-mae:0.054472\n",
      "[732]\teval-mae:0.057938\ttrain-mae:0.054467\n",
      "[733]\teval-mae:0.057937\ttrain-mae:0.054464\n",
      "[734]\teval-mae:0.057936\ttrain-mae:0.05446\n",
      "[735]\teval-mae:0.057936\ttrain-mae:0.054457\n",
      "[736]\teval-mae:0.057936\ttrain-mae:0.054452\n",
      "[737]\teval-mae:0.057935\ttrain-mae:0.054451\n",
      "[738]\teval-mae:0.057935\ttrain-mae:0.054447\n",
      "[739]\teval-mae:0.057935\ttrain-mae:0.054445\n",
      "[740]\teval-mae:0.057934\ttrain-mae:0.054442\n",
      "[741]\teval-mae:0.057935\ttrain-mae:0.054436\n",
      "[742]\teval-mae:0.057934\ttrain-mae:0.054432\n",
      "[743]\teval-mae:0.057932\ttrain-mae:0.054429\n",
      "[744]\teval-mae:0.057932\ttrain-mae:0.054424\n",
      "[745]\teval-mae:0.057932\ttrain-mae:0.054422\n",
      "[746]\teval-mae:0.05793\ttrain-mae:0.054417\n",
      "[747]\teval-mae:0.057929\ttrain-mae:0.054413\n",
      "[748]\teval-mae:0.05793\ttrain-mae:0.054409\n",
      "[749]\teval-mae:0.057929\ttrain-mae:0.054405\n",
      "[750]\teval-mae:0.057929\ttrain-mae:0.054403\n",
      "[751]\teval-mae:0.057927\ttrain-mae:0.054399\n",
      "[752]\teval-mae:0.057928\ttrain-mae:0.054395\n",
      "[753]\teval-mae:0.057929\ttrain-mae:0.054392\n",
      "[754]\teval-mae:0.057929\ttrain-mae:0.054388\n",
      "[755]\teval-mae:0.057927\ttrain-mae:0.054383\n",
      "[756]\teval-mae:0.057927\ttrain-mae:0.054378\n",
      "[757]\teval-mae:0.057927\ttrain-mae:0.054375\n",
      "[758]\teval-mae:0.057926\ttrain-mae:0.05437\n",
      "[759]\teval-mae:0.057925\ttrain-mae:0.054365\n",
      "[760]\teval-mae:0.057925\ttrain-mae:0.054361\n",
      "[761]\teval-mae:0.057924\ttrain-mae:0.054357\n",
      "[762]\teval-mae:0.057925\ttrain-mae:0.054354\n",
      "[763]\teval-mae:0.057924\ttrain-mae:0.054349\n",
      "[764]\teval-mae:0.057924\ttrain-mae:0.054345\n",
      "[765]\teval-mae:0.057924\ttrain-mae:0.054341\n",
      "[766]\teval-mae:0.057922\ttrain-mae:0.054337\n",
      "[767]\teval-mae:0.057922\ttrain-mae:0.054332\n",
      "[768]\teval-mae:0.057922\ttrain-mae:0.054328\n",
      "[769]\teval-mae:0.057922\ttrain-mae:0.054325\n",
      "[770]\teval-mae:0.057923\ttrain-mae:0.054322\n",
      "[771]\teval-mae:0.057923\ttrain-mae:0.054318\n",
      "[772]\teval-mae:0.057922\ttrain-mae:0.054314\n",
      "[773]\teval-mae:0.057923\ttrain-mae:0.05431\n",
      "[774]\teval-mae:0.057924\ttrain-mae:0.054305\n",
      "[775]\teval-mae:0.057924\ttrain-mae:0.054301\n",
      "[776]\teval-mae:0.057924\ttrain-mae:0.054296\n",
      "[777]\teval-mae:0.057924\ttrain-mae:0.054292\n",
      "[778]\teval-mae:0.057924\ttrain-mae:0.054287\n",
      "[779]\teval-mae:0.057925\ttrain-mae:0.054283\n",
      "[780]\teval-mae:0.057924\ttrain-mae:0.054278\n",
      "[781]\teval-mae:0.057924\ttrain-mae:0.054274\n",
      "[782]\teval-mae:0.057923\ttrain-mae:0.05427\n",
      "[783]\teval-mae:0.057922\ttrain-mae:0.054265\n",
      "[784]\teval-mae:0.05792\ttrain-mae:0.054261\n",
      "[785]\teval-mae:0.057919\ttrain-mae:0.054254\n",
      "[786]\teval-mae:0.057919\ttrain-mae:0.05425\n",
      "[787]\teval-mae:0.057919\ttrain-mae:0.054246\n",
      "[788]\teval-mae:0.057921\ttrain-mae:0.054242\n",
      "[789]\teval-mae:0.057919\ttrain-mae:0.054238\n",
      "[790]\teval-mae:0.057918\ttrain-mae:0.054235\n",
      "[791]\teval-mae:0.057918\ttrain-mae:0.054231\n",
      "[792]\teval-mae:0.057918\ttrain-mae:0.054227\n",
      "[793]\teval-mae:0.057918\ttrain-mae:0.054223\n",
      "[794]\teval-mae:0.057917\ttrain-mae:0.054218\n",
      "[795]\teval-mae:0.057916\ttrain-mae:0.054213\n",
      "[796]\teval-mae:0.057916\ttrain-mae:0.054209\n",
      "[797]\teval-mae:0.057914\ttrain-mae:0.054203\n",
      "[798]\teval-mae:0.057913\ttrain-mae:0.0542\n",
      "[799]\teval-mae:0.057912\ttrain-mae:0.054196\n",
      "[800]\teval-mae:0.057911\ttrain-mae:0.054192\n",
      "[801]\teval-mae:0.057912\ttrain-mae:0.054188\n",
      "[802]\teval-mae:0.05791\ttrain-mae:0.054184\n",
      "[803]\teval-mae:0.05791\ttrain-mae:0.05418\n",
      "[804]\teval-mae:0.057909\ttrain-mae:0.054175\n",
      "[805]\teval-mae:0.05791\ttrain-mae:0.054172\n",
      "[806]\teval-mae:0.05791\ttrain-mae:0.054168\n",
      "[807]\teval-mae:0.057909\ttrain-mae:0.054163\n",
      "[808]\teval-mae:0.05791\ttrain-mae:0.05416\n",
      "[809]\teval-mae:0.05791\ttrain-mae:0.054156\n",
      "[810]\teval-mae:0.05791\ttrain-mae:0.054152\n",
      "[811]\teval-mae:0.05791\ttrain-mae:0.054147\n",
      "[812]\teval-mae:0.05791\ttrain-mae:0.054142\n",
      "[813]\teval-mae:0.057909\ttrain-mae:0.054137\n",
      "[814]\teval-mae:0.05791\ttrain-mae:0.054133\n",
      "[815]\teval-mae:0.05791\ttrain-mae:0.054128\n",
      "[816]\teval-mae:0.05791\ttrain-mae:0.054124\n",
      "[817]\teval-mae:0.05791\ttrain-mae:0.05412\n",
      "[818]\teval-mae:0.05791\ttrain-mae:0.054115\n",
      "[819]\teval-mae:0.05791\ttrain-mae:0.054112\n",
      "[820]\teval-mae:0.057909\ttrain-mae:0.054108\n",
      "[821]\teval-mae:0.057909\ttrain-mae:0.054103\n",
      "[822]\teval-mae:0.057908\ttrain-mae:0.054098\n",
      "[823]\teval-mae:0.057908\ttrain-mae:0.054093\n",
      "[824]\teval-mae:0.057909\ttrain-mae:0.054091\n",
      "[825]\teval-mae:0.057908\ttrain-mae:0.054087\n",
      "[826]\teval-mae:0.057907\ttrain-mae:0.054084\n",
      "[827]\teval-mae:0.057906\ttrain-mae:0.054077\n",
      "[828]\teval-mae:0.057905\ttrain-mae:0.054074\n",
      "[829]\teval-mae:0.057904\ttrain-mae:0.054069\n",
      "[830]\teval-mae:0.057904\ttrain-mae:0.054065\n",
      "[831]\teval-mae:0.057901\ttrain-mae:0.05406\n",
      "[832]\teval-mae:0.0579\ttrain-mae:0.054057\n",
      "[833]\teval-mae:0.0579\ttrain-mae:0.054053\n",
      "[834]\teval-mae:0.057902\ttrain-mae:0.054048\n",
      "[835]\teval-mae:0.057902\ttrain-mae:0.054043\n",
      "[836]\teval-mae:0.057901\ttrain-mae:0.054037\n",
      "[837]\teval-mae:0.057901\ttrain-mae:0.054035\n",
      "[838]\teval-mae:0.057901\ttrain-mae:0.054031\n",
      "[839]\teval-mae:0.057901\ttrain-mae:0.054026\n",
      "[840]\teval-mae:0.057901\ttrain-mae:0.054023\n",
      "[841]\teval-mae:0.057899\ttrain-mae:0.054019\n",
      "[842]\teval-mae:0.057898\ttrain-mae:0.054015\n",
      "[843]\teval-mae:0.057898\ttrain-mae:0.054012\n",
      "[844]\teval-mae:0.057897\ttrain-mae:0.054007\n",
      "[845]\teval-mae:0.057898\ttrain-mae:0.054004\n",
      "[846]\teval-mae:0.057898\ttrain-mae:0.054\n",
      "[847]\teval-mae:0.057898\ttrain-mae:0.053996\n",
      "[848]\teval-mae:0.057896\ttrain-mae:0.05399\n",
      "[849]\teval-mae:0.057896\ttrain-mae:0.053986\n",
      "[850]\teval-mae:0.057896\ttrain-mae:0.053982\n",
      "[851]\teval-mae:0.057897\ttrain-mae:0.05398\n",
      "[852]\teval-mae:0.057896\ttrain-mae:0.053976\n",
      "[853]\teval-mae:0.057894\ttrain-mae:0.053972\n",
      "[854]\teval-mae:0.057894\ttrain-mae:0.053967\n",
      "[855]\teval-mae:0.057895\ttrain-mae:0.053964\n",
      "[856]\teval-mae:0.057895\ttrain-mae:0.05396\n",
      "[857]\teval-mae:0.057896\ttrain-mae:0.053956\n",
      "[858]\teval-mae:0.057897\ttrain-mae:0.053952\n",
      "[859]\teval-mae:0.057898\ttrain-mae:0.053949\n",
      "[860]\teval-mae:0.057899\ttrain-mae:0.053946\n",
      "[861]\teval-mae:0.057898\ttrain-mae:0.053942\n",
      "[862]\teval-mae:0.057897\ttrain-mae:0.053937\n",
      "[863]\teval-mae:0.057897\ttrain-mae:0.053934\n",
      "[864]\teval-mae:0.057896\ttrain-mae:0.053929\n",
      "[865]\teval-mae:0.057896\ttrain-mae:0.053927\n",
      "[866]\teval-mae:0.057896\ttrain-mae:0.053923\n",
      "[867]\teval-mae:0.057896\ttrain-mae:0.05392\n",
      "[868]\teval-mae:0.057894\ttrain-mae:0.053917\n",
      "[869]\teval-mae:0.057893\ttrain-mae:0.053913\n",
      "[870]\teval-mae:0.057892\ttrain-mae:0.053908\n",
      "[871]\teval-mae:0.057892\ttrain-mae:0.053905\n",
      "[872]\teval-mae:0.057893\ttrain-mae:0.053901\n",
      "[873]\teval-mae:0.057894\ttrain-mae:0.053897\n",
      "[874]\teval-mae:0.057894\ttrain-mae:0.053894\n",
      "[875]\teval-mae:0.057894\ttrain-mae:0.05389\n",
      "[876]\teval-mae:0.057894\ttrain-mae:0.053886\n",
      "[877]\teval-mae:0.057893\ttrain-mae:0.053883\n",
      "[878]\teval-mae:0.057893\ttrain-mae:0.053879\n",
      "[879]\teval-mae:0.057893\ttrain-mae:0.053876\n",
      "[880]\teval-mae:0.057893\ttrain-mae:0.053872\n",
      "[881]\teval-mae:0.057894\ttrain-mae:0.053869\n",
      "[882]\teval-mae:0.057893\ttrain-mae:0.053865\n",
      "[883]\teval-mae:0.057892\ttrain-mae:0.053861\n",
      "[884]\teval-mae:0.057893\ttrain-mae:0.053859\n",
      "[885]\teval-mae:0.057892\ttrain-mae:0.053855\n",
      "[886]\teval-mae:0.057894\ttrain-mae:0.053851\n",
      "[887]\teval-mae:0.057892\ttrain-mae:0.053847\n",
      "[888]\teval-mae:0.057893\ttrain-mae:0.053843\n",
      "[889]\teval-mae:0.057893\ttrain-mae:0.05384\n",
      "[890]\teval-mae:0.057892\ttrain-mae:0.053836\n",
      "[891]\teval-mae:0.057892\ttrain-mae:0.053831\n",
      "[892]\teval-mae:0.057892\ttrain-mae:0.053827\n",
      "[893]\teval-mae:0.057892\ttrain-mae:0.053824\n",
      "[894]\teval-mae:0.057891\ttrain-mae:0.053821\n",
      "[895]\teval-mae:0.05789\ttrain-mae:0.053818\n",
      "[896]\teval-mae:0.05789\ttrain-mae:0.053814\n",
      "[897]\teval-mae:0.057891\ttrain-mae:0.053808\n",
      "[898]\teval-mae:0.05789\ttrain-mae:0.053806\n",
      "[899]\teval-mae:0.05789\ttrain-mae:0.0538\n",
      "[900]\teval-mae:0.05789\ttrain-mae:0.053795\n",
      "[901]\teval-mae:0.057888\ttrain-mae:0.05379\n",
      "[902]\teval-mae:0.057887\ttrain-mae:0.053787\n",
      "[903]\teval-mae:0.057888\ttrain-mae:0.053783\n",
      "[904]\teval-mae:0.057888\ttrain-mae:0.053779\n",
      "[905]\teval-mae:0.057889\ttrain-mae:0.053775\n",
      "[906]\teval-mae:0.05789\ttrain-mae:0.053771\n",
      "[907]\teval-mae:0.057891\ttrain-mae:0.053768\n",
      "[908]\teval-mae:0.05789\ttrain-mae:0.053763\n",
      "[909]\teval-mae:0.057888\ttrain-mae:0.053758\n",
      "[910]\teval-mae:0.057888\ttrain-mae:0.053754\n",
      "[911]\teval-mae:0.057887\ttrain-mae:0.05375\n",
      "[912]\teval-mae:0.057888\ttrain-mae:0.053746\n",
      "[913]\teval-mae:0.057888\ttrain-mae:0.053742\n",
      "[914]\teval-mae:0.057887\ttrain-mae:0.053737\n",
      "[915]\teval-mae:0.057886\ttrain-mae:0.053734\n",
      "[916]\teval-mae:0.057887\ttrain-mae:0.053731\n",
      "[917]\teval-mae:0.057887\ttrain-mae:0.053727\n",
      "[918]\teval-mae:0.057887\ttrain-mae:0.053724\n",
      "[919]\teval-mae:0.057886\ttrain-mae:0.053722\n",
      "[920]\teval-mae:0.057886\ttrain-mae:0.053717\n",
      "[921]\teval-mae:0.057885\ttrain-mae:0.053713\n",
      "[922]\teval-mae:0.057885\ttrain-mae:0.053709\n",
      "[923]\teval-mae:0.057885\ttrain-mae:0.053705\n",
      "[924]\teval-mae:0.057885\ttrain-mae:0.053701\n",
      "[925]\teval-mae:0.057885\ttrain-mae:0.053697\n",
      "[926]\teval-mae:0.057886\ttrain-mae:0.053692\n",
      "[927]\teval-mae:0.057885\ttrain-mae:0.053688\n",
      "[928]\teval-mae:0.057884\ttrain-mae:0.053685\n",
      "[929]\teval-mae:0.057885\ttrain-mae:0.05368\n",
      "[930]\teval-mae:0.057885\ttrain-mae:0.053678\n",
      "[931]\teval-mae:0.057885\ttrain-mae:0.053674\n",
      "[932]\teval-mae:0.057884\ttrain-mae:0.053672\n",
      "[933]\teval-mae:0.057883\ttrain-mae:0.053668\n",
      "[934]\teval-mae:0.057884\ttrain-mae:0.053664\n",
      "[935]\teval-mae:0.057883\ttrain-mae:0.05366\n",
      "[936]\teval-mae:0.057882\ttrain-mae:0.053656\n",
      "[937]\teval-mae:0.057883\ttrain-mae:0.053653\n",
      "[938]\teval-mae:0.057882\ttrain-mae:0.053648\n",
      "[939]\teval-mae:0.057881\ttrain-mae:0.053645\n",
      "[940]\teval-mae:0.057882\ttrain-mae:0.05364\n",
      "[941]\teval-mae:0.057882\ttrain-mae:0.053637\n",
      "[942]\teval-mae:0.057882\ttrain-mae:0.053634\n",
      "[943]\teval-mae:0.05788\ttrain-mae:0.05363\n",
      "[944]\teval-mae:0.05788\ttrain-mae:0.053625\n",
      "[945]\teval-mae:0.05788\ttrain-mae:0.05362\n",
      "[946]\teval-mae:0.05788\ttrain-mae:0.053616\n",
      "[947]\teval-mae:0.057881\ttrain-mae:0.053613\n",
      "[948]\teval-mae:0.057882\ttrain-mae:0.05361\n",
      "[949]\teval-mae:0.057883\ttrain-mae:0.053606\n",
      "[950]\teval-mae:0.057883\ttrain-mae:0.053603\n",
      "[951]\teval-mae:0.057884\ttrain-mae:0.053596\n",
      "[952]\teval-mae:0.057883\ttrain-mae:0.053593\n",
      "[953]\teval-mae:0.057884\ttrain-mae:0.053588\n",
      "[954]\teval-mae:0.057882\ttrain-mae:0.053584\n",
      "[955]\teval-mae:0.057883\ttrain-mae:0.05358\n",
      "[956]\teval-mae:0.057882\ttrain-mae:0.053577\n",
      "[957]\teval-mae:0.057881\ttrain-mae:0.053572\n",
      "[958]\teval-mae:0.05788\ttrain-mae:0.053566\n",
      "[959]\teval-mae:0.057879\ttrain-mae:0.053563\n",
      "[960]\teval-mae:0.057879\ttrain-mae:0.053561\n",
      "[961]\teval-mae:0.057879\ttrain-mae:0.053558\n",
      "[962]\teval-mae:0.057878\ttrain-mae:0.053554\n",
      "[963]\teval-mae:0.057877\ttrain-mae:0.05355\n",
      "[964]\teval-mae:0.057877\ttrain-mae:0.053545\n",
      "[965]\teval-mae:0.057878\ttrain-mae:0.053541\n",
      "[966]\teval-mae:0.057878\ttrain-mae:0.053539\n",
      "[967]\teval-mae:0.057878\ttrain-mae:0.053536\n",
      "[968]\teval-mae:0.057878\ttrain-mae:0.053533\n",
      "[969]\teval-mae:0.057877\ttrain-mae:0.05353\n",
      "[970]\teval-mae:0.057876\ttrain-mae:0.053526\n",
      "[971]\teval-mae:0.057875\ttrain-mae:0.053522\n",
      "[972]\teval-mae:0.057875\ttrain-mae:0.053518\n",
      "[973]\teval-mae:0.057876\ttrain-mae:0.053514\n",
      "[974]\teval-mae:0.057877\ttrain-mae:0.05351\n",
      "[975]\teval-mae:0.057877\ttrain-mae:0.053508\n",
      "[976]\teval-mae:0.057876\ttrain-mae:0.053504\n",
      "[977]\teval-mae:0.057876\ttrain-mae:0.053501\n",
      "[978]\teval-mae:0.057876\ttrain-mae:0.053497\n",
      "[979]\teval-mae:0.057875\ttrain-mae:0.053492\n",
      "[980]\teval-mae:0.057876\ttrain-mae:0.053489\n",
      "[981]\teval-mae:0.057876\ttrain-mae:0.053485\n",
      "[982]\teval-mae:0.057875\ttrain-mae:0.053482\n",
      "[983]\teval-mae:0.057876\ttrain-mae:0.053478\n",
      "[984]\teval-mae:0.057876\ttrain-mae:0.053475\n",
      "[985]\teval-mae:0.057875\ttrain-mae:0.05347\n",
      "[986]\teval-mae:0.057876\ttrain-mae:0.053466\n",
      "[987]\teval-mae:0.057875\ttrain-mae:0.053463\n",
      "[988]\teval-mae:0.057874\ttrain-mae:0.05346\n",
      "[989]\teval-mae:0.057874\ttrain-mae:0.053457\n",
      "[990]\teval-mae:0.057874\ttrain-mae:0.053453\n",
      "[991]\teval-mae:0.057873\ttrain-mae:0.053451\n",
      "[992]\teval-mae:0.057874\ttrain-mae:0.053447\n",
      "[993]\teval-mae:0.057873\ttrain-mae:0.053444\n",
      "[994]\teval-mae:0.057872\ttrain-mae:0.05344\n",
      "[995]\teval-mae:0.057873\ttrain-mae:0.053435\n",
      "[996]\teval-mae:0.057874\ttrain-mae:0.053432\n",
      "[997]\teval-mae:0.057873\ttrain-mae:0.053429\n",
      "[998]\teval-mae:0.057874\ttrain-mae:0.053425\n",
      "[999]\teval-mae:0.057876\ttrain-mae:0.053421\n",
      "[1000]\teval-mae:0.057874\ttrain-mae:0.053417\n",
      "[1001]\teval-mae:0.057876\ttrain-mae:0.053414\n",
      "[1002]\teval-mae:0.057875\ttrain-mae:0.05341\n",
      "[1003]\teval-mae:0.057876\ttrain-mae:0.053406\n",
      "[1004]\teval-mae:0.057877\ttrain-mae:0.053402\n",
      "[1005]\teval-mae:0.057876\ttrain-mae:0.053398\n",
      "[1006]\teval-mae:0.057875\ttrain-mae:0.053394\n",
      "[1007]\teval-mae:0.057874\ttrain-mae:0.053389\n",
      "[1008]\teval-mae:0.057874\ttrain-mae:0.053384\n",
      "[1009]\teval-mae:0.057875\ttrain-mae:0.05338\n",
      "[1010]\teval-mae:0.057872\ttrain-mae:0.053373\n",
      "[1011]\teval-mae:0.057872\ttrain-mae:0.053369\n",
      "[1012]\teval-mae:0.057872\ttrain-mae:0.053364\n",
      "[1013]\teval-mae:0.057872\ttrain-mae:0.053361\n",
      "[1014]\teval-mae:0.057872\ttrain-mae:0.053359\n",
      "[1015]\teval-mae:0.057872\ttrain-mae:0.053355\n",
      "[1016]\teval-mae:0.057873\ttrain-mae:0.053352\n",
      "[1017]\teval-mae:0.057872\ttrain-mae:0.053349\n",
      "[1018]\teval-mae:0.057872\ttrain-mae:0.053345\n",
      "[1019]\teval-mae:0.057872\ttrain-mae:0.053341\n",
      "[1020]\teval-mae:0.057871\ttrain-mae:0.053337\n",
      "[1021]\teval-mae:0.057872\ttrain-mae:0.053333\n",
      "[1022]\teval-mae:0.057872\ttrain-mae:0.053329\n",
      "[1023]\teval-mae:0.057872\ttrain-mae:0.053327\n",
      "[1024]\teval-mae:0.05787\ttrain-mae:0.053323\n",
      "[1025]\teval-mae:0.057871\ttrain-mae:0.05332\n",
      "[1026]\teval-mae:0.057871\ttrain-mae:0.053316\n",
      "[1027]\teval-mae:0.057872\ttrain-mae:0.053313\n",
      "[1028]\teval-mae:0.057871\ttrain-mae:0.053308\n",
      "[1029]\teval-mae:0.057871\ttrain-mae:0.053305\n",
      "[1030]\teval-mae:0.05787\ttrain-mae:0.053302\n",
      "[1031]\teval-mae:0.057871\ttrain-mae:0.053298\n",
      "[1032]\teval-mae:0.05787\ttrain-mae:0.053295\n",
      "[1033]\teval-mae:0.05787\ttrain-mae:0.053292\n",
      "[1034]\teval-mae:0.05787\ttrain-mae:0.053288\n",
      "[1035]\teval-mae:0.05787\ttrain-mae:0.053285\n",
      "[1036]\teval-mae:0.057871\ttrain-mae:0.053282\n",
      "[1037]\teval-mae:0.05787\ttrain-mae:0.053279\n",
      "[1038]\teval-mae:0.05787\ttrain-mae:0.053275\n",
      "[1039]\teval-mae:0.05787\ttrain-mae:0.053272\n",
      "[1040]\teval-mae:0.05787\ttrain-mae:0.053267\n",
      "[1041]\teval-mae:0.057869\ttrain-mae:0.053264\n",
      "[1042]\teval-mae:0.057868\ttrain-mae:0.053261\n",
      "[1043]\teval-mae:0.057868\ttrain-mae:0.053258\n",
      "[1044]\teval-mae:0.057868\ttrain-mae:0.053254\n",
      "[1045]\teval-mae:0.057868\ttrain-mae:0.05325\n",
      "[1046]\teval-mae:0.057868\ttrain-mae:0.053247\n",
      "[1047]\teval-mae:0.057869\ttrain-mae:0.053242\n",
      "[1048]\teval-mae:0.057869\ttrain-mae:0.053239\n",
      "[1049]\teval-mae:0.057869\ttrain-mae:0.053235\n",
      "[1050]\teval-mae:0.057868\ttrain-mae:0.053231\n",
      "[1051]\teval-mae:0.057868\ttrain-mae:0.053228\n",
      "[1052]\teval-mae:0.057869\ttrain-mae:0.053224\n",
      "[1053]\teval-mae:0.057868\ttrain-mae:0.053221\n",
      "[1054]\teval-mae:0.057869\ttrain-mae:0.053218\n",
      "[1055]\teval-mae:0.057868\ttrain-mae:0.053214\n",
      "[1056]\teval-mae:0.05787\ttrain-mae:0.05321\n",
      "[1057]\teval-mae:0.057869\ttrain-mae:0.053206\n",
      "[1058]\teval-mae:0.057867\ttrain-mae:0.053201\n",
      "[1059]\teval-mae:0.057869\ttrain-mae:0.053198\n",
      "[1060]\teval-mae:0.057868\ttrain-mae:0.053195\n",
      "[1061]\teval-mae:0.057868\ttrain-mae:0.053192\n",
      "[1062]\teval-mae:0.057869\ttrain-mae:0.053188\n",
      "[1063]\teval-mae:0.057869\ttrain-mae:0.053186\n",
      "[1064]\teval-mae:0.05787\ttrain-mae:0.053184\n",
      "[1065]\teval-mae:0.057871\ttrain-mae:0.053179\n",
      "[1066]\teval-mae:0.057871\ttrain-mae:0.053177\n",
      "[1067]\teval-mae:0.05787\ttrain-mae:0.053174\n",
      "[1068]\teval-mae:0.057871\ttrain-mae:0.05317\n",
      "[1069]\teval-mae:0.057869\ttrain-mae:0.053166\n",
      "[1070]\teval-mae:0.057869\ttrain-mae:0.053161\n",
      "[1071]\teval-mae:0.057868\ttrain-mae:0.053158\n",
      "[1072]\teval-mae:0.057867\ttrain-mae:0.053155\n",
      "[1073]\teval-mae:0.057867\ttrain-mae:0.053151\n",
      "[1074]\teval-mae:0.057868\ttrain-mae:0.053148\n",
      "[1075]\teval-mae:0.057867\ttrain-mae:0.053144\n",
      "[1076]\teval-mae:0.057867\ttrain-mae:0.053142\n",
      "[1077]\teval-mae:0.057868\ttrain-mae:0.053137\n",
      "[1078]\teval-mae:0.057868\ttrain-mae:0.053134\n",
      "[1079]\teval-mae:0.057868\ttrain-mae:0.053131\n",
      "[1080]\teval-mae:0.057867\ttrain-mae:0.053127\n",
      "[1081]\teval-mae:0.057868\ttrain-mae:0.053125\n",
      "[1082]\teval-mae:0.057866\ttrain-mae:0.05312\n",
      "[1083]\teval-mae:0.057866\ttrain-mae:0.053118\n",
      "[1084]\teval-mae:0.057867\ttrain-mae:0.053114\n",
      "[1085]\teval-mae:0.057868\ttrain-mae:0.053111\n",
      "[1086]\teval-mae:0.057867\ttrain-mae:0.053108\n",
      "[1087]\teval-mae:0.057868\ttrain-mae:0.053105\n",
      "[1088]\teval-mae:0.057867\ttrain-mae:0.053101\n",
      "[1089]\teval-mae:0.057868\ttrain-mae:0.053097\n",
      "[1090]\teval-mae:0.057868\ttrain-mae:0.053092\n",
      "[1091]\teval-mae:0.057869\ttrain-mae:0.053088\n",
      "[1092]\teval-mae:0.057868\ttrain-mae:0.053083\n",
      "[1093]\teval-mae:0.057868\ttrain-mae:0.053079\n",
      "[1094]\teval-mae:0.057868\ttrain-mae:0.053074\n",
      "[1095]\teval-mae:0.057869\ttrain-mae:0.053072\n",
      "[1096]\teval-mae:0.057869\ttrain-mae:0.053067\n",
      "[1097]\teval-mae:0.057868\ttrain-mae:0.053063\n",
      "[1098]\teval-mae:0.05787\ttrain-mae:0.053061\n",
      "[1099]\teval-mae:0.057869\ttrain-mae:0.053056\n",
      "[1100]\teval-mae:0.057869\ttrain-mae:0.053053\n",
      "[1101]\teval-mae:0.057869\ttrain-mae:0.053049\n",
      "[1102]\teval-mae:0.057869\ttrain-mae:0.053047\n",
      "[1103]\teval-mae:0.057869\ttrain-mae:0.053043\n",
      "[1104]\teval-mae:0.057868\ttrain-mae:0.053039\n",
      "[1105]\teval-mae:0.057869\ttrain-mae:0.053035\n",
      "[1106]\teval-mae:0.057869\ttrain-mae:0.053031\n",
      "[1107]\teval-mae:0.05787\ttrain-mae:0.053028\n",
      "[1108]\teval-mae:0.057871\ttrain-mae:0.053024\n",
      "[1109]\teval-mae:0.057871\ttrain-mae:0.053021\n",
      "[1110]\teval-mae:0.057871\ttrain-mae:0.053019\n",
      "[1111]\teval-mae:0.057871\ttrain-mae:0.053015\n",
      "[1112]\teval-mae:0.057872\ttrain-mae:0.053011\n",
      "[1113]\teval-mae:0.057872\ttrain-mae:0.053007\n",
      "[1114]\teval-mae:0.057871\ttrain-mae:0.053003\n",
      "[1115]\teval-mae:0.057872\ttrain-mae:0.053\n",
      "[1116]\teval-mae:0.05787\ttrain-mae:0.052994\n",
      "[1117]\teval-mae:0.057871\ttrain-mae:0.05299\n",
      "[1118]\teval-mae:0.057871\ttrain-mae:0.052987\n",
      "[1119]\teval-mae:0.057872\ttrain-mae:0.052983\n",
      "[1120]\teval-mae:0.057873\ttrain-mae:0.05298\n",
      "[1121]\teval-mae:0.057874\ttrain-mae:0.052977\n",
      "[1122]\teval-mae:0.057873\ttrain-mae:0.052974\n",
      "[1123]\teval-mae:0.057873\ttrain-mae:0.052968\n",
      "[1124]\teval-mae:0.057873\ttrain-mae:0.052965\n",
      "[1125]\teval-mae:0.057873\ttrain-mae:0.052962\n",
      "[1126]\teval-mae:0.057873\ttrain-mae:0.052958\n",
      "[1127]\teval-mae:0.057872\ttrain-mae:0.052954\n",
      "[1128]\teval-mae:0.057872\ttrain-mae:0.052951\n",
      "[1129]\teval-mae:0.057872\ttrain-mae:0.052948\n",
      "[1130]\teval-mae:0.057872\ttrain-mae:0.052944\n",
      "[1131]\teval-mae:0.057872\ttrain-mae:0.052941\n",
      "[1132]\teval-mae:0.057871\ttrain-mae:0.052936\n",
      "[1133]\teval-mae:0.057871\ttrain-mae:0.052933\n",
      "[1134]\teval-mae:0.057871\ttrain-mae:0.05293\n",
      "[1135]\teval-mae:0.057871\ttrain-mae:0.052926\n",
      "[1136]\teval-mae:0.057872\ttrain-mae:0.052923\n",
      "[1137]\teval-mae:0.057873\ttrain-mae:0.052919\n",
      "[1138]\teval-mae:0.057874\ttrain-mae:0.052916\n",
      "[1139]\teval-mae:0.057873\ttrain-mae:0.052913\n",
      "[1140]\teval-mae:0.057873\ttrain-mae:0.052909\n",
      "[1141]\teval-mae:0.057872\ttrain-mae:0.052906\n",
      "[1142]\teval-mae:0.057872\ttrain-mae:0.052903\n",
      "[1143]\teval-mae:0.057874\ttrain-mae:0.052899\n",
      "[1144]\teval-mae:0.057873\ttrain-mae:0.052895\n",
      "[1145]\teval-mae:0.057872\ttrain-mae:0.052892\n",
      "[1146]\teval-mae:0.057873\ttrain-mae:0.052888\n",
      "[1147]\teval-mae:0.057872\ttrain-mae:0.052884\n",
      "[1148]\teval-mae:0.057872\ttrain-mae:0.05288\n",
      "[1149]\teval-mae:0.057872\ttrain-mae:0.052877\n",
      "[1150]\teval-mae:0.057873\ttrain-mae:0.052873\n",
      "[1151]\teval-mae:0.057872\ttrain-mae:0.052869\n",
      "[1152]\teval-mae:0.057873\ttrain-mae:0.052866\n",
      "[1153]\teval-mae:0.057872\ttrain-mae:0.052863\n",
      "[1154]\teval-mae:0.057871\ttrain-mae:0.052861\n",
      "[1155]\teval-mae:0.057871\ttrain-mae:0.052858\n",
      "[1156]\teval-mae:0.057871\ttrain-mae:0.052854\n",
      "[1157]\teval-mae:0.057872\ttrain-mae:0.052851\n",
      "[1158]\teval-mae:0.057873\ttrain-mae:0.052847\n",
      "[1159]\teval-mae:0.057874\ttrain-mae:0.052843\n",
      "[1160]\teval-mae:0.057874\ttrain-mae:0.052841\n",
      "[1161]\teval-mae:0.057876\ttrain-mae:0.052837\n",
      "[1162]\teval-mae:0.057876\ttrain-mae:0.052833\n",
      "[1163]\teval-mae:0.057877\ttrain-mae:0.052831\n",
      "[1164]\teval-mae:0.057878\ttrain-mae:0.052828\n",
      "[1165]\teval-mae:0.057877\ttrain-mae:0.052825\n",
      "[1166]\teval-mae:0.057877\ttrain-mae:0.052822\n",
      "[1167]\teval-mae:0.057879\ttrain-mae:0.052819\n",
      "[1168]\teval-mae:0.057879\ttrain-mae:0.052816\n",
      "[1169]\teval-mae:0.05788\ttrain-mae:0.052813\n",
      "[1170]\teval-mae:0.057879\ttrain-mae:0.05281\n",
      "[1171]\teval-mae:0.057879\ttrain-mae:0.052806\n",
      "[1172]\teval-mae:0.057879\ttrain-mae:0.052802\n",
      "[1173]\teval-mae:0.057878\ttrain-mae:0.0528\n",
      "[1174]\teval-mae:0.057879\ttrain-mae:0.052796\n",
      "[1175]\teval-mae:0.05788\ttrain-mae:0.052793\n",
      "[1176]\teval-mae:0.057879\ttrain-mae:0.052789\n",
      "[1177]\teval-mae:0.057879\ttrain-mae:0.052785\n",
      "[1178]\teval-mae:0.057879\ttrain-mae:0.05278\n",
      "[1179]\teval-mae:0.057879\ttrain-mae:0.052777\n",
      "[1180]\teval-mae:0.057879\ttrain-mae:0.052774\n",
      "[1181]\teval-mae:0.057878\ttrain-mae:0.052771\n",
      "[1182]\teval-mae:0.057879\ttrain-mae:0.052768\n",
      "[1183]\teval-mae:0.057879\ttrain-mae:0.052766\n",
      "[1184]\teval-mae:0.057879\ttrain-mae:0.052762\n",
      "[1185]\teval-mae:0.057879\ttrain-mae:0.05276\n",
      "[1186]\teval-mae:0.05788\ttrain-mae:0.052756\n",
      "[1187]\teval-mae:0.05788\ttrain-mae:0.052753\n",
      "[1188]\teval-mae:0.05788\ttrain-mae:0.052749\n",
      "[1189]\teval-mae:0.057879\ttrain-mae:0.052746\n",
      "[1190]\teval-mae:0.057878\ttrain-mae:0.052743\n",
      "[1191]\teval-mae:0.057878\ttrain-mae:0.05274\n",
      "[1192]\teval-mae:0.057878\ttrain-mae:0.052736\n",
      "[1193]\teval-mae:0.057878\ttrain-mae:0.052733\n",
      "[1194]\teval-mae:0.057878\ttrain-mae:0.052731\n",
      "[1195]\teval-mae:0.057876\ttrain-mae:0.052727\n",
      "[1196]\teval-mae:0.057877\ttrain-mae:0.052726\n",
      "[1197]\teval-mae:0.057876\ttrain-mae:0.052724\n",
      "[1198]\teval-mae:0.057876\ttrain-mae:0.05272\n",
      "[1199]\teval-mae:0.057877\ttrain-mae:0.052717\n",
      "[1200]\teval-mae:0.057878\ttrain-mae:0.052714\n",
      "[1201]\teval-mae:0.057877\ttrain-mae:0.052711\n",
      "[1202]\teval-mae:0.057879\ttrain-mae:0.052707\n",
      "[1203]\teval-mae:0.057879\ttrain-mae:0.052703\n",
      "[1204]\teval-mae:0.057879\ttrain-mae:0.052699\n",
      "[1205]\teval-mae:0.057878\ttrain-mae:0.052696\n",
      "[1206]\teval-mae:0.057878\ttrain-mae:0.052693\n",
      "[1207]\teval-mae:0.057878\ttrain-mae:0.05269\n",
      "[1208]\teval-mae:0.057877\ttrain-mae:0.052686\n",
      "[1209]\teval-mae:0.057878\ttrain-mae:0.052683\n",
      "[1210]\teval-mae:0.057877\ttrain-mae:0.052679\n",
      "[1211]\teval-mae:0.057876\ttrain-mae:0.052676\n",
      "[1212]\teval-mae:0.057875\ttrain-mae:0.052672\n",
      "[1213]\teval-mae:0.057876\ttrain-mae:0.052669\n",
      "[1214]\teval-mae:0.057876\ttrain-mae:0.052665\n",
      "[1215]\teval-mae:0.057877\ttrain-mae:0.052662\n",
      "[1216]\teval-mae:0.057877\ttrain-mae:0.052657\n",
      "[1217]\teval-mae:0.057876\ttrain-mae:0.052654\n",
      "[1218]\teval-mae:0.057876\ttrain-mae:0.05265\n",
      "[1219]\teval-mae:0.057875\ttrain-mae:0.052646\n",
      "[1220]\teval-mae:0.057875\ttrain-mae:0.052645\n",
      "[1221]\teval-mae:0.057874\ttrain-mae:0.05264\n",
      "[1222]\teval-mae:0.057875\ttrain-mae:0.052637\n",
      "[1223]\teval-mae:0.057875\ttrain-mae:0.052633\n",
      "[1224]\teval-mae:0.057875\ttrain-mae:0.05263\n",
      "[1225]\teval-mae:0.057876\ttrain-mae:0.052628\n",
      "[1226]\teval-mae:0.057877\ttrain-mae:0.052625\n",
      "[1227]\teval-mae:0.057877\ttrain-mae:0.052622\n",
      "[1228]\teval-mae:0.057878\ttrain-mae:0.052617\n",
      "[1229]\teval-mae:0.05788\ttrain-mae:0.052613\n",
      "[1230]\teval-mae:0.05788\ttrain-mae:0.05261\n",
      "[1231]\teval-mae:0.057879\ttrain-mae:0.052607\n",
      "[1232]\teval-mae:0.057878\ttrain-mae:0.052602\n",
      "[1233]\teval-mae:0.057878\ttrain-mae:0.052598\n",
      "[1234]\teval-mae:0.057878\ttrain-mae:0.052594\n",
      "[1235]\teval-mae:0.057879\ttrain-mae:0.052591\n",
      "[1236]\teval-mae:0.057879\ttrain-mae:0.052588\n",
      "[1237]\teval-mae:0.057879\ttrain-mae:0.052585\n",
      "[1238]\teval-mae:0.05788\ttrain-mae:0.052582\n",
      "[1239]\teval-mae:0.057881\ttrain-mae:0.052579\n",
      "[1240]\teval-mae:0.05788\ttrain-mae:0.052575\n",
      "[1241]\teval-mae:0.057879\ttrain-mae:0.052571\n",
      "[1242]\teval-mae:0.057879\ttrain-mae:0.052567\n",
      "[1243]\teval-mae:0.057878\ttrain-mae:0.052563\n",
      "[1244]\teval-mae:0.057877\ttrain-mae:0.052558\n",
      "[1245]\teval-mae:0.057877\ttrain-mae:0.052553\n",
      "[1246]\teval-mae:0.057877\ttrain-mae:0.05255\n",
      "[1247]\teval-mae:0.057877\ttrain-mae:0.052547\n",
      "[1248]\teval-mae:0.057878\ttrain-mae:0.052542\n",
      "[1249]\teval-mae:0.057878\ttrain-mae:0.052539\n",
      "[1250]\teval-mae:0.057878\ttrain-mae:0.052535\n",
      "[1251]\teval-mae:0.057878\ttrain-mae:0.052531\n",
      "[1252]\teval-mae:0.057879\ttrain-mae:0.052529\n",
      "[1253]\teval-mae:0.057879\ttrain-mae:0.052526\n",
      "[1254]\teval-mae:0.057882\ttrain-mae:0.052522\n",
      "[1255]\teval-mae:0.057882\ttrain-mae:0.052519\n",
      "[1256]\teval-mae:0.057882\ttrain-mae:0.052514\n",
      "[1257]\teval-mae:0.057882\ttrain-mae:0.05251\n",
      "[1258]\teval-mae:0.057882\ttrain-mae:0.052506\n",
      "[1259]\teval-mae:0.057881\ttrain-mae:0.052502\n",
      "[1260]\teval-mae:0.057883\ttrain-mae:0.052499\n",
      "[1261]\teval-mae:0.057883\ttrain-mae:0.052496\n",
      "[1262]\teval-mae:0.057883\ttrain-mae:0.052492\n",
      "[1263]\teval-mae:0.057884\ttrain-mae:0.05249\n",
      "[1264]\teval-mae:0.057884\ttrain-mae:0.052487\n",
      "[1265]\teval-mae:0.057882\ttrain-mae:0.052483\n",
      "[1266]\teval-mae:0.057883\ttrain-mae:0.052479\n",
      "[1267]\teval-mae:0.057883\ttrain-mae:0.052476\n",
      "[1268]\teval-mae:0.057883\ttrain-mae:0.052472\n",
      "[1269]\teval-mae:0.057883\ttrain-mae:0.052468\n",
      "[1270]\teval-mae:0.057881\ttrain-mae:0.052464\n",
      "[1271]\teval-mae:0.057882\ttrain-mae:0.052461\n",
      "[1272]\teval-mae:0.057881\ttrain-mae:0.052456\n",
      "[1273]\teval-mae:0.057882\ttrain-mae:0.052454\n",
      "[1274]\teval-mae:0.057882\ttrain-mae:0.05245\n",
      "[1275]\teval-mae:0.057883\ttrain-mae:0.052448\n",
      "[1276]\teval-mae:0.057882\ttrain-mae:0.052445\n",
      "[1277]\teval-mae:0.057883\ttrain-mae:0.052442\n",
      "[1278]\teval-mae:0.057884\ttrain-mae:0.052439\n"
     ]
    },
    {
     "ename": "KeyboardInterrupt",
     "evalue": "",
     "output_type": "error",
     "traceback": [
      "\u001b[1;31m---------------------------------------------------------------------------\u001b[0m",
      "\u001b[1;31mKeyboardInterrupt\u001b[0m                         Traceback (most recent call last)",
      "\u001b[1;32m<ipython-input-45-f175d35f1a75>\u001b[0m in \u001b[0;36m<module>\u001b[1;34m()\u001b[0m\n\u001b[0;32m      9\u001b[0m \u001b[1;33m\u001b[0m\u001b[0m\n\u001b[0;32m     10\u001b[0m \u001b[0mwatchlist\u001b[0m  \u001b[1;33m=\u001b[0m \u001b[1;33m[\u001b[0m\u001b[1;33m(\u001b[0m\u001b[0md_val_xgb\u001b[0m\u001b[1;33m,\u001b[0m\u001b[1;34m'eval'\u001b[0m\u001b[1;33m)\u001b[0m\u001b[1;33m,\u001b[0m \u001b[1;33m(\u001b[0m\u001b[0md_train_xgb\u001b[0m\u001b[1;33m,\u001b[0m\u001b[1;34m'train'\u001b[0m\u001b[1;33m)\u001b[0m\u001b[1;33m]\u001b[0m\u001b[1;33m\u001b[0m\u001b[0m\n\u001b[1;32m---> 11\u001b[1;33m \u001b[0mgbt\u001b[0m \u001b[1;33m=\u001b[0m \u001b[0mxgb\u001b[0m\u001b[1;33m.\u001b[0m\u001b[0mtrain\u001b[0m\u001b[1;33m(\u001b[0m\u001b[0mparams\u001b[0m\u001b[1;33m,\u001b[0m \u001b[0md_train_xgb\u001b[0m\u001b[1;33m,\u001b[0m\u001b[0mnum_round\u001b[0m\u001b[1;33m,\u001b[0m\u001b[0mwatchlist\u001b[0m\u001b[1;33m)\u001b[0m\u001b[1;33m\u001b[0m\u001b[0m\n\u001b[0m",
      "\u001b[1;32m/home/ec2-user/anaconda2/lib/python2.7/site-packages/xgboost/training.pyc\u001b[0m in \u001b[0;36mtrain\u001b[1;34m(params, dtrain, num_boost_round, evals, obj, feval, maximize, early_stopping_rounds, evals_result, verbose_eval, learning_rates, xgb_model, callbacks)\u001b[0m\n\u001b[0;32m    203\u001b[0m                            \u001b[0mevals\u001b[0m\u001b[1;33m=\u001b[0m\u001b[0mevals\u001b[0m\u001b[1;33m,\u001b[0m\u001b[1;33m\u001b[0m\u001b[0m\n\u001b[0;32m    204\u001b[0m                            \u001b[0mobj\u001b[0m\u001b[1;33m=\u001b[0m\u001b[0mobj\u001b[0m\u001b[1;33m,\u001b[0m \u001b[0mfeval\u001b[0m\u001b[1;33m=\u001b[0m\u001b[0mfeval\u001b[0m\u001b[1;33m,\u001b[0m\u001b[1;33m\u001b[0m\u001b[0m\n\u001b[1;32m--> 205\u001b[1;33m                            xgb_model=xgb_model, callbacks=callbacks)\n\u001b[0m\u001b[0;32m    206\u001b[0m \u001b[1;33m\u001b[0m\u001b[0m\n\u001b[0;32m    207\u001b[0m \u001b[1;33m\u001b[0m\u001b[0m\n",
      "\u001b[1;32m/home/ec2-user/anaconda2/lib/python2.7/site-packages/xgboost/training.pyc\u001b[0m in \u001b[0;36m_train_internal\u001b[1;34m(params, dtrain, num_boost_round, evals, obj, feval, xgb_model, callbacks)\u001b[0m\n\u001b[0;32m     74\u001b[0m         \u001b[1;31m# Skip the first update if it is a recovery step.\u001b[0m\u001b[1;33m\u001b[0m\u001b[1;33m\u001b[0m\u001b[0m\n\u001b[0;32m     75\u001b[0m         \u001b[1;32mif\u001b[0m \u001b[0mversion\u001b[0m \u001b[1;33m%\u001b[0m \u001b[1;36m2\u001b[0m \u001b[1;33m==\u001b[0m \u001b[1;36m0\u001b[0m\u001b[1;33m:\u001b[0m\u001b[1;33m\u001b[0m\u001b[0m\n\u001b[1;32m---> 76\u001b[1;33m             \u001b[0mbst\u001b[0m\u001b[1;33m.\u001b[0m\u001b[0mupdate\u001b[0m\u001b[1;33m(\u001b[0m\u001b[0mdtrain\u001b[0m\u001b[1;33m,\u001b[0m \u001b[0mi\u001b[0m\u001b[1;33m,\u001b[0m \u001b[0mobj\u001b[0m\u001b[1;33m)\u001b[0m\u001b[1;33m\u001b[0m\u001b[0m\n\u001b[0m\u001b[0;32m     77\u001b[0m             \u001b[0mbst\u001b[0m\u001b[1;33m.\u001b[0m\u001b[0msave_rabit_checkpoint\u001b[0m\u001b[1;33m(\u001b[0m\u001b[1;33m)\u001b[0m\u001b[1;33m\u001b[0m\u001b[0m\n\u001b[0;32m     78\u001b[0m             \u001b[0mversion\u001b[0m \u001b[1;33m+=\u001b[0m \u001b[1;36m1\u001b[0m\u001b[1;33m\u001b[0m\u001b[0m\n",
      "\u001b[1;32m/home/ec2-user/anaconda2/lib/python2.7/site-packages/xgboost/core.pyc\u001b[0m in \u001b[0;36mupdate\u001b[1;34m(self, dtrain, iteration, fobj)\u001b[0m\n\u001b[0;32m    804\u001b[0m \u001b[1;33m\u001b[0m\u001b[0m\n\u001b[0;32m    805\u001b[0m         \u001b[1;32mif\u001b[0m \u001b[0mfobj\u001b[0m \u001b[1;32mis\u001b[0m \u001b[0mNone\u001b[0m\u001b[1;33m:\u001b[0m\u001b[1;33m\u001b[0m\u001b[0m\n\u001b[1;32m--> 806\u001b[1;33m             \u001b[0m_check_call\u001b[0m\u001b[1;33m(\u001b[0m\u001b[0m_LIB\u001b[0m\u001b[1;33m.\u001b[0m\u001b[0mXGBoosterUpdateOneIter\u001b[0m\u001b[1;33m(\u001b[0m\u001b[0mself\u001b[0m\u001b[1;33m.\u001b[0m\u001b[0mhandle\u001b[0m\u001b[1;33m,\u001b[0m \u001b[0miteration\u001b[0m\u001b[1;33m,\u001b[0m \u001b[0mdtrain\u001b[0m\u001b[1;33m.\u001b[0m\u001b[0mhandle\u001b[0m\u001b[1;33m)\u001b[0m\u001b[1;33m)\u001b[0m\u001b[1;33m\u001b[0m\u001b[0m\n\u001b[0m\u001b[0;32m    807\u001b[0m         \u001b[1;32melse\u001b[0m\u001b[1;33m:\u001b[0m\u001b[1;33m\u001b[0m\u001b[0m\n\u001b[0;32m    808\u001b[0m             \u001b[0mpred\u001b[0m \u001b[1;33m=\u001b[0m \u001b[0mself\u001b[0m\u001b[1;33m.\u001b[0m\u001b[0mpredict\u001b[0m\u001b[1;33m(\u001b[0m\u001b[0mdtrain\u001b[0m\u001b[1;33m)\u001b[0m\u001b[1;33m\u001b[0m\u001b[0m\n",
      "\u001b[1;31mKeyboardInterrupt\u001b[0m: "
     ]
    }
   ],
   "source": [
    "num_round = 2000\n",
    "\n",
    "# params = {'eval_metric':'mae','max_depth':6,'colsample_bytree':1,'alpha':1,'gamma':0,'eta':0.05,'min_child_weight':0}# 1136, 500 rounds\n",
    "params = {'eval_metric':'mae','max_depth':6,'colsample_bytree':1,'alpha':1,'gamma':0, \\\n",
    "          'eta':0.05,'min_child_weight':0,'subsample':0.8}# 1124, 2000 rounds\n",
    "# params = {'eval_metric':'mae','max_depth':6,'colsample_bytree':1,'alpha':1,'gamma':0, \\\n",
    "#           'eta':0.02,'min_child_weight':0,'subsample':0.8}# 1124, 2500 rounds\n",
    "# params = {'eval_metric':'mae','max_depth':6,'colsample_bytree':1,'alpha':1,'gamma':0, \\\n",
    "#           'eta':0.01,'min_child_weight':0,'subsample':0.8}# 1124, 2500 rounds\n",
    "\n",
    "watchlist  = [(d_val_xgb,'eval'), (d_train_xgb,'train')]\n",
    "gbt = xgb.train(params, d_train_xgb,num_round,watchlist)"
   ]
  },
  {
   "cell_type": "code",
   "execution_count": 44,
   "metadata": {
    "collapsed": false
   },
   "outputs": [
    {
     "name": "stdout",
     "output_type": "stream",
     "text": [
      "1117.19221658\n"
     ]
    }
   ],
   "source": [
    "print(mean_absolute_error(lossRestore(y_val,ymean,ystd),lossRestore(gbt.predict(x_val_xgb),ymean,ystd)))"
   ]
  },
  {
   "cell_type": "code",
   "execution_count": 48,
   "metadata": {
    "collapsed": false
   },
   "outputs": [
    {
     "data": {
      "text/plain": [
       "<matplotlib.axes._subplots.AxesSubplot at 0x7fec216062d0>"
      ]
     },
     "execution_count": 48,
     "metadata": {},
     "output_type": "execute_result"
    },
    {
     "data": {
      "image/png": "[encoded data removed]",
      "text/plain": [
       "<matplotlib.figure.Figure at 0x7fec21606b10>"
      ]
     },
     "metadata": {},
     "output_type": "display_data"
    }
   ],
   "source": [
    "fig = plt.figure(figsize=(20,35))\n",
    "\n",
    "xgb.plot_importance(gbt,ax = fig.gca() )"
   ]
  },
  {
   "cell_type": "code",
   "execution_count": 49,
   "metadata": {
    "collapsed": false
   },
   "outputs": [],
   "source": [
    "y_pred_i = lossRestore(gbt.predict(d_test_xgb),ymean,ystd)\n",
    "y_pred.append(y_pred_i)\n",
    "y_pred_val.append(lossRestore(gbt.predict(x_val_xgb),ymean,ystd))"
   ]
  },
  {
   "cell_type": "markdown",
   "metadata": {},
   "source": [
    "### AdaBoost Regression"
   ]
  },
  {
   "cell_type": "code",
   "execution_count": 50,
   "metadata": {
    "collapsed": true
   },
   "outputs": [],
   "source": [
    "from sklearn.ensemble import AdaBoostRegressor\n",
    "from sklearn.linear_model import Ridge"
   ]
  },
  {
   "cell_type": "code",
   "execution_count": 51,
   "metadata": {
    "collapsed": false
   },
   "outputs": [
    {
     "name": "stdout",
     "output_type": "stream",
     "text": [
      "1429.82772031\n"
     ]
    }
   ],
   "source": [
    "# n_estimators = [7,15,30, 60, 90, 120]\n",
    "# n_estimators = [10,20,30,40]\n",
    "n_estimators = [6]\n",
    "base_estimator = Ridge(alpha = 40)\n",
    "err = 999999999\n",
    "n_estimator = 0\n",
    "random_state = 0\n",
    "for n_est in n_estimators:\n",
    "#     tmpAdReg = AdaBoostRegressor(n_estimators = n_est, random_state = random_state,base_estimator = base_estimator)\n",
    "    tmpAdReg = AdaBoostRegressor(n_estimators = n_est, random_state = random_state)\n",
    "    tmpAdReg.fit(x_train,y_train)\n",
    "    err_i = mean_absolute_error(lossRestore(y_val,ymean,ystd),lossRestore(tmpAdReg.predict(x_val),ymean,ystd))\n",
    "    print(err_i)\n",
    "    if err_i < err:\n",
    "        AdReg = tmpAdReg\n",
    "        n_estimator = n_est\n",
    "        err = err_i"
   ]
  },
  {
   "cell_type": "code",
   "execution_count": 52,
   "metadata": {
    "collapsed": false
   },
   "outputs": [
    {
     "name": "stdout",
     "output_type": "stream",
     "text": [
      "n_estimator = 6\n",
      "1429.82772031\n"
     ]
    }
   ],
   "source": [
    "print('n_estimator = {}'.format(n_estimator))\n",
    "print(mean_absolute_error(lossRestore(y_val,ymean,ystd),lossRestore(AdReg.predict(x_val),ymean,ystd)))"
   ]
  },
  {
   "cell_type": "code",
   "execution_count": 53,
   "metadata": {
    "collapsed": true
   },
   "outputs": [],
   "source": [
    "y_pred_i = lossRestore(AdReg.predict(x_Test),ymean,ystd)\n",
    "y_pred.append(y_pred_i)\n",
    "y_pred_val.append(lossRestore(AdReg.predict(x_val),ymean,ystd))"
   ]
  },
  {
   "cell_type": "markdown",
   "metadata": {},
   "source": [
    "### Skipped - K Nearest Neighbors"
   ]
  },
  {
   "cell_type": "code",
   "execution_count": 54,
   "metadata": {
    "collapsed": true
   },
   "outputs": [],
   "source": [
    "# from sklearn.neighbors import KNeighborsRegressor"
   ]
  },
  {
   "cell_type": "code",
   "execution_count": 55,
   "metadata": {
    "collapsed": false
   },
   "outputs": [],
   "source": [
    "# n_neighbors = [5, 10, 15]\n",
    "# weights = 'distance'\n",
    "# err = 999999999\n",
    "# n_nns = 0\n",
    "# # random_state = 0\n",
    "# for n_nn in n_neighbors:\n",
    "#     tmpKNReg = KNeighborsRegressor(n_neighbors = n_nn,weights = weights)\n",
    "#     tmpKNReg.fit(x_train,y_train)\n",
    "#     err_i = mean_absolute_error(lossRestore(y_val,ymean,ystd),lossRestore(tmpKNReg.predict(x_val),ymean,ystd))\n",
    "#     print(err_i)\n",
    "#     if err_i < err:\n",
    "#         KNReg = tmpKNReg\n",
    "#         n_nns = n_nn\n",
    "#         err = err_i"
   ]
  },
  {
   "cell_type": "code",
   "execution_count": 56,
   "metadata": {
    "collapsed": false
   },
   "outputs": [],
   "source": [
    "# print('n_neighbors = {}'.format(n_nns))\n",
    "# print(mean_absolute_error(lossRestore(y_val,ymean,ystd),lossRestore(KNReg.predict(x_val),ymean,ystd)))"
   ]
  },
  {
   "cell_type": "code",
   "execution_count": 57,
   "metadata": {
    "collapsed": true
   },
   "outputs": [],
   "source": [
    "# y_pred_i = lossRestore(KNReg.predict(x_Test),ymean,ystd)\n",
    "# y_pred.append(y_pred_i)\n",
    "# y_pred_val.append(lossRestore(KNReg.predict(x_val),ymean,ystd))"
   ]
  },
  {
   "cell_type": "markdown",
   "metadata": {},
   "source": [
    "### Linear SVR"
   ]
  },
  {
   "cell_type": "code",
   "execution_count": 58,
   "metadata": {
    "collapsed": false
   },
   "outputs": [],
   "source": [
    "# from sklearn.svm import LinearSVR"
   ]
  },
  {
   "cell_type": "code",
   "execution_count": 59,
   "metadata": {
    "collapsed": false
   },
   "outputs": [],
   "source": [
    "# # SVReg = svm.SVR(kernel = 'rbf')\n",
    "# # SVReg.fit(x_train,y_train)\n",
    "# SVReg = LinearSVR(C=0.5)\n",
    "# SVReg.fit(x_train,y_train)"
   ]
  },
  {
   "cell_type": "code",
   "execution_count": 60,
   "metadata": {
    "collapsed": false
   },
   "outputs": [],
   "source": [
    "# print(mean_absolute_error(lossRestore(y_val,ymean,ystd),lossRestore(SVReg.predict(x_val),ymean,ystd)))"
   ]
  },
  {
   "cell_type": "code",
   "execution_count": 61,
   "metadata": {
    "collapsed": true
   },
   "outputs": [],
   "source": [
    "# y_pred_i = lossRestore(SVReg.predict(x_Test),ymean,ystd)\n",
    "# y_pred.append(y_pred_i)\n",
    "# y_pred_val.append(lossRestore(SVReg.predict(x_val),ymean,ystd))"
   ]
  },
  {
   "cell_type": "markdown",
   "metadata": {},
   "source": [
    "### MLP Regressor"
   ]
  },
  {
   "cell_type": "code",
   "execution_count": 1,
   "metadata": {
    "collapsed": false
   },
   "outputs": [],
   "source": [
    "from sklearn.neural_network import MLPRegressor"
   ]
  },
  {
   "cell_type": "code",
   "execution_count": 64,
   "metadata": {
    "collapsed": false
   },
   "outputs": [
    {
     "ename": "NameError",
     "evalue": "name 'MLPRegressor' is not defined",
     "output_type": "error",
     "traceback": [
      "\u001b[1;31m---------------------------------------------------------------------------\u001b[0m",
      "\u001b[1;31mNameError\u001b[0m                                 Traceback (most recent call last)",
      "\u001b[1;32m<ipython-input-64-60be1b31dcf3>\u001b[0m in \u001b[0;36m<module>\u001b[1;34m()\u001b[0m\n\u001b[1;32m----> 1\u001b[1;33m \u001b[0mMLPReg\u001b[0m \u001b[1;33m=\u001b[0m \u001b[0mMLPRegressor\u001b[0m\u001b[1;33m(\u001b[0m\u001b[0malpha\u001b[0m \u001b[1;33m=\u001b[0m \u001b[1;36m1e-5\u001b[0m\u001b[1;33m,\u001b[0m \u001b[0mhidden_layer_sizes\u001b[0m \u001b[1;33m=\u001b[0m \u001b[1;33m(\u001b[0m\u001b[1;36m35\u001b[0m\u001b[1;33m,\u001b[0m\u001b[1;36m3\u001b[0m\u001b[1;33m)\u001b[0m\u001b[1;33m,\u001b[0m\u001b[0mrandom_state\u001b[0m\u001b[1;33m=\u001b[0m\u001b[1;36m0\u001b[0m\u001b[1;33m,\u001b[0m\u001b[0mearly_stopping\u001b[0m\u001b[1;33m=\u001b[0m\u001b[0mTrue\u001b[0m\u001b[1;33m)\u001b[0m\u001b[1;33m\u001b[0m\u001b[0m\n\u001b[0m\u001b[0;32m      2\u001b[0m \u001b[0mMLPReg\u001b[0m\u001b[1;33m.\u001b[0m\u001b[0mfit\u001b[0m\u001b[1;33m(\u001b[0m\u001b[0mx_train\u001b[0m\u001b[1;33m,\u001b[0m\u001b[0my_train\u001b[0m\u001b[1;33m)\u001b[0m\u001b[1;33m\u001b[0m\u001b[0m\n",
      "\u001b[1;31mNameError\u001b[0m: name 'MLPRegressor' is not defined"
     ]
    }
   ],
   "source": [
    "MLPReg = MLPRegressor(alpha = 1e-5, hidden_layer_sizes = (35,3),random_state=0,early_stopping=True)\n",
    "MLPReg.fit(x_train,y_train)"
   ]
  },
  {
   "cell_type": "code",
   "execution_count": 65,
   "metadata": {
    "collapsed": false
   },
   "outputs": [
    {
     "ename": "NameError",
     "evalue": "name 'MLPReg' is not defined",
     "output_type": "error",
     "traceback": [
      "\u001b[1;31m---------------------------------------------------------------------------\u001b[0m",
      "\u001b[1;31mNameError\u001b[0m                                 Traceback (most recent call last)",
      "\u001b[1;32m<ipython-input-65-ecc16bc2e3d8>\u001b[0m in \u001b[0;36m<module>\u001b[1;34m()\u001b[0m\n\u001b[1;32m----> 1\u001b[1;33m \u001b[1;32mprint\u001b[0m\u001b[1;33m(\u001b[0m\u001b[0mmean_absolute_error\u001b[0m\u001b[1;33m(\u001b[0m\u001b[0mlossRestore\u001b[0m\u001b[1;33m(\u001b[0m\u001b[0my_val\u001b[0m\u001b[1;33m,\u001b[0m\u001b[0mymean\u001b[0m\u001b[1;33m,\u001b[0m\u001b[0mystd\u001b[0m\u001b[1;33m)\u001b[0m\u001b[1;33m,\u001b[0m\u001b[0mlossRestore\u001b[0m\u001b[1;33m(\u001b[0m\u001b[0mMLPReg\u001b[0m\u001b[1;33m.\u001b[0m\u001b[0mpredict\u001b[0m\u001b[1;33m(\u001b[0m\u001b[0mx_val\u001b[0m\u001b[1;33m)\u001b[0m\u001b[1;33m,\u001b[0m\u001b[0mymean\u001b[0m\u001b[1;33m,\u001b[0m\u001b[0mystd\u001b[0m\u001b[1;33m)\u001b[0m\u001b[1;33m)\u001b[0m\u001b[1;33m)\u001b[0m\u001b[1;33m\u001b[0m\u001b[0m\n\u001b[0m",
      "\u001b[1;31mNameError\u001b[0m: name 'MLPReg' is not defined"
     ]
    }
   ],
   "source": [
    "print(mean_absolute_error(lossRestore(y_val,ymean,ystd),lossRestore(MLPReg.predict(x_val),ymean,ystd)))"
   ]
  },
  {
   "cell_type": "code",
   "execution_count": null,
   "metadata": {
    "collapsed": true
   },
   "outputs": [],
   "source": [
    "y_pred_i = lossRestore(MLPReg.predict(x_Test),ymean,ystd)\n",
    "y_pred.append(y_pred_i)\n",
    "y_pred_val.append(lossRestore(MLPReg.predict(x_val),ymean,ystd))"
   ]
  },
  {
   "cell_type": "markdown",
   "metadata": {},
   "source": [
    "# save files for submission"
   ]
  },
  {
   "cell_type": "code",
   "execution_count": 67,
   "metadata": {
    "collapsed": false
   },
   "outputs": [
    {
     "name": "stdout",
     "output_type": "stream",
     "text": [
      "The loss of the ensembled result:\n"
     ]
    },
    {
     "data": {
      "text/plain": [
       "1216.4577188273086"
      ]
     },
     "execution_count": 67,
     "metadata": {},
     "output_type": "execute_result"
    }
   ],
   "source": [
    "# ensemble the results\n",
    "y_pred.append(np.ndarray.mean(np.vstack(y_pred).T,axis=1))\n",
    "\n",
    "# ensembled y_val\n",
    "print('The loss of the ensembled result:')\n",
    "y_pred_val_en = np.ndarray.mean(np.vstack(y_pred_val).T,axis=1)\n",
    "mean_absolute_error(lossRestore(y_val,ymean,ystd),y_pred_val_en)"
   ]
  },
  {
   "cell_type": "code",
   "execution_count": 68,
   "metadata": {
    "collapsed": false
   },
   "outputs": [
    {
     "ename": "IndexError",
     "evalue": "list index out of range",
     "output_type": "error",
     "traceback": [
      "\u001b[1;31m---------------------------------------------------------------------------\u001b[0m",
      "\u001b[1;31mIndexError\u001b[0m                                Traceback (most recent call last)",
      "\u001b[1;32m<ipython-input-68-7625e8e6d50a>\u001b[0m in \u001b[0;36m<module>\u001b[1;34m()\u001b[0m\n\u001b[0;32m      2\u001b[0m \u001b[1;32mfor\u001b[0m \u001b[0mi\u001b[0m\u001b[1;33m,\u001b[0m\u001b[0mstri\u001b[0m \u001b[1;32min\u001b[0m \u001b[0menumerate\u001b[0m\u001b[1;33m(\u001b[0m\u001b[0mtestList\u001b[0m\u001b[1;33m)\u001b[0m\u001b[1;33m:\u001b[0m\u001b[1;33m\u001b[0m\u001b[0m\n\u001b[0;32m      3\u001b[0m     \u001b[0msubmission\u001b[0m\u001b[1;33m[\u001b[0m\u001b[1;34m'id'\u001b[0m\u001b[1;33m]\u001b[0m \u001b[1;33m=\u001b[0m \u001b[0msubId\u001b[0m\u001b[1;33m\u001b[0m\u001b[0m\n\u001b[1;32m----> 4\u001b[1;33m     \u001b[0msubmission\u001b[0m\u001b[1;33m[\u001b[0m\u001b[1;34m'loss'\u001b[0m\u001b[1;33m]\u001b[0m\u001b[1;33m=\u001b[0m\u001b[0mpd\u001b[0m\u001b[1;33m.\u001b[0m\u001b[0mSeries\u001b[0m\u001b[1;33m(\u001b[0m\u001b[0mdata\u001b[0m\u001b[1;33m=\u001b[0m\u001b[0my_pred\u001b[0m\u001b[1;33m[\u001b[0m\u001b[0mi\u001b[0m\u001b[1;33m]\u001b[0m\u001b[1;33m)\u001b[0m\u001b[1;33m\u001b[0m\u001b[0m\n\u001b[0m\u001b[0;32m      5\u001b[0m     \u001b[0msubmission\u001b[0m\u001b[1;33m.\u001b[0m\u001b[0mto_csv\u001b[0m\u001b[1;33m(\u001b[0m\u001b[1;34m'../output/'\u001b[0m\u001b[1;33m+\u001b[0m\u001b[0mstri\u001b[0m\u001b[1;33m+\u001b[0m\u001b[1;34m'.csv'\u001b[0m\u001b[1;33m,\u001b[0m\u001b[0mindex\u001b[0m\u001b[1;33m=\u001b[0m\u001b[0mFalse\u001b[0m\u001b[1;33m)\u001b[0m\u001b[1;33m\u001b[0m\u001b[0m\n",
      "\u001b[1;31mIndexError\u001b[0m: list index out of range"
     ]
    }
   ],
   "source": [
    "# Save all the predictions for submission\n",
    "for i,stri in enumerate(testList):\n",
    "    submission['id'] = subId\n",
    "    submission['loss']=pd.Series(data=y_pred[i])\n",
    "    submission.to_csv('../output/'+stri+'.csv',index=False)"
   ]
  },
  {
   "cell_type": "code",
   "execution_count": null,
   "metadata": {
    "collapsed": false
   },
   "outputs": [],
   "source": [
    "from sklearn.externals import joblib\n",
    "joblib.dump([regCV, gbt, AdReg, MLPReg, y_pred, y_pred_val, x_train, x_val, y_train, y_val, x_Test]\n",
    "            ,'../output/models_data_on_raw_features.pkl',compress=3) \n",
    "\n",
    "# clf = joblib.load('filename.pkl') "
   ]
  },
  {
   "cell_type": "code",
   "execution_count": null,
   "metadata": {
    "collapsed": false
   },
   "outputs": [],
   "source": [
    "testList\n"
   ]
  },
  {
   "cell_type": "code",
   "execution_count": null,
   "metadata": {
    "collapsed": true
   },
   "outputs": [],
   "source": []
  }
 ],
 "metadata": {
  "kernelspec": {
   "display_name": "Python [Root]",
   "language": "python",
   "name": "Python [Root]"
  },
  "language_info": {
   "codemirror_mode": {
    "name": "ipython",
    "version": 2
   },
   "file_extension": ".py",
   "mimetype": "text/x-python",
   "name": "python",
   "nbconvert_exporter": "python",
   "pygments_lexer": "ipython2",
   "version": "2.7.12"
  }
 },
 "nbformat": 4,
 "nbformat_minor": 0
}
