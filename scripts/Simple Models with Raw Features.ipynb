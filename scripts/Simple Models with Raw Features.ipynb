{
 "cells": [
  {
   "cell_type": "markdown",
   "metadata": {},
   "source": [
    "# Load the data"
   ]
  },
  {
   "cell_type": "code",
   "execution_count": 1,
   "metadata": {
    "collapsed": false
   },
   "outputs": [],
   "source": [
    "# This Python 3 environment comes with many helpful analytics libraries installed\n",
    "# It is defined by the kaggle/python docker image: https://github.com/kaggle/docker-python\n",
    "# For example, here's several helpful packages to load in \n",
    "\n",
    "import numpy as np # linear algebra\n",
    "import pandas as pd # data processing, CSV file I/O (e.g. pd.read_csv)\n",
    "import scipy as sp\n",
    "\n",
    "# from scipy.special import erfinv\n",
    "from scipy.stats import norm\n",
    "\n",
    "# Input data files are available in the \"../input/\" directory.\n",
    "# For example, running this (by clicking run or pressing Shift+Enter) will list the files in the input directory\n",
    "\n",
    "# from subprocess import check_output\n",
    "# print(check_output([\"ls\", \"../input\"]).decode(\"utf8\"))\n",
    "\n",
    "# Any results you write to the current directory are saved as output.\n",
    "\n",
    "%matplotlib inline\n",
    "\n",
    "import matplotlib.pyplot as plt"
   ]
  },
  {
   "cell_type": "code",
   "execution_count": 2,
   "metadata": {
    "collapsed": false
   },
   "outputs": [],
   "source": [
    "data_train_raw = pd.read_csv('../input/train.csv')\n",
    "# data_train_raw = data_train_raw.sample(frac=0.01, random_state=0)\n",
    "data_test_raw = pd.read_csv('../input/test.csv')"
   ]
  },
  {
   "cell_type": "code",
   "execution_count": 3,
   "metadata": {
    "collapsed": false
   },
   "outputs": [
    {
     "data": {
      "text/plain": [
       "(188318, 132)"
      ]
     },
     "execution_count": 3,
     "metadata": {},
     "output_type": "execute_result"
    }
   ],
   "source": [
    "data_train_raw.shape"
   ]
  },
  {
   "cell_type": "markdown",
   "metadata": {},
   "source": [
    "# Data transformation"
   ]
  },
  {
   "cell_type": "code",
   "execution_count": 4,
   "metadata": {
    "collapsed": false
   },
   "outputs": [],
   "source": [
    "ylog=np.log1p(data_train_raw['loss'])\n",
    "# ymean=ylog.mean()\n",
    "# ystd=ylog.std()\n",
    "ymean=ylog.min()\n",
    "ystd=ylog.max()\n",
    "data_train_raw['loss_g']=(ylog-ymean)/ystd"
   ]
  },
  {
   "cell_type": "code",
   "execution_count": 5,
   "metadata": {
    "collapsed": false
   },
   "outputs": [
    {
     "name": "stdout",
     "output_type": "stream",
     "text": [
      "Mean of log1py: 0.612892612558\n",
      "Std of log1py: 0.0693210249117\n",
      "Lower clipping bound: 0.404929537823\n",
      "Upper clipping bound: 0.820855687293\n",
      "Shape of cleaned data: (187954, 133)\n"
     ]
    }
   ],
   "source": [
    "# clean outliers in training data\n",
    "lossMean = data_train_raw['loss_g'].mean()\n",
    "lossStd = data_train_raw['loss_g'].std()\n",
    "print('Mean of log1py: {}'.format(lossMean))\n",
    "print('Std of log1py: {}'.format(lossStd))\n",
    "lbound = lossMean-3.0*lossStd\n",
    "ubound = lossMean+3.0*lossStd\n",
    "print('Lower clipping bound: {}\\nUpper clipping bound: {}'.format(lbound, ubound))\n",
    "data_train_raw = data_train_raw[(data_train_raw['loss_g']>=lbound) & (data_train_raw['loss_g']<=ubound)]\n",
    "print('Shape of cleaned data: {}'.format(data_train_raw.shape))"
   ]
  },
  {
   "cell_type": "code",
   "execution_count": 6,
   "metadata": {
    "collapsed": false
   },
   "outputs": [],
   "source": [
    "def ToUniform(y):\n",
    "    z = norm.cdf(-y/np.sqrt(2))\n",
    "    return z\n",
    "def UniformToGauss(z):\n",
    "    return -np.sqrt(2)*norm.ppf(z)*ystd+ymean\n",
    "# def BackToOriginal(z):\n",
    "#     return np.exp(UniformToGauss(z))\n",
    "\n",
    "data_train_raw['loss_u']=ToUniform(data_train_raw['loss_g'])\n",
    "\n",
    "def lossRestore(logloss, ymean, ystd):\n",
    "    loss = np.expm1(logloss*ystd+ymean)\n",
    "    return loss"
   ]
  },
  {
   "cell_type": "code",
   "execution_count": 7,
   "metadata": {
    "collapsed": false
   },
   "outputs": [
    {
     "data": {
      "image/png": "[encoded data removed]",
      "text/plain": [
       "<matplotlib.figure.Figure at 0x7fc009f83e10>"
      ]
     },
     "metadata": {},
     "output_type": "display_data"
    }
   ],
   "source": [
    "plt.figure(figsize=(15,4))\n",
    "\n",
    "plt.subplot(2,2,1)\n",
    "plt.hist(data_train_raw['loss'],100)\n",
    "plt.title('loss');\n",
    "\n",
    "plt.subplot(2,2,2)\n",
    "plt.hist(ylog,100)\n",
    "plt.title('log(loss) - Gauss');\n",
    "\n",
    "plt.subplot(2,2,3)\n",
    "plt.hist(data_train_raw['loss_g'],100)\n",
    "plt.title('Normal');\n",
    "\n",
    "plt.subplot(2,2,4)\n",
    "plt.hist(lossRestore(data_train_raw['loss_g'],ymean,ystd),100)\n",
    "plt.title('Normal');"
   ]
  },
  {
   "cell_type": "markdown",
   "metadata": {},
   "source": [
    "# Data preparation - labeling encoder"
   ]
  },
  {
   "cell_type": "code",
   "execution_count": 8,
   "metadata": {
    "collapsed": false
   },
   "outputs": [
    {
     "name": "stdout",
     "output_type": "stream",
     "text": [
      "trainDf has features from the raw data:\n",
      "Index([u'cat1', u'cat2', u'cat3', u'cat4', u'cat5', u'cat6', u'cat7', u'cat8',\n",
      "       u'cat9', u'cat10',\n",
      "       ...\n",
      "       u'cont5', u'cont6', u'cont7', u'cont8', u'cont9', u'cont10', u'cont11',\n",
      "       u'cont12', u'cont13', u'cont14'],\n",
      "      dtype='object', length=130)\n",
      "testDf has features from the raw data:\n",
      "Index([u'cat1', u'cat2', u'cat3', u'cat4', u'cat5', u'cat6', u'cat7', u'cat8',\n",
      "       u'cat9', u'cat10',\n",
      "       ...\n",
      "       u'cont5', u'cont6', u'cont7', u'cont8', u'cont9', u'cont10', u'cont11',\n",
      "       u'cont12', u'cont13', u'cont14'],\n",
      "      dtype='object', length=130)\n"
     ]
    }
   ],
   "source": [
    "# save label in a seperate serie\n",
    "labelSs = data_train_raw['loss_g'] \n",
    "trainDf = data_train_raw.drop(['id','loss','loss_g','loss_u'],axis=1)\n",
    "subId = data_test_raw['id']\n",
    "testDf = data_test_raw.drop(['id'],axis=1)\n",
    "\n",
    "print('trainDf has features from the raw data:\\n{}'.format(trainDf.columns))\n",
    "print('testDf has features from the raw data:\\n{}'.format(testDf.columns))"
   ]
  },
  {
   "cell_type": "code",
   "execution_count": 9,
   "metadata": {
    "collapsed": false
   },
   "outputs": [
    {
     "name": "stdout",
     "output_type": "stream",
     "text": [
      "the stacked data's dimension are:\n",
      "(313500, 130)\n",
      "(313500, 116) of which are categorical\n",
      "(313500, 14) of which are continuous\n"
     ]
    }
   ],
   "source": [
    "dataAll = pd.concat([trainDf,testDf])\n",
    "dataCatAll = dataAll.select_dtypes(include=['object'])\n",
    "dataFltAll = dataAll.select_dtypes(include=['float64'])\n",
    "print('the stacked data\\'s dimension are:\\n{}'.format(dataAll.shape))\n",
    "print('{} of which are categorical'.format(dataCatAll.shape))\n",
    "print('{} of which are continuous'.format(dataFltAll.shape))"
   ]
  },
  {
   "cell_type": "code",
   "execution_count": 10,
   "metadata": {
    "collapsed": false
   },
   "outputs": [
    {
     "name": "stderr",
     "output_type": "stream",
     "text": [
      "/home/ec2-user/anaconda2/lib/python2.7/site-packages/ipykernel/__main__.py:7: SettingWithCopyWarning: \n",
      "A value is trying to be set on a copy of a slice from a DataFrame.\n",
      "Try using .loc[row_indexer,col_indexer] = value instead\n",
      "\n",
      "See the caveats in the documentation: http://pandas.pydata.org/pandas-docs/stable/indexing.html#indexing-view-versus-copy\n"
     ]
    },
    {
     "name": "stdout",
     "output_type": "stream",
     "text": [
      "Index([u'cat1', u'cat2', u'cat3', u'cat4', u'cat5', u'cat6', u'cat7', u'cat8',\n",
      "       u'cat9', u'cat10',\n",
      "       ...\n",
      "       u'cat107', u'cat108', u'cat109', u'cat110', u'cat111', u'cat112',\n",
      "       u'cat113', u'cat114', u'cat115', u'cat116'],\n",
      "      dtype='object', length=116)\n"
     ]
    }
   ],
   "source": [
    "from sklearn import preprocessing\n",
    "le = preprocessing.LabelEncoder()\n",
    "\n",
    "for col in dataCatAll.columns:\n",
    "    if (col.find('cat') !=-1):\n",
    "#        print(col)\n",
    "        dataCatAll[col]=le.fit_transform(dataCatAll[col])\n",
    "#         dataAll[col] = dataAll[col].map(lambda s: '<unknown>' if s not in le.classes_ else s)\n",
    "#         le.classes_ = np.append(le.classes_, '<unknown>')\n",
    "#         data_test_raw[str(col+'_numerical')]=le.transform(data_test_raw[col])\n",
    "print(dataCatAll.columns)\n"
   ]
  },
  {
   "cell_type": "markdown",
   "metadata": {},
   "source": [
    "# restore to x_trainDf and x_testDf - skipped"
   ]
  },
  {
   "cell_type": "code",
   "execution_count": 11,
   "metadata": {
    "collapsed": false
   },
   "outputs": [],
   "source": [
    "# # hstack all the features and .\n",
    "# x_allDf = pd.concat([dataCatAll,dataFltAll],axis=1)\n",
    "# x_means = x_allDf.mean()\n",
    "# x_stds = x_allDf.std()\n",
    "# x_allDf = (x_allDf-x_means)/x_stds\n",
    "# x_allDf.head()"
   ]
  },
  {
   "cell_type": "code",
   "execution_count": 12,
   "metadata": {
    "collapsed": true
   },
   "outputs": [],
   "source": [
    "# x_Train = x_allDf.iloc[0:len(labelSs),:]\n",
    "# x_Test = x_allDf.iloc[len(labelSs):,:]\n",
    "# y_Train = labelSs"
   ]
  },
  {
   "cell_type": "markdown",
   "metadata": {},
   "source": [
    "# one-hot-encoding"
   ]
  },
  {
   "cell_type": "code",
   "execution_count": 13,
   "metadata": {
    "collapsed": false
   },
   "outputs": [
    {
     "name": "stdout",
     "output_type": "stream",
     "text": [
      "(313500, 1175)\n"
     ]
    }
   ],
   "source": [
    "# one-hot-encoding the categorical features\n",
    "enc = preprocessing.OneHotEncoder()\n",
    "x_catAll = enc.fit_transform(dataCatAll)\n",
    "print(x_catAll.shape)"
   ]
  },
  {
   "cell_type": "code",
   "execution_count": 14,
   "metadata": {
    "collapsed": false
   },
   "outputs": [],
   "source": [
    "# split x_train and x_test\n",
    "x_Train = sp.sparse.hstack((x_catAll[0:len(labelSs),:], sp.sparse.csr_matrix(dataFltAll.as_matrix())[0:len(labelSs),:]))\n",
    "x_Test = sp.sparse.hstack((x_catAll[len(labelSs):,:], sp.sparse.csr_matrix(dataFltAll.as_matrix())[len(labelSs):,:]))\n",
    "y_Train = labelSs.values"
   ]
  },
  {
   "cell_type": "markdown",
   "metadata": {},
   "source": [
    "# check the dimension of prepared data"
   ]
  },
  {
   "cell_type": "code",
   "execution_count": 15,
   "metadata": {
    "collapsed": false
   },
   "outputs": [
    {
     "name": "stdout",
     "output_type": "stream",
     "text": [
      "(125546, 1189)\n",
      "(187954, 1189)\n",
      "(187954,)\n"
     ]
    }
   ],
   "source": [
    "print(x_Test.shape)\n",
    "print(x_Train.shape)\n",
    "print(y_Train.shape)"
   ]
  },
  {
   "cell_type": "markdown",
   "metadata": {},
   "source": [
    "# splite the training data for valication"
   ]
  },
  {
   "cell_type": "code",
   "execution_count": 16,
   "metadata": {
    "collapsed": false
   },
   "outputs": [
    {
     "name": "stderr",
     "output_type": "stream",
     "text": [
      "/home/ec2-user/anaconda2/lib/python2.7/site-packages/sklearn/cross_validation.py:44: DeprecationWarning: This module was deprecated in version 0.18 in favor of the model_selection module into which all the refactored classes and functions are moved. Also note that the interface of the new CV iterators are different from that of this module. This module will be removed in 0.20.\n",
      "  \"This module will be removed in 0.20.\", DeprecationWarning)\n"
     ]
    },
    {
     "name": "stdout",
     "output_type": "stream",
     "text": [
      "(150363, 1189)\n",
      "(150363,)\n",
      "(37591, 1189)\n",
      "(37591,)\n"
     ]
    }
   ],
   "source": [
    "from sklearn import cross_validation\n",
    "val_size = 0.2\n",
    "seed = 0\n",
    "x_train, x_val, y_train, y_val = cross_validation.train_test_split(x_Train, y_Train, test_size=val_size, random_state=seed)\n",
    "print(x_train.shape)\n",
    "print(y_train.shape)\n",
    "print(x_val.shape)\n",
    "print(y_val.shape)"
   ]
  },
  {
   "cell_type": "code",
   "execution_count": 17,
   "metadata": {
    "collapsed": true
   },
   "outputs": [],
   "source": [
    "del x_Train\n",
    "del y_Train\n",
    "del x_catAll\n",
    "del dataCatAll\n",
    "# del trainDf\n",
    "# del testDf"
   ]
  },
  {
   "cell_type": "markdown",
   "metadata": {},
   "source": [
    "# Model Fitting"
   ]
  },
  {
   "cell_type": "code",
   "execution_count": 18,
   "metadata": {
    "collapsed": true
   },
   "outputs": [],
   "source": [
    "from sklearn.metrics import mean_absolute_error\n",
    "y_pred = []\n",
    "y_pred_val = []\n",
    "submission = pd.read_csv('../input/sample_submission.csv')"
   ]
  },
  {
   "cell_type": "code",
   "execution_count": 19,
   "metadata": {
    "collapsed": true
   },
   "outputs": [],
   "source": [
    "testList = ['XGBoostTrees', 'AdaBoosting', 'MLPRegressor','Ensemble']"
   ]
  },
  {
   "cell_type": "markdown",
   "metadata": {},
   "source": [
    "### Ridge Regression"
   ]
  },
  {
   "cell_type": "code",
   "execution_count": 20,
   "metadata": {
    "collapsed": true
   },
   "outputs": [],
   "source": [
    "# from sklearn.linear_model import RidgeCV\n",
    "# # from sklearn.linear_model import Ridge"
   ]
  },
  {
   "cell_type": "code",
   "execution_count": 21,
   "metadata": {
    "collapsed": false
   },
   "outputs": [],
   "source": [
    "# cv = 3\n",
    "# # alphas = (1e-2,1e-1,1,1e1,1e2)\n",
    "# # alphas = (20,30,40)\n",
    "# alphas = [40]\n",
    "# regCV = RidgeCV(cv=cv,alphas = alphas)\n",
    "# regCV.fit(x_train,y_train)\n",
    "# print('alpha: {}\\n'.format(regCV.alpha_))\n",
    "# # print('cv_values_: {}\\n'.format(regCV.cv_values_))"
   ]
  },
  {
   "cell_type": "code",
   "execution_count": 22,
   "metadata": {
    "collapsed": false
   },
   "outputs": [],
   "source": [
    "# print(mean_absolute_error(lossRestore(y_val,ymean,ystd),lossRestore(regCV.predict(x_val),ymean,ystd)))"
   ]
  },
  {
   "cell_type": "code",
   "execution_count": 23,
   "metadata": {
    "collapsed": false
   },
   "outputs": [],
   "source": [
    "# y_pred_i = lossRestore(regCV.predict(x_Test),ymean,ystd)\n",
    "# y_pred.append(y_pred_i)\n",
    "# y_pred_val.append(lossRestore(regCV.predict(x_val),ymean,ystd))"
   ]
  },
  {
   "cell_type": "markdown",
   "metadata": {},
   "source": [
    "### Lasso Regression"
   ]
  },
  {
   "cell_type": "code",
   "execution_count": 24,
   "metadata": {
    "collapsed": true
   },
   "outputs": [],
   "source": [
    "# from sklearn.linear_model import LassoCV"
   ]
  },
  {
   "cell_type": "code",
   "execution_count": 25,
   "metadata": {
    "collapsed": false
   },
   "outputs": [],
   "source": [
    "# cv = 3\n",
    "# # alphas = (1e-3,1e-2,1e-1,1,1e1,1e2,1e3)\n",
    "# # alphas = (0.0005,0.0007,0.001,0.003,0.005)\n",
    "# # alphas = [0.00005,0.0001,0.0003,0.0005]\n",
    "# alphas = [0.00005]\n",
    "# LassoCV = LassoCV(cv=cv,alphas = alphas)\n",
    "# LassoCV.fit(x_train,y_train)\n",
    "# print('alpha: {}\\n'.format(LassoCV.alpha_))"
   ]
  },
  {
   "cell_type": "code",
   "execution_count": 26,
   "metadata": {
    "collapsed": false
   },
   "outputs": [],
   "source": [
    "# print(mean_absolute_error(lossRestore(y_val,ymean,ystd),lossRestore(LassoCV.predict(x_val),ymean,ystd)))"
   ]
  },
  {
   "cell_type": "code",
   "execution_count": 27,
   "metadata": {
    "collapsed": false
   },
   "outputs": [],
   "source": [
    "# y_pred_i = lossRestore(LassoCV.predict(x_Test),ymean,ystd)\n",
    "# y_pred.append(y_pred_i)\n",
    "# y_pred_val.append(lossRestore(LassoCV.predict(x_val),ymean,ystd))"
   ]
  },
  {
   "cell_type": "markdown",
   "metadata": {},
   "source": [
    "### Skipped - Random Forest - using mse rather than mae, because the mae implementation is much slower."
   ]
  },
  {
   "cell_type": "code",
   "execution_count": 28,
   "metadata": {
    "collapsed": true
   },
   "outputs": [],
   "source": [
    "# from sklearn.ensemble import RandomForestRegressor"
   ]
  },
  {
   "cell_type": "code",
   "execution_count": 29,
   "metadata": {
    "collapsed": false
   },
   "outputs": [],
   "source": [
    "# criterion = 'mse'\n",
    "# n_estimators = [30]\n",
    "# err = 999999999\n",
    "# n_estimator = 0\n",
    "# random_state = 0\n",
    "# for n_est in n_estimators:\n",
    "#     tmpRFReg = RandomForestRegressor(n_estimators = n_est,criterion = criterion, random_state = random_state)\n",
    "#     tmpRFReg.fit(x_train,y_train)\n",
    "#     err_i = mean_absolute_error(lossRestore(y_val,ymean,ystd),lossRestore(tmpRFReg.predict(x_val),ymean,ystd))\n",
    "#     print(err_i)\n",
    "#     if err_i < err:\n",
    "#         RFReg = tmpRFReg\n",
    "#         n_estimator = n_est\n",
    "#         err = err_i"
   ]
  },
  {
   "cell_type": "code",
   "execution_count": 30,
   "metadata": {
    "collapsed": false
   },
   "outputs": [],
   "source": [
    "# print('n_estimator = {}'.format(n_estimator))\n",
    "# print(mean_absolute_error(lossRestore(y_val,ymean,ystd),lossRestore(RFReg.predict(x_val),ymean,ystd)))"
   ]
  },
  {
   "cell_type": "code",
   "execution_count": 31,
   "metadata": {
    "collapsed": false
   },
   "outputs": [],
   "source": [
    "# y_pred_i = lossRestore(RFReg.predict(x_Test),ymean,ystd)\n",
    "# y_pred.append(y_pred_i)\n",
    "# y_pred_val.append(lossRestore(RFReg.predict(x_val),ymean,ystd))"
   ]
  },
  {
   "cell_type": "markdown",
   "metadata": {},
   "source": [
    "### XGBoost Trees"
   ]
  },
  {
   "cell_type": "code",
   "execution_count": 32,
   "metadata": {
    "collapsed": false
   },
   "outputs": [],
   "source": [
    "import xgboost as xgb"
   ]
  },
  {
   "cell_type": "code",
   "execution_count": 33,
   "metadata": {
    "collapsed": false
   },
   "outputs": [],
   "source": [
    "d_train_xgb = xgb.DMatrix(x_train.tocsc(),label=y_train)\n",
    "d_val_xgb = xgb.DMatrix(x_val.tocsc(),label = y_val)\n",
    "x_val_xgb = xgb.DMatrix(x_val.tocsc())\n",
    "d_test_xgb = xgb.DMatrix(x_Test.tocsc())"
   ]
  },
  {
   "cell_type": "code",
   "execution_count": 45,
   "metadata": {
    "collapsed": false
   },
   "outputs": [
    {
     "name": "stdout",
     "output_type": "stream",
     "text": [
      "[0]\teval-mae:0.109682\ttrain-mae:0.109271\n",
      "[1]\teval-mae:0.104732\ttrain-mae:0.104322\n",
      "[2]\teval-mae:0.100101\ttrain-mae:0.099692\n",
      "[3]\teval-mae:0.09577\ttrain-mae:0.095361\n",
      "[4]\teval-mae:0.091725\ttrain-mae:0.091313\n",
      "[5]\teval-mae:0.087956\ttrain-mae:0.087539\n",
      "[6]\teval-mae:0.084438\ttrain-mae:0.084023\n",
      "[7]\teval-mae:0.081155\ttrain-mae:0.080742\n",
      "[8]\teval-mae:0.078089\ttrain-mae:0.077678\n",
      "[9]\teval-mae:0.075254\ttrain-mae:0.074847\n",
      "[10]\teval-mae:0.072599\ttrain-mae:0.072191\n",
      "[11]\teval-mae:0.070113\ttrain-mae:0.069702\n",
      "[12]\teval-mae:0.067834\ttrain-mae:0.067427\n",
      "[13]\teval-mae:0.065695\ttrain-mae:0.065286\n",
      "[14]\teval-mae:0.063693\ttrain-mae:0.063289\n",
      "[15]\teval-mae:0.06183\ttrain-mae:0.06143\n",
      "[16]\teval-mae:0.060126\ttrain-mae:0.059732\n",
      "[17]\teval-mae:0.058564\ttrain-mae:0.058166\n",
      "[18]\teval-mae:0.05706\ttrain-mae:0.056663\n",
      "[19]\teval-mae:0.055719\ttrain-mae:0.055317\n",
      "[20]\teval-mae:0.054422\ttrain-mae:0.054026\n",
      "[21]\teval-mae:0.05326\ttrain-mae:0.052864\n",
      "[22]\teval-mae:0.052156\ttrain-mae:0.051762\n",
      "[23]\teval-mae:0.051151\ttrain-mae:0.050758\n",
      "[24]\teval-mae:0.050203\ttrain-mae:0.049814\n",
      "[25]\teval-mae:0.049358\ttrain-mae:0.048972\n",
      "[26]\teval-mae:0.048573\ttrain-mae:0.048189\n",
      "[27]\teval-mae:0.047848\ttrain-mae:0.047465\n",
      "[28]\teval-mae:0.047146\ttrain-mae:0.046767\n",
      "[29]\teval-mae:0.046527\ttrain-mae:0.046148\n",
      "[30]\teval-mae:0.045945\ttrain-mae:0.045566\n",
      "[31]\teval-mae:0.045416\ttrain-mae:0.045037\n",
      "[32]\teval-mae:0.044901\ttrain-mae:0.044523\n",
      "[33]\teval-mae:0.044422\ttrain-mae:0.044041\n",
      "[34]\teval-mae:0.043997\ttrain-mae:0.043621\n",
      "[35]\teval-mae:0.043599\ttrain-mae:0.043222\n",
      "[36]\teval-mae:0.043191\ttrain-mae:0.04282\n",
      "[37]\teval-mae:0.042836\ttrain-mae:0.042465\n",
      "[38]\teval-mae:0.04251\ttrain-mae:0.04214\n",
      "[39]\teval-mae:0.042219\ttrain-mae:0.041851\n",
      "[40]\teval-mae:0.041934\ttrain-mae:0.04157\n",
      "[41]\teval-mae:0.041662\ttrain-mae:0.041303\n",
      "[42]\teval-mae:0.041417\ttrain-mae:0.041058\n",
      "[43]\teval-mae:0.041156\ttrain-mae:0.040797\n",
      "[44]\teval-mae:0.040934\ttrain-mae:0.040576\n",
      "[45]\teval-mae:0.040726\ttrain-mae:0.040371\n",
      "[46]\teval-mae:0.040514\ttrain-mae:0.040161\n",
      "[47]\teval-mae:0.040343\ttrain-mae:0.039991\n",
      "[48]\teval-mae:0.040173\ttrain-mae:0.039821\n",
      "[49]\teval-mae:0.040018\ttrain-mae:0.039672\n",
      "[50]\teval-mae:0.039857\ttrain-mae:0.039509\n",
      "[51]\teval-mae:0.039721\ttrain-mae:0.03937\n",
      "[52]\teval-mae:0.03956\ttrain-mae:0.039211\n",
      "[53]\teval-mae:0.039423\ttrain-mae:0.039076\n",
      "[54]\teval-mae:0.039287\ttrain-mae:0.03894\n",
      "[55]\teval-mae:0.039182\ttrain-mae:0.038833\n",
      "[56]\teval-mae:0.039084\ttrain-mae:0.038737\n",
      "[57]\teval-mae:0.038985\ttrain-mae:0.038636\n",
      "[58]\teval-mae:0.038882\ttrain-mae:0.038531\n",
      "[59]\teval-mae:0.038801\ttrain-mae:0.038447\n",
      "[60]\teval-mae:0.038715\ttrain-mae:0.038361\n",
      "[61]\teval-mae:0.038629\ttrain-mae:0.038274\n",
      "[62]\teval-mae:0.038534\ttrain-mae:0.038183\n",
      "[63]\teval-mae:0.038452\ttrain-mae:0.038103\n",
      "[64]\teval-mae:0.038389\ttrain-mae:0.038039\n",
      "[65]\teval-mae:0.038319\ttrain-mae:0.037966\n",
      "[66]\teval-mae:0.038238\ttrain-mae:0.037887\n",
      "[67]\teval-mae:0.038181\ttrain-mae:0.037831\n",
      "[68]\teval-mae:0.038123\ttrain-mae:0.037771\n",
      "[69]\teval-mae:0.038051\ttrain-mae:0.037698\n",
      "[70]\teval-mae:0.037997\ttrain-mae:0.037645\n",
      "[71]\teval-mae:0.037943\ttrain-mae:0.037592\n",
      "[72]\teval-mae:0.037855\ttrain-mae:0.037507\n",
      "[73]\teval-mae:0.03781\ttrain-mae:0.03746\n",
      "[74]\teval-mae:0.037761\ttrain-mae:0.03741\n",
      "[75]\teval-mae:0.037724\ttrain-mae:0.037373\n",
      "[76]\teval-mae:0.03766\ttrain-mae:0.037311\n",
      "[77]\teval-mae:0.037614\ttrain-mae:0.037264\n",
      "[78]\teval-mae:0.03757\ttrain-mae:0.037219\n",
      "[79]\teval-mae:0.03753\ttrain-mae:0.037176\n",
      "[80]\teval-mae:0.037488\ttrain-mae:0.037135\n",
      "[81]\teval-mae:0.037454\ttrain-mae:0.0371\n",
      "[82]\teval-mae:0.037405\ttrain-mae:0.037053\n",
      "[83]\teval-mae:0.037367\ttrain-mae:0.037012\n",
      "[84]\teval-mae:0.037329\ttrain-mae:0.036975\n",
      "[85]\teval-mae:0.037301\ttrain-mae:0.036947\n",
      "[86]\teval-mae:0.037263\ttrain-mae:0.03691\n",
      "[87]\teval-mae:0.037235\ttrain-mae:0.036881\n",
      "[88]\teval-mae:0.037206\ttrain-mae:0.03685\n",
      "[89]\teval-mae:0.037174\ttrain-mae:0.036814\n",
      "[90]\teval-mae:0.037147\ttrain-mae:0.036789\n",
      "[91]\teval-mae:0.037112\ttrain-mae:0.036751\n",
      "[92]\teval-mae:0.037088\ttrain-mae:0.036726\n",
      "[93]\teval-mae:0.037059\ttrain-mae:0.036696\n",
      "[94]\teval-mae:0.037039\ttrain-mae:0.036674\n",
      "[95]\teval-mae:0.037014\ttrain-mae:0.036646\n",
      "[96]\teval-mae:0.036986\ttrain-mae:0.036617\n",
      "[97]\teval-mae:0.036964\ttrain-mae:0.036594\n",
      "[98]\teval-mae:0.036937\ttrain-mae:0.036563\n",
      "[99]\teval-mae:0.036904\ttrain-mae:0.03653\n",
      "[100]\teval-mae:0.036885\ttrain-mae:0.036511\n",
      "[101]\teval-mae:0.036855\ttrain-mae:0.036482\n",
      "[102]\teval-mae:0.03684\ttrain-mae:0.036465\n",
      "[103]\teval-mae:0.036818\ttrain-mae:0.036442\n",
      "[104]\teval-mae:0.0368\ttrain-mae:0.036423\n",
      "[105]\teval-mae:0.036769\ttrain-mae:0.036392\n",
      "[106]\teval-mae:0.03675\ttrain-mae:0.036369\n",
      "[107]\teval-mae:0.03673\ttrain-mae:0.036348\n",
      "[108]\teval-mae:0.036693\ttrain-mae:0.036312\n",
      "[109]\teval-mae:0.036667\ttrain-mae:0.036285\n",
      "[110]\teval-mae:0.036648\ttrain-mae:0.036262\n",
      "[111]\teval-mae:0.036631\ttrain-mae:0.036245\n",
      "[112]\teval-mae:0.036611\ttrain-mae:0.036225\n",
      "[113]\teval-mae:0.03659\ttrain-mae:0.036203\n",
      "[114]\teval-mae:0.036574\ttrain-mae:0.036187\n",
      "[115]\teval-mae:0.036559\ttrain-mae:0.036171\n",
      "[116]\teval-mae:0.036538\ttrain-mae:0.036152\n",
      "[117]\teval-mae:0.03652\ttrain-mae:0.036133\n",
      "[118]\teval-mae:0.036502\ttrain-mae:0.036117\n",
      "[119]\teval-mae:0.036488\ttrain-mae:0.0361\n",
      "[120]\teval-mae:0.036474\ttrain-mae:0.036085\n",
      "[121]\teval-mae:0.036459\ttrain-mae:0.036067\n",
      "[122]\teval-mae:0.036446\ttrain-mae:0.036054\n",
      "[123]\teval-mae:0.036432\ttrain-mae:0.03604\n",
      "[124]\teval-mae:0.036422\ttrain-mae:0.036028\n",
      "[125]\teval-mae:0.036396\ttrain-mae:0.036002\n",
      "[126]\teval-mae:0.036384\ttrain-mae:0.035987\n",
      "[127]\teval-mae:0.036373\ttrain-mae:0.035974\n",
      "[128]\teval-mae:0.036362\ttrain-mae:0.035961\n",
      "[129]\teval-mae:0.036345\ttrain-mae:0.035944\n",
      "[130]\teval-mae:0.036335\ttrain-mae:0.035932\n",
      "[131]\teval-mae:0.036323\ttrain-mae:0.035918\n",
      "[132]\teval-mae:0.036308\ttrain-mae:0.035902\n",
      "[133]\teval-mae:0.036294\ttrain-mae:0.035885\n",
      "[134]\teval-mae:0.036273\ttrain-mae:0.035864\n",
      "[135]\teval-mae:0.036264\ttrain-mae:0.035851\n",
      "[136]\teval-mae:0.036251\ttrain-mae:0.035838\n",
      "[137]\teval-mae:0.036237\ttrain-mae:0.035824\n",
      "[138]\teval-mae:0.036228\ttrain-mae:0.035813\n",
      "[139]\teval-mae:0.036218\ttrain-mae:0.035801\n",
      "[140]\teval-mae:0.036205\ttrain-mae:0.035787\n",
      "[141]\teval-mae:0.036184\ttrain-mae:0.035765\n",
      "[142]\teval-mae:0.036171\ttrain-mae:0.035752\n",
      "[143]\teval-mae:0.036165\ttrain-mae:0.035745\n",
      "[144]\teval-mae:0.036158\ttrain-mae:0.035735\n",
      "[145]\teval-mae:0.03615\ttrain-mae:0.035724\n",
      "[146]\teval-mae:0.036143\ttrain-mae:0.035716\n",
      "[147]\teval-mae:0.036133\ttrain-mae:0.035705\n",
      "[148]\teval-mae:0.036126\ttrain-mae:0.035696\n",
      "[149]\teval-mae:0.036113\ttrain-mae:0.035682\n",
      "[150]\teval-mae:0.036103\ttrain-mae:0.035671\n",
      "[151]\teval-mae:0.036094\ttrain-mae:0.03566\n",
      "[152]\teval-mae:0.036089\ttrain-mae:0.035653\n",
      "[153]\teval-mae:0.036078\ttrain-mae:0.035641\n",
      "[154]\teval-mae:0.036066\ttrain-mae:0.035629\n",
      "[155]\teval-mae:0.036062\ttrain-mae:0.035623\n",
      "[156]\teval-mae:0.036053\ttrain-mae:0.035612\n",
      "[157]\teval-mae:0.036037\ttrain-mae:0.035596\n",
      "[158]\teval-mae:0.036034\ttrain-mae:0.035589\n",
      "[159]\teval-mae:0.036026\ttrain-mae:0.03558\n",
      "[160]\teval-mae:0.036018\ttrain-mae:0.03557\n",
      "[161]\teval-mae:0.036006\ttrain-mae:0.035557\n",
      "[162]\teval-mae:0.036\ttrain-mae:0.035552\n",
      "[163]\teval-mae:0.035994\ttrain-mae:0.035544\n",
      "[164]\teval-mae:0.035987\ttrain-mae:0.035534\n",
      "[165]\teval-mae:0.035979\ttrain-mae:0.035524\n",
      "[166]\teval-mae:0.035973\ttrain-mae:0.035518\n",
      "[167]\teval-mae:0.035969\ttrain-mae:0.035511\n",
      "[168]\teval-mae:0.035963\ttrain-mae:0.035504\n",
      "[169]\teval-mae:0.035956\ttrain-mae:0.035496\n",
      "[170]\teval-mae:0.035948\ttrain-mae:0.035487\n",
      "[171]\teval-mae:0.035941\ttrain-mae:0.035477\n",
      "[172]\teval-mae:0.035936\ttrain-mae:0.035472\n",
      "[173]\teval-mae:0.03593\ttrain-mae:0.035465\n",
      "[174]\teval-mae:0.035922\ttrain-mae:0.035456\n",
      "[175]\teval-mae:0.035914\ttrain-mae:0.035448\n",
      "[176]\teval-mae:0.03591\ttrain-mae:0.03544\n",
      "[177]\teval-mae:0.035906\ttrain-mae:0.035435\n",
      "[178]\teval-mae:0.035901\ttrain-mae:0.035427\n",
      "[179]\teval-mae:0.035893\ttrain-mae:0.035418\n",
      "[180]\teval-mae:0.035886\ttrain-mae:0.035409\n",
      "[181]\teval-mae:0.035879\ttrain-mae:0.0354\n",
      "[182]\teval-mae:0.035875\ttrain-mae:0.035393\n",
      "[183]\teval-mae:0.03587\ttrain-mae:0.035387\n",
      "[184]\teval-mae:0.035867\ttrain-mae:0.035382\n",
      "[185]\teval-mae:0.035857\ttrain-mae:0.035372\n",
      "[186]\teval-mae:0.035853\ttrain-mae:0.035368\n",
      "[187]\teval-mae:0.035847\ttrain-mae:0.03536\n",
      "[188]\teval-mae:0.035844\ttrain-mae:0.035355\n",
      "[189]\teval-mae:0.035839\ttrain-mae:0.035349\n",
      "[190]\teval-mae:0.035835\ttrain-mae:0.035345\n",
      "[191]\teval-mae:0.035831\ttrain-mae:0.035338\n",
      "[192]\teval-mae:0.035827\ttrain-mae:0.035333\n",
      "[193]\teval-mae:0.035819\ttrain-mae:0.035325\n",
      "[194]\teval-mae:0.035816\ttrain-mae:0.03532\n",
      "[195]\teval-mae:0.035814\ttrain-mae:0.035316\n",
      "[196]\teval-mae:0.035808\ttrain-mae:0.035308\n",
      "[197]\teval-mae:0.035802\ttrain-mae:0.0353\n",
      "[198]\teval-mae:0.035798\ttrain-mae:0.035295\n",
      "[199]\teval-mae:0.035791\ttrain-mae:0.035287\n",
      "[200]\teval-mae:0.035784\ttrain-mae:0.035279\n",
      "[201]\teval-mae:0.035781\ttrain-mae:0.035274\n",
      "[202]\teval-mae:0.035778\ttrain-mae:0.03527\n",
      "[203]\teval-mae:0.035772\ttrain-mae:0.035261\n",
      "[204]\teval-mae:0.035767\ttrain-mae:0.035253\n",
      "[205]\teval-mae:0.035765\ttrain-mae:0.03525\n",
      "[206]\teval-mae:0.035759\ttrain-mae:0.035242\n",
      "[207]\teval-mae:0.035753\ttrain-mae:0.035235\n",
      "[208]\teval-mae:0.035748\ttrain-mae:0.035229\n",
      "[209]\teval-mae:0.035743\ttrain-mae:0.035222\n",
      "[210]\teval-mae:0.03574\ttrain-mae:0.035218\n",
      "[211]\teval-mae:0.035738\ttrain-mae:0.035214\n",
      "[212]\teval-mae:0.035734\ttrain-mae:0.035209\n",
      "[213]\teval-mae:0.035732\ttrain-mae:0.035204\n",
      "[214]\teval-mae:0.035727\ttrain-mae:0.035198\n",
      "[215]\teval-mae:0.035723\ttrain-mae:0.035192\n",
      "[216]\teval-mae:0.035718\ttrain-mae:0.035185\n",
      "[217]\teval-mae:0.035714\ttrain-mae:0.035178\n",
      "[218]\teval-mae:0.035711\ttrain-mae:0.035174\n",
      "[219]\teval-mae:0.035709\ttrain-mae:0.03517\n",
      "[220]\teval-mae:0.035706\ttrain-mae:0.035165\n",
      "[221]\teval-mae:0.035702\ttrain-mae:0.035158\n",
      "[222]\teval-mae:0.0357\ttrain-mae:0.035154\n",
      "[223]\teval-mae:0.035696\ttrain-mae:0.035149\n",
      "[224]\teval-mae:0.035693\ttrain-mae:0.035145\n",
      "[225]\teval-mae:0.035685\ttrain-mae:0.035137\n",
      "[226]\teval-mae:0.035683\ttrain-mae:0.035133\n",
      "[227]\teval-mae:0.035681\ttrain-mae:0.035129\n",
      "[228]\teval-mae:0.035674\ttrain-mae:0.035121\n",
      "[229]\teval-mae:0.035671\ttrain-mae:0.035118\n",
      "[230]\teval-mae:0.035667\ttrain-mae:0.035113\n",
      "[231]\teval-mae:0.03566\ttrain-mae:0.035105\n",
      "[232]\teval-mae:0.035656\ttrain-mae:0.035099\n",
      "[233]\teval-mae:0.035653\ttrain-mae:0.035093\n",
      "[234]\teval-mae:0.035647\ttrain-mae:0.035087\n",
      "[235]\teval-mae:0.035645\ttrain-mae:0.035084\n",
      "[236]\teval-mae:0.035642\ttrain-mae:0.035079\n",
      "[237]\teval-mae:0.035641\ttrain-mae:0.035076\n",
      "[238]\teval-mae:0.035637\ttrain-mae:0.035071\n",
      "[239]\teval-mae:0.035634\ttrain-mae:0.035067\n",
      "[240]\teval-mae:0.03563\ttrain-mae:0.03506\n",
      "[241]\teval-mae:0.035626\ttrain-mae:0.035056\n",
      "[242]\teval-mae:0.035623\ttrain-mae:0.035052\n",
      "[243]\teval-mae:0.035621\ttrain-mae:0.035049\n",
      "[244]\teval-mae:0.035619\ttrain-mae:0.035046\n",
      "[245]\teval-mae:0.035616\ttrain-mae:0.035041\n",
      "[246]\teval-mae:0.035613\ttrain-mae:0.035036\n",
      "[247]\teval-mae:0.035611\ttrain-mae:0.035033\n",
      "[248]\teval-mae:0.035608\ttrain-mae:0.035028\n",
      "[249]\teval-mae:0.035605\ttrain-mae:0.035024\n",
      "[250]\teval-mae:0.035603\ttrain-mae:0.035021\n",
      "[251]\teval-mae:0.0356\ttrain-mae:0.035017\n",
      "[252]\teval-mae:0.035597\ttrain-mae:0.035012\n",
      "[253]\teval-mae:0.035594\ttrain-mae:0.035006\n",
      "[254]\teval-mae:0.035591\ttrain-mae:0.035004\n",
      "[255]\teval-mae:0.035588\ttrain-mae:0.034999\n",
      "[256]\teval-mae:0.035584\ttrain-mae:0.034993\n",
      "[257]\teval-mae:0.035583\ttrain-mae:0.034989\n",
      "[258]\teval-mae:0.035581\ttrain-mae:0.034985\n",
      "[259]\teval-mae:0.035579\ttrain-mae:0.034982\n",
      "[260]\teval-mae:0.035576\ttrain-mae:0.034979\n",
      "[261]\teval-mae:0.035572\ttrain-mae:0.034973\n",
      "[262]\teval-mae:0.03557\ttrain-mae:0.034969\n",
      "[263]\teval-mae:0.035567\ttrain-mae:0.034964\n",
      "[264]\teval-mae:0.035564\ttrain-mae:0.034959\n",
      "[265]\teval-mae:0.035562\ttrain-mae:0.034955\n",
      "[266]\teval-mae:0.035559\ttrain-mae:0.034951\n",
      "[267]\teval-mae:0.035557\ttrain-mae:0.034947\n",
      "[268]\teval-mae:0.035554\ttrain-mae:0.034942\n",
      "[269]\teval-mae:0.035552\ttrain-mae:0.034938\n",
      "[270]\teval-mae:0.035547\ttrain-mae:0.034931\n",
      "[271]\teval-mae:0.035544\ttrain-mae:0.034928\n",
      "[272]\teval-mae:0.035542\ttrain-mae:0.034924\n",
      "[273]\teval-mae:0.035539\ttrain-mae:0.03492\n",
      "[274]\teval-mae:0.035537\ttrain-mae:0.034916\n",
      "[275]\teval-mae:0.035534\ttrain-mae:0.034911\n",
      "[276]\teval-mae:0.035533\ttrain-mae:0.034908\n",
      "[277]\teval-mae:0.035532\ttrain-mae:0.034904\n",
      "[278]\teval-mae:0.03553\ttrain-mae:0.034902\n",
      "[279]\teval-mae:0.035526\ttrain-mae:0.034896\n",
      "[280]\teval-mae:0.035523\ttrain-mae:0.034892\n",
      "[281]\teval-mae:0.035522\ttrain-mae:0.03489\n",
      "[282]\teval-mae:0.035519\ttrain-mae:0.034884\n",
      "[283]\teval-mae:0.035516\ttrain-mae:0.034879\n",
      "[284]\teval-mae:0.035514\ttrain-mae:0.034876\n",
      "[285]\teval-mae:0.035511\ttrain-mae:0.034872\n",
      "[286]\teval-mae:0.03551\ttrain-mae:0.034869\n",
      "[287]\teval-mae:0.035507\ttrain-mae:0.034864\n",
      "[288]\teval-mae:0.035505\ttrain-mae:0.034861\n",
      "[289]\teval-mae:0.035503\ttrain-mae:0.034858\n",
      "[290]\teval-mae:0.035502\ttrain-mae:0.034855\n",
      "[291]\teval-mae:0.0355\ttrain-mae:0.03485\n",
      "[292]\teval-mae:0.035498\ttrain-mae:0.034848\n",
      "[293]\teval-mae:0.035494\ttrain-mae:0.034842\n",
      "[294]\teval-mae:0.035492\ttrain-mae:0.034838\n",
      "[295]\teval-mae:0.035491\ttrain-mae:0.034836\n",
      "[296]\teval-mae:0.035488\ttrain-mae:0.034832\n",
      "[297]\teval-mae:0.035486\ttrain-mae:0.034828\n",
      "[298]\teval-mae:0.035484\ttrain-mae:0.034825\n",
      "[299]\teval-mae:0.035481\ttrain-mae:0.034821\n",
      "[300]\teval-mae:0.03548\ttrain-mae:0.034819\n",
      "[301]\teval-mae:0.035477\ttrain-mae:0.034815\n",
      "[302]\teval-mae:0.035474\ttrain-mae:0.034811\n",
      "[303]\teval-mae:0.035471\ttrain-mae:0.034807\n",
      "[304]\teval-mae:0.03547\ttrain-mae:0.034805\n",
      "[305]\teval-mae:0.035468\ttrain-mae:0.034803\n",
      "[306]\teval-mae:0.035467\ttrain-mae:0.034799\n",
      "[307]\teval-mae:0.035464\ttrain-mae:0.034795\n",
      "[308]\teval-mae:0.035462\ttrain-mae:0.034792\n",
      "[309]\teval-mae:0.035461\ttrain-mae:0.034789\n",
      "[310]\teval-mae:0.035459\ttrain-mae:0.034786\n",
      "[311]\teval-mae:0.035457\ttrain-mae:0.034783\n",
      "[312]\teval-mae:0.035456\ttrain-mae:0.034779\n",
      "[313]\teval-mae:0.035453\ttrain-mae:0.034775\n",
      "[314]\teval-mae:0.035453\ttrain-mae:0.034773\n",
      "[315]\teval-mae:0.03545\ttrain-mae:0.034769\n",
      "[316]\teval-mae:0.03545\ttrain-mae:0.034767\n",
      "[317]\teval-mae:0.035448\ttrain-mae:0.034763\n",
      "[318]\teval-mae:0.035446\ttrain-mae:0.034759\n",
      "[319]\teval-mae:0.035443\ttrain-mae:0.034756\n",
      "[320]\teval-mae:0.03544\ttrain-mae:0.034753\n",
      "[321]\teval-mae:0.035438\ttrain-mae:0.034749\n",
      "[322]\teval-mae:0.035435\ttrain-mae:0.034745\n",
      "[323]\teval-mae:0.035433\ttrain-mae:0.03474\n",
      "[324]\teval-mae:0.035432\ttrain-mae:0.034736\n",
      "[325]\teval-mae:0.035431\ttrain-mae:0.034733\n",
      "[326]\teval-mae:0.03543\ttrain-mae:0.034732\n",
      "[327]\teval-mae:0.035428\ttrain-mae:0.034729\n",
      "[328]\teval-mae:0.035426\ttrain-mae:0.034725\n",
      "[329]\teval-mae:0.035425\ttrain-mae:0.034722\n",
      "[330]\teval-mae:0.035423\ttrain-mae:0.034718\n",
      "[331]\teval-mae:0.035422\ttrain-mae:0.034715\n",
      "[332]\teval-mae:0.035421\ttrain-mae:0.034712\n",
      "[333]\teval-mae:0.035418\ttrain-mae:0.03471\n",
      "[334]\teval-mae:0.035415\ttrain-mae:0.034705\n",
      "[335]\teval-mae:0.035414\ttrain-mae:0.034702\n",
      "[336]\teval-mae:0.035413\ttrain-mae:0.0347\n",
      "[337]\teval-mae:0.035412\ttrain-mae:0.034698\n",
      "[338]\teval-mae:0.035409\ttrain-mae:0.034692\n",
      "[339]\teval-mae:0.035408\ttrain-mae:0.034689\n",
      "[340]\teval-mae:0.035406\ttrain-mae:0.034688\n",
      "[341]\teval-mae:0.035405\ttrain-mae:0.034686\n",
      "[342]\teval-mae:0.035404\ttrain-mae:0.034684\n",
      "[343]\teval-mae:0.035403\ttrain-mae:0.034682\n",
      "[344]\teval-mae:0.035403\ttrain-mae:0.034678\n",
      "[345]\teval-mae:0.035401\ttrain-mae:0.034675\n",
      "[346]\teval-mae:0.0354\ttrain-mae:0.034673\n",
      "[347]\teval-mae:0.035398\ttrain-mae:0.034669\n",
      "[348]\teval-mae:0.035396\ttrain-mae:0.034666\n",
      "[349]\teval-mae:0.035396\ttrain-mae:0.034663\n",
      "[350]\teval-mae:0.035394\ttrain-mae:0.034659\n",
      "[351]\teval-mae:0.035392\ttrain-mae:0.034657\n",
      "[352]\teval-mae:0.035391\ttrain-mae:0.034655\n",
      "[353]\teval-mae:0.035389\ttrain-mae:0.03465\n",
      "[354]\teval-mae:0.035389\ttrain-mae:0.034647\n",
      "[355]\teval-mae:0.035387\ttrain-mae:0.034644\n",
      "[356]\teval-mae:0.035385\ttrain-mae:0.034641\n",
      "[357]\teval-mae:0.035384\ttrain-mae:0.034638\n",
      "[358]\teval-mae:0.035382\ttrain-mae:0.034636\n",
      "[359]\teval-mae:0.035381\ttrain-mae:0.034634\n",
      "[360]\teval-mae:0.03538\ttrain-mae:0.034632\n",
      "[361]\teval-mae:0.035379\ttrain-mae:0.03463\n",
      "[362]\teval-mae:0.035377\ttrain-mae:0.034627\n",
      "[363]\teval-mae:0.035376\ttrain-mae:0.034623\n",
      "[364]\teval-mae:0.035373\ttrain-mae:0.03462\n",
      "[365]\teval-mae:0.035373\ttrain-mae:0.034618\n",
      "[366]\teval-mae:0.035372\ttrain-mae:0.034616\n",
      "[367]\teval-mae:0.035369\ttrain-mae:0.034611\n",
      "[368]\teval-mae:0.035368\ttrain-mae:0.034608\n",
      "[369]\teval-mae:0.035366\ttrain-mae:0.034605\n",
      "[370]\teval-mae:0.035364\ttrain-mae:0.034603\n",
      "[371]\teval-mae:0.035362\ttrain-mae:0.034601\n",
      "[372]\teval-mae:0.035361\ttrain-mae:0.034598\n",
      "[373]\teval-mae:0.035357\ttrain-mae:0.034594\n",
      "[374]\teval-mae:0.035357\ttrain-mae:0.034591\n",
      "[375]\teval-mae:0.035356\ttrain-mae:0.034589\n",
      "[376]\teval-mae:0.035356\ttrain-mae:0.034587\n",
      "[377]\teval-mae:0.035354\ttrain-mae:0.034585\n",
      "[378]\teval-mae:0.035352\ttrain-mae:0.034582\n",
      "[379]\teval-mae:0.035352\ttrain-mae:0.03458\n",
      "[380]\teval-mae:0.03535\ttrain-mae:0.034578\n",
      "[381]\teval-mae:0.035349\ttrain-mae:0.034576\n",
      "[382]\teval-mae:0.035348\ttrain-mae:0.034573\n",
      "[383]\teval-mae:0.035346\ttrain-mae:0.034569\n",
      "[384]\teval-mae:0.035344\ttrain-mae:0.034564\n",
      "[385]\teval-mae:0.035343\ttrain-mae:0.034562\n",
      "[386]\teval-mae:0.035342\ttrain-mae:0.03456\n",
      "[387]\teval-mae:0.035342\ttrain-mae:0.034559\n",
      "[388]\teval-mae:0.035338\ttrain-mae:0.034554\n",
      "[389]\teval-mae:0.035336\ttrain-mae:0.03455\n",
      "[390]\teval-mae:0.035334\ttrain-mae:0.034546\n",
      "[391]\teval-mae:0.035332\ttrain-mae:0.034543\n",
      "[392]\teval-mae:0.035331\ttrain-mae:0.034541\n",
      "[393]\teval-mae:0.03533\ttrain-mae:0.034538\n",
      "[394]\teval-mae:0.035329\ttrain-mae:0.034536\n",
      "[395]\teval-mae:0.035328\ttrain-mae:0.034534\n",
      "[396]\teval-mae:0.035327\ttrain-mae:0.03453\n",
      "[397]\teval-mae:0.035327\ttrain-mae:0.034528\n",
      "[398]\teval-mae:0.035325\ttrain-mae:0.034525\n",
      "[399]\teval-mae:0.035322\ttrain-mae:0.034521\n",
      "[400]\teval-mae:0.035322\ttrain-mae:0.034519\n",
      "[401]\teval-mae:0.035322\ttrain-mae:0.034518\n",
      "[402]\teval-mae:0.03532\ttrain-mae:0.034514\n",
      "[403]\teval-mae:0.035318\ttrain-mae:0.03451\n",
      "[404]\teval-mae:0.035315\ttrain-mae:0.034507\n",
      "[405]\teval-mae:0.035314\ttrain-mae:0.034504\n",
      "[406]\teval-mae:0.035311\ttrain-mae:0.034499\n",
      "[407]\teval-mae:0.035309\ttrain-mae:0.034496\n",
      "[408]\teval-mae:0.035308\ttrain-mae:0.034494\n",
      "[409]\teval-mae:0.035308\ttrain-mae:0.034493\n",
      "[410]\teval-mae:0.035306\ttrain-mae:0.03449\n",
      "[411]\teval-mae:0.035305\ttrain-mae:0.034486\n",
      "[412]\teval-mae:0.035303\ttrain-mae:0.034481\n",
      "[413]\teval-mae:0.035302\ttrain-mae:0.034479\n",
      "[414]\teval-mae:0.0353\ttrain-mae:0.034476\n",
      "[415]\teval-mae:0.035299\ttrain-mae:0.034472\n",
      "[416]\teval-mae:0.035298\ttrain-mae:0.034471\n",
      "[417]\teval-mae:0.035297\ttrain-mae:0.034469\n",
      "[418]\teval-mae:0.035297\ttrain-mae:0.034467\n",
      "[419]\teval-mae:0.035295\ttrain-mae:0.034464\n",
      "[420]\teval-mae:0.035295\ttrain-mae:0.034461\n",
      "[421]\teval-mae:0.035294\ttrain-mae:0.03446\n",
      "[422]\teval-mae:0.035293\ttrain-mae:0.034455\n",
      "[423]\teval-mae:0.035293\ttrain-mae:0.034454\n",
      "[424]\teval-mae:0.03529\ttrain-mae:0.034451\n",
      "[425]\teval-mae:0.03529\ttrain-mae:0.034449\n",
      "[426]\teval-mae:0.035289\ttrain-mae:0.034448\n",
      "[427]\teval-mae:0.035288\ttrain-mae:0.034445\n",
      "[428]\teval-mae:0.035286\ttrain-mae:0.034442\n",
      "[429]\teval-mae:0.035286\ttrain-mae:0.034441\n",
      "[430]\teval-mae:0.035285\ttrain-mae:0.034438\n",
      "[431]\teval-mae:0.035284\ttrain-mae:0.034436\n",
      "[432]\teval-mae:0.035283\ttrain-mae:0.034432\n",
      "[433]\teval-mae:0.035281\ttrain-mae:0.034429\n",
      "[434]\teval-mae:0.035281\ttrain-mae:0.034428\n",
      "[435]\teval-mae:0.035279\ttrain-mae:0.034424\n",
      "[436]\teval-mae:0.035277\ttrain-mae:0.03442\n",
      "[437]\teval-mae:0.035277\ttrain-mae:0.034418\n",
      "[438]\teval-mae:0.035274\ttrain-mae:0.034415\n",
      "[439]\teval-mae:0.035273\ttrain-mae:0.034412\n",
      "[440]\teval-mae:0.035272\ttrain-mae:0.03441\n",
      "[441]\teval-mae:0.035272\ttrain-mae:0.034407\n",
      "[442]\teval-mae:0.035272\ttrain-mae:0.034405\n",
      "[443]\teval-mae:0.035271\ttrain-mae:0.034402\n",
      "[444]\teval-mae:0.03527\ttrain-mae:0.034399\n",
      "[445]\teval-mae:0.035269\ttrain-mae:0.034397\n",
      "[446]\teval-mae:0.035268\ttrain-mae:0.034395\n",
      "[447]\teval-mae:0.035267\ttrain-mae:0.034393\n",
      "[448]\teval-mae:0.035267\ttrain-mae:0.034392\n",
      "[449]\teval-mae:0.035267\ttrain-mae:0.034389\n",
      "[450]\teval-mae:0.035266\ttrain-mae:0.034387\n",
      "[451]\teval-mae:0.035264\ttrain-mae:0.034384\n",
      "[452]\teval-mae:0.035264\ttrain-mae:0.034382\n",
      "[453]\teval-mae:0.035263\ttrain-mae:0.034379\n",
      "[454]\teval-mae:0.035262\ttrain-mae:0.034377\n",
      "[455]\teval-mae:0.035262\ttrain-mae:0.034375\n",
      "[456]\teval-mae:0.035261\ttrain-mae:0.034373\n",
      "[457]\teval-mae:0.035259\ttrain-mae:0.034371\n",
      "[458]\teval-mae:0.035257\ttrain-mae:0.034369\n",
      "[459]\teval-mae:0.035255\ttrain-mae:0.034364\n",
      "[460]\teval-mae:0.035255\ttrain-mae:0.034361\n",
      "[461]\teval-mae:0.035254\ttrain-mae:0.034359\n",
      "[462]\teval-mae:0.035253\ttrain-mae:0.034357\n",
      "[463]\teval-mae:0.035253\ttrain-mae:0.034355\n",
      "[464]\teval-mae:0.035251\ttrain-mae:0.034352\n",
      "[465]\teval-mae:0.035249\ttrain-mae:0.034348\n",
      "[466]\teval-mae:0.035248\ttrain-mae:0.034347\n",
      "[467]\teval-mae:0.035247\ttrain-mae:0.034344\n",
      "[468]\teval-mae:0.035246\ttrain-mae:0.034342\n",
      "[469]\teval-mae:0.035245\ttrain-mae:0.03434\n",
      "[470]\teval-mae:0.035243\ttrain-mae:0.034337\n",
      "[471]\teval-mae:0.035241\ttrain-mae:0.034334\n",
      "[472]\teval-mae:0.03524\ttrain-mae:0.034332\n",
      "[473]\teval-mae:0.03524\ttrain-mae:0.034331\n",
      "[474]\teval-mae:0.035239\ttrain-mae:0.034329\n",
      "[475]\teval-mae:0.035238\ttrain-mae:0.034328\n",
      "[476]\teval-mae:0.035238\ttrain-mae:0.034326\n",
      "[477]\teval-mae:0.035237\ttrain-mae:0.034323\n",
      "[478]\teval-mae:0.035235\ttrain-mae:0.034319\n",
      "[479]\teval-mae:0.035235\ttrain-mae:0.034318\n",
      "[480]\teval-mae:0.035234\ttrain-mae:0.034315\n",
      "[481]\teval-mae:0.035233\ttrain-mae:0.034313\n",
      "[482]\teval-mae:0.035232\ttrain-mae:0.03431\n",
      "[483]\teval-mae:0.035231\ttrain-mae:0.034307\n",
      "[484]\teval-mae:0.03523\ttrain-mae:0.034303\n",
      "[485]\teval-mae:0.035229\ttrain-mae:0.034301\n",
      "[486]\teval-mae:0.035229\ttrain-mae:0.034299\n",
      "[487]\teval-mae:0.035229\ttrain-mae:0.034298\n",
      "[488]\teval-mae:0.035228\ttrain-mae:0.034295\n",
      "[489]\teval-mae:0.035228\ttrain-mae:0.034294\n",
      "[490]\teval-mae:0.035227\ttrain-mae:0.034292\n",
      "[491]\teval-mae:0.035226\ttrain-mae:0.034291\n",
      "[492]\teval-mae:0.035226\ttrain-mae:0.034289\n",
      "[493]\teval-mae:0.035224\ttrain-mae:0.034286\n",
      "[494]\teval-mae:0.035222\ttrain-mae:0.034282\n",
      "[495]\teval-mae:0.035222\ttrain-mae:0.03428\n",
      "[496]\teval-mae:0.035222\ttrain-mae:0.034279\n",
      "[497]\teval-mae:0.035221\ttrain-mae:0.034277\n",
      "[498]\teval-mae:0.03522\ttrain-mae:0.034274\n",
      "[499]\teval-mae:0.035219\ttrain-mae:0.034272\n",
      "[500]\teval-mae:0.035219\ttrain-mae:0.03427\n",
      "[501]\teval-mae:0.035218\ttrain-mae:0.034269\n",
      "[502]\teval-mae:0.035216\ttrain-mae:0.034265\n",
      "[503]\teval-mae:0.035215\ttrain-mae:0.034262\n",
      "[504]\teval-mae:0.035214\ttrain-mae:0.034259\n",
      "[505]\teval-mae:0.035213\ttrain-mae:0.034256\n",
      "[506]\teval-mae:0.035213\ttrain-mae:0.034254\n",
      "[507]\teval-mae:0.035213\ttrain-mae:0.034252\n",
      "[508]\teval-mae:0.035212\ttrain-mae:0.03425\n",
      "[509]\teval-mae:0.035212\ttrain-mae:0.034249\n",
      "[510]\teval-mae:0.035211\ttrain-mae:0.034248\n",
      "[511]\teval-mae:0.035211\ttrain-mae:0.034246\n",
      "[512]\teval-mae:0.03521\ttrain-mae:0.034243\n",
      "[513]\teval-mae:0.035209\ttrain-mae:0.034242\n",
      "[514]\teval-mae:0.035208\ttrain-mae:0.03424\n",
      "[515]\teval-mae:0.035207\ttrain-mae:0.034237\n",
      "[516]\teval-mae:0.035207\ttrain-mae:0.034235\n",
      "[517]\teval-mae:0.035207\ttrain-mae:0.034233\n",
      "[518]\teval-mae:0.035205\ttrain-mae:0.03423\n",
      "[519]\teval-mae:0.035205\ttrain-mae:0.034229\n",
      "[520]\teval-mae:0.035204\ttrain-mae:0.034227\n",
      "[521]\teval-mae:0.035204\ttrain-mae:0.034224\n",
      "[522]\teval-mae:0.035203\ttrain-mae:0.034222\n",
      "[523]\teval-mae:0.035203\ttrain-mae:0.03422\n",
      "[524]\teval-mae:0.035203\ttrain-mae:0.034219\n",
      "[525]\teval-mae:0.035202\ttrain-mae:0.034217\n",
      "[526]\teval-mae:0.035202\ttrain-mae:0.034215\n",
      "[527]\teval-mae:0.035201\ttrain-mae:0.034214\n",
      "[528]\teval-mae:0.0352\ttrain-mae:0.034211\n",
      "[529]\teval-mae:0.0352\ttrain-mae:0.034209\n",
      "[530]\teval-mae:0.035198\ttrain-mae:0.034206\n",
      "[531]\teval-mae:0.035197\ttrain-mae:0.034203\n",
      "[532]\teval-mae:0.035195\ttrain-mae:0.034198\n",
      "[533]\teval-mae:0.035195\ttrain-mae:0.034196\n",
      "[534]\teval-mae:0.035195\ttrain-mae:0.034195\n",
      "[535]\teval-mae:0.035195\ttrain-mae:0.034192\n",
      "[536]\teval-mae:0.035194\ttrain-mae:0.034191\n",
      "[537]\teval-mae:0.035193\ttrain-mae:0.034188\n",
      "[538]\teval-mae:0.035192\ttrain-mae:0.034187\n",
      "[539]\teval-mae:0.035192\ttrain-mae:0.034186\n",
      "[540]\teval-mae:0.035191\ttrain-mae:0.034183\n",
      "[541]\teval-mae:0.03519\ttrain-mae:0.03418\n",
      "[542]\teval-mae:0.03519\ttrain-mae:0.034177\n",
      "[543]\teval-mae:0.035189\ttrain-mae:0.034174\n",
      "[544]\teval-mae:0.035187\ttrain-mae:0.034171\n",
      "[545]\teval-mae:0.035187\ttrain-mae:0.034169\n",
      "[546]\teval-mae:0.035187\ttrain-mae:0.034167\n",
      "[547]\teval-mae:0.035186\ttrain-mae:0.034166\n",
      "[548]\teval-mae:0.035186\ttrain-mae:0.034163\n",
      "[549]\teval-mae:0.035184\ttrain-mae:0.03416\n",
      "[550]\teval-mae:0.035183\ttrain-mae:0.034157\n",
      "[551]\teval-mae:0.035182\ttrain-mae:0.034155\n",
      "[552]\teval-mae:0.035181\ttrain-mae:0.034154\n",
      "[553]\teval-mae:0.035181\ttrain-mae:0.034152\n",
      "[554]\teval-mae:0.03518\ttrain-mae:0.034151\n",
      "[555]\teval-mae:0.035178\ttrain-mae:0.034147\n",
      "[556]\teval-mae:0.035176\ttrain-mae:0.034144\n",
      "[557]\teval-mae:0.035176\ttrain-mae:0.034142\n",
      "[558]\teval-mae:0.035175\ttrain-mae:0.034139\n",
      "[559]\teval-mae:0.035175\ttrain-mae:0.034137\n",
      "[560]\teval-mae:0.035174\ttrain-mae:0.034136\n",
      "[561]\teval-mae:0.035174\ttrain-mae:0.034134\n",
      "[562]\teval-mae:0.035173\ttrain-mae:0.034132\n",
      "[563]\teval-mae:0.035172\ttrain-mae:0.034129\n",
      "[564]\teval-mae:0.035172\ttrain-mae:0.034127\n",
      "[565]\teval-mae:0.035172\ttrain-mae:0.034126\n",
      "[566]\teval-mae:0.035171\ttrain-mae:0.034124\n",
      "[567]\teval-mae:0.035171\ttrain-mae:0.034121\n",
      "[568]\teval-mae:0.03517\ttrain-mae:0.034118\n",
      "[569]\teval-mae:0.03517\ttrain-mae:0.034117\n",
      "[570]\teval-mae:0.03517\ttrain-mae:0.034114\n",
      "[571]\teval-mae:0.035169\ttrain-mae:0.034112\n",
      "[572]\teval-mae:0.035168\ttrain-mae:0.034108\n",
      "[573]\teval-mae:0.035167\ttrain-mae:0.034106\n",
      "[574]\teval-mae:0.035167\ttrain-mae:0.034103\n",
      "[575]\teval-mae:0.035166\ttrain-mae:0.034101\n",
      "[576]\teval-mae:0.035165\ttrain-mae:0.034099\n",
      "[577]\teval-mae:0.035164\ttrain-mae:0.034096\n",
      "[578]\teval-mae:0.035163\ttrain-mae:0.034093\n",
      "[579]\teval-mae:0.035162\ttrain-mae:0.03409\n",
      "[580]\teval-mae:0.035162\ttrain-mae:0.034088\n",
      "[581]\teval-mae:0.035161\ttrain-mae:0.034086\n",
      "[582]\teval-mae:0.035161\ttrain-mae:0.034083\n",
      "[583]\teval-mae:0.035161\ttrain-mae:0.034083\n",
      "[584]\teval-mae:0.03516\ttrain-mae:0.03408\n",
      "[585]\teval-mae:0.03516\ttrain-mae:0.034078\n",
      "[586]\teval-mae:0.035159\ttrain-mae:0.034075\n",
      "[587]\teval-mae:0.035158\ttrain-mae:0.034073\n",
      "[588]\teval-mae:0.035158\ttrain-mae:0.03407\n",
      "[589]\teval-mae:0.035157\ttrain-mae:0.034068\n",
      "[590]\teval-mae:0.035157\ttrain-mae:0.034067\n",
      "[591]\teval-mae:0.035157\ttrain-mae:0.034066\n",
      "[592]\teval-mae:0.035157\ttrain-mae:0.034062\n",
      "[593]\teval-mae:0.035157\ttrain-mae:0.034061\n",
      "[594]\teval-mae:0.035156\ttrain-mae:0.034058\n",
      "[595]\teval-mae:0.035154\ttrain-mae:0.034055\n",
      "[596]\teval-mae:0.035154\ttrain-mae:0.034054\n",
      "[597]\teval-mae:0.035153\ttrain-mae:0.034052\n",
      "[598]\teval-mae:0.035152\ttrain-mae:0.03405\n",
      "[599]\teval-mae:0.035152\ttrain-mae:0.034048\n",
      "[600]\teval-mae:0.035152\ttrain-mae:0.034047\n",
      "[601]\teval-mae:0.03515\ttrain-mae:0.034043\n",
      "[602]\teval-mae:0.035149\ttrain-mae:0.03404\n",
      "[603]\teval-mae:0.035147\ttrain-mae:0.034036\n",
      "[604]\teval-mae:0.035146\ttrain-mae:0.034033\n",
      "[605]\teval-mae:0.035145\ttrain-mae:0.034029\n",
      "[606]\teval-mae:0.035145\ttrain-mae:0.034028\n",
      "[607]\teval-mae:0.035144\ttrain-mae:0.034025\n",
      "[608]\teval-mae:0.035144\ttrain-mae:0.034024\n",
      "[609]\teval-mae:0.035143\ttrain-mae:0.034022\n",
      "[610]\teval-mae:0.035142\ttrain-mae:0.034018\n",
      "[611]\teval-mae:0.035141\ttrain-mae:0.034017\n",
      "[612]\teval-mae:0.035141\ttrain-mae:0.034015\n",
      "[613]\teval-mae:0.035141\ttrain-mae:0.034013\n",
      "[614]\teval-mae:0.03514\ttrain-mae:0.034012\n",
      "[615]\teval-mae:0.03514\ttrain-mae:0.03401\n",
      "[616]\teval-mae:0.035141\ttrain-mae:0.034008\n",
      "[617]\teval-mae:0.03514\ttrain-mae:0.034006\n",
      "[618]\teval-mae:0.03514\ttrain-mae:0.034004\n",
      "[619]\teval-mae:0.03514\ttrain-mae:0.034002\n",
      "[620]\teval-mae:0.03514\ttrain-mae:0.034\n",
      "[621]\teval-mae:0.035139\ttrain-mae:0.033998\n",
      "[622]\teval-mae:0.035138\ttrain-mae:0.033996\n",
      "[623]\teval-mae:0.035137\ttrain-mae:0.033993\n",
      "[624]\teval-mae:0.035138\ttrain-mae:0.03399\n",
      "[625]\teval-mae:0.035137\ttrain-mae:0.033988\n",
      "[626]\teval-mae:0.035136\ttrain-mae:0.033986\n",
      "[627]\teval-mae:0.035135\ttrain-mae:0.033982\n",
      "[628]\teval-mae:0.035134\ttrain-mae:0.03398\n",
      "[629]\teval-mae:0.035133\ttrain-mae:0.033979\n",
      "[630]\teval-mae:0.035133\ttrain-mae:0.033978\n",
      "[631]\teval-mae:0.035133\ttrain-mae:0.033976\n",
      "[632]\teval-mae:0.035131\ttrain-mae:0.033973\n",
      "[633]\teval-mae:0.035131\ttrain-mae:0.033972\n",
      "[634]\teval-mae:0.035131\ttrain-mae:0.03397\n",
      "[635]\teval-mae:0.03513\ttrain-mae:0.033967\n",
      "[636]\teval-mae:0.03513\ttrain-mae:0.033965\n",
      "[637]\teval-mae:0.03513\ttrain-mae:0.033964\n",
      "[638]\teval-mae:0.03513\ttrain-mae:0.033962\n",
      "[639]\teval-mae:0.035129\ttrain-mae:0.033961\n",
      "[640]\teval-mae:0.035129\ttrain-mae:0.033959\n",
      "[641]\teval-mae:0.035128\ttrain-mae:0.033957\n",
      "[642]\teval-mae:0.035127\ttrain-mae:0.033954\n",
      "[643]\teval-mae:0.035127\ttrain-mae:0.033953\n",
      "[644]\teval-mae:0.035125\ttrain-mae:0.03395\n",
      "[645]\teval-mae:0.035124\ttrain-mae:0.033947\n",
      "[646]\teval-mae:0.035123\ttrain-mae:0.033944\n",
      "[647]\teval-mae:0.035124\ttrain-mae:0.033942\n",
      "[648]\teval-mae:0.035122\ttrain-mae:0.033938\n",
      "[649]\teval-mae:0.035122\ttrain-mae:0.033936\n",
      "[650]\teval-mae:0.035121\ttrain-mae:0.033934\n",
      "[651]\teval-mae:0.03512\ttrain-mae:0.033931\n",
      "[652]\teval-mae:0.03512\ttrain-mae:0.03393\n",
      "[653]\teval-mae:0.035119\ttrain-mae:0.033927\n",
      "[654]\teval-mae:0.035119\ttrain-mae:0.033924\n",
      "[655]\teval-mae:0.035118\ttrain-mae:0.033923\n",
      "[656]\teval-mae:0.035117\ttrain-mae:0.033921\n",
      "[657]\teval-mae:0.035117\ttrain-mae:0.033919\n",
      "[658]\teval-mae:0.035116\ttrain-mae:0.033917\n",
      "[659]\teval-mae:0.035116\ttrain-mae:0.033915\n",
      "[660]\teval-mae:0.035116\ttrain-mae:0.033912\n",
      "[661]\teval-mae:0.035116\ttrain-mae:0.03391\n",
      "[662]\teval-mae:0.035115\ttrain-mae:0.033907\n",
      "[663]\teval-mae:0.035114\ttrain-mae:0.033905\n",
      "[664]\teval-mae:0.035114\ttrain-mae:0.033902\n",
      "[665]\teval-mae:0.035113\ttrain-mae:0.0339\n",
      "[666]\teval-mae:0.035113\ttrain-mae:0.033899\n",
      "[667]\teval-mae:0.035112\ttrain-mae:0.033897\n",
      "[668]\teval-mae:0.035112\ttrain-mae:0.033894\n",
      "[669]\teval-mae:0.035111\ttrain-mae:0.033891\n",
      "[670]\teval-mae:0.035111\ttrain-mae:0.033889\n",
      "[671]\teval-mae:0.03511\ttrain-mae:0.033887\n",
      "[672]\teval-mae:0.03511\ttrain-mae:0.033886\n",
      "[673]\teval-mae:0.03511\ttrain-mae:0.033883\n",
      "[674]\teval-mae:0.035108\ttrain-mae:0.03388\n",
      "[675]\teval-mae:0.035107\ttrain-mae:0.033878\n",
      "[676]\teval-mae:0.035107\ttrain-mae:0.033877\n",
      "[677]\teval-mae:0.035106\ttrain-mae:0.033874\n",
      "[678]\teval-mae:0.035105\ttrain-mae:0.033871\n",
      "[679]\teval-mae:0.035105\ttrain-mae:0.03387\n",
      "[680]\teval-mae:0.035105\ttrain-mae:0.033869\n",
      "[681]\teval-mae:0.035105\ttrain-mae:0.033868\n",
      "[682]\teval-mae:0.035105\ttrain-mae:0.033867\n",
      "[683]\teval-mae:0.035104\ttrain-mae:0.033864\n",
      "[684]\teval-mae:0.035104\ttrain-mae:0.033862\n",
      "[685]\teval-mae:0.035104\ttrain-mae:0.033861\n",
      "[686]\teval-mae:0.035104\ttrain-mae:0.033859\n",
      "[687]\teval-mae:0.035103\ttrain-mae:0.033858\n",
      "[688]\teval-mae:0.035103\ttrain-mae:0.033856\n",
      "[689]\teval-mae:0.035103\ttrain-mae:0.033855\n",
      "[690]\teval-mae:0.035103\ttrain-mae:0.033853\n",
      "[691]\teval-mae:0.035103\ttrain-mae:0.033851\n",
      "[692]\teval-mae:0.035103\ttrain-mae:0.033848\n",
      "[693]\teval-mae:0.035102\ttrain-mae:0.033845\n",
      "[694]\teval-mae:0.035102\ttrain-mae:0.033843\n",
      "[695]\teval-mae:0.0351\ttrain-mae:0.03384\n",
      "[696]\teval-mae:0.0351\ttrain-mae:0.033839\n",
      "[697]\teval-mae:0.035099\ttrain-mae:0.033835\n",
      "[698]\teval-mae:0.035098\ttrain-mae:0.033832\n",
      "[699]\teval-mae:0.035098\ttrain-mae:0.03383\n",
      "[700]\teval-mae:0.035097\ttrain-mae:0.033827\n",
      "[701]\teval-mae:0.035096\ttrain-mae:0.033825\n",
      "[702]\teval-mae:0.035096\ttrain-mae:0.033823\n",
      "[703]\teval-mae:0.035095\ttrain-mae:0.033821\n",
      "[704]\teval-mae:0.035094\ttrain-mae:0.03382\n",
      "[705]\teval-mae:0.035094\ttrain-mae:0.033817\n",
      "[706]\teval-mae:0.035094\ttrain-mae:0.033815\n",
      "[707]\teval-mae:0.035094\ttrain-mae:0.033812\n",
      "[708]\teval-mae:0.035094\ttrain-mae:0.03381\n",
      "[709]\teval-mae:0.035093\ttrain-mae:0.033808\n",
      "[710]\teval-mae:0.035093\ttrain-mae:0.033807\n",
      "[711]\teval-mae:0.035093\ttrain-mae:0.033806\n",
      "[712]\teval-mae:0.035092\ttrain-mae:0.033804\n",
      "[713]\teval-mae:0.035092\ttrain-mae:0.033801\n",
      "[714]\teval-mae:0.035091\ttrain-mae:0.0338\n",
      "[715]\teval-mae:0.035091\ttrain-mae:0.033799\n",
      "[716]\teval-mae:0.035091\ttrain-mae:0.033797\n",
      "[717]\teval-mae:0.03509\ttrain-mae:0.033794\n",
      "[718]\teval-mae:0.03509\ttrain-mae:0.033791\n",
      "[719]\teval-mae:0.03509\ttrain-mae:0.033789\n",
      "[720]\teval-mae:0.035089\ttrain-mae:0.033787\n",
      "[721]\teval-mae:0.035089\ttrain-mae:0.033786\n",
      "[722]\teval-mae:0.035088\ttrain-mae:0.033783\n",
      "[723]\teval-mae:0.035088\ttrain-mae:0.033781\n",
      "[724]\teval-mae:0.035088\ttrain-mae:0.033779\n",
      "[725]\teval-mae:0.035088\ttrain-mae:0.033778\n",
      "[726]\teval-mae:0.035087\ttrain-mae:0.033776\n",
      "[727]\teval-mae:0.035086\ttrain-mae:0.033775\n",
      "[728]\teval-mae:0.035085\ttrain-mae:0.033772\n",
      "[729]\teval-mae:0.035085\ttrain-mae:0.03377\n",
      "[730]\teval-mae:0.035084\ttrain-mae:0.033768\n",
      "[731]\teval-mae:0.035084\ttrain-mae:0.033766\n",
      "[732]\teval-mae:0.035084\ttrain-mae:0.033764\n",
      "[733]\teval-mae:0.035084\ttrain-mae:0.033762\n",
      "[734]\teval-mae:0.035083\ttrain-mae:0.03376\n",
      "[735]\teval-mae:0.035084\ttrain-mae:0.033758\n",
      "[736]\teval-mae:0.035084\ttrain-mae:0.033756\n",
      "[737]\teval-mae:0.035084\ttrain-mae:0.033753\n",
      "[738]\teval-mae:0.035083\ttrain-mae:0.033751\n",
      "[739]\teval-mae:0.035081\ttrain-mae:0.033748\n",
      "[740]\teval-mae:0.035082\ttrain-mae:0.033745\n",
      "[741]\teval-mae:0.035082\ttrain-mae:0.033744\n",
      "[742]\teval-mae:0.035082\ttrain-mae:0.033743\n",
      "[743]\teval-mae:0.035082\ttrain-mae:0.033741\n",
      "[744]\teval-mae:0.035081\ttrain-mae:0.033739\n",
      "[745]\teval-mae:0.03508\ttrain-mae:0.033737\n",
      "[746]\teval-mae:0.03508\ttrain-mae:0.033734\n",
      "[747]\teval-mae:0.03508\ttrain-mae:0.033732\n",
      "[748]\teval-mae:0.03508\ttrain-mae:0.033731\n",
      "[749]\teval-mae:0.03508\ttrain-mae:0.033729\n",
      "[750]\teval-mae:0.03508\ttrain-mae:0.033726\n",
      "[751]\teval-mae:0.035079\ttrain-mae:0.033724\n",
      "[752]\teval-mae:0.035079\ttrain-mae:0.033722\n",
      "[753]\teval-mae:0.035079\ttrain-mae:0.03372\n",
      "[754]\teval-mae:0.035078\ttrain-mae:0.033718\n",
      "[755]\teval-mae:0.035078\ttrain-mae:0.033716\n",
      "[756]\teval-mae:0.035078\ttrain-mae:0.033716\n",
      "[757]\teval-mae:0.035078\ttrain-mae:0.033713\n",
      "[758]\teval-mae:0.035078\ttrain-mae:0.033712\n",
      "[759]\teval-mae:0.035078\ttrain-mae:0.033711\n",
      "[760]\teval-mae:0.035076\ttrain-mae:0.033708\n",
      "[761]\teval-mae:0.035077\ttrain-mae:0.033705\n",
      "[762]\teval-mae:0.035076\ttrain-mae:0.033704\n",
      "[763]\teval-mae:0.035076\ttrain-mae:0.033702\n",
      "[764]\teval-mae:0.035076\ttrain-mae:0.033701\n",
      "[765]\teval-mae:0.035075\ttrain-mae:0.033699\n",
      "[766]\teval-mae:0.035075\ttrain-mae:0.033699\n",
      "[767]\teval-mae:0.035075\ttrain-mae:0.033697\n",
      "[768]\teval-mae:0.035075\ttrain-mae:0.033695\n",
      "[769]\teval-mae:0.035075\ttrain-mae:0.033693\n",
      "[770]\teval-mae:0.035075\ttrain-mae:0.03369\n",
      "[771]\teval-mae:0.035075\ttrain-mae:0.033688\n",
      "[772]\teval-mae:0.035074\ttrain-mae:0.033686\n",
      "[773]\teval-mae:0.035074\ttrain-mae:0.033683\n",
      "[774]\teval-mae:0.035074\ttrain-mae:0.033681\n",
      "[775]\teval-mae:0.035074\ttrain-mae:0.033678\n",
      "[776]\teval-mae:0.035073\ttrain-mae:0.033675\n",
      "[777]\teval-mae:0.035073\ttrain-mae:0.033672\n",
      "[778]\teval-mae:0.035073\ttrain-mae:0.03367\n",
      "[779]\teval-mae:0.035073\ttrain-mae:0.033668\n",
      "[780]\teval-mae:0.035073\ttrain-mae:0.033666\n",
      "[781]\teval-mae:0.035073\ttrain-mae:0.033664\n",
      "[782]\teval-mae:0.035073\ttrain-mae:0.033663\n",
      "[783]\teval-mae:0.035072\ttrain-mae:0.033662\n",
      "[784]\teval-mae:0.035071\ttrain-mae:0.03366\n",
      "[785]\teval-mae:0.03507\ttrain-mae:0.033658\n",
      "[786]\teval-mae:0.035069\ttrain-mae:0.033655\n",
      "[787]\teval-mae:0.035069\ttrain-mae:0.033653\n",
      "[788]\teval-mae:0.035068\ttrain-mae:0.033652\n",
      "[789]\teval-mae:0.035068\ttrain-mae:0.033649\n",
      "[790]\teval-mae:0.035068\ttrain-mae:0.033648\n",
      "[791]\teval-mae:0.035068\ttrain-mae:0.033647\n",
      "[792]\teval-mae:0.035067\ttrain-mae:0.033645\n",
      "[793]\teval-mae:0.035067\ttrain-mae:0.033642\n",
      "[794]\teval-mae:0.035067\ttrain-mae:0.03364\n",
      "[795]\teval-mae:0.035066\ttrain-mae:0.033638\n",
      "[796]\teval-mae:0.035066\ttrain-mae:0.033636\n",
      "[797]\teval-mae:0.035066\ttrain-mae:0.033635\n",
      "[798]\teval-mae:0.035066\ttrain-mae:0.033633\n",
      "[799]\teval-mae:0.035065\ttrain-mae:0.033631\n",
      "[800]\teval-mae:0.035065\ttrain-mae:0.033628\n",
      "[801]\teval-mae:0.035064\ttrain-mae:0.033627\n",
      "[802]\teval-mae:0.035064\ttrain-mae:0.033624\n",
      "[803]\teval-mae:0.035064\ttrain-mae:0.033622\n",
      "[804]\teval-mae:0.035062\ttrain-mae:0.03362\n",
      "[805]\teval-mae:0.035062\ttrain-mae:0.033618\n",
      "[806]\teval-mae:0.035062\ttrain-mae:0.033616\n",
      "[807]\teval-mae:0.035061\ttrain-mae:0.033614\n",
      "[808]\teval-mae:0.035061\ttrain-mae:0.033612\n",
      "[809]\teval-mae:0.035061\ttrain-mae:0.03361\n",
      "[810]\teval-mae:0.035062\ttrain-mae:0.033608\n",
      "[811]\teval-mae:0.035061\ttrain-mae:0.033606\n",
      "[812]\teval-mae:0.035061\ttrain-mae:0.033604\n",
      "[813]\teval-mae:0.035061\ttrain-mae:0.033601\n",
      "[814]\teval-mae:0.03506\ttrain-mae:0.033599\n",
      "[815]\teval-mae:0.03506\ttrain-mae:0.033597\n",
      "[816]\teval-mae:0.03506\ttrain-mae:0.033596\n",
      "[817]\teval-mae:0.03506\ttrain-mae:0.033594\n",
      "[818]\teval-mae:0.035059\ttrain-mae:0.033592\n",
      "[819]\teval-mae:0.035059\ttrain-mae:0.03359\n",
      "[820]\teval-mae:0.035059\ttrain-mae:0.033588\n",
      "[821]\teval-mae:0.035059\ttrain-mae:0.033586\n",
      "[822]\teval-mae:0.035058\ttrain-mae:0.033584\n",
      "[823]\teval-mae:0.035058\ttrain-mae:0.033582\n",
      "[824]\teval-mae:0.035058\ttrain-mae:0.033581\n",
      "[825]\teval-mae:0.035058\ttrain-mae:0.03358\n",
      "[826]\teval-mae:0.035058\ttrain-mae:0.033578\n",
      "[827]\teval-mae:0.035058\ttrain-mae:0.033575\n",
      "[828]\teval-mae:0.035058\ttrain-mae:0.033573\n",
      "[829]\teval-mae:0.035058\ttrain-mae:0.033571\n",
      "[830]\teval-mae:0.035057\ttrain-mae:0.033569\n",
      "[831]\teval-mae:0.035056\ttrain-mae:0.033566\n",
      "[832]\teval-mae:0.035056\ttrain-mae:0.033563\n",
      "[833]\teval-mae:0.035055\ttrain-mae:0.033559\n",
      "[834]\teval-mae:0.035055\ttrain-mae:0.033558\n",
      "[835]\teval-mae:0.035055\ttrain-mae:0.033556\n",
      "[836]\teval-mae:0.035054\ttrain-mae:0.033554\n",
      "[837]\teval-mae:0.035053\ttrain-mae:0.033551\n",
      "[838]\teval-mae:0.035052\ttrain-mae:0.033549\n",
      "[839]\teval-mae:0.035052\ttrain-mae:0.033547\n",
      "[840]\teval-mae:0.035052\ttrain-mae:0.033546\n",
      "[841]\teval-mae:0.03505\ttrain-mae:0.033543\n",
      "[842]\teval-mae:0.035049\ttrain-mae:0.03354\n",
      "[843]\teval-mae:0.035048\ttrain-mae:0.033538\n",
      "[844]\teval-mae:0.035047\ttrain-mae:0.033535\n",
      "[845]\teval-mae:0.035048\ttrain-mae:0.033532\n",
      "[846]\teval-mae:0.035047\ttrain-mae:0.03353\n",
      "[847]\teval-mae:0.035047\ttrain-mae:0.033527\n",
      "[848]\teval-mae:0.035046\ttrain-mae:0.033524\n",
      "[849]\teval-mae:0.035045\ttrain-mae:0.033522\n",
      "[850]\teval-mae:0.035045\ttrain-mae:0.03352\n",
      "[851]\teval-mae:0.035045\ttrain-mae:0.033519\n",
      "[852]\teval-mae:0.035045\ttrain-mae:0.033517\n",
      "[853]\teval-mae:0.035045\ttrain-mae:0.033516\n",
      "[854]\teval-mae:0.035045\ttrain-mae:0.033514\n",
      "[855]\teval-mae:0.035044\ttrain-mae:0.033512\n",
      "[856]\teval-mae:0.035045\ttrain-mae:0.033511\n",
      "[857]\teval-mae:0.035044\ttrain-mae:0.03351\n",
      "[858]\teval-mae:0.035044\ttrain-mae:0.033509\n",
      "[859]\teval-mae:0.035044\ttrain-mae:0.033506\n",
      "[860]\teval-mae:0.035044\ttrain-mae:0.033505\n",
      "[861]\teval-mae:0.035044\ttrain-mae:0.033503\n",
      "[862]\teval-mae:0.035044\ttrain-mae:0.033501\n",
      "[863]\teval-mae:0.035044\ttrain-mae:0.0335\n",
      "[864]\teval-mae:0.035043\ttrain-mae:0.033499\n",
      "[865]\teval-mae:0.035043\ttrain-mae:0.033496\n",
      "[866]\teval-mae:0.035043\ttrain-mae:0.033495\n",
      "[867]\teval-mae:0.035044\ttrain-mae:0.033494\n",
      "[868]\teval-mae:0.035043\ttrain-mae:0.033492\n",
      "[869]\teval-mae:0.035043\ttrain-mae:0.03349\n",
      "[870]\teval-mae:0.035043\ttrain-mae:0.033488\n",
      "[871]\teval-mae:0.035043\ttrain-mae:0.033486\n",
      "[872]\teval-mae:0.035042\ttrain-mae:0.033486\n",
      "[873]\teval-mae:0.035042\ttrain-mae:0.033483\n",
      "[874]\teval-mae:0.035042\ttrain-mae:0.033481\n",
      "[875]\teval-mae:0.035041\ttrain-mae:0.033479\n",
      "[876]\teval-mae:0.035041\ttrain-mae:0.033477\n",
      "[877]\teval-mae:0.035041\ttrain-mae:0.033476\n",
      "[878]\teval-mae:0.035041\ttrain-mae:0.033474\n",
      "[879]\teval-mae:0.035041\ttrain-mae:0.033473\n",
      "[880]\teval-mae:0.035041\ttrain-mae:0.033471\n",
      "[881]\teval-mae:0.035041\ttrain-mae:0.03347\n",
      "[882]\teval-mae:0.035041\ttrain-mae:0.033468\n",
      "[883]\teval-mae:0.035041\ttrain-mae:0.033466\n",
      "[884]\teval-mae:0.03504\ttrain-mae:0.033464\n",
      "[885]\teval-mae:0.03504\ttrain-mae:0.033463\n",
      "[886]\teval-mae:0.03504\ttrain-mae:0.033461\n",
      "[887]\teval-mae:0.03504\ttrain-mae:0.033458\n",
      "[888]\teval-mae:0.035039\ttrain-mae:0.033457\n",
      "[889]\teval-mae:0.03504\ttrain-mae:0.033455\n",
      "[890]\teval-mae:0.035039\ttrain-mae:0.033454\n",
      "[891]\teval-mae:0.035039\ttrain-mae:0.033451\n",
      "[892]\teval-mae:0.035039\ttrain-mae:0.033449\n",
      "[893]\teval-mae:0.035039\ttrain-mae:0.033447\n",
      "[894]\teval-mae:0.035038\ttrain-mae:0.033445\n",
      "[895]\teval-mae:0.035038\ttrain-mae:0.033443\n",
      "[896]\teval-mae:0.035038\ttrain-mae:0.033441\n",
      "[897]\teval-mae:0.035038\ttrain-mae:0.033438\n",
      "[898]\teval-mae:0.035038\ttrain-mae:0.033436\n",
      "[899]\teval-mae:0.035037\ttrain-mae:0.033434\n",
      "[900]\teval-mae:0.035037\ttrain-mae:0.033433\n",
      "[901]\teval-mae:0.035036\ttrain-mae:0.03343\n",
      "[902]\teval-mae:0.035036\ttrain-mae:0.033428\n",
      "[903]\teval-mae:0.035036\ttrain-mae:0.033426\n",
      "[904]\teval-mae:0.035036\ttrain-mae:0.033423\n",
      "[905]\teval-mae:0.035036\ttrain-mae:0.033422\n",
      "[906]\teval-mae:0.035036\ttrain-mae:0.03342\n",
      "[907]\teval-mae:0.035036\ttrain-mae:0.033419\n",
      "[908]\teval-mae:0.035035\ttrain-mae:0.033417\n",
      "[909]\teval-mae:0.035035\ttrain-mae:0.033415\n",
      "[910]\teval-mae:0.035034\ttrain-mae:0.033413\n",
      "[911]\teval-mae:0.035034\ttrain-mae:0.033412\n",
      "[912]\teval-mae:0.035034\ttrain-mae:0.03341\n",
      "[913]\teval-mae:0.035034\ttrain-mae:0.033407\n",
      "[914]\teval-mae:0.035033\ttrain-mae:0.033405\n",
      "[915]\teval-mae:0.035033\ttrain-mae:0.033403\n",
      "[916]\teval-mae:0.035032\ttrain-mae:0.033401\n",
      "[917]\teval-mae:0.035032\ttrain-mae:0.033399\n",
      "[918]\teval-mae:0.035032\ttrain-mae:0.033397\n",
      "[919]\teval-mae:0.035032\ttrain-mae:0.033394\n",
      "[920]\teval-mae:0.035031\ttrain-mae:0.033392\n",
      "[921]\teval-mae:0.035031\ttrain-mae:0.033389\n",
      "[922]\teval-mae:0.035031\ttrain-mae:0.033389\n",
      "[923]\teval-mae:0.035031\ttrain-mae:0.033386\n",
      "[924]\teval-mae:0.03503\ttrain-mae:0.033385\n",
      "[925]\teval-mae:0.03503\ttrain-mae:0.033384\n",
      "[926]\teval-mae:0.03503\ttrain-mae:0.033382\n",
      "[927]\teval-mae:0.03503\ttrain-mae:0.03338\n",
      "[928]\teval-mae:0.03503\ttrain-mae:0.033378\n",
      "[929]\teval-mae:0.03503\ttrain-mae:0.033376\n",
      "[930]\teval-mae:0.03503\ttrain-mae:0.033374\n",
      "[931]\teval-mae:0.03503\ttrain-mae:0.033373\n",
      "[932]\teval-mae:0.03503\ttrain-mae:0.033372\n",
      "[933]\teval-mae:0.03503\ttrain-mae:0.03337\n",
      "[934]\teval-mae:0.03503\ttrain-mae:0.033369\n",
      "[935]\teval-mae:0.03503\ttrain-mae:0.033367\n",
      "[936]\teval-mae:0.03503\ttrain-mae:0.033365\n",
      "[937]\teval-mae:0.035029\ttrain-mae:0.033363\n",
      "[938]\teval-mae:0.035029\ttrain-mae:0.033362\n",
      "[939]\teval-mae:0.035028\ttrain-mae:0.03336\n",
      "[940]\teval-mae:0.035029\ttrain-mae:0.033358\n",
      "[941]\teval-mae:0.035029\ttrain-mae:0.033356\n",
      "[942]\teval-mae:0.035029\ttrain-mae:0.033354\n",
      "[943]\teval-mae:0.035029\ttrain-mae:0.033353\n",
      "[944]\teval-mae:0.035029\ttrain-mae:0.033352\n",
      "[945]\teval-mae:0.035029\ttrain-mae:0.033349\n",
      "[946]\teval-mae:0.035029\ttrain-mae:0.033348\n",
      "[947]\teval-mae:0.035028\ttrain-mae:0.033346\n",
      "[948]\teval-mae:0.035028\ttrain-mae:0.033345\n",
      "[949]\teval-mae:0.035028\ttrain-mae:0.033343\n",
      "[950]\teval-mae:0.035027\ttrain-mae:0.033341\n",
      "[951]\teval-mae:0.035027\ttrain-mae:0.03334\n",
      "[952]\teval-mae:0.035027\ttrain-mae:0.033338\n",
      "[953]\teval-mae:0.035026\ttrain-mae:0.033336\n",
      "[954]\teval-mae:0.035026\ttrain-mae:0.033334\n",
      "[955]\teval-mae:0.035026\ttrain-mae:0.033333\n",
      "[956]\teval-mae:0.035026\ttrain-mae:0.033331\n",
      "[957]\teval-mae:0.035026\ttrain-mae:0.03333\n",
      "[958]\teval-mae:0.035025\ttrain-mae:0.033328\n",
      "[959]\teval-mae:0.035026\ttrain-mae:0.033327\n",
      "[960]\teval-mae:0.035025\ttrain-mae:0.033325\n",
      "[961]\teval-mae:0.035025\ttrain-mae:0.033324\n",
      "[962]\teval-mae:0.035025\ttrain-mae:0.033323\n",
      "[963]\teval-mae:0.035025\ttrain-mae:0.033322\n",
      "[964]\teval-mae:0.035026\ttrain-mae:0.03332\n",
      "[965]\teval-mae:0.035025\ttrain-mae:0.033319\n",
      "[966]\teval-mae:0.035026\ttrain-mae:0.033317\n",
      "[967]\teval-mae:0.035024\ttrain-mae:0.033313\n",
      "[968]\teval-mae:0.035024\ttrain-mae:0.033311\n",
      "[969]\teval-mae:0.035024\ttrain-mae:0.03331\n",
      "[970]\teval-mae:0.035024\ttrain-mae:0.033308\n",
      "[971]\teval-mae:0.035024\ttrain-mae:0.033307\n",
      "[972]\teval-mae:0.035024\ttrain-mae:0.033306\n",
      "[973]\teval-mae:0.035024\ttrain-mae:0.033303\n",
      "[974]\teval-mae:0.035024\ttrain-mae:0.033302\n",
      "[975]\teval-mae:0.035025\ttrain-mae:0.0333\n",
      "[976]\teval-mae:0.035024\ttrain-mae:0.033299\n",
      "[977]\teval-mae:0.035024\ttrain-mae:0.033297\n",
      "[978]\teval-mae:0.035025\ttrain-mae:0.033295\n",
      "[979]\teval-mae:0.035025\ttrain-mae:0.033294\n",
      "[980]\teval-mae:0.035025\ttrain-mae:0.033292\n",
      "[981]\teval-mae:0.035025\ttrain-mae:0.033291\n",
      "[982]\teval-mae:0.035024\ttrain-mae:0.033289\n",
      "[983]\teval-mae:0.035024\ttrain-mae:0.033287\n",
      "[984]\teval-mae:0.035024\ttrain-mae:0.033285\n",
      "[985]\teval-mae:0.035024\ttrain-mae:0.033284\n",
      "[986]\teval-mae:0.035023\ttrain-mae:0.033282\n",
      "[987]\teval-mae:0.035024\ttrain-mae:0.033281\n",
      "[988]\teval-mae:0.035023\ttrain-mae:0.033279\n",
      "[989]\teval-mae:0.035023\ttrain-mae:0.033276\n",
      "[990]\teval-mae:0.035023\ttrain-mae:0.033274\n",
      "[991]\teval-mae:0.035023\ttrain-mae:0.033272\n",
      "[992]\teval-mae:0.035023\ttrain-mae:0.03327\n",
      "[993]\teval-mae:0.035023\ttrain-mae:0.033268\n",
      "[994]\teval-mae:0.035022\ttrain-mae:0.033266\n",
      "[995]\teval-mae:0.035022\ttrain-mae:0.033264\n",
      "[996]\teval-mae:0.035022\ttrain-mae:0.033262\n",
      "[997]\teval-mae:0.035021\ttrain-mae:0.033261\n",
      "[998]\teval-mae:0.03502\ttrain-mae:0.033259\n",
      "[999]\teval-mae:0.03502\ttrain-mae:0.033257\n"
     ]
    }
   ],
   "source": [
    "num_round = 1000\n",
    "# params = {'eval_metric':'mae','max_depth':6,'colsample_bytree':1,'alpha':1,'gamma':1,'eta':0.155,'min_child_weight':1}# 1134, 200 rounds\n",
    "# params = {'eval_metric':'mae','max_depth':6,'colsample_bytree':1,'alpha':1,'gamma':1,'eta':0.15,'min_child_weight':1}# 1133, 250 rounds\n",
    "# params = {'eval_metric':'mae','max_depth':6,'colsample_bytree':1,'alpha':1,'gamma':0,'eta':0.1,'min_child_weight':1}# 1128, 600 rounds\n",
    "params = {'eval_metric':'mae','max_depth':6,'colsample_bytree':1,'alpha':1,'gamma':0,'eta':0.05,'min_child_weight':0}# 1127, 1000\n",
    "\n",
    "watchlist  = [(d_val_xgb,'eval'), (d_train_xgb,'train')]\n",
    "gbt = xgb.train(params, d_train_xgb,num_round,watchlist)"
   ]
  },
  {
   "cell_type": "code",
   "execution_count": 46,
   "metadata": {
    "collapsed": false
   },
   "outputs": [
    {
     "name": "stdout",
     "output_type": "stream",
     "text": [
      "1127.45756915\n"
     ]
    }
   ],
   "source": [
    "print(mean_absolute_error(lossRestore(y_val,ymean,ystd),lossRestore(gbt.predict(x_val_xgb),ymean,ystd)))"
   ]
  },
  {
   "cell_type": "code",
   "execution_count": 47,
   "metadata": {
    "collapsed": false
   },
   "outputs": [],
   "source": [
    "y_pred_i = lossRestore(gbt.predict(d_test_xgb),ymean,ystd)\n",
    "y_pred.append(y_pred_i)\n",
    "y_pred_val.append(lossRestore(gbt.predict(x_val_xgb),ymean,ystd))"
   ]
  },
  {
   "cell_type": "markdown",
   "metadata": {},
   "source": [
    "### AdaBoost Regression"
   ]
  },
  {
   "cell_type": "code",
   "execution_count": null,
   "metadata": {
    "collapsed": true
   },
   "outputs": [],
   "source": [
    "from sklearn.ensemble import AdaBoostRegressor\n",
    "from sklearn.linear_model import Ridge"
   ]
  },
  {
   "cell_type": "code",
   "execution_count": null,
   "metadata": {
    "collapsed": false
   },
   "outputs": [],
   "source": [
    "# n_estimators = [30, 60, 90, 120]\n",
    "# n_estimators = [10,20,30,40]\n",
    "n_estimators = [6]\n",
    "base_estimator = Ridge(alpha = 40)\n",
    "err = 999999999\n",
    "n_estimator = 0\n",
    "random_state = 0\n",
    "for n_est in n_estimators:\n",
    "    tmpAdReg = AdaBoostRegressor(n_estimators = n_est, random_state = random_state,base_estimator = base_estimator)\n",
    "#     tmpAdReg = AdaBoostRegressor(n_estimators = n_est, random_state = random_state)\n",
    "    tmpAdReg.fit(x_train,y_train)\n",
    "    err_i = mean_absolute_error(lossRestore(y_val,ymean,ystd),lossRestore(tmpAdReg.predict(x_val),ymean,ystd))\n",
    "    print(err_i)\n",
    "    if err_i < err:\n",
    "        AdReg = tmpAdReg\n",
    "        n_estimator = n_est\n",
    "        err = err_i"
   ]
  },
  {
   "cell_type": "code",
   "execution_count": null,
   "metadata": {
    "collapsed": false
   },
   "outputs": [],
   "source": [
    "print('n_estimator = {}'.format(n_estimator))\n",
    "print(mean_absolute_error(lossRestore(y_val,ymean,ystd),lossRestore(AdReg.predict(x_val),ymean,ystd)))"
   ]
  },
  {
   "cell_type": "code",
   "execution_count": null,
   "metadata": {
    "collapsed": true
   },
   "outputs": [],
   "source": [
    "y_pred_i = lossRestore(AdReg.predict(x_Test),ymean,ystd)\n",
    "y_pred.append(y_pred_i)\n",
    "y_pred_val.append(lossRestore(AdReg.predict(x_val),ymean,ystd))"
   ]
  },
  {
   "cell_type": "markdown",
   "metadata": {},
   "source": [
    "### Skipped - K Nearest Neighbors"
   ]
  },
  {
   "cell_type": "code",
   "execution_count": null,
   "metadata": {
    "collapsed": true
   },
   "outputs": [],
   "source": [
    "# from sklearn.neighbors import KNeighborsRegressor"
   ]
  },
  {
   "cell_type": "code",
   "execution_count": null,
   "metadata": {
    "collapsed": false
   },
   "outputs": [],
   "source": [
    "# n_neighbors = [5, 10, 15]\n",
    "# weights = 'distance'\n",
    "# err = 999999999\n",
    "# n_nns = 0\n",
    "# # random_state = 0\n",
    "# for n_nn in n_neighbors:\n",
    "#     tmpKNReg = KNeighborsRegressor(n_neighbors = n_nn,weights = weights)\n",
    "#     tmpKNReg.fit(x_train,y_train)\n",
    "#     err_i = mean_absolute_error(lossRestore(y_val,ymean,ystd),lossRestore(tmpKNReg.predict(x_val),ymean,ystd))\n",
    "#     print(err_i)\n",
    "#     if err_i < err:\n",
    "#         KNReg = tmpKNReg\n",
    "#         n_nns = n_nn\n",
    "#         err = err_i"
   ]
  },
  {
   "cell_type": "code",
   "execution_count": null,
   "metadata": {
    "collapsed": false
   },
   "outputs": [],
   "source": [
    "# print('n_neighbors = {}'.format(n_nns))\n",
    "# print(mean_absolute_error(lossRestore(y_val,ymean,ystd),lossRestore(KNReg.predict(x_val),ymean,ystd)))"
   ]
  },
  {
   "cell_type": "code",
   "execution_count": null,
   "metadata": {
    "collapsed": true
   },
   "outputs": [],
   "source": [
    "# y_pred_i = lossRestore(KNReg.predict(x_Test),ymean,ystd)\n",
    "# y_pred.append(y_pred_i)\n",
    "# y_pred_val.append(lossRestore(KNReg.predict(x_val),ymean,ystd))"
   ]
  },
  {
   "cell_type": "markdown",
   "metadata": {},
   "source": [
    "### Linear SVR"
   ]
  },
  {
   "cell_type": "code",
   "execution_count": null,
   "metadata": {
    "collapsed": false
   },
   "outputs": [],
   "source": [
    "# from sklearn.svm import LinearSVR"
   ]
  },
  {
   "cell_type": "code",
   "execution_count": null,
   "metadata": {
    "collapsed": false
   },
   "outputs": [],
   "source": [
    "# # SVReg = svm.SVR(kernel = 'rbf')\n",
    "# # SVReg.fit(x_train,y_train)\n",
    "# SVReg = LinearSVR(C=0.5)\n",
    "# SVReg.fit(x_train,y_train)"
   ]
  },
  {
   "cell_type": "code",
   "execution_count": null,
   "metadata": {
    "collapsed": false
   },
   "outputs": [],
   "source": [
    "# print(mean_absolute_error(lossRestore(y_val,ymean,ystd),lossRestore(SVReg.predict(x_val),ymean,ystd)))"
   ]
  },
  {
   "cell_type": "code",
   "execution_count": null,
   "metadata": {
    "collapsed": true
   },
   "outputs": [],
   "source": [
    "# y_pred_i = lossRestore(SVReg.predict(x_Test),ymean,ystd)\n",
    "# y_pred.append(y_pred_i)\n",
    "# y_pred_val.append(lossRestore(SVReg.predict(x_val),ymean,ystd))"
   ]
  },
  {
   "cell_type": "markdown",
   "metadata": {},
   "source": [
    "### MLP Regressor"
   ]
  },
  {
   "cell_type": "code",
   "execution_count": null,
   "metadata": {
    "collapsed": true
   },
   "outputs": [],
   "source": [
    "from sklearn.neural_network import MLPRegressor"
   ]
  },
  {
   "cell_type": "code",
   "execution_count": null,
   "metadata": {
    "collapsed": false
   },
   "outputs": [],
   "source": [
    "MLPReg = MLPRegressor(alpha = 1e-5, hidden_layer_sizes = (35,3),random_state=0,early_stopping=True)\n",
    "MLPReg.fit(x_train,y_train)"
   ]
  },
  {
   "cell_type": "code",
   "execution_count": null,
   "metadata": {
    "collapsed": false
   },
   "outputs": [],
   "source": [
    "print(mean_absolute_error(lossRestore(y_val,ymean,ystd),lossRestore(MLPReg.predict(x_val),ymean,ystd)))"
   ]
  },
  {
   "cell_type": "code",
   "execution_count": null,
   "metadata": {
    "collapsed": true
   },
   "outputs": [],
   "source": [
    "y_pred_i = lossRestore(MLPReg.predict(x_Test),ymean,ystd)\n",
    "y_pred.append(y_pred_i)\n",
    "y_pred_val.append(lossRestore(MLPReg.predict(x_val),ymean,ystd))"
   ]
  },
  {
   "cell_type": "markdown",
   "metadata": {},
   "source": [
    "# save files for submission"
   ]
  },
  {
   "cell_type": "code",
   "execution_count": null,
   "metadata": {
    "collapsed": false
   },
   "outputs": [],
   "source": [
    "# ensemble the results\n",
    "y_pred.append(np.ndarray.mean(np.vstack(y_pred).T,axis=1))\n",
    "\n",
    "# ensembled y_val\n",
    "print('The loss of the ensembled result:')\n",
    "y_pred_val_en = np.ndarray.mean(np.vstack(y_pred_val).T,axis=1)\n",
    "mean_absolute_error(lossRestore(y_val,ymean,ystd),y_pred_val_en)"
   ]
  },
  {
   "cell_type": "code",
   "execution_count": null,
   "metadata": {
    "collapsed": false
   },
   "outputs": [],
   "source": [
    "# Save all the predictions for submission\n",
    "for i,stri in enumerate(testList):\n",
    "    submission['id'] = subId\n",
    "    submission['loss']=pd.Series(data=y_pred[i])\n",
    "    submission.to_csv('../output/'+stri+'.csv',index=False)"
   ]
  },
  {
   "cell_type": "code",
   "execution_count": null,
   "metadata": {
    "collapsed": false
   },
   "outputs": [],
   "source": [
    "from sklearn.externals import joblib\n",
    "joblib.dump([regCV, gbt, AdReg, MLPReg, y_pred, y_pred_val, x_train, x_val, y_train, y_val, x_Test]\n",
    "            ,'../output/models_data_on_raw_features.pkl',compress=3) \n",
    "\n",
    "# clf = joblib.load('filename.pkl') "
   ]
  },
  {
   "cell_type": "code",
   "execution_count": null,
   "metadata": {
    "collapsed": false
   },
   "outputs": [],
   "source": [
    "testList\n"
   ]
  },
  {
   "cell_type": "code",
   "execution_count": null,
   "metadata": {
    "collapsed": true
   },
   "outputs": [],
   "source": []
  }
 ],
 "metadata": {
  "kernelspec": {
   "display_name": "Python [Root]",
   "language": "python",
   "name": "Python [Root]"
  },
  "language_info": {
   "codemirror_mode": {
    "name": "ipython",
    "version": 2
   },
   "file_extension": ".py",
   "mimetype": "text/x-python",
   "name": "python",
   "nbconvert_exporter": "python",
   "pygments_lexer": "ipython2",
   "version": "2.7.12"
  }
 },
 "nbformat": 4,
 "nbformat_minor": 0
}
