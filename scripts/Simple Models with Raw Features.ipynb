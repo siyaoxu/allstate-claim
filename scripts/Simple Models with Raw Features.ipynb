{
 "cells": [
  {
   "cell_type": "markdown",
   "metadata": {},
   "source": [
    "# Load the data"
   ]
  },
  {
   "cell_type": "code",
   "execution_count": 55,
   "metadata": {
    "collapsed": false
   },
   "outputs": [],
   "source": [
    "# This Python 3 environment comes with many helpful analytics libraries installed\n",
    "# It is defined by the kaggle/python docker image: https://github.com/kaggle/docker-python\n",
    "# For example, here's several helpful packages to load in \n",
    "\n",
    "import numpy as np # linear algebra\n",
    "import pandas as pd # data processing, CSV file I/O (e.g. pd.read_csv)\n",
    "import scipy as sp\n",
    "\n",
    "# from scipy.special import erfinv\n",
    "from scipy.stats import norm\n",
    "\n",
    "# Input data files are available in the \"../input/\" directory.\n",
    "# For example, running this (by clicking run or pressing Shift+Enter) will list the files in the input directory\n",
    "\n",
    "# from subprocess import check_output\n",
    "# print(check_output([\"ls\", \"../input\"]).decode(\"utf8\"))\n",
    "\n",
    "# Any results you write to the current directory are saved as output.\n",
    "\n",
    "%matplotlib inline\n",
    "\n",
    "import matplotlib.pyplot as plt"
   ]
  },
  {
   "cell_type": "code",
   "execution_count": 56,
   "metadata": {
    "collapsed": false
   },
   "outputs": [],
   "source": [
    "data_train_raw = pd.read_csv('../input/train.csv')\n",
    "# data_train_raw = data_train_raw.sample(frac=0.01, random_state=0)\n",
    "data_test_raw = pd.read_csv('../input/test.csv')"
   ]
  },
  {
   "cell_type": "code",
   "execution_count": 57,
   "metadata": {
    "collapsed": false
   },
   "outputs": [
    {
     "data": {
      "text/plain": [
       "(188318, 132)"
      ]
     },
     "execution_count": 57,
     "metadata": {},
     "output_type": "execute_result"
    }
   ],
   "source": [
    "data_train_raw.shape"
   ]
  },
  {
   "cell_type": "markdown",
   "metadata": {},
   "source": [
    "# Data transformation"
   ]
  },
  {
   "cell_type": "code",
   "execution_count": 58,
   "metadata": {
    "collapsed": false
   },
   "outputs": [],
   "source": [
    "ylog=np.log1p(data_train_raw['loss'])\n",
    "ymean=ylog.mean()\n",
    "ystd=ylog.std()\n",
    "# ymean=0\n",
    "# ystd=1\n",
    "data_train_raw['loss_g']=(ylog-ymean)/ystd"
   ]
  },
  {
   "cell_type": "code",
   "execution_count": 59,
   "metadata": {
    "collapsed": false
   },
   "outputs": [
    {
     "name": "stdout",
     "output_type": "stream",
     "text": [
      "Mean of log1py: -1.13349409935e-13\n",
      "Std of log1py: 1.0\n",
      "Lower clipping bound: -3.0\n",
      "Upper clipping bound: 3.0\n",
      "Shape of cleaned data: (187954, 133)\n"
     ]
    }
   ],
   "source": [
    "# clean outliers in training data\n",
    "lossMean = data_train_raw['loss_g'].mean()\n",
    "lossStd = data_train_raw['loss_g'].std()\n",
    "print('Mean of log1py: {}'.format(lossMean))\n",
    "print('Std of log1py: {}'.format(lossStd))\n",
    "lbound = lossMean-3.0*lossStd\n",
    "ubound = lossMean+3.0*lossStd\n",
    "print('Lower clipping bound: {}\\nUpper clipping bound: {}'.format(lbound, ubound))\n",
    "data_train_raw = data_train_raw[(data_train_raw['loss_g']>=lbound) & (data_train_raw['loss_g']<=ubound)]\n",
    "print('Shape of cleaned data: {}'.format(data_train_raw.shape))"
   ]
  },
  {
   "cell_type": "code",
   "execution_count": 60,
   "metadata": {
    "collapsed": false
   },
   "outputs": [],
   "source": [
    "def ToUniform(y):\n",
    "    z = norm.cdf(-y/np.sqrt(2))\n",
    "    return z\n",
    "def UniformToGauss(z):\n",
    "    return -np.sqrt(2)*norm.ppf(z)*ystd+ymean\n",
    "# def BackToOriginal(z):\n",
    "#     return np.exp(UniformToGauss(z))\n",
    "\n",
    "data_train_raw['loss_u']=ToUniform(data_train_raw['loss_g'])\n",
    "\n",
    "def lossRestore(logloss, ymean, ystd):\n",
    "    loss = np.expm1(logloss*ystd+ymean)\n",
    "    return loss"
   ]
  },
  {
   "cell_type": "code",
   "execution_count": 61,
   "metadata": {
    "collapsed": false
   },
   "outputs": [
    {
     "data": {
      "image/png": "[encoded data removed]",
      "text/plain": [
       "<matplotlib.figure.Figure at 0x7efbc36e8490>"
      ]
     },
     "metadata": {},
     "output_type": "display_data"
    }
   ],
   "source": [
    "plt.figure(figsize=(15,4))\n",
    "\n",
    "plt.subplot(2,2,1)\n",
    "plt.hist(data_train_raw['loss'],100)\n",
    "plt.title('loss');\n",
    "\n",
    "plt.subplot(2,2,2)\n",
    "plt.hist(ylog,100)\n",
    "plt.title('log(loss) - Gauss');\n",
    "\n",
    "plt.subplot(2,2,3)\n",
    "plt.hist(data_train_raw['loss_g'],100)\n",
    "plt.title('Normal');\n",
    "\n",
    "plt.subplot(2,2,4)\n",
    "plt.hist(lossRestore(data_train_raw['loss_g'],ymean,ystd),100)\n",
    "plt.title('Normal');"
   ]
  },
  {
   "cell_type": "markdown",
   "metadata": {},
   "source": [
    "# Data preparation - labeling encoder"
   ]
  },
  {
   "cell_type": "code",
   "execution_count": 62,
   "metadata": {
    "collapsed": false
   },
   "outputs": [
    {
     "name": "stdout",
     "output_type": "stream",
     "text": [
      "trainDf has features from the raw data:\n",
      "Index([u'cat1', u'cat2', u'cat3', u'cat4', u'cat5', u'cat6', u'cat7', u'cat8',\n",
      "       u'cat9', u'cat10',\n",
      "       ...\n",
      "       u'cont5', u'cont6', u'cont7', u'cont8', u'cont9', u'cont10', u'cont11',\n",
      "       u'cont12', u'cont13', u'cont14'],\n",
      "      dtype='object', length=130)\n",
      "testDf has features from the raw data:\n",
      "Index([u'cat1', u'cat2', u'cat3', u'cat4', u'cat5', u'cat6', u'cat7', u'cat8',\n",
      "       u'cat9', u'cat10',\n",
      "       ...\n",
      "       u'cont5', u'cont6', u'cont7', u'cont8', u'cont9', u'cont10', u'cont11',\n",
      "       u'cont12', u'cont13', u'cont14'],\n",
      "      dtype='object', length=130)\n"
     ]
    }
   ],
   "source": [
    "# save label in a seperate serie\n",
    "labelSs = data_train_raw['loss_g'] \n",
    "trainDf = data_train_raw.drop(['id','loss','loss_g','loss_u'],axis=1)\n",
    "subId = data_test_raw['id']\n",
    "testDf = data_test_raw.drop(['id'],axis=1)\n",
    "\n",
    "print('trainDf has features from the raw data:\\n{}'.format(trainDf.columns))\n",
    "print('testDf has features from the raw data:\\n{}'.format(testDf.columns))"
   ]
  },
  {
   "cell_type": "code",
   "execution_count": 63,
   "metadata": {
    "collapsed": false
   },
   "outputs": [
    {
     "name": "stdout",
     "output_type": "stream",
     "text": [
      "the stacked data's dimension are:\n",
      "(313500, 130)\n",
      "(313500, 116) of which are categorical\n",
      "(313500, 14) of which are continuous\n"
     ]
    }
   ],
   "source": [
    "dataAll = pd.concat([trainDf,testDf])\n",
    "dataCatAll = dataAll.select_dtypes(include=['object'])\n",
    "dataFltAll = dataAll.select_dtypes(include=['float64'])\n",
    "print('the stacked data\\'s dimension are:\\n{}'.format(dataAll.shape))\n",
    "print('{} of which are categorical'.format(dataCatAll.shape))\n",
    "print('{} of which are continuous'.format(dataFltAll.shape))"
   ]
  },
  {
   "cell_type": "code",
   "execution_count": 64,
   "metadata": {
    "collapsed": false
   },
   "outputs": [
    {
     "name": "stderr",
     "output_type": "stream",
     "text": [
      "/home/ec2-user/anaconda2/lib/python2.7/site-packages/ipykernel/__main__.py:7: SettingWithCopyWarning: \n",
      "A value is trying to be set on a copy of a slice from a DataFrame.\n",
      "Try using .loc[row_indexer,col_indexer] = value instead\n",
      "\n",
      "See the caveats in the documentation: http://pandas.pydata.org/pandas-docs/stable/indexing.html#indexing-view-versus-copy\n"
     ]
    },
    {
     "name": "stdout",
     "output_type": "stream",
     "text": [
      "Index([u'cat1', u'cat2', u'cat3', u'cat4', u'cat5', u'cat6', u'cat7', u'cat8',\n",
      "       u'cat9', u'cat10',\n",
      "       ...\n",
      "       u'cat107', u'cat108', u'cat109', u'cat110', u'cat111', u'cat112',\n",
      "       u'cat113', u'cat114', u'cat115', u'cat116'],\n",
      "      dtype='object', length=116)\n"
     ]
    }
   ],
   "source": [
    "from sklearn import preprocessing\n",
    "le = preprocessing.LabelEncoder()\n",
    "\n",
    "for col in dataCatAll.columns:\n",
    "    if (col.find('cat') !=-1):\n",
    "#        print(col)\n",
    "        dataCatAll[col]=le.fit_transform(dataCatAll[col])\n",
    "#         dataAll[col] = dataAll[col].map(lambda s: '<unknown>' if s not in le.classes_ else s)\n",
    "#         le.classes_ = np.append(le.classes_, '<unknown>')\n",
    "#         data_test_raw[str(col+'_numerical')]=le.transform(data_test_raw[col])\n",
    "print(dataCatAll.columns)\n"
   ]
  },
  {
   "cell_type": "markdown",
   "metadata": {},
   "source": [
    "# restore to x_trainDf and x_testDf - skipped"
   ]
  },
  {
   "cell_type": "code",
   "execution_count": 65,
   "metadata": {
    "collapsed": false
   },
   "outputs": [],
   "source": [
    "# # hstack all the features and .\n",
    "# x_allDf = pd.concat([dataCatAll,dataFltAll],axis=1)\n",
    "# x_means = x_allDf.mean()\n",
    "# x_stds = x_allDf.std()\n",
    "# x_allDf = (x_allDf-x_means)/x_stds\n",
    "# x_allDf.head()"
   ]
  },
  {
   "cell_type": "code",
   "execution_count": 66,
   "metadata": {
    "collapsed": true
   },
   "outputs": [],
   "source": [
    "# x_Train = x_allDf.iloc[0:len(labelSs),:]\n",
    "# x_Test = x_allDf.iloc[len(labelSs):,:]\n",
    "# y_Train = labelSs"
   ]
  },
  {
   "cell_type": "markdown",
   "metadata": {},
   "source": [
    "# one-hot-encoding"
   ]
  },
  {
   "cell_type": "code",
   "execution_count": 67,
   "metadata": {
    "collapsed": false
   },
   "outputs": [
    {
     "name": "stdout",
     "output_type": "stream",
     "text": [
      "(313500, 1175)\n"
     ]
    }
   ],
   "source": [
    "# one-hot-encoding the categorical features\n",
    "enc = preprocessing.OneHotEncoder()\n",
    "x_catAll = enc.fit_transform(dataCatAll)\n",
    "print(x_catAll.shape)"
   ]
  },
  {
   "cell_type": "code",
   "execution_count": 68,
   "metadata": {
    "collapsed": false
   },
   "outputs": [],
   "source": [
    "# split x_train and x_test\n",
    "x_Train = sp.sparse.hstack((x_catAll[0:len(labelSs),:], sp.sparse.csr_matrix(dataFltAll.as_matrix())[0:len(labelSs),:]))\n",
    "x_Test = sp.sparse.hstack((x_catAll[len(labelSs):,:], sp.sparse.csr_matrix(dataFltAll.as_matrix())[len(labelSs):,:]))\n",
    "y_Train = labelSs.values"
   ]
  },
  {
   "cell_type": "markdown",
   "metadata": {},
   "source": [
    "# check the dimension of prepared data"
   ]
  },
  {
   "cell_type": "code",
   "execution_count": 69,
   "metadata": {
    "collapsed": false
   },
   "outputs": [
    {
     "name": "stdout",
     "output_type": "stream",
     "text": [
      "(125546, 1189)\n",
      "(187954, 1189)\n",
      "(187954,)\n"
     ]
    }
   ],
   "source": [
    "print(x_Test.shape)\n",
    "print(x_Train.shape)\n",
    "print(y_Train.shape)"
   ]
  },
  {
   "cell_type": "markdown",
   "metadata": {},
   "source": [
    "# splite the training data for valication"
   ]
  },
  {
   "cell_type": "code",
   "execution_count": 70,
   "metadata": {
    "collapsed": false
   },
   "outputs": [
    {
     "name": "stdout",
     "output_type": "stream",
     "text": [
      "(150363, 1189)\n",
      "(150363,)\n",
      "(37591, 1189)\n",
      "(37591,)\n"
     ]
    }
   ],
   "source": [
    "from sklearn import cross_validation\n",
    "val_size = 0.2\n",
    "seed = 0\n",
    "x_train, x_val, y_train, y_val = cross_validation.train_test_split(x_Train, y_Train, test_size=val_size, random_state=seed)\n",
    "print(x_train.shape)\n",
    "print(y_train.shape)\n",
    "print(x_val.shape)\n",
    "print(y_val.shape)"
   ]
  },
  {
   "cell_type": "code",
   "execution_count": 71,
   "metadata": {
    "collapsed": true
   },
   "outputs": [],
   "source": [
    "del x_Train\n",
    "del y_Train\n",
    "del x_catAll\n",
    "del dataCatAll\n",
    "# del trainDf\n",
    "# del testDf"
   ]
  },
  {
   "cell_type": "markdown",
   "metadata": {},
   "source": [
    "# Model Fitting"
   ]
  },
  {
   "cell_type": "code",
   "execution_count": 72,
   "metadata": {
    "collapsed": true
   },
   "outputs": [],
   "source": [
    "from sklearn.metrics import mean_absolute_error\n",
    "y_pred = []\n",
    "y_pred_val = []\n",
    "submission = pd.read_csv('../input/sample_submission.csv')"
   ]
  },
  {
   "cell_type": "code",
   "execution_count": 252,
   "metadata": {
    "collapsed": true
   },
   "outputs": [],
   "source": [
    "testList = ['Ridge', 'XGBoostTrees', 'AdaBoosting', 'MLPRegressor','Ensemble']"
   ]
  },
  {
   "cell_type": "markdown",
   "metadata": {},
   "source": [
    "### Ridge Regression"
   ]
  },
  {
   "cell_type": "code",
   "execution_count": 73,
   "metadata": {
    "collapsed": true
   },
   "outputs": [],
   "source": [
    "from sklearn.linear_model import RidgeCV\n",
    "# from sklearn.linear_model import Ridge"
   ]
  },
  {
   "cell_type": "code",
   "execution_count": 74,
   "metadata": {
    "collapsed": false
   },
   "outputs": [
    {
     "name": "stdout",
     "output_type": "stream",
     "text": [
      "alpha: 40\n",
      "\n"
     ]
    }
   ],
   "source": [
    "cv = 3\n",
    "# alphas = (1e-2,1e-1,1,1e1,1e2)\n",
    "# alphas = (20,30,40)\n",
    "alphas = [40]\n",
    "regCV = RidgeCV(cv=cv,alphas = alphas)\n",
    "regCV.fit(x_train,y_train)\n",
    "print('alpha: {}\\n'.format(regCV.alpha_))\n",
    "# print('cv_values_: {}\\n'.format(regCV.cv_values_))"
   ]
  },
  {
   "cell_type": "code",
   "execution_count": 75,
   "metadata": {
    "collapsed": false
   },
   "outputs": [
    {
     "name": "stdout",
     "output_type": "stream",
     "text": [
      "1229.03505606\n"
     ]
    }
   ],
   "source": [
    "print(mean_absolute_error(lossRestore(y_val,ymean,ystd),lossRestore(regCV.predict(x_val),ymean,ystd)))"
   ]
  },
  {
   "cell_type": "code",
   "execution_count": 76,
   "metadata": {
    "collapsed": false
   },
   "outputs": [],
   "source": [
    "y_pred_i = lossRestore(regCV.predict(x_Test),ymean,ystd)\n",
    "y_pred.append(y_pred_i)\n",
    "y_pred_val.append(lossRestore(regCV.predict(x_val),ymean,ystd))"
   ]
  },
  {
   "cell_type": "markdown",
   "metadata": {},
   "source": [
    "### Lasso Regression"
   ]
  },
  {
   "cell_type": "code",
   "execution_count": 77,
   "metadata": {
    "collapsed": true
   },
   "outputs": [],
   "source": [
    "# from sklearn.linear_model import LassoCV"
   ]
  },
  {
   "cell_type": "code",
   "execution_count": 78,
   "metadata": {
    "collapsed": false
   },
   "outputs": [],
   "source": [
    "# cv = 3\n",
    "# # alphas = (1e-3,1e-2,1e-1,1,1e1,1e2,1e3)\n",
    "# # alphas = (0.0005,0.0007,0.001,0.003,0.005)\n",
    "# # alphas = [0.00005,0.0001,0.0003,0.0005]\n",
    "# alphas = [0.00005]\n",
    "# LassoCV = LassoCV(cv=cv,alphas = alphas)\n",
    "# LassoCV.fit(x_train,y_train)\n",
    "# print('alpha: {}\\n'.format(LassoCV.alpha_))"
   ]
  },
  {
   "cell_type": "code",
   "execution_count": 79,
   "metadata": {
    "collapsed": false
   },
   "outputs": [],
   "source": [
    "# print(mean_absolute_error(lossRestore(y_val,ymean,ystd),lossRestore(LassoCV.predict(x_val),ymean,ystd)))"
   ]
  },
  {
   "cell_type": "code",
   "execution_count": 80,
   "metadata": {
    "collapsed": false
   },
   "outputs": [],
   "source": [
    "# y_pred_i = lossRestore(LassoCV.predict(x_Test),ymean,ystd)\n",
    "# y_pred.append(y_pred_i)\n",
    "# y_pred_val.append(lossRestore(LassoCV.predict(x_val),ymean,ystd))"
   ]
  },
  {
   "cell_type": "markdown",
   "metadata": {},
   "source": [
    "### Skipped - Random Forest - using mse rather than mae, because the mae implementation is much slower."
   ]
  },
  {
   "cell_type": "code",
   "execution_count": 81,
   "metadata": {
    "collapsed": true
   },
   "outputs": [],
   "source": [
    "# from sklearn.ensemble import RandomForestRegressor"
   ]
  },
  {
   "cell_type": "code",
   "execution_count": 82,
   "metadata": {
    "collapsed": false
   },
   "outputs": [],
   "source": [
    "# criterion = 'mse'\n",
    "# n_estimators = [30]\n",
    "# err = 999999999\n",
    "# n_estimator = 0\n",
    "# random_state = 0\n",
    "# for n_est in n_estimators:\n",
    "#     tmpRFReg = RandomForestRegressor(n_estimators = n_est,criterion = criterion, random_state = random_state)\n",
    "#     tmpRFReg.fit(x_train,y_train)\n",
    "#     err_i = mean_absolute_error(lossRestore(y_val,ymean,ystd),lossRestore(tmpRFReg.predict(x_val),ymean,ystd))\n",
    "#     print(err_i)\n",
    "#     if err_i < err:\n",
    "#         RFReg = tmpRFReg\n",
    "#         n_estimator = n_est\n",
    "#         err = err_i"
   ]
  },
  {
   "cell_type": "code",
   "execution_count": 83,
   "metadata": {
    "collapsed": false
   },
   "outputs": [],
   "source": [
    "# print('n_estimator = {}'.format(n_estimator))\n",
    "# print(mean_absolute_error(lossRestore(y_val,ymean,ystd),lossRestore(RFReg.predict(x_val),ymean,ystd)))"
   ]
  },
  {
   "cell_type": "code",
   "execution_count": 84,
   "metadata": {
    "collapsed": false
   },
   "outputs": [],
   "source": [
    "# y_pred_i = lossRestore(RFReg.predict(x_Test),ymean,ystd)\n",
    "# y_pred.append(y_pred_i)\n",
    "# y_pred_val.append(lossRestore(RFReg.predict(x_val),ymean,ystd))"
   ]
  },
  {
   "cell_type": "markdown",
   "metadata": {},
   "source": [
    "### XGBoost Trees"
   ]
  },
  {
   "cell_type": "code",
   "execution_count": 85,
   "metadata": {
    "collapsed": false
   },
   "outputs": [],
   "source": [
    "import xgboost as xgb"
   ]
  },
  {
   "cell_type": "code",
   "execution_count": 86,
   "metadata": {
    "collapsed": false
   },
   "outputs": [],
   "source": [
    "d_train_xgb = xgb.DMatrix(x_train.tocsc(),label=y_train)\n",
    "d_val_xgb = xgb.DMatrix(x_val.tocsc(),label = y_val)\n",
    "x_val_xgb = xgb.DMatrix(x_val.tocsc())\n",
    "d_test_xgb = xgb.DMatrix(x_Test.tocsc())"
   ]
  },
  {
   "cell_type": "code",
   "execution_count": 227,
   "metadata": {
    "collapsed": false
   },
   "outputs": [
    {
     "name": "stdout",
     "output_type": "stream",
     "text": [
      "[0]\teval-mae:0.858036\ttrain-mae:0.860953\n",
      "[1]\teval-mae:0.816229\ttrain-mae:0.818634\n",
      "[2]\teval-mae:0.780731\ttrain-mae:0.782676\n",
      "[3]\teval-mae:0.750834\ttrain-mae:0.752338\n",
      "[4]\teval-mae:0.724744\ttrain-mae:0.72552\n",
      "[5]\teval-mae:0.703291\ttrain-mae:0.70364\n",
      "[6]\teval-mae:0.684084\ttrain-mae:0.684007\n",
      "[7]\teval-mae:0.667684\ttrain-mae:0.667135\n",
      "[8]\teval-mae:0.653741\ttrain-mae:0.652827\n",
      "[9]\teval-mae:0.640905\ttrain-mae:0.639673\n",
      "[10]\teval-mae:0.630606\ttrain-mae:0.629035\n",
      "[11]\teval-mae:0.621808\ttrain-mae:0.619868\n",
      "[12]\teval-mae:0.613286\ttrain-mae:0.611027\n",
      "[13]\teval-mae:0.606222\ttrain-mae:0.603766\n",
      "[14]\teval-mae:0.600056\ttrain-mae:0.597361\n",
      "[15]\teval-mae:0.594882\ttrain-mae:0.591895\n",
      "[16]\teval-mae:0.589638\ttrain-mae:0.586623\n",
      "[17]\teval-mae:0.58494\ttrain-mae:0.581553\n",
      "[18]\teval-mae:0.581038\ttrain-mae:0.577466\n",
      "[19]\teval-mae:0.577652\ttrain-mae:0.573851\n",
      "[20]\teval-mae:0.57411\ttrain-mae:0.570296\n",
      "[21]\teval-mae:0.570354\ttrain-mae:0.566406\n",
      "[22]\teval-mae:0.567531\ttrain-mae:0.563439\n",
      "[23]\teval-mae:0.5641\ttrain-mae:0.560054\n",
      "[24]\teval-mae:0.561841\ttrain-mae:0.557751\n",
      "[25]\teval-mae:0.559567\ttrain-mae:0.555368\n",
      "[26]\teval-mae:0.557159\ttrain-mae:0.552783\n",
      "[27]\teval-mae:0.555239\ttrain-mae:0.550665\n",
      "[28]\teval-mae:0.55364\ttrain-mae:0.548952\n",
      "[29]\teval-mae:0.551578\ttrain-mae:0.546785\n",
      "[30]\teval-mae:0.549932\ttrain-mae:0.544994\n",
      "[31]\teval-mae:0.548587\ttrain-mae:0.543589\n",
      "[32]\teval-mae:0.547205\ttrain-mae:0.542036\n",
      "[33]\teval-mae:0.545856\ttrain-mae:0.54053\n",
      "[34]\teval-mae:0.544543\ttrain-mae:0.539078\n",
      "[35]\teval-mae:0.542783\ttrain-mae:0.537162\n",
      "[36]\teval-mae:0.5418\ttrain-mae:0.536015\n",
      "[37]\teval-mae:0.540533\ttrain-mae:0.534665\n",
      "[38]\teval-mae:0.539751\ttrain-mae:0.533774\n",
      "[39]\teval-mae:0.539019\ttrain-mae:0.532971\n",
      "[40]\teval-mae:0.538203\ttrain-mae:0.532003\n",
      "[41]\teval-mae:0.537245\ttrain-mae:0.531005\n",
      "[42]\teval-mae:0.53609\ttrain-mae:0.52976\n",
      "[43]\teval-mae:0.535053\ttrain-mae:0.528639\n",
      "[44]\teval-mae:0.534359\ttrain-mae:0.527826\n",
      "[45]\teval-mae:0.533856\ttrain-mae:0.527232\n",
      "[46]\teval-mae:0.533101\ttrain-mae:0.526418\n",
      "[47]\teval-mae:0.532307\ttrain-mae:0.5255\n",
      "[48]\teval-mae:0.531448\ttrain-mae:0.524546\n",
      "[49]\teval-mae:0.530599\ttrain-mae:0.523618\n",
      "[50]\teval-mae:0.530054\ttrain-mae:0.522943\n",
      "[51]\teval-mae:0.529611\ttrain-mae:0.52238\n",
      "[52]\teval-mae:0.529128\ttrain-mae:0.521853\n",
      "[53]\teval-mae:0.528629\ttrain-mae:0.521218\n",
      "[54]\teval-mae:0.528073\ttrain-mae:0.520656\n",
      "[55]\teval-mae:0.527511\ttrain-mae:0.520006\n",
      "[56]\teval-mae:0.526641\ttrain-mae:0.519121\n",
      "[57]\teval-mae:0.52606\ttrain-mae:0.518548\n",
      "[58]\teval-mae:0.525666\ttrain-mae:0.517977\n",
      "[59]\teval-mae:0.525256\ttrain-mae:0.517488\n",
      "[60]\teval-mae:0.524783\ttrain-mae:0.516969\n",
      "[61]\teval-mae:0.524449\ttrain-mae:0.516535\n",
      "[62]\teval-mae:0.524008\ttrain-mae:0.516005\n",
      "[63]\teval-mae:0.523808\ttrain-mae:0.515673\n",
      "[64]\teval-mae:0.52349\ttrain-mae:0.515264\n",
      "[65]\teval-mae:0.523253\ttrain-mae:0.514936\n",
      "[66]\teval-mae:0.522896\ttrain-mae:0.51448\n",
      "[67]\teval-mae:0.5225\ttrain-mae:0.514036\n",
      "[68]\teval-mae:0.52226\ttrain-mae:0.513708\n",
      "[69]\teval-mae:0.522021\ttrain-mae:0.513413\n",
      "[70]\teval-mae:0.521861\ttrain-mae:0.51313\n",
      "[71]\teval-mae:0.521674\ttrain-mae:0.512843\n",
      "[72]\teval-mae:0.521403\ttrain-mae:0.512469\n",
      "[73]\teval-mae:0.521052\ttrain-mae:0.512074\n",
      "[74]\teval-mae:0.520811\ttrain-mae:0.511712\n",
      "[75]\teval-mae:0.520529\ttrain-mae:0.511331\n",
      "[76]\teval-mae:0.52031\ttrain-mae:0.511052\n",
      "[77]\teval-mae:0.520107\ttrain-mae:0.51077\n",
      "[78]\teval-mae:0.51987\ttrain-mae:0.510464\n",
      "[79]\teval-mae:0.5195\ttrain-mae:0.510018\n",
      "[80]\teval-mae:0.519343\ttrain-mae:0.509769\n",
      "[81]\teval-mae:0.519115\ttrain-mae:0.509452\n",
      "[82]\teval-mae:0.518973\ttrain-mae:0.509189\n",
      "[83]\teval-mae:0.518723\ttrain-mae:0.508835\n",
      "[84]\teval-mae:0.518592\ttrain-mae:0.508645\n",
      "[85]\teval-mae:0.518396\ttrain-mae:0.508381\n",
      "[86]\teval-mae:0.518275\ttrain-mae:0.508156\n",
      "[87]\teval-mae:0.518172\ttrain-mae:0.507972\n",
      "[88]\teval-mae:0.517935\ttrain-mae:0.507607\n",
      "[89]\teval-mae:0.517828\ttrain-mae:0.507393\n",
      "[90]\teval-mae:0.517738\ttrain-mae:0.507217\n",
      "[91]\teval-mae:0.517538\ttrain-mae:0.506891\n",
      "[92]\teval-mae:0.517423\ttrain-mae:0.506691\n",
      "[93]\teval-mae:0.517279\ttrain-mae:0.506456\n",
      "[94]\teval-mae:0.517022\ttrain-mae:0.506166\n",
      "[95]\teval-mae:0.516942\ttrain-mae:0.505981\n",
      "[96]\teval-mae:0.516813\ttrain-mae:0.505773\n",
      "[97]\teval-mae:0.516765\ttrain-mae:0.505598\n",
      "[98]\teval-mae:0.516681\ttrain-mae:0.505424\n",
      "[99]\teval-mae:0.516503\ttrain-mae:0.505159\n",
      "[100]\teval-mae:0.516258\ttrain-mae:0.504854\n",
      "[101]\teval-mae:0.516068\ttrain-mae:0.5046\n",
      "[102]\teval-mae:0.515973\ttrain-mae:0.504435\n",
      "[103]\teval-mae:0.51572\ttrain-mae:0.504131\n",
      "[104]\teval-mae:0.515567\ttrain-mae:0.503882\n",
      "[105]\teval-mae:0.515489\ttrain-mae:0.503744\n",
      "[106]\teval-mae:0.51532\ttrain-mae:0.503512\n",
      "[107]\teval-mae:0.515258\ttrain-mae:0.503377\n",
      "[108]\teval-mae:0.515179\ttrain-mae:0.503229\n",
      "[109]\teval-mae:0.515113\ttrain-mae:0.503064\n",
      "[110]\teval-mae:0.515075\ttrain-mae:0.502942\n",
      "[111]\teval-mae:0.514971\ttrain-mae:0.502744\n",
      "[112]\teval-mae:0.51494\ttrain-mae:0.502591\n",
      "[113]\teval-mae:0.514902\ttrain-mae:0.50243\n",
      "[114]\teval-mae:0.51486\ttrain-mae:0.502314\n",
      "[115]\teval-mae:0.51469\ttrain-mae:0.502073\n",
      "[116]\teval-mae:0.514568\ttrain-mae:0.501869\n",
      "[117]\teval-mae:0.514519\ttrain-mae:0.50179\n",
      "[118]\teval-mae:0.514408\ttrain-mae:0.501603\n",
      "[119]\teval-mae:0.514255\ttrain-mae:0.501326\n",
      "[120]\teval-mae:0.514155\ttrain-mae:0.501152\n",
      "[121]\teval-mae:0.514116\ttrain-mae:0.501036\n",
      "[122]\teval-mae:0.514033\ttrain-mae:0.500839\n",
      "[123]\teval-mae:0.513978\ttrain-mae:0.500716\n",
      "[124]\teval-mae:0.513948\ttrain-mae:0.500637\n",
      "[125]\teval-mae:0.513788\ttrain-mae:0.50037\n",
      "[126]\teval-mae:0.513695\ttrain-mae:0.500147\n",
      "[127]\teval-mae:0.513649\ttrain-mae:0.500016\n",
      "[128]\teval-mae:0.513523\ttrain-mae:0.499782\n",
      "[129]\teval-mae:0.513428\ttrain-mae:0.499635\n",
      "[130]\teval-mae:0.51336\ttrain-mae:0.49953\n",
      "[131]\teval-mae:0.513283\ttrain-mae:0.499377\n",
      "[132]\teval-mae:0.513195\ttrain-mae:0.499235\n",
      "[133]\teval-mae:0.513149\ttrain-mae:0.4991\n",
      "[134]\teval-mae:0.513071\ttrain-mae:0.498909\n",
      "[135]\teval-mae:0.513015\ttrain-mae:0.498765\n",
      "[136]\teval-mae:0.512977\ttrain-mae:0.498643\n",
      "[137]\teval-mae:0.512937\ttrain-mae:0.498548\n",
      "[138]\teval-mae:0.512904\ttrain-mae:0.498468\n",
      "[139]\teval-mae:0.512838\ttrain-mae:0.498368\n",
      "[140]\teval-mae:0.512741\ttrain-mae:0.498231\n",
      "[141]\teval-mae:0.512648\ttrain-mae:0.498024\n",
      "[142]\teval-mae:0.512603\ttrain-mae:0.497938\n",
      "[143]\teval-mae:0.512499\ttrain-mae:0.49775\n",
      "[144]\teval-mae:0.512431\ttrain-mae:0.497597\n",
      "[145]\teval-mae:0.512421\ttrain-mae:0.497476\n",
      "[146]\teval-mae:0.512369\ttrain-mae:0.497335\n",
      "[147]\teval-mae:0.512292\ttrain-mae:0.497182\n",
      "[148]\teval-mae:0.512286\ttrain-mae:0.497072\n",
      "[149]\teval-mae:0.512255\ttrain-mae:0.496936\n",
      "[150]\teval-mae:0.512192\ttrain-mae:0.496791\n",
      "[151]\teval-mae:0.512162\ttrain-mae:0.496717\n",
      "[152]\teval-mae:0.51212\ttrain-mae:0.496657\n",
      "[153]\teval-mae:0.512012\ttrain-mae:0.496496\n",
      "[154]\teval-mae:0.511962\ttrain-mae:0.496353\n",
      "[155]\teval-mae:0.511896\ttrain-mae:0.496235\n",
      "[156]\teval-mae:0.511878\ttrain-mae:0.49616\n",
      "[157]\teval-mae:0.511763\ttrain-mae:0.495954\n",
      "[158]\teval-mae:0.511678\ttrain-mae:0.495767\n",
      "[159]\teval-mae:0.51162\ttrain-mae:0.495664\n",
      "[160]\teval-mae:0.511598\ttrain-mae:0.495587\n",
      "[161]\teval-mae:0.511534\ttrain-mae:0.495415\n",
      "[162]\teval-mae:0.511516\ttrain-mae:0.495315\n",
      "[163]\teval-mae:0.51149\ttrain-mae:0.49523\n",
      "[164]\teval-mae:0.511422\ttrain-mae:0.495104\n",
      "[165]\teval-mae:0.511403\ttrain-mae:0.495017\n",
      "[166]\teval-mae:0.51142\ttrain-mae:0.494927\n",
      "[167]\teval-mae:0.511357\ttrain-mae:0.494791\n",
      "[168]\teval-mae:0.511325\ttrain-mae:0.494734\n",
      "[169]\teval-mae:0.511267\ttrain-mae:0.494635\n",
      "[170]\teval-mae:0.511214\ttrain-mae:0.494499\n",
      "[171]\teval-mae:0.51121\ttrain-mae:0.494428\n",
      "[172]\teval-mae:0.511173\ttrain-mae:0.494359\n",
      "[173]\teval-mae:0.511165\ttrain-mae:0.494281\n",
      "[174]\teval-mae:0.511115\ttrain-mae:0.494184\n",
      "[175]\teval-mae:0.511063\ttrain-mae:0.494012\n",
      "[176]\teval-mae:0.511026\ttrain-mae:0.493932\n",
      "[177]\teval-mae:0.510978\ttrain-mae:0.49385\n",
      "[178]\teval-mae:0.510914\ttrain-mae:0.493717\n",
      "[179]\teval-mae:0.510905\ttrain-mae:0.493624\n",
      "[180]\teval-mae:0.510865\ttrain-mae:0.493526\n",
      "[181]\teval-mae:0.51087\ttrain-mae:0.493466\n",
      "[182]\teval-mae:0.510841\ttrain-mae:0.493378\n",
      "[183]\teval-mae:0.510805\ttrain-mae:0.49326\n",
      "[184]\teval-mae:0.51078\ttrain-mae:0.493167\n",
      "[185]\teval-mae:0.510769\ttrain-mae:0.493129\n",
      "[186]\teval-mae:0.510738\ttrain-mae:0.493061\n",
      "[187]\teval-mae:0.510734\ttrain-mae:0.492949\n",
      "[188]\teval-mae:0.510692\ttrain-mae:0.492802\n",
      "[189]\teval-mae:0.510664\ttrain-mae:0.492707\n",
      "[190]\teval-mae:0.510594\ttrain-mae:0.492506\n",
      "[191]\teval-mae:0.510593\ttrain-mae:0.492479\n",
      "[192]\teval-mae:0.510552\ttrain-mae:0.492358\n",
      "[193]\teval-mae:0.51054\ttrain-mae:0.492289\n",
      "[194]\teval-mae:0.510528\ttrain-mae:0.492238\n",
      "[195]\teval-mae:0.510509\ttrain-mae:0.492195\n",
      "[196]\teval-mae:0.510498\ttrain-mae:0.49209\n",
      "[197]\teval-mae:0.510482\ttrain-mae:0.492013\n",
      "[198]\teval-mae:0.510402\ttrain-mae:0.491838\n",
      "[199]\teval-mae:0.510349\ttrain-mae:0.491661\n",
      "[200]\teval-mae:0.510301\ttrain-mae:0.491545\n",
      "[201]\teval-mae:0.510303\ttrain-mae:0.491465\n",
      "[202]\teval-mae:0.510293\ttrain-mae:0.491358\n",
      "[203]\teval-mae:0.510293\ttrain-mae:0.491331\n",
      "[204]\teval-mae:0.510284\ttrain-mae:0.491275\n",
      "[205]\teval-mae:0.510248\ttrain-mae:0.491183\n",
      "[206]\teval-mae:0.510242\ttrain-mae:0.4911\n",
      "[207]\teval-mae:0.51024\ttrain-mae:0.491017\n",
      "[208]\teval-mae:0.510221\ttrain-mae:0.49093\n",
      "[209]\teval-mae:0.51021\ttrain-mae:0.490868\n",
      "[210]\teval-mae:0.510187\ttrain-mae:0.490774\n",
      "[211]\teval-mae:0.510183\ttrain-mae:0.490655\n",
      "[212]\teval-mae:0.510163\ttrain-mae:0.49056\n",
      "[213]\teval-mae:0.510148\ttrain-mae:0.49046\n",
      "[214]\teval-mae:0.510135\ttrain-mae:0.490409\n",
      "[215]\teval-mae:0.510116\ttrain-mae:0.490328\n",
      "[216]\teval-mae:0.510035\ttrain-mae:0.490163\n",
      "[217]\teval-mae:0.510009\ttrain-mae:0.490024\n",
      "[218]\teval-mae:0.50999\ttrain-mae:0.489978\n",
      "[219]\teval-mae:0.509981\ttrain-mae:0.489913\n",
      "[220]\teval-mae:0.509965\ttrain-mae:0.489857\n",
      "[221]\teval-mae:0.509951\ttrain-mae:0.489775\n",
      "[222]\teval-mae:0.509946\ttrain-mae:0.489722\n",
      "[223]\teval-mae:0.509917\ttrain-mae:0.489677\n",
      "[224]\teval-mae:0.509857\ttrain-mae:0.489555\n",
      "[225]\teval-mae:0.509849\ttrain-mae:0.489493\n",
      "[226]\teval-mae:0.509844\ttrain-mae:0.489478\n",
      "[227]\teval-mae:0.509823\ttrain-mae:0.489364\n",
      "[228]\teval-mae:0.509789\ttrain-mae:0.489233\n",
      "[229]\teval-mae:0.509738\ttrain-mae:0.489109\n",
      "[230]\teval-mae:0.509708\ttrain-mae:0.489019\n",
      "[231]\teval-mae:0.509708\ttrain-mae:0.488956\n",
      "[232]\teval-mae:0.509709\ttrain-mae:0.488885\n",
      "[233]\teval-mae:0.509691\ttrain-mae:0.488828\n",
      "[234]\teval-mae:0.509657\ttrain-mae:0.488771\n",
      "[235]\teval-mae:0.509615\ttrain-mae:0.488613\n",
      "[236]\teval-mae:0.509586\ttrain-mae:0.488469\n",
      "[237]\teval-mae:0.509583\ttrain-mae:0.488421\n",
      "[238]\teval-mae:0.509584\ttrain-mae:0.488349\n",
      "[239]\teval-mae:0.509593\ttrain-mae:0.488318\n",
      "[240]\teval-mae:0.509575\ttrain-mae:0.488231\n",
      "[241]\teval-mae:0.509571\ttrain-mae:0.488152\n",
      "[242]\teval-mae:0.509569\ttrain-mae:0.488045\n",
      "[243]\teval-mae:0.509492\ttrain-mae:0.487908\n",
      "[244]\teval-mae:0.50947\ttrain-mae:0.487775\n",
      "[245]\teval-mae:0.509453\ttrain-mae:0.487678\n",
      "[246]\teval-mae:0.509431\ttrain-mae:0.487545\n",
      "[247]\teval-mae:0.509362\ttrain-mae:0.487404\n",
      "[248]\teval-mae:0.50935\ttrain-mae:0.487269\n",
      "[249]\teval-mae:0.509323\ttrain-mae:0.487155\n",
      "[250]\teval-mae:0.509331\ttrain-mae:0.487139\n",
      "[251]\teval-mae:0.509313\ttrain-mae:0.487046\n",
      "[252]\teval-mae:0.509311\ttrain-mae:0.487012\n",
      "[253]\teval-mae:0.509285\ttrain-mae:0.486854\n",
      "[254]\teval-mae:0.50927\ttrain-mae:0.48676\n",
      "[255]\teval-mae:0.509253\ttrain-mae:0.486697\n",
      "[256]\teval-mae:0.509257\ttrain-mae:0.486662\n",
      "[257]\teval-mae:0.509244\ttrain-mae:0.486603\n",
      "[258]\teval-mae:0.509202\ttrain-mae:0.486529\n",
      "[259]\teval-mae:0.509171\ttrain-mae:0.486417\n",
      "[260]\teval-mae:0.509151\ttrain-mae:0.486356\n",
      "[261]\teval-mae:0.50915\ttrain-mae:0.486316\n",
      "[262]\teval-mae:0.509104\ttrain-mae:0.486218\n",
      "[263]\teval-mae:0.509047\ttrain-mae:0.486083\n",
      "[264]\teval-mae:0.509043\ttrain-mae:0.486034\n",
      "[265]\teval-mae:0.509029\ttrain-mae:0.486006\n",
      "[266]\teval-mae:0.509016\ttrain-mae:0.485949\n",
      "[267]\teval-mae:0.509008\ttrain-mae:0.485917\n",
      "[268]\teval-mae:0.509\ttrain-mae:0.485878\n",
      "[269]\teval-mae:0.508972\ttrain-mae:0.485801\n",
      "[270]\teval-mae:0.508969\ttrain-mae:0.485753\n",
      "[271]\teval-mae:0.508963\ttrain-mae:0.485673\n",
      "[272]\teval-mae:0.508956\ttrain-mae:0.485608\n",
      "[273]\teval-mae:0.508946\ttrain-mae:0.485544\n",
      "[274]\teval-mae:0.508956\ttrain-mae:0.485475\n",
      "[275]\teval-mae:0.508949\ttrain-mae:0.485373\n",
      "[276]\teval-mae:0.508947\ttrain-mae:0.485346\n",
      "[277]\teval-mae:0.508939\ttrain-mae:0.485266\n",
      "[278]\teval-mae:0.508929\ttrain-mae:0.485227\n",
      "[279]\teval-mae:0.508922\ttrain-mae:0.48518\n",
      "[280]\teval-mae:0.508919\ttrain-mae:0.485137\n",
      "[281]\teval-mae:0.508904\ttrain-mae:0.485078\n",
      "[282]\teval-mae:0.508908\ttrain-mae:0.485049\n",
      "[283]\teval-mae:0.508923\ttrain-mae:0.484976\n",
      "[284]\teval-mae:0.508916\ttrain-mae:0.484915\n",
      "[285]\teval-mae:0.508902\ttrain-mae:0.484865\n",
      "[286]\teval-mae:0.508916\ttrain-mae:0.484818\n",
      "[287]\teval-mae:0.50891\ttrain-mae:0.484778\n",
      "[288]\teval-mae:0.508897\ttrain-mae:0.484747\n",
      "[289]\teval-mae:0.508891\ttrain-mae:0.484674\n",
      "[290]\teval-mae:0.508876\ttrain-mae:0.484617\n",
      "[291]\teval-mae:0.508866\ttrain-mae:0.484602\n",
      "[292]\teval-mae:0.508871\ttrain-mae:0.484568\n",
      "[293]\teval-mae:0.50883\ttrain-mae:0.484499\n",
      "[294]\teval-mae:0.508783\ttrain-mae:0.484383\n",
      "[295]\teval-mae:0.508771\ttrain-mae:0.484334\n",
      "[296]\teval-mae:0.508755\ttrain-mae:0.484291\n",
      "[297]\teval-mae:0.508754\ttrain-mae:0.484252\n",
      "[298]\teval-mae:0.508755\ttrain-mae:0.484192\n",
      "[299]\teval-mae:0.508734\ttrain-mae:0.484092\n",
      "[300]\teval-mae:0.508705\ttrain-mae:0.483969\n",
      "[301]\teval-mae:0.508693\ttrain-mae:0.483877\n",
      "[302]\teval-mae:0.508671\ttrain-mae:0.48377\n",
      "[303]\teval-mae:0.508665\ttrain-mae:0.483713\n",
      "[304]\teval-mae:0.508664\ttrain-mae:0.483665\n",
      "[305]\teval-mae:0.508667\ttrain-mae:0.483645\n",
      "[306]\teval-mae:0.508663\ttrain-mae:0.483606\n",
      "[307]\teval-mae:0.50865\ttrain-mae:0.483537\n",
      "[308]\teval-mae:0.50864\ttrain-mae:0.483486\n",
      "[309]\teval-mae:0.50864\ttrain-mae:0.483471\n",
      "[310]\teval-mae:0.508637\ttrain-mae:0.483393\n",
      "[311]\teval-mae:0.508641\ttrain-mae:0.483372\n",
      "[312]\teval-mae:0.50866\ttrain-mae:0.483317\n",
      "[313]\teval-mae:0.50864\ttrain-mae:0.483277\n",
      "[314]\teval-mae:0.508639\ttrain-mae:0.483239\n",
      "[315]\teval-mae:0.508633\ttrain-mae:0.483197\n",
      "[316]\teval-mae:0.508641\ttrain-mae:0.483142\n",
      "[317]\teval-mae:0.508643\ttrain-mae:0.483115\n",
      "[318]\teval-mae:0.508637\ttrain-mae:0.483089\n",
      "[319]\teval-mae:0.508634\ttrain-mae:0.483056\n",
      "[320]\teval-mae:0.508638\ttrain-mae:0.482992\n",
      "[321]\teval-mae:0.508611\ttrain-mae:0.482931\n",
      "[322]\teval-mae:0.508595\ttrain-mae:0.482876\n",
      "[323]\teval-mae:0.508613\ttrain-mae:0.482808\n",
      "[324]\teval-mae:0.508606\ttrain-mae:0.48271\n",
      "[325]\teval-mae:0.508593\ttrain-mae:0.48262\n",
      "[326]\teval-mae:0.508578\ttrain-mae:0.482565\n",
      "[327]\teval-mae:0.508584\ttrain-mae:0.482516\n",
      "[328]\teval-mae:0.508573\ttrain-mae:0.482426\n",
      "[329]\teval-mae:0.50858\ttrain-mae:0.482372\n",
      "[330]\teval-mae:0.508583\ttrain-mae:0.482323\n",
      "[331]\teval-mae:0.508579\ttrain-mae:0.482289\n",
      "[332]\teval-mae:0.508571\ttrain-mae:0.482171\n",
      "[333]\teval-mae:0.508564\ttrain-mae:0.482142\n",
      "[334]\teval-mae:0.50855\ttrain-mae:0.482103\n",
      "[335]\teval-mae:0.508546\ttrain-mae:0.482014\n",
      "[336]\teval-mae:0.508546\ttrain-mae:0.481988\n",
      "[337]\teval-mae:0.508542\ttrain-mae:0.481939\n",
      "[338]\teval-mae:0.508549\ttrain-mae:0.481899\n",
      "[339]\teval-mae:0.508533\ttrain-mae:0.48184\n",
      "[340]\teval-mae:0.508546\ttrain-mae:0.481795\n",
      "[341]\teval-mae:0.508541\ttrain-mae:0.481738\n",
      "[342]\teval-mae:0.508536\ttrain-mae:0.481706\n",
      "[343]\teval-mae:0.508508\ttrain-mae:0.481617\n",
      "[344]\teval-mae:0.508505\ttrain-mae:0.481597\n",
      "[345]\teval-mae:0.508493\ttrain-mae:0.481538\n",
      "[346]\teval-mae:0.508502\ttrain-mae:0.481469\n",
      "[347]\teval-mae:0.508481\ttrain-mae:0.481407\n",
      "[348]\teval-mae:0.508495\ttrain-mae:0.481329\n",
      "[349]\teval-mae:0.508444\ttrain-mae:0.481226\n",
      "[350]\teval-mae:0.508462\ttrain-mae:0.481153\n",
      "[351]\teval-mae:0.508467\ttrain-mae:0.481129\n",
      "[352]\teval-mae:0.508476\ttrain-mae:0.481103\n",
      "[353]\teval-mae:0.508463\ttrain-mae:0.481052\n",
      "[354]\teval-mae:0.508436\ttrain-mae:0.480987\n",
      "[355]\teval-mae:0.508427\ttrain-mae:0.480962\n",
      "[356]\teval-mae:0.508423\ttrain-mae:0.480893\n",
      "[357]\teval-mae:0.508418\ttrain-mae:0.480835\n",
      "[358]\teval-mae:0.508417\ttrain-mae:0.480751\n",
      "[359]\teval-mae:0.50841\ttrain-mae:0.480721\n",
      "[360]\teval-mae:0.508374\ttrain-mae:0.480579\n",
      "[361]\teval-mae:0.508371\ttrain-mae:0.480543\n",
      "[362]\teval-mae:0.508363\ttrain-mae:0.48044\n",
      "[363]\teval-mae:0.50838\ttrain-mae:0.480403\n",
      "[364]\teval-mae:0.508372\ttrain-mae:0.480369\n",
      "[365]\teval-mae:0.508348\ttrain-mae:0.480266\n",
      "[366]\teval-mae:0.508341\ttrain-mae:0.480241\n",
      "[367]\teval-mae:0.508337\ttrain-mae:0.480167\n",
      "[368]\teval-mae:0.508368\ttrain-mae:0.480023\n",
      "[369]\teval-mae:0.508377\ttrain-mae:0.479996\n",
      "[370]\teval-mae:0.508374\ttrain-mae:0.479944\n",
      "[371]\teval-mae:0.508289\ttrain-mae:0.479771\n",
      "[372]\teval-mae:0.508298\ttrain-mae:0.479679\n",
      "[373]\teval-mae:0.50829\ttrain-mae:0.479575\n",
      "[374]\teval-mae:0.508234\ttrain-mae:0.47939\n",
      "[375]\teval-mae:0.50824\ttrain-mae:0.479279\n",
      "[376]\teval-mae:0.508218\ttrain-mae:0.479139\n",
      "[377]\teval-mae:0.508215\ttrain-mae:0.479022\n",
      "[378]\teval-mae:0.508214\ttrain-mae:0.47901\n",
      "[379]\teval-mae:0.508216\ttrain-mae:0.478965\n",
      "[380]\teval-mae:0.50822\ttrain-mae:0.478939\n",
      "[381]\teval-mae:0.508216\ttrain-mae:0.478852\n",
      "[382]\teval-mae:0.508229\ttrain-mae:0.478805\n",
      "[383]\teval-mae:0.508224\ttrain-mae:0.478774\n",
      "[384]\teval-mae:0.508201\ttrain-mae:0.478707\n",
      "[385]\teval-mae:0.508195\ttrain-mae:0.478645\n",
      "[386]\teval-mae:0.508193\ttrain-mae:0.4786\n",
      "[387]\teval-mae:0.508178\ttrain-mae:0.478537\n",
      "[388]\teval-mae:0.508176\ttrain-mae:0.4785\n",
      "[389]\teval-mae:0.508168\ttrain-mae:0.478447\n",
      "[390]\teval-mae:0.508172\ttrain-mae:0.478395\n",
      "[391]\teval-mae:0.508167\ttrain-mae:0.478387\n",
      "[392]\teval-mae:0.508178\ttrain-mae:0.478359\n",
      "[393]\teval-mae:0.508178\ttrain-mae:0.47833\n",
      "[394]\teval-mae:0.508154\ttrain-mae:0.478257\n",
      "[395]\teval-mae:0.50814\ttrain-mae:0.47816\n",
      "[396]\teval-mae:0.50813\ttrain-mae:0.478092\n",
      "[397]\teval-mae:0.508139\ttrain-mae:0.478059\n",
      "[398]\teval-mae:0.508142\ttrain-mae:0.478039\n",
      "[399]\teval-mae:0.508131\ttrain-mae:0.477998\n",
      "[400]\teval-mae:0.50813\ttrain-mae:0.477983\n",
      "[401]\teval-mae:0.508133\ttrain-mae:0.477955\n",
      "[402]\teval-mae:0.50813\ttrain-mae:0.477919\n",
      "[403]\teval-mae:0.508123\ttrain-mae:0.477833\n",
      "[404]\teval-mae:0.508122\ttrain-mae:0.47777\n",
      "[405]\teval-mae:0.508117\ttrain-mae:0.477675\n",
      "[406]\teval-mae:0.508127\ttrain-mae:0.477621\n",
      "[407]\teval-mae:0.508097\ttrain-mae:0.477521\n",
      "[408]\teval-mae:0.508107\ttrain-mae:0.477498\n",
      "[409]\teval-mae:0.508085\ttrain-mae:0.477432\n",
      "[410]\teval-mae:0.508085\ttrain-mae:0.477398\n",
      "[411]\teval-mae:0.508083\ttrain-mae:0.477362\n",
      "[412]\teval-mae:0.508089\ttrain-mae:0.4773\n",
      "[413]\teval-mae:0.508102\ttrain-mae:0.477244\n",
      "[414]\teval-mae:0.508094\ttrain-mae:0.477198\n",
      "[415]\teval-mae:0.508087\ttrain-mae:0.477101\n",
      "[416]\teval-mae:0.508114\ttrain-mae:0.477026\n",
      "[417]\teval-mae:0.508095\ttrain-mae:0.476917\n",
      "[418]\teval-mae:0.5081\ttrain-mae:0.476865\n",
      "[419]\teval-mae:0.508097\ttrain-mae:0.476793\n",
      "[420]\teval-mae:0.508115\ttrain-mae:0.476738\n",
      "[421]\teval-mae:0.508115\ttrain-mae:0.476726\n",
      "[422]\teval-mae:0.508089\ttrain-mae:0.476647\n",
      "[423]\teval-mae:0.508089\ttrain-mae:0.476624\n",
      "[424]\teval-mae:0.508085\ttrain-mae:0.476585\n",
      "[425]\teval-mae:0.508088\ttrain-mae:0.476573\n",
      "[426]\teval-mae:0.508091\ttrain-mae:0.476532\n",
      "[427]\teval-mae:0.508088\ttrain-mae:0.476498\n",
      "[428]\teval-mae:0.508073\ttrain-mae:0.476454\n",
      "[429]\teval-mae:0.508065\ttrain-mae:0.476397\n",
      "[430]\teval-mae:0.50806\ttrain-mae:0.476392\n",
      "[431]\teval-mae:0.508014\ttrain-mae:0.476286\n",
      "[432]\teval-mae:0.507996\ttrain-mae:0.476206\n",
      "[433]\teval-mae:0.508006\ttrain-mae:0.476141\n",
      "[434]\teval-mae:0.508001\ttrain-mae:0.476068\n",
      "[435]\teval-mae:0.50802\ttrain-mae:0.476024\n",
      "[436]\teval-mae:0.50802\ttrain-mae:0.475971\n",
      "[437]\teval-mae:0.507998\ttrain-mae:0.4759\n",
      "[438]\teval-mae:0.508004\ttrain-mae:0.47579\n",
      "[439]\teval-mae:0.507992\ttrain-mae:0.475736\n",
      "[440]\teval-mae:0.507992\ttrain-mae:0.475671\n",
      "[441]\teval-mae:0.50797\ttrain-mae:0.475584\n",
      "[442]\teval-mae:0.507972\ttrain-mae:0.475544\n",
      "[443]\teval-mae:0.507969\ttrain-mae:0.475526\n",
      "[444]\teval-mae:0.507959\ttrain-mae:0.475502\n",
      "[445]\teval-mae:0.507956\ttrain-mae:0.475457\n",
      "[446]\teval-mae:0.5079\ttrain-mae:0.475331\n",
      "[447]\teval-mae:0.507908\ttrain-mae:0.475235\n",
      "[448]\teval-mae:0.5079\ttrain-mae:0.475142\n",
      "[449]\teval-mae:0.507892\ttrain-mae:0.475057\n",
      "[450]\teval-mae:0.507898\ttrain-mae:0.47505\n",
      "[451]\teval-mae:0.507892\ttrain-mae:0.475027\n",
      "[452]\teval-mae:0.507893\ttrain-mae:0.474961\n",
      "[453]\teval-mae:0.507879\ttrain-mae:0.474894\n",
      "[454]\teval-mae:0.507884\ttrain-mae:0.474785\n",
      "[455]\teval-mae:0.507891\ttrain-mae:0.47475\n",
      "[456]\teval-mae:0.5079\ttrain-mae:0.474722\n",
      "[457]\teval-mae:0.507908\ttrain-mae:0.474654\n",
      "[458]\teval-mae:0.507906\ttrain-mae:0.474601\n",
      "[459]\teval-mae:0.507901\ttrain-mae:0.474579\n",
      "[460]\teval-mae:0.5079\ttrain-mae:0.474553\n",
      "[461]\teval-mae:0.507881\ttrain-mae:0.474462\n",
      "[462]\teval-mae:0.50786\ttrain-mae:0.474376\n",
      "[463]\teval-mae:0.507857\ttrain-mae:0.474295\n",
      "[464]\teval-mae:0.507852\ttrain-mae:0.474181\n",
      "[465]\teval-mae:0.507833\ttrain-mae:0.474084\n",
      "[466]\teval-mae:0.507838\ttrain-mae:0.473998\n",
      "[467]\teval-mae:0.507847\ttrain-mae:0.473965\n",
      "[468]\teval-mae:0.507858\ttrain-mae:0.473923\n",
      "[469]\teval-mae:0.507858\ttrain-mae:0.473863\n",
      "[470]\teval-mae:0.507858\ttrain-mae:0.473808\n",
      "[471]\teval-mae:0.507839\ttrain-mae:0.473727\n",
      "[472]\teval-mae:0.507839\ttrain-mae:0.473668\n",
      "[473]\teval-mae:0.50782\ttrain-mae:0.473588\n",
      "[474]\teval-mae:0.507828\ttrain-mae:0.473515\n",
      "[475]\teval-mae:0.507818\ttrain-mae:0.473469\n",
      "[476]\teval-mae:0.507812\ttrain-mae:0.47341\n",
      "[477]\teval-mae:0.507824\ttrain-mae:0.473363\n",
      "[478]\teval-mae:0.507815\ttrain-mae:0.473346\n",
      "[479]\teval-mae:0.507806\ttrain-mae:0.473292\n",
      "[480]\teval-mae:0.507792\ttrain-mae:0.4732\n",
      "[481]\teval-mae:0.507795\ttrain-mae:0.473156\n",
      "[482]\teval-mae:0.507795\ttrain-mae:0.473052\n",
      "[483]\teval-mae:0.507808\ttrain-mae:0.472977\n",
      "[484]\teval-mae:0.507823\ttrain-mae:0.47293\n",
      "[485]\teval-mae:0.507819\ttrain-mae:0.472899\n",
      "[486]\teval-mae:0.507793\ttrain-mae:0.472799\n",
      "[487]\teval-mae:0.507795\ttrain-mae:0.472757\n",
      "[488]\teval-mae:0.507779\ttrain-mae:0.472677\n",
      "[489]\teval-mae:0.50778\ttrain-mae:0.472617\n",
      "[490]\teval-mae:0.507774\ttrain-mae:0.472583\n",
      "[491]\teval-mae:0.507779\ttrain-mae:0.472543\n",
      "[492]\teval-mae:0.507772\ttrain-mae:0.472489\n",
      "[493]\teval-mae:0.507776\ttrain-mae:0.472434\n",
      "[494]\teval-mae:0.507771\ttrain-mae:0.472378\n",
      "[495]\teval-mae:0.507753\ttrain-mae:0.472295\n",
      "[496]\teval-mae:0.507736\ttrain-mae:0.472258\n",
      "[497]\teval-mae:0.507724\ttrain-mae:0.472193\n",
      "[498]\teval-mae:0.507697\ttrain-mae:0.472127\n",
      "[499]\teval-mae:0.507706\ttrain-mae:0.472053\n",
      "[500]\teval-mae:0.507685\ttrain-mae:0.471982\n",
      "[501]\teval-mae:0.507678\ttrain-mae:0.471927\n",
      "[502]\teval-mae:0.507664\ttrain-mae:0.471899\n",
      "[503]\teval-mae:0.507628\ttrain-mae:0.471817\n",
      "[504]\teval-mae:0.507623\ttrain-mae:0.471801\n",
      "[505]\teval-mae:0.507582\ttrain-mae:0.471718\n",
      "[506]\teval-mae:0.507587\ttrain-mae:0.471656\n",
      "[507]\teval-mae:0.507594\ttrain-mae:0.47164\n",
      "[508]\teval-mae:0.507615\ttrain-mae:0.471557\n",
      "[509]\teval-mae:0.507593\ttrain-mae:0.471509\n",
      "[510]\teval-mae:0.507592\ttrain-mae:0.471469\n",
      "[511]\teval-mae:0.507585\ttrain-mae:0.471448\n",
      "[512]\teval-mae:0.507584\ttrain-mae:0.471408\n",
      "[513]\teval-mae:0.507589\ttrain-mae:0.471353\n",
      "[514]\teval-mae:0.507591\ttrain-mae:0.471321\n",
      "[515]\teval-mae:0.507585\ttrain-mae:0.471218\n",
      "[516]\teval-mae:0.507536\ttrain-mae:0.471056\n",
      "[517]\teval-mae:0.507534\ttrain-mae:0.471054\n",
      "[518]\teval-mae:0.507533\ttrain-mae:0.470949\n",
      "[519]\teval-mae:0.507533\ttrain-mae:0.47088\n",
      "[520]\teval-mae:0.507539\ttrain-mae:0.470854\n",
      "[521]\teval-mae:0.507538\ttrain-mae:0.470822\n",
      "[522]\teval-mae:0.507522\ttrain-mae:0.47072\n",
      "[523]\teval-mae:0.50752\ttrain-mae:0.470656\n",
      "[524]\teval-mae:0.50753\ttrain-mae:0.470648\n",
      "[525]\teval-mae:0.50754\ttrain-mae:0.47055\n",
      "[526]\teval-mae:0.507524\ttrain-mae:0.470471\n",
      "[527]\teval-mae:0.507532\ttrain-mae:0.470361\n",
      "[528]\teval-mae:0.507529\ttrain-mae:0.470292\n",
      "[529]\teval-mae:0.507532\ttrain-mae:0.470179\n",
      "[530]\teval-mae:0.507546\ttrain-mae:0.470069\n",
      "[531]\teval-mae:0.507546\ttrain-mae:0.470014\n",
      "[532]\teval-mae:0.507561\ttrain-mae:0.469908\n",
      "[533]\teval-mae:0.507553\ttrain-mae:0.469844\n",
      "[534]\teval-mae:0.507552\ttrain-mae:0.469797\n",
      "[535]\teval-mae:0.507533\ttrain-mae:0.469688\n",
      "[536]\teval-mae:0.507538\ttrain-mae:0.469659\n",
      "[537]\teval-mae:0.507545\ttrain-mae:0.469638\n",
      "[538]\teval-mae:0.50752\ttrain-mae:0.469517\n",
      "[539]\teval-mae:0.507503\ttrain-mae:0.469444\n",
      "[540]\teval-mae:0.507497\ttrain-mae:0.469407\n",
      "[541]\teval-mae:0.507513\ttrain-mae:0.469377\n",
      "[542]\teval-mae:0.507502\ttrain-mae:0.469298\n",
      "[543]\teval-mae:0.507505\ttrain-mae:0.469283\n",
      "[544]\teval-mae:0.507501\ttrain-mae:0.469264\n",
      "[545]\teval-mae:0.507518\ttrain-mae:0.469184\n",
      "[546]\teval-mae:0.507544\ttrain-mae:0.469088\n",
      "[547]\teval-mae:0.507538\ttrain-mae:0.469029\n",
      "[548]\teval-mae:0.507538\ttrain-mae:0.468966\n",
      "[549]\teval-mae:0.507507\ttrain-mae:0.468893\n",
      "[550]\teval-mae:0.507506\ttrain-mae:0.468812\n",
      "[551]\teval-mae:0.507501\ttrain-mae:0.468805\n",
      "[552]\teval-mae:0.507505\ttrain-mae:0.468793\n",
      "[553]\teval-mae:0.507504\ttrain-mae:0.468777\n",
      "[554]\teval-mae:0.507503\ttrain-mae:0.468759\n",
      "[555]\teval-mae:0.507482\ttrain-mae:0.468683\n",
      "[556]\teval-mae:0.507427\ttrain-mae:0.468543\n",
      "[557]\teval-mae:0.507426\ttrain-mae:0.468466\n",
      "[558]\teval-mae:0.507436\ttrain-mae:0.468375\n",
      "[559]\teval-mae:0.507442\ttrain-mae:0.468337\n",
      "[560]\teval-mae:0.507443\ttrain-mae:0.468307\n",
      "[561]\teval-mae:0.507439\ttrain-mae:0.468242\n",
      "[562]\teval-mae:0.507399\ttrain-mae:0.468125\n",
      "[563]\teval-mae:0.507409\ttrain-mae:0.468107\n",
      "[564]\teval-mae:0.50741\ttrain-mae:0.468067\n",
      "[565]\teval-mae:0.507413\ttrain-mae:0.468045\n",
      "[566]\teval-mae:0.507412\ttrain-mae:0.468016\n",
      "[567]\teval-mae:0.507417\ttrain-mae:0.467993\n",
      "[568]\teval-mae:0.50741\ttrain-mae:0.467953\n",
      "[569]\teval-mae:0.507418\ttrain-mae:0.467924\n",
      "[570]\teval-mae:0.507408\ttrain-mae:0.467868\n",
      "[571]\teval-mae:0.507389\ttrain-mae:0.467776\n",
      "[572]\teval-mae:0.507393\ttrain-mae:0.467758\n",
      "[573]\teval-mae:0.507396\ttrain-mae:0.467735\n",
      "[574]\teval-mae:0.507392\ttrain-mae:0.467728\n",
      "[575]\teval-mae:0.507381\ttrain-mae:0.467704\n",
      "[576]\teval-mae:0.507373\ttrain-mae:0.467617\n",
      "[577]\teval-mae:0.507376\ttrain-mae:0.467581\n",
      "[578]\teval-mae:0.50738\ttrain-mae:0.467572\n",
      "[579]\teval-mae:0.507379\ttrain-mae:0.467566\n",
      "[580]\teval-mae:0.507378\ttrain-mae:0.467555\n",
      "[581]\teval-mae:0.507381\ttrain-mae:0.467521\n",
      "[582]\teval-mae:0.507381\ttrain-mae:0.467516\n",
      "[583]\teval-mae:0.507375\ttrain-mae:0.467489\n",
      "[584]\teval-mae:0.507382\ttrain-mae:0.467451\n",
      "[585]\teval-mae:0.507386\ttrain-mae:0.467424\n",
      "[586]\teval-mae:0.507353\ttrain-mae:0.467335\n",
      "[587]\teval-mae:0.507349\ttrain-mae:0.467305\n",
      "[588]\teval-mae:0.507351\ttrain-mae:0.46727\n",
      "[589]\teval-mae:0.507347\ttrain-mae:0.467253\n",
      "[590]\teval-mae:0.507325\ttrain-mae:0.467167\n",
      "[591]\teval-mae:0.507317\ttrain-mae:0.467089\n",
      "[592]\teval-mae:0.507315\ttrain-mae:0.467008\n",
      "[593]\teval-mae:0.507319\ttrain-mae:0.467003\n",
      "[594]\teval-mae:0.507319\ttrain-mae:0.466961\n",
      "[595]\teval-mae:0.507316\ttrain-mae:0.466915\n",
      "[596]\teval-mae:0.507318\ttrain-mae:0.46688\n",
      "[597]\teval-mae:0.507309\ttrain-mae:0.466774\n",
      "[598]\teval-mae:0.507289\ttrain-mae:0.466703\n",
      "[599]\teval-mae:0.50728\ttrain-mae:0.466611\n",
      "[600]\teval-mae:0.507276\ttrain-mae:0.466551\n",
      "[601]\teval-mae:0.507275\ttrain-mae:0.466509\n",
      "[602]\teval-mae:0.50726\ttrain-mae:0.466443\n",
      "[603]\teval-mae:0.507257\ttrain-mae:0.466402\n",
      "[604]\teval-mae:0.507255\ttrain-mae:0.46635\n",
      "[605]\teval-mae:0.507253\ttrain-mae:0.466219\n",
      "[606]\teval-mae:0.50725\ttrain-mae:0.466171\n",
      "[607]\teval-mae:0.507244\ttrain-mae:0.466107\n",
      "[608]\teval-mae:0.507244\ttrain-mae:0.46602\n",
      "[609]\teval-mae:0.50725\ttrain-mae:0.465942\n",
      "[610]\teval-mae:0.507248\ttrain-mae:0.465893\n",
      "[611]\teval-mae:0.507259\ttrain-mae:0.465806\n",
      "[612]\teval-mae:0.507238\ttrain-mae:0.46572\n",
      "[613]\teval-mae:0.507235\ttrain-mae:0.465642\n",
      "[614]\teval-mae:0.507241\ttrain-mae:0.465633\n",
      "[615]\teval-mae:0.507234\ttrain-mae:0.465521\n",
      "[616]\teval-mae:0.507225\ttrain-mae:0.465447\n",
      "[617]\teval-mae:0.507225\ttrain-mae:0.465386\n",
      "[618]\teval-mae:0.507202\ttrain-mae:0.465275\n",
      "[619]\teval-mae:0.507195\ttrain-mae:0.465182\n",
      "[620]\teval-mae:0.507219\ttrain-mae:0.465108\n",
      "[621]\teval-mae:0.507222\ttrain-mae:0.465078\n",
      "[622]\teval-mae:0.507214\ttrain-mae:0.46501\n",
      "[623]\teval-mae:0.507219\ttrain-mae:0.464921\n",
      "[624]\teval-mae:0.507203\ttrain-mae:0.464879\n",
      "[625]\teval-mae:0.507207\ttrain-mae:0.464838\n",
      "[626]\teval-mae:0.507205\ttrain-mae:0.464794\n",
      "[627]\teval-mae:0.507196\ttrain-mae:0.464761\n",
      "[628]\teval-mae:0.507208\ttrain-mae:0.464706\n",
      "[629]\teval-mae:0.507213\ttrain-mae:0.464686\n",
      "[630]\teval-mae:0.507225\ttrain-mae:0.464651\n",
      "[631]\teval-mae:0.507221\ttrain-mae:0.464618\n",
      "[632]\teval-mae:0.507222\ttrain-mae:0.464567\n",
      "[633]\teval-mae:0.507222\ttrain-mae:0.464485\n",
      "[634]\teval-mae:0.507236\ttrain-mae:0.46444\n",
      "[635]\teval-mae:0.507235\ttrain-mae:0.464409\n",
      "[636]\teval-mae:0.507251\ttrain-mae:0.464373\n",
      "[637]\teval-mae:0.507252\ttrain-mae:0.464371\n",
      "[638]\teval-mae:0.507249\ttrain-mae:0.464336\n",
      "[639]\teval-mae:0.507241\ttrain-mae:0.464311\n",
      "[640]\teval-mae:0.507255\ttrain-mae:0.464217\n",
      "[641]\teval-mae:0.50722\ttrain-mae:0.464123\n",
      "[642]\teval-mae:0.507216\ttrain-mae:0.46407\n",
      "[643]\teval-mae:0.507215\ttrain-mae:0.464002\n",
      "[644]\teval-mae:0.507227\ttrain-mae:0.463968\n",
      "[645]\teval-mae:0.507222\ttrain-mae:0.463946\n",
      "[646]\teval-mae:0.507231\ttrain-mae:0.463923\n",
      "[647]\teval-mae:0.507239\ttrain-mae:0.463906\n",
      "[648]\teval-mae:0.507241\ttrain-mae:0.463893\n",
      "[649]\teval-mae:0.507241\ttrain-mae:0.463893\n",
      "[650]\teval-mae:0.507241\ttrain-mae:0.463893\n",
      "[651]\teval-mae:0.507241\ttrain-mae:0.463893\n",
      "[652]\teval-mae:0.507241\ttrain-mae:0.463893\n",
      "[653]\teval-mae:0.507241\ttrain-mae:0.463893\n",
      "[654]\teval-mae:0.507241\ttrain-mae:0.463893\n",
      "[655]\teval-mae:0.507241\ttrain-mae:0.463893\n",
      "[656]\teval-mae:0.507241\ttrain-mae:0.463893\n",
      "[657]\teval-mae:0.507241\ttrain-mae:0.463893\n",
      "[658]\teval-mae:0.507241\ttrain-mae:0.463893\n",
      "[659]\teval-mae:0.507241\ttrain-mae:0.463893\n",
      "[660]\teval-mae:0.507241\ttrain-mae:0.463893\n",
      "[661]\teval-mae:0.507241\ttrain-mae:0.463893\n",
      "[662]\teval-mae:0.507241\ttrain-mae:0.463893\n",
      "[663]\teval-mae:0.507241\ttrain-mae:0.463893\n",
      "[664]\teval-mae:0.507241\ttrain-mae:0.463893\n",
      "[665]\teval-mae:0.507241\ttrain-mae:0.463893\n",
      "[666]\teval-mae:0.507241\ttrain-mae:0.463893\n",
      "[667]\teval-mae:0.507241\ttrain-mae:0.463893\n",
      "[668]\teval-mae:0.507241\ttrain-mae:0.463893\n",
      "[669]\teval-mae:0.507241\ttrain-mae:0.463893\n",
      "[670]\teval-mae:0.507241\ttrain-mae:0.463893\n",
      "[671]\teval-mae:0.507241\ttrain-mae:0.463893\n",
      "[672]\teval-mae:0.507241\ttrain-mae:0.463893\n",
      "[673]\teval-mae:0.507241\ttrain-mae:0.463893\n",
      "[674]\teval-mae:0.507241\ttrain-mae:0.463893\n",
      "[675]\teval-mae:0.507241\ttrain-mae:0.463893\n",
      "[676]\teval-mae:0.507241\ttrain-mae:0.463893\n",
      "[677]\teval-mae:0.507241\ttrain-mae:0.463893\n",
      "[678]\teval-mae:0.507241\ttrain-mae:0.463893\n",
      "[679]\teval-mae:0.507241\ttrain-mae:0.463893\n",
      "[680]\teval-mae:0.507241\ttrain-mae:0.463893\n",
      "[681]\teval-mae:0.507241\ttrain-mae:0.463893\n",
      "[682]\teval-mae:0.507241\ttrain-mae:0.463893\n",
      "[683]\teval-mae:0.507241\ttrain-mae:0.463893\n",
      "[684]\teval-mae:0.507241\ttrain-mae:0.463893\n",
      "[685]\teval-mae:0.507241\ttrain-mae:0.463893\n",
      "[686]\teval-mae:0.507241\ttrain-mae:0.463893\n",
      "[687]\teval-mae:0.507241\ttrain-mae:0.463893\n",
      "[688]\teval-mae:0.507241\ttrain-mae:0.463893\n",
      "[689]\teval-mae:0.507241\ttrain-mae:0.463893\n",
      "[690]\teval-mae:0.507241\ttrain-mae:0.463893\n",
      "[691]\teval-mae:0.507241\ttrain-mae:0.463893\n",
      "[692]\teval-mae:0.507241\ttrain-mae:0.463893\n",
      "[693]\teval-mae:0.507241\ttrain-mae:0.463893\n",
      "[694]\teval-mae:0.507241\ttrain-mae:0.463893\n",
      "[695]\teval-mae:0.507241\ttrain-mae:0.463893\n",
      "[696]\teval-mae:0.507241\ttrain-mae:0.463893\n",
      "[697]\teval-mae:0.507241\ttrain-mae:0.463893\n",
      "[698]\teval-mae:0.507241\ttrain-mae:0.463893\n",
      "[699]\teval-mae:0.507241\ttrain-mae:0.463893\n",
      "[700]\teval-mae:0.507241\ttrain-mae:0.463893\n",
      "[701]\teval-mae:0.507241\ttrain-mae:0.463893\n",
      "[702]\teval-mae:0.507241\ttrain-mae:0.463893\n",
      "[703]\teval-mae:0.507241\ttrain-mae:0.463893\n",
      "[704]\teval-mae:0.507241\ttrain-mae:0.463893\n",
      "[705]\teval-mae:0.507241\ttrain-mae:0.463893\n",
      "[706]\teval-mae:0.507241\ttrain-mae:0.463893\n",
      "[707]\teval-mae:0.507241\ttrain-mae:0.463893\n",
      "[708]\teval-mae:0.507241\ttrain-mae:0.463893\n",
      "[709]\teval-mae:0.507241\ttrain-mae:0.463893\n",
      "[710]\teval-mae:0.507241\ttrain-mae:0.463893\n",
      "[711]\teval-mae:0.507241\ttrain-mae:0.463893\n",
      "[712]\teval-mae:0.507241\ttrain-mae:0.463893\n",
      "[713]\teval-mae:0.507241\ttrain-mae:0.463893\n",
      "[714]\teval-mae:0.507241\ttrain-mae:0.463893\n",
      "[715]\teval-mae:0.507241\ttrain-mae:0.463893\n",
      "[716]\teval-mae:0.507241\ttrain-mae:0.463893\n",
      "[717]\teval-mae:0.507241\ttrain-mae:0.463893\n",
      "[718]\teval-mae:0.507241\ttrain-mae:0.463893\n",
      "[719]\teval-mae:0.507241\ttrain-mae:0.463893\n",
      "[720]\teval-mae:0.507241\ttrain-mae:0.463893\n",
      "[721]\teval-mae:0.507241\ttrain-mae:0.463893\n",
      "[722]\teval-mae:0.507241\ttrain-mae:0.463893\n",
      "[723]\teval-mae:0.507241\ttrain-mae:0.463893\n",
      "[724]\teval-mae:0.507241\ttrain-mae:0.463893\n",
      "[725]\teval-mae:0.507241\ttrain-mae:0.463893\n",
      "[726]\teval-mae:0.507241\ttrain-mae:0.463893\n",
      "[727]\teval-mae:0.507241\ttrain-mae:0.463893\n",
      "[728]\teval-mae:0.507241\ttrain-mae:0.463893\n",
      "[729]\teval-mae:0.507241\ttrain-mae:0.463893\n",
      "[730]\teval-mae:0.507241\ttrain-mae:0.463893\n",
      "[731]\teval-mae:0.507241\ttrain-mae:0.463893\n",
      "[732]\teval-mae:0.507241\ttrain-mae:0.463893\n",
      "[733]\teval-mae:0.507241\ttrain-mae:0.463893\n",
      "[734]\teval-mae:0.507241\ttrain-mae:0.463893\n",
      "[735]\teval-mae:0.507241\ttrain-mae:0.463893\n",
      "[736]\teval-mae:0.507241\ttrain-mae:0.463893\n",
      "[737]\teval-mae:0.507241\ttrain-mae:0.463893\n",
      "[738]\teval-mae:0.507241\ttrain-mae:0.463893\n",
      "[739]\teval-mae:0.507241\ttrain-mae:0.463893\n",
      "[740]\teval-mae:0.507241\ttrain-mae:0.463893\n",
      "[741]\teval-mae:0.507241\ttrain-mae:0.463893\n",
      "[742]\teval-mae:0.507241\ttrain-mae:0.463893\n",
      "[743]\teval-mae:0.507241\ttrain-mae:0.463893\n",
      "[744]\teval-mae:0.507241\ttrain-mae:0.463893\n",
      "[745]\teval-mae:0.507241\ttrain-mae:0.463893\n",
      "[746]\teval-mae:0.507241\ttrain-mae:0.463893\n",
      "[747]\teval-mae:0.507241\ttrain-mae:0.463893\n",
      "[748]\teval-mae:0.507241\ttrain-mae:0.463893\n",
      "[749]\teval-mae:0.507241\ttrain-mae:0.463893\n",
      "[750]\teval-mae:0.507241\ttrain-mae:0.463893\n",
      "[751]\teval-mae:0.507241\ttrain-mae:0.463893\n",
      "[752]\teval-mae:0.507241\ttrain-mae:0.463893\n",
      "[753]\teval-mae:0.507241\ttrain-mae:0.463893\n",
      "[754]\teval-mae:0.507241\ttrain-mae:0.463893\n",
      "[755]\teval-mae:0.507241\ttrain-mae:0.463893\n",
      "[756]\teval-mae:0.507241\ttrain-mae:0.463893\n",
      "[757]\teval-mae:0.507241\ttrain-mae:0.463893\n",
      "[758]\teval-mae:0.507241\ttrain-mae:0.463893\n",
      "[759]\teval-mae:0.507241\ttrain-mae:0.463893\n",
      "[760]\teval-mae:0.507241\ttrain-mae:0.463893\n",
      "[761]\teval-mae:0.507241\ttrain-mae:0.463893\n",
      "[762]\teval-mae:0.507241\ttrain-mae:0.463893\n",
      "[763]\teval-mae:0.507241\ttrain-mae:0.463893\n",
      "[764]\teval-mae:0.507241\ttrain-mae:0.463893\n",
      "[765]\teval-mae:0.507241\ttrain-mae:0.463893\n",
      "[766]\teval-mae:0.507241\ttrain-mae:0.463893\n",
      "[767]\teval-mae:0.507241\ttrain-mae:0.463893\n",
      "[768]\teval-mae:0.507241\ttrain-mae:0.463893\n",
      "[769]\teval-mae:0.507241\ttrain-mae:0.463893\n",
      "[770]\teval-mae:0.507241\ttrain-mae:0.463893\n",
      "[771]\teval-mae:0.507241\ttrain-mae:0.463893\n",
      "[772]\teval-mae:0.507241\ttrain-mae:0.463893\n",
      "[773]\teval-mae:0.507241\ttrain-mae:0.463893\n",
      "[774]\teval-mae:0.507241\ttrain-mae:0.463893\n",
      "[775]\teval-mae:0.507241\ttrain-mae:0.463893\n",
      "[776]\teval-mae:0.507241\ttrain-mae:0.463893\n",
      "[777]\teval-mae:0.507241\ttrain-mae:0.463893\n",
      "[778]\teval-mae:0.507241\ttrain-mae:0.463893\n",
      "[779]\teval-mae:0.507241\ttrain-mae:0.463893\n",
      "[780]\teval-mae:0.507241\ttrain-mae:0.463893\n",
      "[781]\teval-mae:0.507241\ttrain-mae:0.463893\n",
      "[782]\teval-mae:0.507241\ttrain-mae:0.463893\n",
      "[783]\teval-mae:0.507241\ttrain-mae:0.463893\n",
      "[784]\teval-mae:0.507241\ttrain-mae:0.463893\n",
      "[785]\teval-mae:0.507241\ttrain-mae:0.463893\n",
      "[786]\teval-mae:0.507241\ttrain-mae:0.463893\n",
      "[787]\teval-mae:0.507241\ttrain-mae:0.463893\n",
      "[788]\teval-mae:0.507241\ttrain-mae:0.463893\n",
      "[789]\teval-mae:0.507241\ttrain-mae:0.463893\n",
      "[790]\teval-mae:0.507241\ttrain-mae:0.463893\n",
      "[791]\teval-mae:0.507241\ttrain-mae:0.463893\n",
      "[792]\teval-mae:0.507241\ttrain-mae:0.463893\n",
      "[793]\teval-mae:0.507241\ttrain-mae:0.463893\n",
      "[794]\teval-mae:0.507241\ttrain-mae:0.463893\n",
      "[795]\teval-mae:0.507241\ttrain-mae:0.463893\n",
      "[796]\teval-mae:0.507241\ttrain-mae:0.463893\n",
      "[797]\teval-mae:0.507241\ttrain-mae:0.463893\n",
      "[798]\teval-mae:0.507241\ttrain-mae:0.463893\n",
      "[799]\teval-mae:0.507241\ttrain-mae:0.463893\n",
      "[800]\teval-mae:0.507241\ttrain-mae:0.463893\n",
      "[801]\teval-mae:0.507241\ttrain-mae:0.463893\n",
      "[802]\teval-mae:0.507241\ttrain-mae:0.463893\n",
      "[803]\teval-mae:0.507241\ttrain-mae:0.463893\n",
      "[804]\teval-mae:0.507241\ttrain-mae:0.463893\n",
      "[805]\teval-mae:0.507241\ttrain-mae:0.463893\n",
      "[806]\teval-mae:0.507241\ttrain-mae:0.463893\n",
      "[807]\teval-mae:0.507241\ttrain-mae:0.463893\n",
      "[808]\teval-mae:0.507241\ttrain-mae:0.463893\n",
      "[809]\teval-mae:0.507241\ttrain-mae:0.463893\n",
      "[810]\teval-mae:0.507241\ttrain-mae:0.463893\n",
      "[811]\teval-mae:0.507241\ttrain-mae:0.463893\n",
      "[812]\teval-mae:0.507241\ttrain-mae:0.463893\n",
      "[813]\teval-mae:0.507241\ttrain-mae:0.463893\n",
      "[814]\teval-mae:0.507241\ttrain-mae:0.463893\n",
      "[815]\teval-mae:0.507241\ttrain-mae:0.463893\n",
      "[816]\teval-mae:0.507241\ttrain-mae:0.463893\n",
      "[817]\teval-mae:0.507241\ttrain-mae:0.463893\n",
      "[818]\teval-mae:0.507241\ttrain-mae:0.463893\n",
      "[819]\teval-mae:0.507241\ttrain-mae:0.463893\n",
      "[820]\teval-mae:0.507241\ttrain-mae:0.463893\n",
      "[821]\teval-mae:0.507241\ttrain-mae:0.463893\n",
      "[822]\teval-mae:0.507241\ttrain-mae:0.463893\n",
      "[823]\teval-mae:0.507241\ttrain-mae:0.463893\n",
      "[824]\teval-mae:0.507241\ttrain-mae:0.463893\n",
      "[825]\teval-mae:0.507241\ttrain-mae:0.463893\n",
      "[826]\teval-mae:0.507241\ttrain-mae:0.463893\n",
      "[827]\teval-mae:0.507241\ttrain-mae:0.463893\n",
      "[828]\teval-mae:0.507241\ttrain-mae:0.463893\n",
      "[829]\teval-mae:0.507241\ttrain-mae:0.463893\n",
      "[830]\teval-mae:0.507241\ttrain-mae:0.463893\n",
      "[831]\teval-mae:0.507241\ttrain-mae:0.463893\n",
      "[832]\teval-mae:0.507241\ttrain-mae:0.463893\n",
      "[833]\teval-mae:0.507241\ttrain-mae:0.463893\n",
      "[834]\teval-mae:0.507241\ttrain-mae:0.463893\n",
      "[835]\teval-mae:0.507241\ttrain-mae:0.463893\n",
      "[836]\teval-mae:0.507241\ttrain-mae:0.463893\n",
      "[837]\teval-mae:0.507241\ttrain-mae:0.463893\n",
      "[838]\teval-mae:0.507241\ttrain-mae:0.463893\n",
      "[839]\teval-mae:0.507241\ttrain-mae:0.463893\n",
      "[840]\teval-mae:0.507241\ttrain-mae:0.463893\n",
      "[841]\teval-mae:0.507241\ttrain-mae:0.463893\n",
      "[842]\teval-mae:0.507241\ttrain-mae:0.463893\n",
      "[843]\teval-mae:0.507241\ttrain-mae:0.463893\n",
      "[844]\teval-mae:0.507241\ttrain-mae:0.463893\n",
      "[845]\teval-mae:0.507241\ttrain-mae:0.463893\n",
      "[846]\teval-mae:0.507241\ttrain-mae:0.463893\n",
      "[847]\teval-mae:0.507241\ttrain-mae:0.463893\n",
      "[848]\teval-mae:0.507241\ttrain-mae:0.463893\n",
      "[849]\teval-mae:0.507241\ttrain-mae:0.463893\n",
      "[850]\teval-mae:0.507241\ttrain-mae:0.463893\n",
      "[851]\teval-mae:0.507241\ttrain-mae:0.463893\n",
      "[852]\teval-mae:0.507241\ttrain-mae:0.463893\n",
      "[853]\teval-mae:0.507241\ttrain-mae:0.463893\n",
      "[854]\teval-mae:0.507241\ttrain-mae:0.463893\n",
      "[855]\teval-mae:0.507241\ttrain-mae:0.463893\n",
      "[856]\teval-mae:0.507241\ttrain-mae:0.463893\n",
      "[857]\teval-mae:0.507241\ttrain-mae:0.463893\n",
      "[858]\teval-mae:0.507241\ttrain-mae:0.463893\n",
      "[859]\teval-mae:0.507241\ttrain-mae:0.463893\n",
      "[860]\teval-mae:0.507241\ttrain-mae:0.463893\n",
      "[861]\teval-mae:0.507241\ttrain-mae:0.463893\n",
      "[862]\teval-mae:0.507241\ttrain-mae:0.463893\n",
      "[863]\teval-mae:0.507241\ttrain-mae:0.463893\n",
      "[864]\teval-mae:0.507241\ttrain-mae:0.463893\n",
      "[865]\teval-mae:0.507241\ttrain-mae:0.463893\n",
      "[866]\teval-mae:0.507241\ttrain-mae:0.463893\n",
      "[867]\teval-mae:0.507241\ttrain-mae:0.463893\n",
      "[868]\teval-mae:0.507241\ttrain-mae:0.463893\n",
      "[869]\teval-mae:0.507241\ttrain-mae:0.463893\n",
      "[870]\teval-mae:0.507241\ttrain-mae:0.463893\n",
      "[871]\teval-mae:0.507241\ttrain-mae:0.463893\n",
      "[872]\teval-mae:0.507241\ttrain-mae:0.463893\n",
      "[873]\teval-mae:0.507241\ttrain-mae:0.463893\n",
      "[874]\teval-mae:0.507241\ttrain-mae:0.463893\n",
      "[875]\teval-mae:0.507241\ttrain-mae:0.463893\n",
      "[876]\teval-mae:0.507241\ttrain-mae:0.463893\n",
      "[877]\teval-mae:0.507241\ttrain-mae:0.463893\n",
      "[878]\teval-mae:0.507241\ttrain-mae:0.463893\n",
      "[879]\teval-mae:0.507241\ttrain-mae:0.463893\n",
      "[880]\teval-mae:0.507241\ttrain-mae:0.463893\n",
      "[881]\teval-mae:0.507241\ttrain-mae:0.463893\n",
      "[882]\teval-mae:0.507241\ttrain-mae:0.463893\n",
      "[883]\teval-mae:0.507241\ttrain-mae:0.463893\n",
      "[884]\teval-mae:0.507241\ttrain-mae:0.463893\n",
      "[885]\teval-mae:0.507241\ttrain-mae:0.463893\n",
      "[886]\teval-mae:0.507241\ttrain-mae:0.463893\n",
      "[887]\teval-mae:0.507241\ttrain-mae:0.463893\n",
      "[888]\teval-mae:0.507241\ttrain-mae:0.463893\n",
      "[889]\teval-mae:0.507241\ttrain-mae:0.463893\n",
      "[890]\teval-mae:0.507241\ttrain-mae:0.463893\n",
      "[891]\teval-mae:0.507241\ttrain-mae:0.463893\n",
      "[892]\teval-mae:0.507241\ttrain-mae:0.463893\n",
      "[893]\teval-mae:0.507241\ttrain-mae:0.463893\n",
      "[894]\teval-mae:0.507241\ttrain-mae:0.463893\n",
      "[895]\teval-mae:0.507241\ttrain-mae:0.463893\n",
      "[896]\teval-mae:0.507241\ttrain-mae:0.463893\n",
      "[897]\teval-mae:0.507241\ttrain-mae:0.463893\n",
      "[898]\teval-mae:0.507241\ttrain-mae:0.463893\n",
      "[899]\teval-mae:0.507241\ttrain-mae:0.463893\n",
      "[900]\teval-mae:0.507241\ttrain-mae:0.463893\n",
      "[901]\teval-mae:0.507241\ttrain-mae:0.463893\n",
      "[902]\teval-mae:0.507241\ttrain-mae:0.463893\n",
      "[903]\teval-mae:0.507241\ttrain-mae:0.463893\n",
      "[904]\teval-mae:0.507241\ttrain-mae:0.463893\n",
      "[905]\teval-mae:0.507241\ttrain-mae:0.463893\n",
      "[906]\teval-mae:0.507241\ttrain-mae:0.463893\n",
      "[907]\teval-mae:0.507241\ttrain-mae:0.463893\n",
      "[908]\teval-mae:0.507241\ttrain-mae:0.463893\n",
      "[909]\teval-mae:0.507241\ttrain-mae:0.463893\n",
      "[910]\teval-mae:0.507241\ttrain-mae:0.463893\n",
      "[911]\teval-mae:0.507241\ttrain-mae:0.463893\n",
      "[912]\teval-mae:0.507241\ttrain-mae:0.463893\n",
      "[913]\teval-mae:0.507241\ttrain-mae:0.463893\n",
      "[914]\teval-mae:0.507241\ttrain-mae:0.463893\n",
      "[915]\teval-mae:0.507241\ttrain-mae:0.463893\n",
      "[916]\teval-mae:0.507241\ttrain-mae:0.463893\n",
      "[917]\teval-mae:0.507241\ttrain-mae:0.463893\n",
      "[918]\teval-mae:0.507241\ttrain-mae:0.463893\n",
      "[919]\teval-mae:0.507241\ttrain-mae:0.463893\n",
      "[920]\teval-mae:0.507241\ttrain-mae:0.463893\n",
      "[921]\teval-mae:0.507241\ttrain-mae:0.463893\n",
      "[922]\teval-mae:0.507241\ttrain-mae:0.463893\n",
      "[923]\teval-mae:0.507241\ttrain-mae:0.463893\n",
      "[924]\teval-mae:0.507241\ttrain-mae:0.463893\n",
      "[925]\teval-mae:0.507241\ttrain-mae:0.463893\n",
      "[926]\teval-mae:0.507241\ttrain-mae:0.463893\n",
      "[927]\teval-mae:0.507241\ttrain-mae:0.463893\n",
      "[928]\teval-mae:0.507241\ttrain-mae:0.463893\n",
      "[929]\teval-mae:0.507241\ttrain-mae:0.463893\n",
      "[930]\teval-mae:0.507241\ttrain-mae:0.463893\n",
      "[931]\teval-mae:0.507241\ttrain-mae:0.463893\n",
      "[932]\teval-mae:0.507241\ttrain-mae:0.463893\n",
      "[933]\teval-mae:0.507241\ttrain-mae:0.463893\n",
      "[934]\teval-mae:0.507241\ttrain-mae:0.463893\n",
      "[935]\teval-mae:0.507241\ttrain-mae:0.463893\n",
      "[936]\teval-mae:0.507241\ttrain-mae:0.463893\n",
      "[937]\teval-mae:0.507241\ttrain-mae:0.463893\n",
      "[938]\teval-mae:0.507241\ttrain-mae:0.463893\n",
      "[939]\teval-mae:0.507241\ttrain-mae:0.463893\n",
      "[940]\teval-mae:0.507241\ttrain-mae:0.463893\n",
      "[941]\teval-mae:0.507241\ttrain-mae:0.463893\n",
      "[942]\teval-mae:0.507241\ttrain-mae:0.463893\n",
      "[943]\teval-mae:0.507241\ttrain-mae:0.463893\n",
      "[944]\teval-mae:0.507241\ttrain-mae:0.463893\n",
      "[945]\teval-mae:0.507241\ttrain-mae:0.463893\n",
      "[946]\teval-mae:0.507241\ttrain-mae:0.463893\n",
      "[947]\teval-mae:0.507241\ttrain-mae:0.463893\n",
      "[948]\teval-mae:0.507241\ttrain-mae:0.463893\n",
      "[949]\teval-mae:0.507241\ttrain-mae:0.463893\n",
      "[950]\teval-mae:0.507241\ttrain-mae:0.463893\n",
      "[951]\teval-mae:0.507241\ttrain-mae:0.463893\n",
      "[952]\teval-mae:0.507241\ttrain-mae:0.463893\n",
      "[953]\teval-mae:0.507241\ttrain-mae:0.463893\n",
      "[954]\teval-mae:0.507241\ttrain-mae:0.463893\n",
      "[955]\teval-mae:0.507241\ttrain-mae:0.463893\n",
      "[956]\teval-mae:0.507241\ttrain-mae:0.463893\n",
      "[957]\teval-mae:0.507241\ttrain-mae:0.463893\n",
      "[958]\teval-mae:0.507241\ttrain-mae:0.463893\n",
      "[959]\teval-mae:0.507241\ttrain-mae:0.463893\n",
      "[960]\teval-mae:0.507241\ttrain-mae:0.463893\n",
      "[961]\teval-mae:0.507241\ttrain-mae:0.463893\n",
      "[962]\teval-mae:0.507241\ttrain-mae:0.463893\n",
      "[963]\teval-mae:0.507241\ttrain-mae:0.463893\n",
      "[964]\teval-mae:0.507241\ttrain-mae:0.463893\n",
      "[965]\teval-mae:0.507241\ttrain-mae:0.463893\n",
      "[966]\teval-mae:0.507241\ttrain-mae:0.463893\n",
      "[967]\teval-mae:0.507241\ttrain-mae:0.463893\n",
      "[968]\teval-mae:0.507241\ttrain-mae:0.463893\n",
      "[969]\teval-mae:0.507241\ttrain-mae:0.463893\n",
      "[970]\teval-mae:0.507241\ttrain-mae:0.463893\n",
      "[971]\teval-mae:0.507241\ttrain-mae:0.463893\n",
      "[972]\teval-mae:0.507241\ttrain-mae:0.463893\n",
      "[973]\teval-mae:0.507241\ttrain-mae:0.463893\n",
      "[974]\teval-mae:0.507241\ttrain-mae:0.463893\n",
      "[975]\teval-mae:0.507241\ttrain-mae:0.463893\n",
      "[976]\teval-mae:0.507241\ttrain-mae:0.463893\n",
      "[977]\teval-mae:0.507241\ttrain-mae:0.463893\n",
      "[978]\teval-mae:0.507241\ttrain-mae:0.463893\n",
      "[979]\teval-mae:0.507241\ttrain-mae:0.463893\n",
      "[980]\teval-mae:0.507241\ttrain-mae:0.463893\n",
      "[981]\teval-mae:0.507241\ttrain-mae:0.463893\n",
      "[982]\teval-mae:0.507241\ttrain-mae:0.463893\n",
      "[983]\teval-mae:0.507241\ttrain-mae:0.463893\n",
      "[984]\teval-mae:0.507241\ttrain-mae:0.463893\n",
      "[985]\teval-mae:0.507241\ttrain-mae:0.463893\n",
      "[986]\teval-mae:0.507241\ttrain-mae:0.463893\n",
      "[987]\teval-mae:0.507241\ttrain-mae:0.463893\n",
      "[988]\teval-mae:0.507241\ttrain-mae:0.463893\n",
      "[989]\teval-mae:0.507241\ttrain-mae:0.463893\n",
      "[990]\teval-mae:0.507241\ttrain-mae:0.463893\n",
      "[991]\teval-mae:0.507241\ttrain-mae:0.463893\n",
      "[992]\teval-mae:0.507241\ttrain-mae:0.463893\n",
      "[993]\teval-mae:0.507241\ttrain-mae:0.463893\n",
      "[994]\teval-mae:0.507241\ttrain-mae:0.463893\n",
      "[995]\teval-mae:0.507241\ttrain-mae:0.463893\n",
      "[996]\teval-mae:0.507241\ttrain-mae:0.463893\n",
      "[997]\teval-mae:0.507241\ttrain-mae:0.463893\n",
      "[998]\teval-mae:0.507241\ttrain-mae:0.463893\n",
      "[999]\teval-mae:0.507241\ttrain-mae:0.463893\n"
     ]
    }
   ],
   "source": [
    "num_round = 700\n",
    "# params = {'eval_metric':'mae','max_depth':6,'colsample_bytree':1,'alpha':1,'gamma':1,'eta':0.155,'min_child_weight':1}# 1134, 200 rounds\n",
    "# params = {'eval_metric':'mae','max_depth':6,'colsample_bytree':1,'alpha':1,'gamma':1,'eta':0.15,'min_child_weight':1}# 1133, 250 rounds\n",
    "params = {'eval_metric':'mae','max_depth':6,'colsample_bytree':1,'alpha':1,'gamma':1,'eta':0.1,'min_child_weight':1}# 1131, 700 rounds\n",
    "watchlist  = [(d_val_xgb,'eval'), (d_train_xgb,'train')]\n",
    "gbt = xgb.train(params, d_train_xgb,num_round,watchlist)"
   ]
  },
  {
   "cell_type": "code",
   "execution_count": 229,
   "metadata": {
    "collapsed": false
   },
   "outputs": [
    {
     "name": "stdout",
     "output_type": "stream",
     "text": [
      "1131.59860287\n"
     ]
    }
   ],
   "source": [
    "print(mean_absolute_error(lossRestore(y_val,ymean,ystd),lossRestore(gbt.predict(x_val_xgb),ymean,ystd)))"
   ]
  },
  {
   "cell_type": "code",
   "execution_count": 230,
   "metadata": {
    "collapsed": false
   },
   "outputs": [],
   "source": [
    "y_pred_i = lossRestore(gbt.predict(d_test_xgb),ymean,ystd)\n",
    "y_pred.append(y_pred_i)\n",
    "y_pred_val.append(lossRestore(gbt.predict(x_val_xgb),ymean,ystd))"
   ]
  },
  {
   "cell_type": "markdown",
   "metadata": {},
   "source": [
    "### AdaBoost Regression"
   ]
  },
  {
   "cell_type": "code",
   "execution_count": 231,
   "metadata": {
    "collapsed": true
   },
   "outputs": [],
   "source": [
    "from sklearn.ensemble import AdaBoostRegressor\n",
    "from sklearn.linear_model import Ridge"
   ]
  },
  {
   "cell_type": "code",
   "execution_count": 232,
   "metadata": {
    "collapsed": false
   },
   "outputs": [
    {
     "name": "stdout",
     "output_type": "stream",
     "text": [
      "1230.15703558\n"
     ]
    }
   ],
   "source": [
    "# n_estimators = [30, 60, 90, 120]\n",
    "# n_estimators = [10,20,30,40]\n",
    "n_estimators = [6]\n",
    "base_estimator = Ridge(alpha = 40)\n",
    "err = 999999999\n",
    "n_estimator = 0\n",
    "random_state = 0\n",
    "for n_est in n_estimators:\n",
    "    tmpAdReg = AdaBoostRegressor(n_estimators = n_est, random_state = random_state,base_estimator = base_estimator)\n",
    "#     tmpAdReg = AdaBoostRegressor(n_estimators = n_est, random_state = random_state)\n",
    "    tmpAdReg.fit(x_train,y_train)\n",
    "    err_i = mean_absolute_error(lossRestore(y_val,ymean,ystd),lossRestore(tmpAdReg.predict(x_val),ymean,ystd))\n",
    "    print(err_i)\n",
    "    if err_i < err:\n",
    "        AdReg = tmpAdReg\n",
    "        n_estimator = n_est\n",
    "        err = err_i"
   ]
  },
  {
   "cell_type": "code",
   "execution_count": 233,
   "metadata": {
    "collapsed": false
   },
   "outputs": [
    {
     "name": "stdout",
     "output_type": "stream",
     "text": [
      "n_estimator = 6\n",
      "1230.15703558\n"
     ]
    }
   ],
   "source": [
    "print('n_estimator = {}'.format(n_estimator))\n",
    "print(mean_absolute_error(lossRestore(y_val,ymean,ystd),lossRestore(AdReg.predict(x_val),ymean,ystd)))"
   ]
  },
  {
   "cell_type": "code",
   "execution_count": 234,
   "metadata": {
    "collapsed": true
   },
   "outputs": [],
   "source": [
    "y_pred_i = lossRestore(AdReg.predict(x_Test),ymean,ystd)\n",
    "y_pred.append(y_pred_i)\n",
    "y_pred_val.append(lossRestore(AdReg.predict(x_val),ymean,ystd))"
   ]
  },
  {
   "cell_type": "markdown",
   "metadata": {},
   "source": [
    "### Skipped - K Nearest Neighbors"
   ]
  },
  {
   "cell_type": "code",
   "execution_count": 235,
   "metadata": {
    "collapsed": true
   },
   "outputs": [],
   "source": [
    "# from sklearn.neighbors import KNeighborsRegressor"
   ]
  },
  {
   "cell_type": "code",
   "execution_count": 236,
   "metadata": {
    "collapsed": false
   },
   "outputs": [],
   "source": [
    "# n_neighbors = [5, 10, 15]\n",
    "# weights = 'distance'\n",
    "# err = 999999999\n",
    "# n_nns = 0\n",
    "# # random_state = 0\n",
    "# for n_nn in n_neighbors:\n",
    "#     tmpKNReg = KNeighborsRegressor(n_neighbors = n_nn,weights = weights)\n",
    "#     tmpKNReg.fit(x_train,y_train)\n",
    "#     err_i = mean_absolute_error(lossRestore(y_val,ymean,ystd),lossRestore(tmpKNReg.predict(x_val),ymean,ystd))\n",
    "#     print(err_i)\n",
    "#     if err_i < err:\n",
    "#         KNReg = tmpKNReg\n",
    "#         n_nns = n_nn\n",
    "#         err = err_i"
   ]
  },
  {
   "cell_type": "code",
   "execution_count": 237,
   "metadata": {
    "collapsed": false
   },
   "outputs": [],
   "source": [
    "# print('n_neighbors = {}'.format(n_nns))\n",
    "# print(mean_absolute_error(lossRestore(y_val,ymean,ystd),lossRestore(KNReg.predict(x_val),ymean,ystd)))"
   ]
  },
  {
   "cell_type": "code",
   "execution_count": 238,
   "metadata": {
    "collapsed": true
   },
   "outputs": [],
   "source": [
    "# y_pred_i = lossRestore(KNReg.predict(x_Test),ymean,ystd)\n",
    "# y_pred.append(y_pred_i)\n",
    "# y_pred_val.append(lossRestore(KNReg.predict(x_val),ymean,ystd))"
   ]
  },
  {
   "cell_type": "markdown",
   "metadata": {},
   "source": [
    "### Linear SVR"
   ]
  },
  {
   "cell_type": "code",
   "execution_count": 239,
   "metadata": {
    "collapsed": false
   },
   "outputs": [],
   "source": [
    "# from sklearn.svm import LinearSVR"
   ]
  },
  {
   "cell_type": "code",
   "execution_count": 240,
   "metadata": {
    "collapsed": false
   },
   "outputs": [],
   "source": [
    "# # SVReg = svm.SVR(kernel = 'rbf')\n",
    "# # SVReg.fit(x_train,y_train)\n",
    "# SVReg = LinearSVR(C=0.5)\n",
    "# SVReg.fit(x_train,y_train)"
   ]
  },
  {
   "cell_type": "code",
   "execution_count": 241,
   "metadata": {
    "collapsed": false
   },
   "outputs": [],
   "source": [
    "# print(mean_absolute_error(lossRestore(y_val,ymean,ystd),lossRestore(SVReg.predict(x_val),ymean,ystd)))"
   ]
  },
  {
   "cell_type": "code",
   "execution_count": 242,
   "metadata": {
    "collapsed": true
   },
   "outputs": [],
   "source": [
    "# y_pred_i = lossRestore(SVReg.predict(x_Test),ymean,ystd)\n",
    "# y_pred.append(y_pred_i)\n",
    "# y_pred_val.append(lossRestore(SVReg.predict(x_val),ymean,ystd))"
   ]
  },
  {
   "cell_type": "markdown",
   "metadata": {},
   "source": [
    "### MLP Regressor"
   ]
  },
  {
   "cell_type": "code",
   "execution_count": 243,
   "metadata": {
    "collapsed": true
   },
   "outputs": [],
   "source": [
    "from sklearn.neural_network import MLPRegressor"
   ]
  },
  {
   "cell_type": "code",
   "execution_count": 244,
   "metadata": {
    "collapsed": false
   },
   "outputs": [
    {
     "data": {
      "text/plain": [
       "MLPRegressor(activation='relu', alpha=1e-05, batch_size='auto', beta_1=0.9,\n",
       "       beta_2=0.999, early_stopping=True, epsilon=1e-08,\n",
       "       hidden_layer_sizes=(35, 3), learning_rate='constant',\n",
       "       learning_rate_init=0.001, max_iter=200, momentum=0.9,\n",
       "       nesterovs_momentum=True, power_t=0.5, random_state=0, shuffle=True,\n",
       "       solver='adam', tol=0.0001, validation_fraction=0.1, verbose=False,\n",
       "       warm_start=False)"
      ]
     },
     "execution_count": 244,
     "metadata": {},
     "output_type": "execute_result"
    }
   ],
   "source": [
    "MLPReg = MLPRegressor(alpha = 1e-5, hidden_layer_sizes = (35,3),random_state=0,early_stopping=True)\n",
    "MLPReg.fit(x_train,y_train)"
   ]
  },
  {
   "cell_type": "code",
   "execution_count": 245,
   "metadata": {
    "collapsed": false
   },
   "outputs": [
    {
     "name": "stdout",
     "output_type": "stream",
     "text": [
      "1150.14015193\n"
     ]
    }
   ],
   "source": [
    "print(mean_absolute_error(lossRestore(y_val,ymean,ystd),lossRestore(MLPReg.predict(x_val),ymean,ystd)))"
   ]
  },
  {
   "cell_type": "code",
   "execution_count": 246,
   "metadata": {
    "collapsed": true
   },
   "outputs": [],
   "source": [
    "y_pred_i = lossRestore(MLPReg.predict(x_Test),ymean,ystd)\n",
    "y_pred.append(y_pred_i)\n",
    "y_pred_val.append(lossRestore(MLPReg.predict(x_val),ymean,ystd))"
   ]
  },
  {
   "cell_type": "markdown",
   "metadata": {},
   "source": [
    "# save files for submission"
   ]
  },
  {
   "cell_type": "code",
   "execution_count": 247,
   "metadata": {
    "collapsed": false
   },
   "outputs": [
    {
     "name": "stdout",
     "output_type": "stream",
     "text": [
      "The loss of the ensembled result:\n"
     ]
    },
    {
     "data": {
      "text/plain": [
       "1155.9604489843846"
      ]
     },
     "execution_count": 247,
     "metadata": {},
     "output_type": "execute_result"
    }
   ],
   "source": [
    "# ensemble the results\n",
    "y_pred.append(np.ndarray.mean(np.vstack(y_pred).T,axis=1))\n",
    "\n",
    "# ensembled y_val\n",
    "print('The loss of the ensembled result:')\n",
    "y_pred_val_en = np.ndarray.mean(np.vstack(y_pred_val).T,axis=1)\n",
    "mean_absolute_error(lossRestore(y_val,ymean,ystd),y_pred_val_en)"
   ]
  },
  {
   "cell_type": "code",
   "execution_count": 248,
   "metadata": {
    "collapsed": false
   },
   "outputs": [],
   "source": [
    "# Save all the predictions for submission\n",
    "for i,stri in enumerate(testList):\n",
    "    submission['id'] = subId\n",
    "    submission['loss']=pd.Series(data=y_pred[i])\n",
    "    submission.to_csv('../output/'+stri+'.csv',index=False)"
   ]
  },
  {
   "cell_type": "code",
   "execution_count": 250,
   "metadata": {
    "collapsed": false
   },
   "outputs": [
    {
     "data": {
      "text/plain": [
       "['../output/models_data_on_raw_features.pkl']"
      ]
     },
     "execution_count": 250,
     "metadata": {},
     "output_type": "execute_result"
    }
   ],
   "source": [
    "from sklearn.externals import joblib\n",
    "joblib.dump([regCV, gbt, AdReg, MLPReg, y_pred, y_pred_val, x_train, x_val, y_train, y_val, x_Test]\n",
    "            ,'../output/models_data_on_raw_features.pkl',compress=3) \n",
    "\n",
    "# clf = joblib.load('filename.pkl') "
   ]
  },
  {
   "cell_type": "code",
   "execution_count": 251,
   "metadata": {
    "collapsed": false
   },
   "outputs": [
    {
     "data": {
      "text/plain": [
       "['RidgeXGBoostTrees', 'AdaBoosting', 'MLPRegressor', 'Ensemble']"
      ]
     },
     "execution_count": 251,
     "metadata": {},
     "output_type": "execute_result"
    }
   ],
   "source": [
    "testList\n"
   ]
  },
  {
   "cell_type": "code",
   "execution_count": null,
   "metadata": {
    "collapsed": true
   },
   "outputs": [],
   "source": []
  }
 ],
 "metadata": {
  "kernelspec": {
   "display_name": "Python [Root]",
   "language": "python",
   "name": "Python [Root]"
  },
  "language_info": {
   "codemirror_mode": {
    "name": "ipython",
    "version": 2
   },
   "file_extension": ".py",
   "mimetype": "text/x-python",
   "name": "python",
   "nbconvert_exporter": "python",
   "pygments_lexer": "ipython2",
   "version": "2.7.12"
  }
 },
 "nbformat": 4,
 "nbformat_minor": 0
}
