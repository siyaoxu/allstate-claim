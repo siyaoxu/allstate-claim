{
 "cells": [
  {
   "cell_type": "code",
   "execution_count": 14,
   "metadata": {
    "collapsed": false
   },
   "outputs": [],
   "source": [
    "import pandas as pd\n",
    "import numpy as np\n",
    "import xgboost as xgb\n",
    "from sklearn.cross_validation import KFold\n",
    "from sklearn.metrics import mean_absolute_error\n",
    "import matplotlib.pyplot as plt\n",
    "%matplotlib inline"
   ]
  },
  {
   "cell_type": "code",
   "execution_count": 2,
   "metadata": {
    "collapsed": false
   },
   "outputs": [],
   "source": [
    "train = pd.read_csv('../input/train.csv')\n",
    "test = pd.read_csv('../input/test.csv')\n",
    "\n",
    "test['loss'] = np.nan\n",
    "joined = pd.concat([train, test])"
   ]
  },
  {
   "cell_type": "code",
   "execution_count": 3,
   "metadata": {
    "collapsed": true
   },
   "outputs": [],
   "source": [
    "def logregobj(preds, dtrain):\n",
    "    labels = dtrain.get_label()\n",
    "    con = 2\n",
    "    x =preds-labels\n",
    "    grad =con*x / (np.abs(x)+con)\n",
    "    hess =con**2 / (np.abs(x)+con)**2\n",
    "    return grad, hess \n",
    "\n",
    "def evalerror(preds, dtrain):\n",
    "    labels = dtrain.get_label()\n",
    "    return 'mae', mean_absolute_error(np.exp(preds), np.exp(labels))"
   ]
  },
  {
   "cell_type": "code",
   "execution_count": 4,
   "metadata": {
    "collapsed": true
   },
   "outputs": [],
   "source": [
    "cat_feature = [n for n in joined.columns if n.startswith('cat')]    \n",
    "cont_feature = [n for n in joined.columns if n.startswith('cont')] \n",
    "\n",
    "for column in cat_feature:\n",
    "    joined[column] = pd.factorize(joined[column].values, sort=True)[0]\n",
    "    \n",
    "train = joined[joined['loss'].notnull()]\n",
    "test = joined[joined['loss'].isnull()]\n",
    "\n",
    "shift = 200\n",
    "y = np.log(train['loss'] + shift)\n",
    "ids = test['id']\n",
    "X = train.drop(['loss', 'id'], 1)\n",
    "X_test = test.drop(['loss', 'id'], 1)"
   ]
  },
  {
   "cell_type": "code",
   "execution_count": 9,
   "metadata": {
    "collapsed": false
   },
   "outputs": [
    {
     "name": "stdout",
     "output_type": "stream",
     "text": [
      "0.301411340599\n",
      "count    188318.000000\n",
      "mean          7.799837\n",
      "std           0.731553\n",
      "min           5.301662\n",
      "25%           7.247408\n",
      "50%           7.747411\n",
      "75%           8.309934\n",
      "max          11.705298\n",
      "Name: loss, dtype: float64\n"
     ]
    }
   ],
   "source": [
    "print(y.skew())\n",
    "print(y.describe())"
   ]
  },
  {
   "cell_type": "code",
   "execution_count": 15,
   "metadata": {
    "collapsed": false
   },
   "outputs": [
    {
     "data": {
      "image/png": "[encoded data removed]",
      "text/plain": [
       "<matplotlib.figure.Figure at 0x7fbc5e5b06d0>"
      ]
     },
     "metadata": {},
     "output_type": "display_data"
    }
   ],
   "source": [
    "plt.figure(figsize=(15,4))\n",
    "\n",
    "plt.subplot(3,1,1)\n",
    "plt.hist(train['loss'],100)\n",
    "plt.title('loss');\n",
    "plt.subplot(3,1,2)\n",
    "plt.hist(y,100)\n",
    "plt.title('logloss + shift');\n",
    "plt.subplot(3,1,3)\n",
    "plt.hist(np.exp(y)-shift,100)\n",
    "plt.title('Restored');"
   ]
  },
  {
   "cell_type": "code",
   "execution_count": 10,
   "metadata": {
    "collapsed": false
   },
   "outputs": [
    {
     "data": {
      "text/html": [
       "<div>\n",
       "<table border=\"1\" class=\"dataframe\">\n",
       "  <thead>\n",
       "    <tr style=\"text-align: right;\">\n",
       "      <th></th>\n",
       "      <th>cat1</th>\n",
       "      <th>cat2</th>\n",
       "      <th>cat3</th>\n",
       "      <th>cat4</th>\n",
       "      <th>cat5</th>\n",
       "      <th>cat6</th>\n",
       "      <th>cat7</th>\n",
       "      <th>cat8</th>\n",
       "      <th>cat9</th>\n",
       "      <th>cat10</th>\n",
       "      <th>...</th>\n",
       "      <th>cont5</th>\n",
       "      <th>cont6</th>\n",
       "      <th>cont7</th>\n",
       "      <th>cont8</th>\n",
       "      <th>cont9</th>\n",
       "      <th>cont10</th>\n",
       "      <th>cont11</th>\n",
       "      <th>cont12</th>\n",
       "      <th>cont13</th>\n",
       "      <th>cont14</th>\n",
       "    </tr>\n",
       "  </thead>\n",
       "  <tbody>\n",
       "    <tr>\n",
       "      <th>0</th>\n",
       "      <td>0</td>\n",
       "      <td>1</td>\n",
       "      <td>0</td>\n",
       "      <td>1</td>\n",
       "      <td>0</td>\n",
       "      <td>0</td>\n",
       "      <td>0</td>\n",
       "      <td>0</td>\n",
       "      <td>1</td>\n",
       "      <td>0</td>\n",
       "      <td>...</td>\n",
       "      <td>0.310061</td>\n",
       "      <td>0.718367</td>\n",
       "      <td>0.335060</td>\n",
       "      <td>0.30260</td>\n",
       "      <td>0.67135</td>\n",
       "      <td>0.83510</td>\n",
       "      <td>0.569745</td>\n",
       "      <td>0.594646</td>\n",
       "      <td>0.822493</td>\n",
       "      <td>0.714843</td>\n",
       "    </tr>\n",
       "    <tr>\n",
       "      <th>1</th>\n",
       "      <td>0</td>\n",
       "      <td>1</td>\n",
       "      <td>0</td>\n",
       "      <td>0</td>\n",
       "      <td>0</td>\n",
       "      <td>0</td>\n",
       "      <td>0</td>\n",
       "      <td>0</td>\n",
       "      <td>1</td>\n",
       "      <td>1</td>\n",
       "      <td>...</td>\n",
       "      <td>0.885834</td>\n",
       "      <td>0.438917</td>\n",
       "      <td>0.436585</td>\n",
       "      <td>0.60087</td>\n",
       "      <td>0.35127</td>\n",
       "      <td>0.43919</td>\n",
       "      <td>0.338312</td>\n",
       "      <td>0.366307</td>\n",
       "      <td>0.611431</td>\n",
       "      <td>0.304496</td>\n",
       "    </tr>\n",
       "    <tr>\n",
       "      <th>2</th>\n",
       "      <td>0</td>\n",
       "      <td>1</td>\n",
       "      <td>0</td>\n",
       "      <td>0</td>\n",
       "      <td>1</td>\n",
       "      <td>0</td>\n",
       "      <td>0</td>\n",
       "      <td>0</td>\n",
       "      <td>1</td>\n",
       "      <td>1</td>\n",
       "      <td>...</td>\n",
       "      <td>0.397069</td>\n",
       "      <td>0.289648</td>\n",
       "      <td>0.315545</td>\n",
       "      <td>0.27320</td>\n",
       "      <td>0.26076</td>\n",
       "      <td>0.32446</td>\n",
       "      <td>0.381398</td>\n",
       "      <td>0.373424</td>\n",
       "      <td>0.195709</td>\n",
       "      <td>0.774425</td>\n",
       "    </tr>\n",
       "    <tr>\n",
       "      <th>3</th>\n",
       "      <td>1</td>\n",
       "      <td>1</td>\n",
       "      <td>0</td>\n",
       "      <td>1</td>\n",
       "      <td>0</td>\n",
       "      <td>0</td>\n",
       "      <td>0</td>\n",
       "      <td>0</td>\n",
       "      <td>1</td>\n",
       "      <td>0</td>\n",
       "      <td>...</td>\n",
       "      <td>0.422268</td>\n",
       "      <td>0.440945</td>\n",
       "      <td>0.391128</td>\n",
       "      <td>0.31796</td>\n",
       "      <td>0.32128</td>\n",
       "      <td>0.44467</td>\n",
       "      <td>0.327915</td>\n",
       "      <td>0.321570</td>\n",
       "      <td>0.605077</td>\n",
       "      <td>0.602642</td>\n",
       "    </tr>\n",
       "    <tr>\n",
       "      <th>4</th>\n",
       "      <td>0</td>\n",
       "      <td>1</td>\n",
       "      <td>0</td>\n",
       "      <td>1</td>\n",
       "      <td>0</td>\n",
       "      <td>0</td>\n",
       "      <td>0</td>\n",
       "      <td>0</td>\n",
       "      <td>1</td>\n",
       "      <td>1</td>\n",
       "      <td>...</td>\n",
       "      <td>0.704268</td>\n",
       "      <td>0.178193</td>\n",
       "      <td>0.247408</td>\n",
       "      <td>0.24564</td>\n",
       "      <td>0.22089</td>\n",
       "      <td>0.21230</td>\n",
       "      <td>0.204687</td>\n",
       "      <td>0.202213</td>\n",
       "      <td>0.246011</td>\n",
       "      <td>0.432606</td>\n",
       "    </tr>\n",
       "  </tbody>\n",
       "</table>\n",
       "<p>5 rows × 130 columns</p>\n",
       "</div>"
      ],
      "text/plain": [
       "   cat1  cat2  cat3  cat4  cat5  cat6  cat7  cat8  cat9  cat10    ...     \\\n",
       "0     0     1     0     1     0     0     0     0     1      0    ...      \n",
       "1     0     1     0     0     0     0     0     0     1      1    ...      \n",
       "2     0     1     0     0     1     0     0     0     1      1    ...      \n",
       "3     1     1     0     1     0     0     0     0     1      0    ...      \n",
       "4     0     1     0     1     0     0     0     0     1      1    ...      \n",
       "\n",
       "      cont5     cont6     cont7    cont8    cont9   cont10    cont11  \\\n",
       "0  0.310061  0.718367  0.335060  0.30260  0.67135  0.83510  0.569745   \n",
       "1  0.885834  0.438917  0.436585  0.60087  0.35127  0.43919  0.338312   \n",
       "2  0.397069  0.289648  0.315545  0.27320  0.26076  0.32446  0.381398   \n",
       "3  0.422268  0.440945  0.391128  0.31796  0.32128  0.44467  0.327915   \n",
       "4  0.704268  0.178193  0.247408  0.24564  0.22089  0.21230  0.204687   \n",
       "\n",
       "     cont12    cont13    cont14  \n",
       "0  0.594646  0.822493  0.714843  \n",
       "1  0.366307  0.611431  0.304496  \n",
       "2  0.373424  0.195709  0.774425  \n",
       "3  0.321570  0.605077  0.602642  \n",
       "4  0.202213  0.246011  0.432606  \n",
       "\n",
       "[5 rows x 130 columns]"
      ]
     },
     "execution_count": 10,
     "metadata": {},
     "output_type": "execute_result"
    }
   ],
   "source": [
    "X.head()"
   ]
  },
  {
   "cell_type": "code",
   "execution_count": 24,
   "metadata": {
    "collapsed": false
   },
   "outputs": [
    {
     "data": {
      "text/plain": [
       "0    46\n",
       "1    34\n",
       "2     2\n",
       "3    34\n",
       "4    67\n",
       "Name: cat109, dtype: int64"
      ]
     },
     "execution_count": 24,
     "metadata": {},
     "output_type": "execute_result"
    }
   ],
   "source": [
    "joined['cat109'].head()"
   ]
  },
  {
   "cell_type": "code",
   "execution_count": 25,
   "metadata": {
    "collapsed": false
   },
   "outputs": [
    {
     "data": {
      "text/plain": [
       "array([[ 0.      ,  1.      ,  0.      , ...,  0.594646,  0.822493,\n",
       "         0.714843],\n",
       "       [ 0.      ,  1.      ,  0.      , ...,  0.366307,  0.611431,\n",
       "         0.304496],\n",
       "       [ 0.      ,  1.      ,  0.      , ...,  0.373424,  0.195709,\n",
       "         0.774425],\n",
       "       ..., \n",
       "       [ 0.      ,  1.      ,  0.      , ...,  0.443374,  0.339244,\n",
       "         0.503888],\n",
       "       [ 0.      ,  1.      ,  0.      , ...,  0.852865,  0.654753,\n",
       "         0.721707],\n",
       "       [ 1.      ,  0.      ,  0.      , ...,  0.946432,  0.810511,\n",
       "         0.72146 ]])"
      ]
     },
     "execution_count": 25,
     "metadata": {},
     "output_type": "execute_result"
    }
   ],
   "source": [
    "X.get_values()"
   ]
  },
  {
   "cell_type": "code",
   "execution_count": null,
   "metadata": {
    "collapsed": false
   },
   "outputs": [
    {
     "name": "stdout",
     "output_type": "stream",
     "text": [
      "\n",
      " Fold 1\n",
      "[0]\ttrain-mae:3236.86\teval-mae:3230.73\n",
      "Multiple eval metrics have been passed: 'eval-mae' will be used for early stopping.\n",
      "\n",
      "Will train until eval-mae hasn't improved in 300 rounds.\n",
      "[1]\ttrain-mae:3236.8\teval-mae:3230.68\n",
      "[2]\ttrain-mae:3236.74\teval-mae:3230.62\n",
      "[3]\ttrain-mae:3236.68\teval-mae:3230.56\n",
      "[4]\ttrain-mae:3236.62\teval-mae:3230.49\n",
      "[5]\ttrain-mae:3236.55\teval-mae:3230.43\n",
      "[6]\ttrain-mae:3236.49\teval-mae:3230.37\n",
      "[7]\ttrain-mae:3236.42\teval-mae:3230.3\n",
      "[8]\ttrain-mae:3236.35\teval-mae:3230.23\n",
      "[9]\ttrain-mae:3236.28\teval-mae:3230.16\n",
      "[10]\ttrain-mae:3236.21\teval-mae:3230.09\n",
      "[11]\ttrain-mae:3236.14\teval-mae:3230.02\n",
      "[12]\ttrain-mae:3236.06\teval-mae:3229.94\n",
      "[13]\ttrain-mae:3235.99\teval-mae:3229.86\n",
      "[14]\ttrain-mae:3235.91\teval-mae:3229.79\n",
      "[15]\ttrain-mae:3235.83\teval-mae:3229.71\n",
      "[16]\ttrain-mae:3235.75\teval-mae:3229.62\n",
      "[17]\ttrain-mae:3235.66\teval-mae:3229.54\n",
      "[18]\ttrain-mae:3235.58\teval-mae:3229.45\n",
      "[19]\ttrain-mae:3235.49\teval-mae:3229.37\n",
      "[20]\ttrain-mae:3235.4\teval-mae:3229.28\n",
      "[21]\ttrain-mae:3235.31\teval-mae:3229.18\n",
      "[22]\ttrain-mae:3235.22\teval-mae:3229.09\n",
      "[23]\ttrain-mae:3235.12\teval-mae:3229\n",
      "[24]\ttrain-mae:3235.02\teval-mae:3228.9\n",
      "[25]\ttrain-mae:3234.92\teval-mae:3228.8\n",
      "[26]\ttrain-mae:3234.82\teval-mae:3228.7\n",
      "[27]\ttrain-mae:3234.72\teval-mae:3228.59\n",
      "[28]\ttrain-mae:3234.61\teval-mae:3228.49\n",
      "[29]\ttrain-mae:3234.51\teval-mae:3228.38\n",
      "[30]\ttrain-mae:3234.4\teval-mae:3228.27\n",
      "[31]\ttrain-mae:3234.28\teval-mae:3228.16\n",
      "[32]\ttrain-mae:3234.17\teval-mae:3228.05\n",
      "[33]\ttrain-mae:3234.05\teval-mae:3227.93\n",
      "[34]\ttrain-mae:3233.94\teval-mae:3227.81\n",
      "[35]\ttrain-mae:3233.81\teval-mae:3227.69\n",
      "[36]\ttrain-mae:3233.69\teval-mae:3227.57\n",
      "[37]\ttrain-mae:3233.57\teval-mae:3227.44\n",
      "[38]\ttrain-mae:3233.44\teval-mae:3227.32\n",
      "[39]\ttrain-mae:3233.31\teval-mae:3227.19\n",
      "[40]\ttrain-mae:3233.18\teval-mae:3227.05\n",
      "[41]\ttrain-mae:3233.04\teval-mae:3226.92\n",
      "[42]\ttrain-mae:3232.91\teval-mae:3226.78\n",
      "[43]\ttrain-mae:3232.77\teval-mae:3226.64\n",
      "[44]\ttrain-mae:3232.63\teval-mae:3226.5\n",
      "[45]\ttrain-mae:3232.48\teval-mae:3226.36\n",
      "[46]\ttrain-mae:3232.34\teval-mae:3226.21\n",
      "[47]\ttrain-mae:3232.19\teval-mae:3226.06\n",
      "[48]\ttrain-mae:3232.04\teval-mae:3225.91\n",
      "[49]\ttrain-mae:3231.88\teval-mae:3225.75\n",
      "[50]\ttrain-mae:3231.72\teval-mae:3225.6\n",
      "[51]\ttrain-mae:3231.57\teval-mae:3225.44\n",
      "[52]\ttrain-mae:3231.4\teval-mae:3225.28\n",
      "[53]\ttrain-mae:3231.24\teval-mae:3225.11\n",
      "[54]\ttrain-mae:3231.07\teval-mae:3224.94\n",
      "[55]\ttrain-mae:3230.9\teval-mae:3224.77\n",
      "[56]\ttrain-mae:3230.73\teval-mae:3224.6\n",
      "[57]\ttrain-mae:3230.55\teval-mae:3224.43\n",
      "[58]\ttrain-mae:3230.38\teval-mae:3224.25\n",
      "[59]\ttrain-mae:3230.19\teval-mae:3224.07\n",
      "[60]\ttrain-mae:3230.01\teval-mae:3223.88\n",
      "[61]\ttrain-mae:3229.82\teval-mae:3223.7\n",
      "[62]\ttrain-mae:3229.64\teval-mae:3223.51\n",
      "[63]\ttrain-mae:3229.44\teval-mae:3223.32\n",
      "[64]\ttrain-mae:3229.25\teval-mae:3223.12\n",
      "[65]\ttrain-mae:3229.05\teval-mae:3222.92\n",
      "[66]\ttrain-mae:3228.85\teval-mae:3222.72\n",
      "[67]\ttrain-mae:3228.65\teval-mae:3222.52\n",
      "[68]\ttrain-mae:3228.44\teval-mae:3222.31\n",
      "[69]\ttrain-mae:3228.23\teval-mae:3222.1\n",
      "[70]\ttrain-mae:3228.02\teval-mae:3221.89\n",
      "[71]\ttrain-mae:3227.81\teval-mae:3221.68\n",
      "[72]\ttrain-mae:3227.59\teval-mae:3221.46\n",
      "[73]\ttrain-mae:3227.37\teval-mae:3221.24\n",
      "[74]\ttrain-mae:3227.14\teval-mae:3221.01\n",
      "[75]\ttrain-mae:3226.92\teval-mae:3220.78\n",
      "[76]\ttrain-mae:3226.69\teval-mae:3220.55\n",
      "[77]\ttrain-mae:3226.45\teval-mae:3220.32\n",
      "[78]\ttrain-mae:3226.22\teval-mae:3220.08\n",
      "[79]\ttrain-mae:3225.98\teval-mae:3219.84\n",
      "[80]\ttrain-mae:3225.73\teval-mae:3219.6\n",
      "[81]\ttrain-mae:3225.49\teval-mae:3219.36\n",
      "[82]\ttrain-mae:3225.24\teval-mae:3219.11\n",
      "[83]\ttrain-mae:3224.99\teval-mae:3218.85\n",
      "[84]\ttrain-mae:3224.73\teval-mae:3218.6\n",
      "[85]\ttrain-mae:3224.47\teval-mae:3218.34\n",
      "[86]\ttrain-mae:3224.21\teval-mae:3218.08\n",
      "[87]\ttrain-mae:3223.95\teval-mae:3217.81\n",
      "[88]\ttrain-mae:3223.68\teval-mae:3217.54\n",
      "[89]\ttrain-mae:3223.41\teval-mae:3217.27\n",
      "[90]\ttrain-mae:3223.13\teval-mae:3217\n",
      "[91]\ttrain-mae:3222.85\teval-mae:3216.72\n",
      "[92]\ttrain-mae:3222.57\teval-mae:3216.43\n",
      "[93]\ttrain-mae:3222.29\teval-mae:3216.15\n",
      "[94]\ttrain-mae:3222\teval-mae:3215.86\n",
      "[95]\ttrain-mae:3221.71\teval-mae:3215.57\n",
      "[96]\ttrain-mae:3221.41\teval-mae:3215.28\n",
      "[97]\ttrain-mae:3221.12\teval-mae:3214.98\n",
      "[98]\ttrain-mae:3220.81\teval-mae:3214.67\n",
      "[99]\ttrain-mae:3220.51\teval-mae:3214.37\n",
      "[100]\ttrain-mae:3220.2\teval-mae:3214.06\n",
      "[101]\ttrain-mae:3219.89\teval-mae:3213.75\n",
      "[102]\ttrain-mae:3219.57\teval-mae:3213.43\n",
      "[103]\ttrain-mae:3219.25\teval-mae:3213.11\n",
      "[104]\ttrain-mae:3218.93\teval-mae:3212.79\n",
      "[105]\ttrain-mae:3218.61\teval-mae:3212.46\n",
      "[106]\ttrain-mae:3218.28\teval-mae:3212.13\n",
      "[107]\ttrain-mae:3217.94\teval-mae:3211.8\n",
      "[108]\ttrain-mae:3217.61\teval-mae:3211.46\n",
      "[109]\ttrain-mae:3217.26\teval-mae:3211.12\n",
      "[110]\ttrain-mae:3216.92\teval-mae:3210.77\n",
      "[111]\ttrain-mae:3216.57\teval-mae:3210.43\n",
      "[112]\ttrain-mae:3216.22\teval-mae:3210.08\n",
      "[113]\ttrain-mae:3215.87\teval-mae:3209.72\n",
      "[114]\ttrain-mae:3215.51\teval-mae:3209.36\n",
      "[115]\ttrain-mae:3215.15\teval-mae:3209\n",
      "[116]\ttrain-mae:3214.78\teval-mae:3208.64\n",
      "[117]\ttrain-mae:3214.42\teval-mae:3208.27\n",
      "[118]\ttrain-mae:3214.04\teval-mae:3207.89\n",
      "[119]\ttrain-mae:3213.67\teval-mae:3207.52\n",
      "[120]\ttrain-mae:3213.29\teval-mae:3207.13\n",
      "[121]\ttrain-mae:3212.9\teval-mae:3206.75\n",
      "[122]\ttrain-mae:3212.52\teval-mae:3206.36\n",
      "[123]\ttrain-mae:3212.13\teval-mae:3205.97\n",
      "[124]\ttrain-mae:3211.73\teval-mae:3205.58\n",
      "[125]\ttrain-mae:3211.33\teval-mae:3205.18\n",
      "[126]\ttrain-mae:3210.93\teval-mae:3204.78\n",
      "[127]\ttrain-mae:3210.53\teval-mae:3204.37\n",
      "[128]\ttrain-mae:3210.12\teval-mae:3203.96\n",
      "[129]\ttrain-mae:3209.7\teval-mae:3203.55\n",
      "[130]\ttrain-mae:3209.29\teval-mae:3203.13\n",
      "[131]\ttrain-mae:3208.87\teval-mae:3202.71\n",
      "[132]\ttrain-mae:3208.44\teval-mae:3202.28\n",
      "[133]\ttrain-mae:3208.01\teval-mae:3201.85\n",
      "[134]\ttrain-mae:3207.58\teval-mae:3201.42\n",
      "[135]\ttrain-mae:3207.15\teval-mae:3200.98\n",
      "[136]\ttrain-mae:3206.71\teval-mae:3200.54\n",
      "[137]\ttrain-mae:3206.26\teval-mae:3200.1\n",
      "[138]\ttrain-mae:3205.82\teval-mae:3199.65\n",
      "[139]\ttrain-mae:3205.37\teval-mae:3199.2\n",
      "[140]\ttrain-mae:3204.91\teval-mae:3198.74\n",
      "[141]\ttrain-mae:3204.45\teval-mae:3198.29\n",
      "[142]\ttrain-mae:3204\teval-mae:3197.83\n",
      "[143]\ttrain-mae:3203.53\teval-mae:3197.36\n",
      "[144]\ttrain-mae:3203.06\teval-mae:3196.89\n",
      "[145]\ttrain-mae:3202.59\teval-mae:3196.42\n",
      "[146]\ttrain-mae:3202.11\teval-mae:3195.94\n",
      "[147]\ttrain-mae:3201.63\teval-mae:3195.46\n",
      "[148]\ttrain-mae:3201.15\teval-mae:3194.97\n",
      "[149]\ttrain-mae:3200.66\teval-mae:3194.48\n",
      "[150]\ttrain-mae:3200.16\teval-mae:3193.99\n",
      "[151]\ttrain-mae:3199.67\teval-mae:3193.49\n",
      "[152]\ttrain-mae:3199.17\teval-mae:3192.99\n",
      "[153]\ttrain-mae:3198.67\teval-mae:3192.49\n",
      "[154]\ttrain-mae:3198.16\teval-mae:3191.98\n",
      "[155]\ttrain-mae:3197.65\teval-mae:3191.46\n",
      "[156]\ttrain-mae:3197.13\teval-mae:3190.95\n",
      "[157]\ttrain-mae:3196.61\teval-mae:3190.43\n",
      "[158]\ttrain-mae:3196.09\teval-mae:3189.91\n",
      "[159]\ttrain-mae:3195.56\teval-mae:3189.38\n",
      "[160]\ttrain-mae:3195.03\teval-mae:3188.85\n",
      "[161]\ttrain-mae:3194.5\teval-mae:3188.31\n"
     ]
    }
   ],
   "source": [
    "\n",
    "#X = X.sample(frac=0.1)\n",
    "#y = y .iloc[X.index.values]\n",
    "\n",
    "n_folds  = 5\n",
    "kf = KFold(X.shape[0], n_folds=n_folds)\n",
    "prediction = np.zeros(ids.shape)\n",
    "\n",
    "final_fold_prediction= []\n",
    "final_fold_real = []\n",
    "\n",
    "partial_evalutaion = open('temp_scores.txt','w')\n",
    "for i, (train_index, test_index) in enumerate(kf):\n",
    "    print('\\n Fold %d' % (i + 1))\n",
    "    X_train, X_val = X.iloc[train_index], X.iloc[test_index]\n",
    "    y_train, y_val = y.iloc[train_index], y.iloc[test_index]    \n",
    "\n",
    "    RANDOM_STATE = 2016\n",
    "    params = {\n",
    "        'min_child_weight': 1,\n",
    "        'eta': 0.001,\n",
    "        'colsample_bytree': 0.5,\n",
    "        'max_depth': 12,\n",
    "        'subsample': 0.8,\n",
    "        'alpha': 1,\n",
    "        'gamma': 1,\n",
    "        'silent': 1,\n",
    "        'verbose_eval': True,\n",
    "        'seed': RANDOM_STATE\n",
    "    }\n",
    "\n",
    "    xgtrain = xgb.DMatrix(X_train, label=y_train)\n",
    "    xgtrain_2 = xgb.DMatrix(X_val, label=y_val)\n",
    "\n",
    "    xgtest = xgb.DMatrix(X_test)   \n",
    "\n",
    "\n",
    "    watchlist = [(xgtrain, 'train'), (xgtrain_2, 'eval')]\n",
    "\n",
    "\n",
    "\n",
    "    model = xgb.train(params, xgtrain, 100000, watchlist, obj=logregobj, feval=evalerror, early_stopping_rounds=300)        \n",
    "    prediction += np.exp(model.predict(xgtest)) - shift\n",
    "\n",
    "    X_val = xgb.DMatrix(X_val) \n",
    "    temp_serises = pd.Series(np.exp(model.predict(X_val))-shift)\n",
    "    final_fold_prediction.append( temp_serises )\n",
    "    temp_serises = np.exp(y_val) -shift\n",
    "    final_fold_real.append(temp_serises )\n",
    "\n",
    "    temp_cv_score = mean_absolute_error(np.exp(model.predict(X_val))-shift, np.exp(y_val) -shift)\n",
    "\n",
    "    partial_evalutaion.write('fold '+str(i)+' '+str(temp_cv_score)+'\\n')\n",
    "    partial_evalutaion.flush()\n",
    "\n",
    "\n",
    "\n",
    "prediction = prediction/n_folds\n",
    "submission = pd.DataFrame()\n",
    "submission['id'] = ids    \n",
    "submission['loss'] = prediction\n",
    "\n",
    "submission.to_csv('sub_v_5_long2.csv', index=False)\n",
    "\n",
    "final_fold_prediction = pd.concat(final_fold_prediction,ignore_index=True)\n",
    "final_fold_real = pd.concat(final_fold_real,ignore_index=True)\n",
    "\n",
    "cv_score = mean_absolute_error(final_fold_prediction, final_fold_real)\n",
    "print cv_score"
   ]
  },
  {
   "cell_type": "markdown",
   "metadata": {},
   "source": [
    "# save files for submission"
   ]
  },
  {
   "cell_type": "code",
   "execution_count": 44,
   "metadata": {
    "collapsed": false
   },
   "outputs": [],
   "source": [
    "# # remove the shift\n",
    "# y_pred = [y_array-shift for y_array in y_pred];\n",
    "# y_pred_val_en = [y_array-shift for y_array in y_pred_val_en];"
   ]
  },
  {
   "cell_type": "code",
   "execution_count": 45,
   "metadata": {
    "collapsed": false
   },
   "outputs": [],
   "source": [
    "# Save all the predictions for submission\n",
    "for i,stri in enumerate(testList):\n",
    "    submission['id'] = subId\n",
    "    submission['loss']=pd.Series(data=y_pred[i])\n",
    "    submission.to_csv('../output/'+stri+'.csv',index=False)"
   ]
  },
  {
   "cell_type": "code",
   "execution_count": 56,
   "metadata": {
    "collapsed": false
   },
   "outputs": [
    {
     "data": {
      "text/plain": [
       "['../output/models-raw-features-rescale-loss-shift.pkl']"
      ]
     },
     "execution_count": 56,
     "metadata": {},
     "output_type": "execute_result"
    }
   ],
   "source": [
    "from sklearn.externals import joblib\n",
    "joblib.dump([gbt, y_pred, y_pred_val, x_train, x_val, y_train, y_val, x_test, shift]\n",
    "            ,'../output/models-raw-features-rescale-loss-shift.pkl',compress=3) \n",
    "\n",
    "# clf = joblib.load('filename.pkl') "
   ]
  },
  {
   "cell_type": "code",
   "execution_count": null,
   "metadata": {
    "collapsed": false
   },
   "outputs": [],
   "source": [
    "testList\n"
   ]
  },
  {
   "cell_type": "code",
   "execution_count": null,
   "metadata": {
    "collapsed": true
   },
   "outputs": [],
   "source": []
  }
 ],
 "metadata": {
  "kernelspec": {
   "display_name": "Python [Root]",
   "language": "python",
   "name": "Python [Root]"
  },
  "language_info": {
   "codemirror_mode": {
    "name": "ipython",
    "version": 2
   },
   "file_extension": ".py",
   "mimetype": "text/x-python",
   "name": "python",
   "nbconvert_exporter": "python",
   "pygments_lexer": "ipython2",
   "version": "2.7.12"
  }
 },
 "nbformat": 4,
 "nbformat_minor": 0
}
