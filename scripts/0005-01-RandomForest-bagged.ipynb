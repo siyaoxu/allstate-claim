{
 "cells": [
  {
   "cell_type": "markdown",
   "metadata": {},
   "source": [
    "# Load the data"
   ]
  },
  {
   "cell_type": "code",
   "execution_count": 1,
   "metadata": {
    "collapsed": false
   },
   "outputs": [],
   "source": [
    "# This Python 3 environment comes with many helpful analytics libraries installed\n",
    "# It is defined by the kaggle/python docker image: https://github.com/kaggle/docker-python\n",
    "# For example, here's several helpful packages to load in \n",
    "\n",
    "import numpy as np # linear algebra\n",
    "import pandas as pd # data processing, CSV file I/O (e.g. pd.read_csv)\n",
    "import scipy as sp\n",
    "\n",
    "# from scipy.special import erfinv\n",
    "from scipy.stats import norm\n",
    "\n",
    "# Input data files are available in the \"../input/\" directory.\n",
    "# For example, running this (by clicking run or pressing Shift+Enter) will list the files in the input directory\n",
    "\n",
    "# from subprocess import check_output\n",
    "# print(check_output([\"ls\", \"../input\"]).decode(\"utf8\"))\n",
    "\n",
    "# Any results you write to the current directory are saved as output.\n",
    "\n",
    "%matplotlib inline\n",
    "\n",
    "import matplotlib.pyplot as plt"
   ]
  },
  {
   "cell_type": "code",
   "execution_count": 2,
   "metadata": {
    "collapsed": false
   },
   "outputs": [],
   "source": [
    "data_train_raw = pd.read_csv('../input/train.csv')\n",
    "# data_train_raw = data_train_raw.sample(frac=0.1, random_state=0)\n",
    "data_test_raw = pd.read_csv('../input/test.csv')"
   ]
  },
  {
   "cell_type": "code",
   "execution_count": 3,
   "metadata": {
    "collapsed": false
   },
   "outputs": [
    {
     "data": {
      "text/plain": [
       "(188318, 132)"
      ]
     },
     "execution_count": 3,
     "metadata": {},
     "output_type": "execute_result"
    }
   ],
   "source": [
    "data_train_raw.shape"
   ]
  },
  {
   "cell_type": "markdown",
   "metadata": {},
   "source": [
    "# Data EDA and Transformation"
   ]
  },
  {
   "cell_type": "code",
   "execution_count": 4,
   "metadata": {
    "collapsed": true
   },
   "outputs": [],
   "source": [
    "def lossRescale(logloss,ymean,ystd):\n",
    "    loss = (logloss-ymean)/ystd\n",
    "    return loss\n",
    "def lossRestore(logloss, ymean, ystd):\n",
    "    loss = np.exp(logloss*ystd+ymean)\n",
    "    return loss"
   ]
  },
  {
   "cell_type": "code",
   "execution_count": 5,
   "metadata": {
    "collapsed": false
   },
   "outputs": [
    {
     "name": "stdout",
     "output_type": "stream",
     "text": [
      "Skewness of raw loss values: 3.79495837754\n",
      "Skewness of log1p loss values: 0.301411340599\n"
     ]
    }
   ],
   "source": [
    "shift=200\n",
    "colLabel = 'logloss'\n",
    "colRawLabel = 'loss'\n",
    "labelColumns = [colLabel, colRawLabel]\n",
    "data_train_raw[colLabel]=np.log(data_train_raw[colRawLabel]+shift)\n",
    "print('Skewness of raw loss values: {}'.format(data_train_raw[colRawLabel].skew()))\n",
    "print('Skewness of log1p loss values: {}'.format(data_train_raw[colLabel].skew()))"
   ]
  },
  {
   "cell_type": "code",
   "execution_count": 6,
   "metadata": {
    "collapsed": false
   },
   "outputs": [],
   "source": [
    "# ymean=0\n",
    "# ystd=1\n",
    "ymean=data_train_raw[colLabel].min()\n",
    "ystd=(data_train_raw[colLabel]-ymean).max()\n",
    "data_train_raw[colLabel]=lossRescale(data_train_raw[colLabel],ymean,ystd)"
   ]
  },
  {
   "cell_type": "code",
   "execution_count": 7,
   "metadata": {
    "collapsed": false
   },
   "outputs": [
    {
     "name": "stdout",
     "output_type": "stream",
     "text": [
      "Mean of rescaled log1py: 0.390118205749\n",
      "Std of rescaled log1py: 0.390118205749\n",
      "Lower clipping bound: 0.047397382357\n",
      "Upper clipping bound: 0.732839029142\n",
      "Shape of cleaned data: (187995, 133)\n",
      "Skewness of clipped log1p loss: 0.26876327248\n"
     ]
    }
   ],
   "source": [
    "# clean outliers in training data\n",
    "rescaledMean = data_train_raw[colLabel].mean()\n",
    "rescaledStd = data_train_raw[colLabel].std()\n",
    "print('Mean of rescaled log1py: {}'.format(rescaledMean))\n",
    "print('Std of rescaled log1py: {}'.format(rescaledMean))\n",
    "\n",
    "lbound = rescaledMean-3*rescaledStd\n",
    "ubound = rescaledMean+3*rescaledStd\n",
    "print('Lower clipping bound: {}\\nUpper clipping bound: {}'.format(lbound, ubound))\n",
    "data_train_raw = data_train_raw[(data_train_raw[colLabel]>=lbound) & (data_train_raw[colLabel]<=ubound)]\n",
    "print('Shape of cleaned data: {}'.format(data_train_raw.shape))\n",
    "print('Skewness of clipped log1p loss: {}'.format(data_train_raw[colLabel].skew()))"
   ]
  },
  {
   "cell_type": "code",
   "execution_count": 8,
   "metadata": {
    "collapsed": false
   },
   "outputs": [
    {
     "data": {
      "image/png": "[encoded data removed]",
      "text/plain": [
       "<matplotlib.figure.Figure at 0x7f2ee44893d0>"
      ]
     },
     "metadata": {},
     "output_type": "display_data"
    }
   ],
   "source": [
    "plt.figure(figsize=(15,4))\n",
    "\n",
    "plt.subplot(3,1,1)\n",
    "plt.hist(data_train_raw[colRawLabel],100)\n",
    "plt.title(colRawLabel);\n",
    "plt.subplot(3,1,2)\n",
    "plt.hist(data_train_raw[colLabel],100)\n",
    "plt.title(colLabel);\n",
    "plt.subplot(3,1,3)\n",
    "plt.hist(lossRestore(data_train_raw[colLabel],ymean,ystd),100)\n",
    "plt.title('Restored '+colLabel);"
   ]
  },
  {
   "cell_type": "code",
   "execution_count": 9,
   "metadata": {
    "collapsed": false
   },
   "outputs": [
    {
     "name": "stdout",
     "output_type": "stream",
     "text": [
      "Are there any null values?\n",
      "False\n",
      "False\n"
     ]
    }
   ],
   "source": [
    "print('Are there any null values?')\n",
    "print(data_train_raw.isnull().any().any())\n",
    "print(data_test_raw.isnull().any().any())"
   ]
  },
  {
   "cell_type": "code",
   "execution_count": 10,
   "metadata": {
    "collapsed": false
   },
   "outputs": [
    {
     "name": "stdout",
     "output_type": "stream",
     "text": [
      "Logarithmic transformed, rescaled, clipped loss:\n"
     ]
    },
    {
     "data": {
      "text/plain": [
       "count    187995.000000\n",
       "mean          0.389583\n",
       "std           0.113253\n",
       "min           0.047403\n",
       "25%           0.303756\n",
       "50%           0.381712\n",
       "75%           0.469298\n",
       "max           0.732815\n",
       "Name: logloss, dtype: float64"
      ]
     },
     "execution_count": 10,
     "metadata": {},
     "output_type": "execute_result"
    }
   ],
   "source": [
    "print('Logarithmic transformed, rescaled, clipped loss:')\n",
    "data_train_raw[colLabel].describe()"
   ]
  },
  {
   "cell_type": "markdown",
   "metadata": {},
   "source": [
    "# Data preparation - labeling cat features with ordinal information encoded"
   ]
  },
  {
   "cell_type": "code",
   "execution_count": 11,
   "metadata": {
    "collapsed": false
   },
   "outputs": [
    {
     "name": "stdout",
     "output_type": "stream",
     "text": [
      "trainDf has 187995 features from the raw data:\n",
      "Index([u'cat1', u'cat2', u'cat3', u'cat4', u'cat5', u'cat6', u'cat7', u'cat8',\n",
      "       u'cat9', u'cat10',\n",
      "       ...\n",
      "       u'cont5', u'cont6', u'cont7', u'cont8', u'cont9', u'cont10', u'cont11',\n",
      "       u'cont12', u'cont13', u'cont14'],\n",
      "      dtype='object', length=130)\n",
      "testDf has 125546 features from the raw data:\n",
      "Index([u'cat1', u'cat2', u'cat3', u'cat4', u'cat5', u'cat6', u'cat7', u'cat8',\n",
      "       u'cat9', u'cat10',\n",
      "       ...\n",
      "       u'cont5', u'cont6', u'cont7', u'cont8', u'cont9', u'cont10', u'cont11',\n",
      "       u'cont12', u'cont13', u'cont14'],\n",
      "      dtype='object', length=130)\n"
     ]
    }
   ],
   "source": [
    "# save label in a seperate serie\n",
    "labelSs = data_train_raw[colLabel]\n",
    "labelColumns.append('id')\n",
    "trainDf = data_train_raw.drop(labelColumns,axis=1)\n",
    "subId = data_test_raw['id']\n",
    "testDf = data_test_raw.drop(['id'],axis=1)\n",
    "\n",
    "print('trainDf has {} features from the raw data:\\n{}'.format(len(trainDf), trainDf.columns))\n",
    "print('testDf has {} features from the raw data:\\n{}'.format(len(testDf),testDf.columns))"
   ]
  },
  {
   "cell_type": "code",
   "execution_count": 12,
   "metadata": {
    "collapsed": false
   },
   "outputs": [
    {
     "name": "stdout",
     "output_type": "stream",
     "text": [
      "the stacked data's dimension are:\n",
      "(313541, 130)\n",
      "(313541, 116) of which are categorical\n",
      "(313541, 14) of which are continuous\n"
     ]
    }
   ],
   "source": [
    "dataAll = pd.concat([trainDf,testDf])\n",
    "dataCatAll = dataAll.select_dtypes(include=['object'])\n",
    "dataFltAll = dataAll.select_dtypes(include=['float64'])\n",
    "print('the stacked data\\'s dimension are:\\n{}'.format(dataAll.shape))\n",
    "print('{} of which are categorical'.format(dataCatAll.shape))\n",
    "print('{} of which are continuous'.format(dataFltAll.shape))"
   ]
  },
  {
   "cell_type": "code",
   "execution_count": 13,
   "metadata": {
    "collapsed": false
   },
   "outputs": [
    {
     "data": {
      "text/html": [
       "<div>\n",
       "<table border=\"1\" class=\"dataframe\">\n",
       "  <thead>\n",
       "    <tr style=\"text-align: right;\">\n",
       "      <th></th>\n",
       "      <th>cat1</th>\n",
       "      <th>cat2</th>\n",
       "      <th>cat3</th>\n",
       "      <th>cat4</th>\n",
       "      <th>cat5</th>\n",
       "      <th>cat6</th>\n",
       "      <th>cat7</th>\n",
       "      <th>cat8</th>\n",
       "      <th>cat9</th>\n",
       "      <th>cat10</th>\n",
       "      <th>...</th>\n",
       "      <th>cat107</th>\n",
       "      <th>cat108</th>\n",
       "      <th>cat109</th>\n",
       "      <th>cat110</th>\n",
       "      <th>cat111</th>\n",
       "      <th>cat112</th>\n",
       "      <th>cat113</th>\n",
       "      <th>cat114</th>\n",
       "      <th>cat115</th>\n",
       "      <th>cat116</th>\n",
       "    </tr>\n",
       "  </thead>\n",
       "  <tbody>\n",
       "    <tr>\n",
       "      <th>0</th>\n",
       "      <td>A</td>\n",
       "      <td>B</td>\n",
       "      <td>A</td>\n",
       "      <td>B</td>\n",
       "      <td>A</td>\n",
       "      <td>A</td>\n",
       "      <td>A</td>\n",
       "      <td>A</td>\n",
       "      <td>B</td>\n",
       "      <td>A</td>\n",
       "      <td>...</td>\n",
       "      <td>J</td>\n",
       "      <td>G</td>\n",
       "      <td>BU</td>\n",
       "      <td>BC</td>\n",
       "      <td>C</td>\n",
       "      <td>AS</td>\n",
       "      <td>S</td>\n",
       "      <td>A</td>\n",
       "      <td>O</td>\n",
       "      <td>LB</td>\n",
       "    </tr>\n",
       "    <tr>\n",
       "      <th>1</th>\n",
       "      <td>A</td>\n",
       "      <td>B</td>\n",
       "      <td>A</td>\n",
       "      <td>A</td>\n",
       "      <td>A</td>\n",
       "      <td>A</td>\n",
       "      <td>A</td>\n",
       "      <td>A</td>\n",
       "      <td>B</td>\n",
       "      <td>B</td>\n",
       "      <td>...</td>\n",
       "      <td>K</td>\n",
       "      <td>K</td>\n",
       "      <td>BI</td>\n",
       "      <td>CQ</td>\n",
       "      <td>A</td>\n",
       "      <td>AV</td>\n",
       "      <td>BM</td>\n",
       "      <td>A</td>\n",
       "      <td>O</td>\n",
       "      <td>DP</td>\n",
       "    </tr>\n",
       "    <tr>\n",
       "      <th>2</th>\n",
       "      <td>A</td>\n",
       "      <td>B</td>\n",
       "      <td>A</td>\n",
       "      <td>A</td>\n",
       "      <td>B</td>\n",
       "      <td>A</td>\n",
       "      <td>A</td>\n",
       "      <td>A</td>\n",
       "      <td>B</td>\n",
       "      <td>B</td>\n",
       "      <td>...</td>\n",
       "      <td>F</td>\n",
       "      <td>A</td>\n",
       "      <td>AB</td>\n",
       "      <td>DK</td>\n",
       "      <td>A</td>\n",
       "      <td>C</td>\n",
       "      <td>AF</td>\n",
       "      <td>A</td>\n",
       "      <td>I</td>\n",
       "      <td>GK</td>\n",
       "    </tr>\n",
       "    <tr>\n",
       "      <th>3</th>\n",
       "      <td>B</td>\n",
       "      <td>B</td>\n",
       "      <td>A</td>\n",
       "      <td>B</td>\n",
       "      <td>A</td>\n",
       "      <td>A</td>\n",
       "      <td>A</td>\n",
       "      <td>A</td>\n",
       "      <td>B</td>\n",
       "      <td>A</td>\n",
       "      <td>...</td>\n",
       "      <td>K</td>\n",
       "      <td>K</td>\n",
       "      <td>BI</td>\n",
       "      <td>CS</td>\n",
       "      <td>C</td>\n",
       "      <td>N</td>\n",
       "      <td>AE</td>\n",
       "      <td>A</td>\n",
       "      <td>O</td>\n",
       "      <td>DJ</td>\n",
       "    </tr>\n",
       "    <tr>\n",
       "      <th>4</th>\n",
       "      <td>A</td>\n",
       "      <td>B</td>\n",
       "      <td>A</td>\n",
       "      <td>B</td>\n",
       "      <td>A</td>\n",
       "      <td>A</td>\n",
       "      <td>A</td>\n",
       "      <td>A</td>\n",
       "      <td>B</td>\n",
       "      <td>B</td>\n",
       "      <td>...</td>\n",
       "      <td>G</td>\n",
       "      <td>B</td>\n",
       "      <td>H</td>\n",
       "      <td>C</td>\n",
       "      <td>C</td>\n",
       "      <td>Y</td>\n",
       "      <td>BM</td>\n",
       "      <td>A</td>\n",
       "      <td>K</td>\n",
       "      <td>CK</td>\n",
       "    </tr>\n",
       "  </tbody>\n",
       "</table>\n",
       "<p>5 rows × 116 columns</p>\n",
       "</div>"
      ],
      "text/plain": [
       "  cat1 cat2 cat3 cat4 cat5 cat6 cat7 cat8 cat9 cat10  ...   cat107 cat108  \\\n",
       "0    A    B    A    B    A    A    A    A    B     A  ...        J      G   \n",
       "1    A    B    A    A    A    A    A    A    B     B  ...        K      K   \n",
       "2    A    B    A    A    B    A    A    A    B     B  ...        F      A   \n",
       "3    B    B    A    B    A    A    A    A    B     A  ...        K      K   \n",
       "4    A    B    A    B    A    A    A    A    B     B  ...        G      B   \n",
       "\n",
       "  cat109 cat110 cat111 cat112 cat113 cat114 cat115 cat116  \n",
       "0     BU     BC      C     AS      S      A      O     LB  \n",
       "1     BI     CQ      A     AV     BM      A      O     DP  \n",
       "2     AB     DK      A      C     AF      A      I     GK  \n",
       "3     BI     CS      C      N     AE      A      O     DJ  \n",
       "4      H      C      C      Y     BM      A      K     CK  \n",
       "\n",
       "[5 rows x 116 columns]"
      ]
     },
     "execution_count": 13,
     "metadata": {},
     "output_type": "execute_result"
    }
   ],
   "source": [
    "dataCatAll.head()"
   ]
  },
  {
   "cell_type": "code",
   "execution_count": 14,
   "metadata": {
    "collapsed": false
   },
   "outputs": [],
   "source": [
    "# LevelList = {'A','B','C','D','E','F','G','H','I','J','K','L','M','N','O','P','Q','R','S','T','U','V','W','X','Y','Z'}\n",
    "# # def LetterRep(x,LevelList):\n",
    "# #     if x in LevelList:\n",
    "# #         x = '0'+x\n",
    "# #     return x\n",
    "    \n",
    "# def LetterRep(x,LevelList):\n",
    "#     if x in LevelList:\n",
    "#         x = '0'+x\n",
    "#     return x\n",
    "\n",
    "# dataCatAll = dataCatAll.applymap(lambda x: LetterRep(x,LevelList))\n",
    "# dataCatAll.head()"
   ]
  },
  {
   "cell_type": "code",
   "execution_count": 15,
   "metadata": {
    "collapsed": false
   },
   "outputs": [
    {
     "name": "stderr",
     "output_type": "stream",
     "text": [
      "/home/ec2-user/anaconda2/lib/python2.7/site-packages/ipykernel/__main__.py:4: SettingWithCopyWarning: \n",
      "A value is trying to be set on a copy of a slice from a DataFrame.\n",
      "Try using .loc[row_indexer,col_indexer] = value instead\n",
      "\n",
      "See the caveats in the documentation: http://pandas.pydata.org/pandas-docs/stable/indexing.html#indexing-view-versus-copy\n"
     ]
    },
    {
     "data": {
      "text/html": [
       "<div>\n",
       "<table border=\"1\" class=\"dataframe\">\n",
       "  <thead>\n",
       "    <tr style=\"text-align: right;\">\n",
       "      <th></th>\n",
       "      <th>cat1</th>\n",
       "      <th>cat2</th>\n",
       "      <th>cat3</th>\n",
       "      <th>cat4</th>\n",
       "      <th>cat5</th>\n",
       "      <th>cat6</th>\n",
       "      <th>cat7</th>\n",
       "      <th>cat8</th>\n",
       "      <th>cat9</th>\n",
       "      <th>cat10</th>\n",
       "      <th>...</th>\n",
       "      <th>cat107</th>\n",
       "      <th>cat108</th>\n",
       "      <th>cat109</th>\n",
       "      <th>cat110</th>\n",
       "      <th>cat111</th>\n",
       "      <th>cat112</th>\n",
       "      <th>cat113</th>\n",
       "      <th>cat114</th>\n",
       "      <th>cat115</th>\n",
       "      <th>cat116</th>\n",
       "    </tr>\n",
       "  </thead>\n",
       "  <tbody>\n",
       "    <tr>\n",
       "      <th>0</th>\n",
       "      <td>0</td>\n",
       "      <td>1</td>\n",
       "      <td>0</td>\n",
       "      <td>1</td>\n",
       "      <td>0</td>\n",
       "      <td>0</td>\n",
       "      <td>0</td>\n",
       "      <td>0</td>\n",
       "      <td>1</td>\n",
       "      <td>0</td>\n",
       "      <td>...</td>\n",
       "      <td>9</td>\n",
       "      <td>6</td>\n",
       "      <td>46</td>\n",
       "      <td>28</td>\n",
       "      <td>2</td>\n",
       "      <td>19</td>\n",
       "      <td>57</td>\n",
       "      <td>0</td>\n",
       "      <td>14</td>\n",
       "      <td>287</td>\n",
       "    </tr>\n",
       "    <tr>\n",
       "      <th>1</th>\n",
       "      <td>0</td>\n",
       "      <td>1</td>\n",
       "      <td>0</td>\n",
       "      <td>0</td>\n",
       "      <td>0</td>\n",
       "      <td>0</td>\n",
       "      <td>0</td>\n",
       "      <td>0</td>\n",
       "      <td>1</td>\n",
       "      <td>1</td>\n",
       "      <td>...</td>\n",
       "      <td>10</td>\n",
       "      <td>10</td>\n",
       "      <td>34</td>\n",
       "      <td>67</td>\n",
       "      <td>0</td>\n",
       "      <td>22</td>\n",
       "      <td>39</td>\n",
       "      <td>0</td>\n",
       "      <td>14</td>\n",
       "      <td>94</td>\n",
       "    </tr>\n",
       "    <tr>\n",
       "      <th>2</th>\n",
       "      <td>0</td>\n",
       "      <td>1</td>\n",
       "      <td>0</td>\n",
       "      <td>0</td>\n",
       "      <td>1</td>\n",
       "      <td>0</td>\n",
       "      <td>0</td>\n",
       "      <td>0</td>\n",
       "      <td>1</td>\n",
       "      <td>1</td>\n",
       "      <td>...</td>\n",
       "      <td>5</td>\n",
       "      <td>0</td>\n",
       "      <td>2</td>\n",
       "      <td>87</td>\n",
       "      <td>0</td>\n",
       "      <td>28</td>\n",
       "      <td>6</td>\n",
       "      <td>0</td>\n",
       "      <td>8</td>\n",
       "      <td>167</td>\n",
       "    </tr>\n",
       "    <tr>\n",
       "      <th>3</th>\n",
       "      <td>1</td>\n",
       "      <td>1</td>\n",
       "      <td>0</td>\n",
       "      <td>1</td>\n",
       "      <td>0</td>\n",
       "      <td>0</td>\n",
       "      <td>0</td>\n",
       "      <td>0</td>\n",
       "      <td>1</td>\n",
       "      <td>0</td>\n",
       "      <td>...</td>\n",
       "      <td>10</td>\n",
       "      <td>10</td>\n",
       "      <td>34</td>\n",
       "      <td>69</td>\n",
       "      <td>2</td>\n",
       "      <td>39</td>\n",
       "      <td>5</td>\n",
       "      <td>0</td>\n",
       "      <td>14</td>\n",
       "      <td>88</td>\n",
       "    </tr>\n",
       "    <tr>\n",
       "      <th>4</th>\n",
       "      <td>0</td>\n",
       "      <td>1</td>\n",
       "      <td>0</td>\n",
       "      <td>1</td>\n",
       "      <td>0</td>\n",
       "      <td>0</td>\n",
       "      <td>0</td>\n",
       "      <td>0</td>\n",
       "      <td>1</td>\n",
       "      <td>1</td>\n",
       "      <td>...</td>\n",
       "      <td>6</td>\n",
       "      <td>1</td>\n",
       "      <td>67</td>\n",
       "      <td>51</td>\n",
       "      <td>2</td>\n",
       "      <td>50</td>\n",
       "      <td>39</td>\n",
       "      <td>0</td>\n",
       "      <td>10</td>\n",
       "      <td>63</td>\n",
       "    </tr>\n",
       "  </tbody>\n",
       "</table>\n",
       "<p>5 rows × 116 columns</p>\n",
       "</div>"
      ],
      "text/plain": [
       "   cat1  cat2  cat3  cat4  cat5  cat6  cat7  cat8  cat9  cat10   ...    \\\n",
       "0     0     1     0     1     0     0     0     0     1      0   ...     \n",
       "1     0     1     0     0     0     0     0     0     1      1   ...     \n",
       "2     0     1     0     0     1     0     0     0     1      1   ...     \n",
       "3     1     1     0     1     0     0     0     0     1      0   ...     \n",
       "4     0     1     0     1     0     0     0     0     1      1   ...     \n",
       "\n",
       "   cat107  cat108  cat109  cat110  cat111  cat112  cat113  cat114  cat115  \\\n",
       "0       9       6      46      28       2      19      57       0      14   \n",
       "1      10      10      34      67       0      22      39       0      14   \n",
       "2       5       0       2      87       0      28       6       0       8   \n",
       "3      10      10      34      69       2      39       5       0      14   \n",
       "4       6       1      67      51       2      50      39       0      10   \n",
       "\n",
       "   cat116  \n",
       "0     287  \n",
       "1      94  \n",
       "2     167  \n",
       "3      88  \n",
       "4      63  \n",
       "\n",
       "[5 rows x 116 columns]"
      ]
     },
     "execution_count": 15,
     "metadata": {},
     "output_type": "execute_result"
    }
   ],
   "source": [
    "features = dataCatAll.columns[0:]\n",
    "cats = [feature for feature in features if feature.startswith('cat')]\n",
    "for feat in cats:\n",
    "    dataCatAll[feat] = pd.factorize(dataCatAll[feat], sort=True)[0]\n",
    "dataCatAll.head()\n",
    "# le.classes_"
   ]
  },
  {
   "cell_type": "code",
   "execution_count": 16,
   "metadata": {
    "collapsed": false
   },
   "outputs": [],
   "source": [
    "# # create additional features using categorical features\n",
    "# imp_features = ['cat1', 'cat2', 'cat3', 'cat4', 'cat5', 'cat6', 'cat7', 'cat8', 'cat9', 'cat10', 'cat11', 'cat12', \n",
    "#                 'cat13', 'cat14', 'cat16', 'cat17', 'cat18', 'cat19', 'cat23', 'cat24', 'cat25', 'cat28', 'cat29', \n",
    "#                 'cat30', 'cat32', 'cat33', 'cat34', 'cat36', 'cat38', 'cat40', 'cat41', 'cat42', 'cat43', 'cat45', \n",
    "#                 'cat46', 'cat47', 'cat50', 'cat51', 'cat52', 'cat57', 'cat58', 'cat61', 'cat65', 'cat67', 'cat71', \n",
    "#                 'cat72', 'cat73', 'cat75', 'cat76', 'cat78', 'cat79', 'cat80', 'cat81', 'cat82', 'cat85', 'cat87', \n",
    "#                 'cat94', 'cat95', 'cat109']# err cut-off 15000\n",
    "# rest_features = ['cat15', 'cat18', 'cat20', 'cat21', 'cat22', 'cat26', 'cat27', 'cat31', 'cat34', 'cat35', 'cat37', 'cat44', \n",
    "#                  'cat48', 'cat49', 'cat50', 'cat51', 'cat53', 'cat54', 'cat55', 'cat56', 'cat58', 'cat60', 'cat61', 'cat62', \n",
    "#                  'cat63', 'cat64', 'cat66', 'cat67', 'cat68', 'cat69', 'cat70', 'cat74', 'cat77', 'cat84', 'cat86', 'cat88', \n",
    "#                  'cat91', 'cat92', 'cat93', 'cat97', 'cat98', 'cat100', 'cat101', 'cat102', 'cat103', 'cat104', 'cat105', \n",
    "#                  'cat106', 'cat107', 'cat108', 'cat110', 'cat111', 'cat112', 'cat113', 'cat114', 'cat115', 'cat116']\n",
    "\n",
    "# # imp_features = ['cat1', 'cat2', 'cat3', 'cat4', 'cat5', 'cat6', 'cat7', 'cat8', 'cat9', 'cat10', 'cat11', 'cat12', \n",
    "# #                 'cat13', 'cat14', 'cat16', 'cat17', 'cat18', 'cat19', 'cat23', 'cat24', 'cat25', 'cat28', 'cat29', \n",
    "# #                 'cat30', 'cat32', 'cat33', 'cat34', 'cat36', 'cat38', 'cat40', 'cat41', 'cat42', 'cat43', 'cat45', \n",
    "# #                 'cat46', 'cat47', 'cat50', 'cat51', 'cat52', 'cat57', 'cat58', 'cat61', 'cat65', 'cat67', 'cat71', \n",
    "# #                 'cat72']# err cut-off 15000\n",
    "# # rest_features = ['cat15', 'cat18', 'cat20', 'cat21', 'cat22', 'cat26', 'cat27', 'cat31', 'cat34', 'cat35', 'cat37', 'cat44', \n",
    "# #                  'cat48', 'cat49', 'cat50', 'cat51', 'cat53', 'cat54', 'cat55', 'cat56', 'cat58', 'cat60', 'cat61', 'cat62', \n",
    "# #                  'cat63', 'cat64', 'cat66', 'cat67', 'cat68', 'cat69', 'cat70']\n",
    "\n",
    "# dataCatAll['cat117'] = dataCatAll[imp_features].sum(axis=1)\n",
    "# dataCatAll['cat118'] = dataCatAll[rest_features].sum(axis=1)\n",
    "\n",
    "# # # tmpDf = dataCatAll[imp_features]!=0\n",
    "# # # dataCatAll['cat117'] = tmpDf.sum(axis=1)\n",
    "\n",
    "# # # tmpDf = dataCatAll[rest_features]!=0\n",
    "# # # dataCatAll['cat118'] = tmpDf.sum(axis=1)\n",
    "\n",
    "# dataCatAll[['cat117','cat118']].head()"
   ]
  },
  {
   "cell_type": "code",
   "execution_count": 17,
   "metadata": {
    "collapsed": false
   },
   "outputs": [],
   "source": [
    "# # boxcox transform\n",
    "# from sklearn.preprocessing import MinMaxScaler\n",
    "# from scipy.stats import skew, boxcox\n",
    "\n",
    "# mms = MinMaxScaler()\n",
    "# print(skew(dataFltAll))\n",
    "# for col in dataFltAll.columns:\n",
    "#     if (skew(dataFltAll[col]))>0.25:\n",
    "#         dataFltAll[col],lam = boxcox(dataFltAll[col]+1)\n",
    "#         dataFltAll[col] = mms.fit_transform(dataFltAll[col])\n",
    "# print(skew(dataFltAll))"
   ]
  },
  {
   "cell_type": "code",
   "execution_count": 18,
   "metadata": {
    "collapsed": false
   },
   "outputs": [],
   "source": [
    "# dataFltAll.describe()"
   ]
  },
  {
   "cell_type": "code",
   "execution_count": 19,
   "metadata": {
    "collapsed": false
   },
   "outputs": [],
   "source": [
    "# rescale the labeled categorical data\n",
    "from sklearn.preprocessing import MinMaxScaler\n",
    "mms = MinMaxScaler()\n",
    "x_catAll = mms.fit_transform(dataCatAll)"
   ]
  },
  {
   "cell_type": "code",
   "execution_count": 20,
   "metadata": {
    "collapsed": false
   },
   "outputs": [
    {
     "name": "stdout",
     "output_type": "stream",
     "text": [
      "(313541, 116)\n"
     ]
    },
    {
     "data": {
      "text/plain": [
       "array([[ 0.        ,  1.        ,  0.        , ...,  0.        ,\n",
       "         0.63636364,  0.82947977],\n",
       "       [ 0.        ,  1.        ,  0.        , ...,  0.        ,\n",
       "         0.63636364,  0.2716763 ],\n",
       "       [ 0.        ,  1.        ,  0.        , ...,  0.        ,\n",
       "         0.36363636,  0.48265896],\n",
       "       ..., \n",
       "       [ 1.        ,  1.        ,  0.        , ...,  0.        ,\n",
       "         0.68181818,  0.89595376],\n",
       "       [ 0.        ,  0.        ,  0.        , ...,  0.22222222,\n",
       "         0.63636364,  0.25433526],\n",
       "       [ 0.        ,  1.        ,  0.        , ...,  0.        ,\n",
       "         0.5       ,  0.20231214]])"
      ]
     },
     "execution_count": 20,
     "metadata": {},
     "output_type": "execute_result"
    }
   ],
   "source": [
    "print(x_catAll.shape)\n",
    "x_catAll"
   ]
  },
  {
   "cell_type": "code",
   "execution_count": 21,
   "metadata": {
    "collapsed": false
   },
   "outputs": [],
   "source": [
    "# len(imp_features)"
   ]
  },
  {
   "cell_type": "markdown",
   "metadata": {},
   "source": [
    "# one-hot-encoding - skipped in order to keep the alphabetical order"
   ]
  },
  {
   "cell_type": "code",
   "execution_count": 22,
   "metadata": {
    "collapsed": false
   },
   "outputs": [],
   "source": [
    "# # one-hot-encoding the categorical features\n",
    "# from sklearn.preprocessing import OneHotEncoder\n",
    "# enc = OneHotEncoder()\n",
    "# x_catAll = enc.fit_transform(dataCatAll)\n",
    "# print(x_catAll.shape)"
   ]
  },
  {
   "cell_type": "markdown",
   "metadata": {},
   "source": [
    "# split x_train and x_test"
   ]
  },
  {
   "cell_type": "code",
   "execution_count": 23,
   "metadata": {
    "collapsed": false
   },
   "outputs": [],
   "source": [
    "# split x_train and x_test\n",
    "x_train = sp.sparse.csc_matrix(sp.sparse.hstack((x_catAll[0:len(labelSs),:],sp.sparse.csr_matrix(dataFltAll.as_matrix())[0:len(labelSs),:])))\n",
    "x_test = sp.sparse.csc_matrix(sp.sparse.hstack((x_catAll[len(labelSs):,:],sp.sparse.csr_matrix(dataFltAll.as_matrix())[len(labelSs):,:])))\n",
    "y_train = labelSs.values"
   ]
  },
  {
   "cell_type": "markdown",
   "metadata": {},
   "source": [
    "# check the dimension of prepared data"
   ]
  },
  {
   "cell_type": "code",
   "execution_count": 24,
   "metadata": {
    "collapsed": false
   },
   "outputs": [
    {
     "name": "stdout",
     "output_type": "stream",
     "text": [
      "(125546, 130)\n",
      "(187995, 130)\n",
      "(187995,)\n"
     ]
    }
   ],
   "source": [
    "print(x_test.shape)\n",
    "print(x_train.shape)\n",
    "print(y_train.shape)"
   ]
  },
  {
   "cell_type": "markdown",
   "metadata": {},
   "source": [
    "# split the training data for validation"
   ]
  },
  {
   "cell_type": "code",
   "execution_count": 25,
   "metadata": {
    "collapsed": false
   },
   "outputs": [],
   "source": [
    "# from sklearn import cross_validation\n",
    "# val_size = 0.1\n",
    "# seed = 0\n",
    "# x_train, x_val, y_train, y_val = cross_validation.train_test_split(x_train, y_train, test_size=val_size, random_state=seed)\n",
    "# print(x_train.shape)\n",
    "# print(y_train.shape)\n",
    "# print(x_val.shape)\n",
    "# print(y_val.shape)"
   ]
  },
  {
   "cell_type": "code",
   "execution_count": 26,
   "metadata": {
    "collapsed": true
   },
   "outputs": [],
   "source": [
    "# del x_Train\n",
    "# del y_Train\n",
    "# del x_catAll\n",
    "# del dataCatAll\n",
    "# del trainDf\n",
    "# del testDf"
   ]
  },
  {
   "cell_type": "markdown",
   "metadata": {},
   "source": [
    "# Model Fitting"
   ]
  },
  {
   "cell_type": "code",
   "execution_count": 30,
   "metadata": {
    "collapsed": true
   },
   "outputs": [],
   "source": [
    "from sklearn.metrics import mean_absolute_error\n",
    "from sklearn.model_selection import GridSearchCV\n",
    "y_pred = []\n",
    "y_pred_val = []\n",
    "submission = pd.read_csv('../input/sample_submission.csv')"
   ]
  },
  {
   "cell_type": "code",
   "execution_count": 31,
   "metadata": {
    "collapsed": false
   },
   "outputs": [],
   "source": [
    "# testList = ['XGBoostTrees']"
   ]
  },
  {
   "cell_type": "markdown",
   "metadata": {},
   "source": [
    "### Random Forest"
   ]
  },
  {
   "cell_type": "code",
   "execution_count": 32,
   "metadata": {
    "collapsed": false
   },
   "outputs": [],
   "source": [
    "from sklearn.ensemble import RandomForestRegressor\n",
    "from sklearn.cross_validation import KFold"
   ]
  },
  {
   "cell_type": "code",
   "execution_count": null,
   "metadata": {
    "collapsed": false
   },
   "outputs": [],
   "source": [
    "# GridSearch for hyperparameters\n",
    "seed = 0\n",
    "mlpParamGrid = { 'n_estimators':[300],#,500,800,1000],\n",
    "             'max_features':[0.3,0.5,1]\n",
    "           }\n",
    "\n",
    "clf = GridSearchCV(RandomForestRegressor(random_state=seed), mlpParamGrid,                \n",
    "               n_jobs=9, refit=True,cv=5, scoring = 'neg_mean_absolute_error')\n",
    "clf.fit(x_train,y_train)\n",
    "print(clf.best_params_)\n",
    "print(clf.best_estimator_)\n",
    "print(clf.best_score_)"
   ]
  },
  {
   "cell_type": "code",
   "execution_count": 35,
   "metadata": {
    "collapsed": false
   },
   "outputs": [
    {
     "name": "stdout",
     "output_type": "stream",
     "text": [
      "\n",
      " Fold 1\n",
      "k th x_train:(169195, 130), x_val:(18800, 130)\n",
      "k th y_train:(169195,), y_val:(18800,)\n",
      "1157.8207228\n",
      "\n",
      " Fold 2\n",
      "k th x_train:(169195, 130), x_val:(18800, 130)\n",
      "k th y_train:(169195,), y_val:(18800,)\n",
      "1140.24946316\n",
      "\n",
      " Fold 3\n",
      "k th x_train:(169195, 130), x_val:(18800, 130)\n",
      "k th y_train:(169195,), y_val:(18800,)\n",
      "1153.97134288\n",
      "\n",
      " Fold 4\n",
      "k th x_train:(169195, 130), x_val:(18800, 130)\n",
      "k th y_train:(169195,), y_val:(18800,)\n",
      "1143.7292505\n",
      "\n",
      " Fold 5\n",
      "k th x_train:(169195, 130), x_val:(18800, 130)\n",
      "k th y_train:(169195,), y_val:(18800,)\n",
      "1161.5344927\n",
      "\n",
      " Fold 6\n",
      "k th x_train:(169196, 130), x_val:(18799, 130)\n",
      "k th y_train:(169196,), y_val:(18799,)\n",
      "1154.40047849\n",
      "\n",
      " Fold 7\n",
      "k th x_train:(169196, 130), x_val:(18799, 130)\n",
      "k th y_train:(169196,), y_val:(18799,)\n",
      "1143.25982938\n",
      "\n",
      " Fold 8\n",
      "k th x_train:(169196, 130), x_val:(18799, 130)\n",
      "k th y_train:(169196,), y_val:(18799,)\n",
      "1159.97796598\n",
      "\n",
      " Fold 9\n",
      "k th x_train:(169196, 130), x_val:(18799, 130)\n",
      "k th y_train:(169196,), y_val:(18799,)\n",
      "1143.45894218\n",
      "\n",
      " Fold 10\n",
      "k th x_train:(169196, 130), x_val:(18799, 130)\n",
      "k th y_train:(169196,), y_val:(18799,)\n",
      "1140.45369971\n"
     ]
    }
   ],
   "source": [
    "n_folds  = 10\n",
    "kf = KFold(x_train.shape[0], n_folds=n_folds)\n",
    "pred_y_train = np.zeros((x_train.shape[0],1))\n",
    "\n",
    "seed = 0\n",
    "for i, (train_index, test_index) in enumerate(kf):\n",
    "    print('\\n Fold %d' % (i + 1))\n",
    "    x_train_k, x_val_k = x_train[train_index,:], x_train[test_index,:]\n",
    "    print('k th x_train:{}, x_val:{}'.format(x_train_k.shape, x_val_k.shape))\n",
    "    y_train_k, y_val_k = y_train[train_index], y_train[test_index]    \n",
    "    print('k th y_train:{}, y_val:{}'.format(y_train_k.shape,y_val_k.shape))\n",
    "    \n",
    "#     mlpParamGrid = { 'n_estimator':[],\n",
    "#                  'activation':['tanh'],\n",
    "#                }\n",
    "    \n",
    "#     clf = GridSearchCV(MLPRegressor(random_state=seed,early_stopping=True,max_iter=400,tol=0.0001), mlpParamGrid,                \n",
    "#                    n_jobs=7, refit=True,cv=5, scoring = 'neg_mean_absolute_error')\n",
    "    clf = RandomForestRegressor()\n",
    "    clf.fit(x_train_k, y_train_k)\n",
    "    pred_y_train[test_index,0] = clf.predict(x_val_k)\n",
    "    \n",
    "    print(mean_absolute_error(lossRestore(y_val_k,ymean,ystd)-shift,lossRestore(clf.predict(x_val_k),ymean,ystd)-shift))\n",
    "    \n",
    "#     print(clf.best_params_)\n",
    "#     pred_val_k = lossRestore(clf.best_estimator_.predict(x_val),ymean,ystd)-shift\n",
    "#     print(mean_absolute_error(lossRestore(y_val,ymean,ystd)-shift,pred_val_k))\n",
    "#     y_pred_val.append(pred_val_k)\n",
    "    \n",
    "    pred_k = lossRestore(clf.best_estimator_.predict(x_test),ymean,ystd)-shift\n",
    "    y_pred.append(pred_k)"
   ]
  },
  {
   "cell_type": "code",
   "execution_count": 36,
   "metadata": {
    "collapsed": false
   },
   "outputs": [],
   "source": [
    "# average bagging results\n",
    "prediction = (np.ndarray.mean(np.vstack(y_pred).T,axis=1))\n",
    "# prediction_val = (np.ndarray.mean(np.vstack(y_pred_val).T,axis=1))\n",
    "# # ensembled y_val\n",
    "# print('The loss of the bagged result:')\n",
    "# mean_absolute_error(lossRestore(y_val,ymean,ystd),prediction_val)"
   ]
  },
  {
   "cell_type": "code",
   "execution_count": 37,
   "metadata": {
    "collapsed": false
   },
   "outputs": [
    {
     "data": {
      "text/plain": [
       "['../output/mlp_10folds_pred_on_train.sav']"
      ]
     },
     "execution_count": 37,
     "metadata": {},
     "output_type": "execute_result"
    }
   ],
   "source": [
    "from sklearn.externals import joblib\n",
    "joblib.dump(pred_y_train, '../output/mlp_10folds_pred_on_train.sav') "
   ]
  },
  {
   "cell_type": "markdown",
   "metadata": {},
   "source": [
    "# save files for submission"
   ]
  },
  {
   "cell_type": "code",
   "execution_count": 38,
   "metadata": {
    "collapsed": false
   },
   "outputs": [],
   "source": [
    "# Save all the predictions for submission\n",
    "submission['id'] = subId\n",
    "submission['loss']=pd.Series(data=prediction)\n",
    "submission.to_csv('../output/MLP_10folds.csv',index=False)"
   ]
  },
  {
   "cell_type": "code",
   "execution_count": 56,
   "metadata": {
    "collapsed": false
   },
   "outputs": [
    {
     "data": {
      "text/plain": [
       "['../output/models-raw-features-rescale-loss-shift.pkl']"
      ]
     },
     "execution_count": 56,
     "metadata": {},
     "output_type": "execute_result"
    }
   ],
   "source": [
    "# from sklearn.externals import joblib\n",
    "# joblib.dump([gbt, y_pred, y_pred_val, x_train, x_val, y_train, y_val, x_test, shift]\n",
    "#             ,'../output/models-raw-features-rescale-loss-shift.pkl',compress=3) \n",
    "\n",
    "# # clf = joblib.load('filename.pkl') "
   ]
  },
  {
   "cell_type": "code",
   "execution_count": null,
   "metadata": {
    "collapsed": false
   },
   "outputs": [],
   "source": [
    "testList\n"
   ]
  },
  {
   "cell_type": "code",
   "execution_count": null,
   "metadata": {
    "collapsed": true
   },
   "outputs": [],
   "source": []
  }
 ],
 "metadata": {
  "kernelspec": {
   "display_name": "Python [Root]",
   "language": "python",
   "name": "Python [Root]"
  },
  "language_info": {
   "codemirror_mode": {
    "name": "ipython",
    "version": 2
   },
   "file_extension": ".py",
   "mimetype": "text/x-python",
   "name": "python",
   "nbconvert_exporter": "python",
   "pygments_lexer": "ipython2",
   "version": "2.7.12"
  }
 },
 "nbformat": 4,
 "nbformat_minor": 0
}
