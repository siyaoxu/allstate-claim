{
 "cells": [
  {
   "cell_type": "code",
   "execution_count": 7,
   "metadata": {
    "collapsed": false
   },
   "outputs": [
    {
     "data": {
      "text/html": [
       "<div>\n",
       "<table border=\"1\" class=\"dataframe\">\n",
       "  <thead>\n",
       "    <tr style=\"text-align: right;\">\n",
       "      <th></th>\n",
       "      <th>one</th>\n",
       "      <th>two</th>\n",
       "    </tr>\n",
       "  </thead>\n",
       "  <tbody>\n",
       "    <tr>\n",
       "      <th>0</th>\n",
       "      <td>c</td>\n",
       "      <td>c</td>\n",
       "    </tr>\n",
       "    <tr>\n",
       "      <th>1</th>\n",
       "      <td>b</td>\n",
       "      <td>a</td>\n",
       "    </tr>\n",
       "    <tr>\n",
       "      <th>2</th>\n",
       "      <td>c</td>\n",
       "      <td>b</td>\n",
       "    </tr>\n",
       "  </tbody>\n",
       "</table>\n",
       "</div>"
      ],
      "text/plain": [
       "  one two\n",
       "0   c   c\n",
       "1   b   a\n",
       "2   c   b"
      ]
     },
     "execution_count": 7,
     "metadata": {},
     "output_type": "execute_result"
    }
   ],
   "source": [
    "import numpy as np\n",
    "import pandas as pd\n",
    "labelDf = pd.DataFrame({'one':['c','b','c'],'two':['c','a','b']})\n",
    "labelDf"
   ]
  },
  {
   "cell_type": "code",
   "execution_count": 8,
   "metadata": {
    "collapsed": true
   },
   "outputs": [],
   "source": [
    "from sklearn.preprocessing import LabelEncoder\n",
    "from sklearn.preprocessing import OneHotEncoder"
   ]
  },
  {
   "cell_type": "code",
   "execution_count": 9,
   "metadata": {
    "collapsed": true
   },
   "outputs": [],
   "source": [
    "le = LabelEncoder()\n",
    "ohe = OneHotEncoder(sparse=False) "
   ]
  },
  {
   "cell_type": "code",
   "execution_count": 34,
   "metadata": {
    "collapsed": false
   },
   "outputs": [
    {
     "name": "stdout",
     "output_type": "stream",
     "text": [
      "   one  two\n",
      "0    1    2\n",
      "1    0    0\n",
      "2    1    1\n",
      "[[ 0.  1.  0.  0.  1.]\n",
      " [ 1.  0.  1.  0.  0.]\n",
      " [ 0.  1.  0.  1.  0.]]\n"
     ]
    }
   ],
   "source": [
    "# directly deal with dataframes\n",
    "for col in labelDf.columns:\n",
    "    labelDf[col]=le.fit_transform(labelDf[col])\n",
    "print(labelDf)\n",
    "oheList = ohe.fit_transform(labelDf)\n",
    "print(oheList)"
   ]
  },
  {
   "cell_type": "code",
   "execution_count": 10,
   "metadata": {
    "collapsed": false
   },
   "outputs": [
    {
     "name": "stdout",
     "output_type": "stream",
     "text": [
      "  one two\n",
      "0   c   c\n",
      "1   b   a\n",
      "2   c   b\n",
      "[[ 0.  1.  0.  0.  1.]\n",
      " [ 1.  0.  1.  0.  0.]\n",
      " [ 0.  1.  0.  1.  0.]]\n"
     ]
    }
   ],
   "source": [
    "# column by column\n",
    "oheList = []\n",
    "for col in labelDf.columns:\n",
    "    le.fit(labelDf[col])\n",
    "    feature = le.transform(labelDf[col])\n",
    "    feature=feature.reshape(labelDf.shape[0], 1)\n",
    "#     ohe = OneHotEncoder(sparse=False,n_values=len(labels[i]))\n",
    "    feature = ohe.fit_transform(feature)\n",
    "    oheList.append(feature)\n",
    "oheList = np.column_stack(oheList)\n",
    "print(labelDf)\n",
    "\n",
    "print(oheList)"
   ]
  },
  {
   "cell_type": "code",
   "execution_count": 6,
   "metadata": {
    "collapsed": false
   },
   "outputs": [
    {
     "data": {
      "text/plain": [
       "[array([[ 0.,  1.],\n",
       "        [ 1.,  0.],\n",
       "        [ 0.,  1.]]), array([[ 0.,  0.,  1.],\n",
       "        [ 1.,  0.,  0.],\n",
       "        [ 0.,  1.,  0.]])]"
      ]
     },
     "execution_count": 6,
     "metadata": {},
     "output_type": "execute_result"
    }
   ],
   "source": [
    "oheList"
   ]
  }
 ],
 "metadata": {
  "kernelspec": {
   "display_name": "Python 2",
   "language": "python",
   "name": "python2"
  },
  "language_info": {
   "codemirror_mode": {
    "name": "ipython",
    "version": 2
   },
   "file_extension": ".py",
   "mimetype": "text/x-python",
   "name": "python",
   "nbconvert_exporter": "python",
   "pygments_lexer": "ipython2",
   "version": "2.7.12"
  }
 },
 "nbformat": 4,
 "nbformat_minor": 0
}
