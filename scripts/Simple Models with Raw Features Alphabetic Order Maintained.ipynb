{
 "cells": [
  {
   "cell_type": "markdown",
   "metadata": {},
   "source": [
    "# Load the data"
   ]
  },
  {
   "cell_type": "code",
   "execution_count": null,
   "metadata": {
    "collapsed": false
   },
   "outputs": [],
   "source": [
    "# This Python 3 environment comes with many helpful analytics libraries installed\n",
    "# It is defined by the kaggle/python docker image: https://github.com/kaggle/docker-python\n",
    "# For example, here's several helpful packages to load in \n",
    "\n",
    "import numpy as np # linear algebra\n",
    "import pandas as pd # data processing, CSV file I/O (e.g. pd.read_csv)\n",
    "import scipy as sp\n",
    "\n",
    "# from scipy.special import erfinv\n",
    "from scipy.stats import norm\n",
    "\n",
    "# Input data files are available in the \"../input/\" directory.\n",
    "# For example, running this (by clicking run or pressing Shift+Enter) will list the files in the input directory\n",
    "\n",
    "# from subprocess import check_output\n",
    "# print(check_output([\"ls\", \"../input\"]).decode(\"utf8\"))\n",
    "\n",
    "# Any results you write to the current directory are saved as output.\n",
    "\n",
    "%matplotlib inline\n",
    "\n",
    "import matplotlib.pyplot as plt"
   ]
  },
  {
   "cell_type": "code",
   "execution_count": 2,
   "metadata": {
    "collapsed": false
   },
   "outputs": [],
   "source": [
    "data_train_raw = pd.read_csv('../input/train.csv')\n",
    "# data_train_raw = data_train_raw.sample(frac=0.01, random_state=0)\n",
    "data_test_raw = pd.read_csv('../input/test.csv')"
   ]
  },
  {
   "cell_type": "code",
   "execution_count": 3,
   "metadata": {
    "collapsed": false
   },
   "outputs": [
    {
     "data": {
      "text/plain": [
       "(188318, 132)"
      ]
     },
     "execution_count": 3,
     "metadata": {},
     "output_type": "execute_result"
    }
   ],
   "source": [
    "data_train_raw.shape"
   ]
  },
  {
   "cell_type": "markdown",
   "metadata": {},
   "source": [
    "# Data transformation"
   ]
  },
  {
   "cell_type": "code",
   "execution_count": 10,
   "metadata": {
    "collapsed": false
   },
   "outputs": [],
   "source": [
    "ylog=np.log1p(data_train_raw['loss'])\n",
    "# ymean=ylog.mean()\n",
    "# ystd=ylog.std()\n",
    "ymean=ylog.min()\n",
    "ystd=ylog.max()\n",
    "data_train_raw['loss_g']=(ylog-ymean)/ystd"
   ]
  },
  {
   "cell_type": "code",
   "execution_count": 11,
   "metadata": {
    "collapsed": false
   },
   "outputs": [],
   "source": [
    "# # clean outliers in training data\n",
    "# lossMean = data_train_raw['loss_g'].mean()\n",
    "# lossStd = data_train_raw['loss_g'].std()\n",
    "# print('Mean of log1py: {}'.format(lossMean))\n",
    "# print('Std of log1py: {}'.format(lossStd))\n",
    "# lbound = lossMean-3.0*lossStd\n",
    "# ubound = lossMean+3.0*lossStd\n",
    "# print('Lower clipping bound: {}\\nUpper clipping bound: {}'.format(lbound, ubound))\n",
    "# data_train_raw = data_train_raw[(data_train_raw['loss_g']>=lbound) & (data_train_raw['loss_g']<=ubound)]\n",
    "# print('Shape of cleaned data: {}'.format(data_train_raw.shape))"
   ]
  },
  {
   "cell_type": "code",
   "execution_count": 12,
   "metadata": {
    "collapsed": false
   },
   "outputs": [],
   "source": [
    "def ToUniform(y):\n",
    "    z = norm.cdf(-y/np.sqrt(2))\n",
    "    return z\n",
    "def UniformToGauss(z):\n",
    "    return -np.sqrt(2)*norm.ppf(z)*ystd+ymean\n",
    "# def BackToOriginal(z):\n",
    "#     return np.exp(UniformToGauss(z))\n",
    "\n",
    "data_train_raw['loss_u']=ToUniform(data_train_raw['loss_g'])\n",
    "\n",
    "def lossRestore(logloss, ymean, ystd):\n",
    "    loss = np.expm1(logloss*ystd+ymean)\n",
    "    return loss"
   ]
  },
  {
   "cell_type": "code",
   "execution_count": 13,
   "metadata": {
    "collapsed": false
   },
   "outputs": [
    {
     "data": {
      "image/png": "[encoded data removed]",
      "text/plain": [
       "<matplotlib.figure.Figure at 0x7f9b39b58e50>"
      ]
     },
     "metadata": {},
     "output_type": "display_data"
    }
   ],
   "source": [
    "plt.figure(figsize=(15,4))\n",
    "\n",
    "plt.subplot(2,2,1)\n",
    "plt.hist(data_train_raw['loss'],100)\n",
    "plt.title('loss');\n",
    "\n",
    "plt.subplot(2,2,2)\n",
    "plt.hist(ylog,100)\n",
    "plt.title('log(loss) - Gauss');\n",
    "\n",
    "plt.subplot(2,2,3)\n",
    "plt.hist(data_train_raw['loss_g'],100)\n",
    "plt.title('Normal');\n",
    "\n",
    "plt.subplot(2,2,4)\n",
    "plt.hist(lossRestore(data_train_raw['loss_g'],ymean,ystd),100)\n",
    "plt.title('Normal');"
   ]
  },
  {
   "cell_type": "markdown",
   "metadata": {},
   "source": [
    "# Data preparation - labeling encoder"
   ]
  },
  {
   "cell_type": "code",
   "execution_count": 14,
   "metadata": {
    "collapsed": false
   },
   "outputs": [
    {
     "name": "stdout",
     "output_type": "stream",
     "text": [
      "trainDf has features from the raw data:\n",
      "Index([u'cat1', u'cat2', u'cat3', u'cat4', u'cat5', u'cat6', u'cat7', u'cat8',\n",
      "       u'cat9', u'cat10',\n",
      "       ...\n",
      "       u'cont5', u'cont6', u'cont7', u'cont8', u'cont9', u'cont10', u'cont11',\n",
      "       u'cont12', u'cont13', u'cont14'],\n",
      "      dtype='object', length=130)\n",
      "testDf has features from the raw data:\n",
      "Index([u'cat1', u'cat2', u'cat3', u'cat4', u'cat5', u'cat6', u'cat7', u'cat8',\n",
      "       u'cat9', u'cat10',\n",
      "       ...\n",
      "       u'cont5', u'cont6', u'cont7', u'cont8', u'cont9', u'cont10', u'cont11',\n",
      "       u'cont12', u'cont13', u'cont14'],\n",
      "      dtype='object', length=130)\n"
     ]
    }
   ],
   "source": [
    "# save label in a seperate serie\n",
    "labelSs = data_train_raw['loss_g'] \n",
    "trainDf = data_train_raw.drop(['id','loss','loss_g','loss_u'],axis=1)\n",
    "subId = data_test_raw['id']\n",
    "testDf = data_test_raw.drop(['id'],axis=1)\n",
    "\n",
    "print('trainDf has features from the raw data:\\n{}'.format(trainDf.columns))\n",
    "print('testDf has features from the raw data:\\n{}'.format(testDf.columns))"
   ]
  },
  {
   "cell_type": "code",
   "execution_count": 15,
   "metadata": {
    "collapsed": false
   },
   "outputs": [
    {
     "name": "stdout",
     "output_type": "stream",
     "text": [
      "the stacked data's dimension are:\n",
      "(313500, 130)\n",
      "(313500, 116) of which are categorical\n",
      "(313500, 14) of which are continuous\n"
     ]
    }
   ],
   "source": [
    "dataAll = pd.concat([trainDf,testDf])\n",
    "dataCatAll = dataAll.select_dtypes(include=['object'])\n",
    "dataFltAll = dataAll.select_dtypes(include=['float64'])\n",
    "print('the stacked data\\'s dimension are:\\n{}'.format(dataAll.shape))\n",
    "print('{} of which are categorical'.format(dataCatAll.shape))\n",
    "print('{} of which are continuous'.format(dataFltAll.shape))"
   ]
  },
  {
   "cell_type": "code",
   "execution_count": 16,
   "metadata": {
    "collapsed": false
   },
   "outputs": [
    {
     "data": {
      "text/html": [
       "<div>\n",
       "<table border=\"1\" class=\"dataframe\">\n",
       "  <thead>\n",
       "    <tr style=\"text-align: right;\">\n",
       "      <th></th>\n",
       "      <th>cat1</th>\n",
       "      <th>cat2</th>\n",
       "      <th>cat3</th>\n",
       "      <th>cat4</th>\n",
       "      <th>cat5</th>\n",
       "      <th>cat6</th>\n",
       "      <th>cat7</th>\n",
       "      <th>cat8</th>\n",
       "      <th>cat9</th>\n",
       "      <th>cat10</th>\n",
       "      <th>...</th>\n",
       "      <th>cat107</th>\n",
       "      <th>cat108</th>\n",
       "      <th>cat109</th>\n",
       "      <th>cat110</th>\n",
       "      <th>cat111</th>\n",
       "      <th>cat112</th>\n",
       "      <th>cat113</th>\n",
       "      <th>cat114</th>\n",
       "      <th>cat115</th>\n",
       "      <th>cat116</th>\n",
       "    </tr>\n",
       "  </thead>\n",
       "  <tbody>\n",
       "    <tr>\n",
       "      <th>0</th>\n",
       "      <td>A</td>\n",
       "      <td>B</td>\n",
       "      <td>A</td>\n",
       "      <td>B</td>\n",
       "      <td>A</td>\n",
       "      <td>A</td>\n",
       "      <td>A</td>\n",
       "      <td>A</td>\n",
       "      <td>B</td>\n",
       "      <td>A</td>\n",
       "      <td>...</td>\n",
       "      <td>J</td>\n",
       "      <td>G</td>\n",
       "      <td>BU</td>\n",
       "      <td>BC</td>\n",
       "      <td>C</td>\n",
       "      <td>AS</td>\n",
       "      <td>S</td>\n",
       "      <td>A</td>\n",
       "      <td>O</td>\n",
       "      <td>LB</td>\n",
       "    </tr>\n",
       "    <tr>\n",
       "      <th>1</th>\n",
       "      <td>A</td>\n",
       "      <td>B</td>\n",
       "      <td>A</td>\n",
       "      <td>A</td>\n",
       "      <td>A</td>\n",
       "      <td>A</td>\n",
       "      <td>A</td>\n",
       "      <td>A</td>\n",
       "      <td>B</td>\n",
       "      <td>B</td>\n",
       "      <td>...</td>\n",
       "      <td>K</td>\n",
       "      <td>K</td>\n",
       "      <td>BI</td>\n",
       "      <td>CQ</td>\n",
       "      <td>A</td>\n",
       "      <td>AV</td>\n",
       "      <td>BM</td>\n",
       "      <td>A</td>\n",
       "      <td>O</td>\n",
       "      <td>DP</td>\n",
       "    </tr>\n",
       "    <tr>\n",
       "      <th>2</th>\n",
       "      <td>A</td>\n",
       "      <td>B</td>\n",
       "      <td>A</td>\n",
       "      <td>A</td>\n",
       "      <td>B</td>\n",
       "      <td>A</td>\n",
       "      <td>A</td>\n",
       "      <td>A</td>\n",
       "      <td>B</td>\n",
       "      <td>B</td>\n",
       "      <td>...</td>\n",
       "      <td>F</td>\n",
       "      <td>A</td>\n",
       "      <td>AB</td>\n",
       "      <td>DK</td>\n",
       "      <td>A</td>\n",
       "      <td>C</td>\n",
       "      <td>AF</td>\n",
       "      <td>A</td>\n",
       "      <td>I</td>\n",
       "      <td>GK</td>\n",
       "    </tr>\n",
       "    <tr>\n",
       "      <th>3</th>\n",
       "      <td>B</td>\n",
       "      <td>B</td>\n",
       "      <td>A</td>\n",
       "      <td>B</td>\n",
       "      <td>A</td>\n",
       "      <td>A</td>\n",
       "      <td>A</td>\n",
       "      <td>A</td>\n",
       "      <td>B</td>\n",
       "      <td>A</td>\n",
       "      <td>...</td>\n",
       "      <td>K</td>\n",
       "      <td>K</td>\n",
       "      <td>BI</td>\n",
       "      <td>CS</td>\n",
       "      <td>C</td>\n",
       "      <td>N</td>\n",
       "      <td>AE</td>\n",
       "      <td>A</td>\n",
       "      <td>O</td>\n",
       "      <td>DJ</td>\n",
       "    </tr>\n",
       "    <tr>\n",
       "      <th>4</th>\n",
       "      <td>A</td>\n",
       "      <td>B</td>\n",
       "      <td>A</td>\n",
       "      <td>B</td>\n",
       "      <td>A</td>\n",
       "      <td>A</td>\n",
       "      <td>A</td>\n",
       "      <td>A</td>\n",
       "      <td>B</td>\n",
       "      <td>B</td>\n",
       "      <td>...</td>\n",
       "      <td>G</td>\n",
       "      <td>B</td>\n",
       "      <td>H</td>\n",
       "      <td>C</td>\n",
       "      <td>C</td>\n",
       "      <td>Y</td>\n",
       "      <td>BM</td>\n",
       "      <td>A</td>\n",
       "      <td>K</td>\n",
       "      <td>CK</td>\n",
       "    </tr>\n",
       "  </tbody>\n",
       "</table>\n",
       "<p>5 rows × 116 columns</p>\n",
       "</div>"
      ],
      "text/plain": [
       "  cat1 cat2 cat3 cat4 cat5 cat6 cat7 cat8 cat9 cat10  ...   cat107 cat108  \\\n",
       "0    A    B    A    B    A    A    A    A    B     A  ...        J      G   \n",
       "1    A    B    A    A    A    A    A    A    B     B  ...        K      K   \n",
       "2    A    B    A    A    B    A    A    A    B     B  ...        F      A   \n",
       "3    B    B    A    B    A    A    A    A    B     A  ...        K      K   \n",
       "4    A    B    A    B    A    A    A    A    B     B  ...        G      B   \n",
       "\n",
       "  cat109 cat110 cat111 cat112 cat113 cat114 cat115 cat116  \n",
       "0     BU     BC      C     AS      S      A      O     LB  \n",
       "1     BI     CQ      A     AV     BM      A      O     DP  \n",
       "2     AB     DK      A      C     AF      A      I     GK  \n",
       "3     BI     CS      C      N     AE      A      O     DJ  \n",
       "4      H      C      C      Y     BM      A      K     CK  \n",
       "\n",
       "[5 rows x 116 columns]"
      ]
     },
     "execution_count": 16,
     "metadata": {},
     "output_type": "execute_result"
    }
   ],
   "source": [
    "dataCatAll.head()"
   ]
  },
  {
   "cell_type": "code",
   "execution_count": 17,
   "metadata": {
    "collapsed": false
   },
   "outputs": [
    {
     "data": {
      "text/html": [
       "<div>\n",
       "<table border=\"1\" class=\"dataframe\">\n",
       "  <thead>\n",
       "    <tr style=\"text-align: right;\">\n",
       "      <th></th>\n",
       "      <th>cat1</th>\n",
       "      <th>cat2</th>\n",
       "      <th>cat3</th>\n",
       "      <th>cat4</th>\n",
       "      <th>cat5</th>\n",
       "      <th>cat6</th>\n",
       "      <th>cat7</th>\n",
       "      <th>cat8</th>\n",
       "      <th>cat9</th>\n",
       "      <th>cat10</th>\n",
       "      <th>...</th>\n",
       "      <th>cat107</th>\n",
       "      <th>cat108</th>\n",
       "      <th>cat109</th>\n",
       "      <th>cat110</th>\n",
       "      <th>cat111</th>\n",
       "      <th>cat112</th>\n",
       "      <th>cat113</th>\n",
       "      <th>cat114</th>\n",
       "      <th>cat115</th>\n",
       "      <th>cat116</th>\n",
       "    </tr>\n",
       "  </thead>\n",
       "  <tbody>\n",
       "    <tr>\n",
       "      <th>0</th>\n",
       "      <td>0A</td>\n",
       "      <td>0B</td>\n",
       "      <td>0A</td>\n",
       "      <td>0B</td>\n",
       "      <td>0A</td>\n",
       "      <td>0A</td>\n",
       "      <td>0A</td>\n",
       "      <td>0A</td>\n",
       "      <td>0B</td>\n",
       "      <td>0A</td>\n",
       "      <td>...</td>\n",
       "      <td>0J</td>\n",
       "      <td>0G</td>\n",
       "      <td>BU</td>\n",
       "      <td>BC</td>\n",
       "      <td>0C</td>\n",
       "      <td>AS</td>\n",
       "      <td>0S</td>\n",
       "      <td>0A</td>\n",
       "      <td>0O</td>\n",
       "      <td>LB</td>\n",
       "    </tr>\n",
       "    <tr>\n",
       "      <th>1</th>\n",
       "      <td>0A</td>\n",
       "      <td>0B</td>\n",
       "      <td>0A</td>\n",
       "      <td>0A</td>\n",
       "      <td>0A</td>\n",
       "      <td>0A</td>\n",
       "      <td>0A</td>\n",
       "      <td>0A</td>\n",
       "      <td>0B</td>\n",
       "      <td>0B</td>\n",
       "      <td>...</td>\n",
       "      <td>0K</td>\n",
       "      <td>0K</td>\n",
       "      <td>BI</td>\n",
       "      <td>CQ</td>\n",
       "      <td>0A</td>\n",
       "      <td>AV</td>\n",
       "      <td>BM</td>\n",
       "      <td>0A</td>\n",
       "      <td>0O</td>\n",
       "      <td>DP</td>\n",
       "    </tr>\n",
       "    <tr>\n",
       "      <th>2</th>\n",
       "      <td>0A</td>\n",
       "      <td>0B</td>\n",
       "      <td>0A</td>\n",
       "      <td>0A</td>\n",
       "      <td>0B</td>\n",
       "      <td>0A</td>\n",
       "      <td>0A</td>\n",
       "      <td>0A</td>\n",
       "      <td>0B</td>\n",
       "      <td>0B</td>\n",
       "      <td>...</td>\n",
       "      <td>0F</td>\n",
       "      <td>0A</td>\n",
       "      <td>AB</td>\n",
       "      <td>DK</td>\n",
       "      <td>0A</td>\n",
       "      <td>0C</td>\n",
       "      <td>AF</td>\n",
       "      <td>0A</td>\n",
       "      <td>0I</td>\n",
       "      <td>GK</td>\n",
       "    </tr>\n",
       "    <tr>\n",
       "      <th>3</th>\n",
       "      <td>0B</td>\n",
       "      <td>0B</td>\n",
       "      <td>0A</td>\n",
       "      <td>0B</td>\n",
       "      <td>0A</td>\n",
       "      <td>0A</td>\n",
       "      <td>0A</td>\n",
       "      <td>0A</td>\n",
       "      <td>0B</td>\n",
       "      <td>0A</td>\n",
       "      <td>...</td>\n",
       "      <td>0K</td>\n",
       "      <td>0K</td>\n",
       "      <td>BI</td>\n",
       "      <td>CS</td>\n",
       "      <td>0C</td>\n",
       "      <td>0N</td>\n",
       "      <td>AE</td>\n",
       "      <td>0A</td>\n",
       "      <td>0O</td>\n",
       "      <td>DJ</td>\n",
       "    </tr>\n",
       "    <tr>\n",
       "      <th>4</th>\n",
       "      <td>0A</td>\n",
       "      <td>0B</td>\n",
       "      <td>0A</td>\n",
       "      <td>0B</td>\n",
       "      <td>0A</td>\n",
       "      <td>0A</td>\n",
       "      <td>0A</td>\n",
       "      <td>0A</td>\n",
       "      <td>0B</td>\n",
       "      <td>0B</td>\n",
       "      <td>...</td>\n",
       "      <td>0G</td>\n",
       "      <td>0B</td>\n",
       "      <td>0H</td>\n",
       "      <td>0C</td>\n",
       "      <td>0C</td>\n",
       "      <td>0Y</td>\n",
       "      <td>BM</td>\n",
       "      <td>0A</td>\n",
       "      <td>0K</td>\n",
       "      <td>CK</td>\n",
       "    </tr>\n",
       "  </tbody>\n",
       "</table>\n",
       "<p>5 rows × 116 columns</p>\n",
       "</div>"
      ],
      "text/plain": [
       "  cat1 cat2 cat3 cat4 cat5 cat6 cat7 cat8 cat9 cat10  ...   cat107 cat108  \\\n",
       "0   0A   0B   0A   0B   0A   0A   0A   0A   0B    0A  ...       0J     0G   \n",
       "1   0A   0B   0A   0A   0A   0A   0A   0A   0B    0B  ...       0K     0K   \n",
       "2   0A   0B   0A   0A   0B   0A   0A   0A   0B    0B  ...       0F     0A   \n",
       "3   0B   0B   0A   0B   0A   0A   0A   0A   0B    0A  ...       0K     0K   \n",
       "4   0A   0B   0A   0B   0A   0A   0A   0A   0B    0B  ...       0G     0B   \n",
       "\n",
       "  cat109 cat110 cat111 cat112 cat113 cat114 cat115 cat116  \n",
       "0     BU     BC     0C     AS     0S     0A     0O     LB  \n",
       "1     BI     CQ     0A     AV     BM     0A     0O     DP  \n",
       "2     AB     DK     0A     0C     AF     0A     0I     GK  \n",
       "3     BI     CS     0C     0N     AE     0A     0O     DJ  \n",
       "4     0H     0C     0C     0Y     BM     0A     0K     CK  \n",
       "\n",
       "[5 rows x 116 columns]"
      ]
     },
     "execution_count": 17,
     "metadata": {},
     "output_type": "execute_result"
    }
   ],
   "source": [
    "LevelList = {'A','B','C','D','E','F','G','H','I','J','K','L','M','N','O','P','Q','R','S','T','U','V','W','X','Y','Z'}\n",
    "def LetterRep(x,LevelList):\n",
    "    if x in LevelList:\n",
    "        x = '0'+x\n",
    "    return x\n",
    "        \n",
    "dataCatAll = dataCatAll.applymap(lambda x: LetterRep(x,LevelList))\n",
    "dataCatAll.head()"
   ]
  },
  {
   "cell_type": "code",
   "execution_count": 18,
   "metadata": {
    "collapsed": false
   },
   "outputs": [
    {
     "name": "stderr",
     "output_type": "stream",
     "text": [
      "/home/ec2-user/anaconda2/lib/python2.7/site-packages/ipykernel/__main__.py:5: SettingWithCopyWarning: \n",
      "A value is trying to be set on a copy of a slice from a DataFrame.\n",
      "Try using .loc[row_indexer,col_indexer] = value instead\n",
      "\n",
      "See the caveats in the documentation: http://pandas.pydata.org/pandas-docs/stable/indexing.html#indexing-view-versus-copy\n"
     ]
    },
    {
     "data": {
      "text/html": [
       "<div>\n",
       "<table border=\"1\" class=\"dataframe\">\n",
       "  <thead>\n",
       "    <tr style=\"text-align: right;\">\n",
       "      <th></th>\n",
       "      <th>cat99</th>\n",
       "      <th>cat100</th>\n",
       "      <th>cat101</th>\n",
       "      <th>cat102</th>\n",
       "      <th>cat103</th>\n",
       "      <th>cat104</th>\n",
       "      <th>cat105</th>\n",
       "      <th>cat106</th>\n",
       "      <th>cat107</th>\n",
       "      <th>cat108</th>\n",
       "      <th>cat109</th>\n",
       "      <th>cat110</th>\n",
       "      <th>cat111</th>\n",
       "      <th>cat112</th>\n",
       "      <th>cat113</th>\n",
       "      <th>cat114</th>\n",
       "      <th>cat115</th>\n",
       "      <th>cat116</th>\n",
       "    </tr>\n",
       "  </thead>\n",
       "  <tbody>\n",
       "    <tr>\n",
       "      <th>0</th>\n",
       "      <td>15</td>\n",
       "      <td>1</td>\n",
       "      <td>6</td>\n",
       "      <td>0</td>\n",
       "      <td>0</td>\n",
       "      <td>8</td>\n",
       "      <td>4</td>\n",
       "      <td>6</td>\n",
       "      <td>9</td>\n",
       "      <td>6</td>\n",
       "      <td>68</td>\n",
       "      <td>49</td>\n",
       "      <td>2</td>\n",
       "      <td>43</td>\n",
       "      <td>17</td>\n",
       "      <td>0</td>\n",
       "      <td>14</td>\n",
       "      <td>300</td>\n",
       "    </tr>\n",
       "    <tr>\n",
       "      <th>1</th>\n",
       "      <td>15</td>\n",
       "      <td>11</td>\n",
       "      <td>5</td>\n",
       "      <td>0</td>\n",
       "      <td>0</td>\n",
       "      <td>4</td>\n",
       "      <td>4</td>\n",
       "      <td>8</td>\n",
       "      <td>10</td>\n",
       "      <td>10</td>\n",
       "      <td>56</td>\n",
       "      <td>87</td>\n",
       "      <td>0</td>\n",
       "      <td>46</td>\n",
       "      <td>60</td>\n",
       "      <td>0</td>\n",
       "      <td>14</td>\n",
       "      <td>114</td>\n",
       "    </tr>\n",
       "    <tr>\n",
       "      <th>2</th>\n",
       "      <td>1</td>\n",
       "      <td>11</td>\n",
       "      <td>14</td>\n",
       "      <td>0</td>\n",
       "      <td>1</td>\n",
       "      <td>4</td>\n",
       "      <td>5</td>\n",
       "      <td>7</td>\n",
       "      <td>5</td>\n",
       "      <td>0</td>\n",
       "      <td>25</td>\n",
       "      <td>106</td>\n",
       "      <td>0</td>\n",
       "      <td>2</td>\n",
       "      <td>28</td>\n",
       "      <td>0</td>\n",
       "      <td>8</td>\n",
       "      <td>184</td>\n",
       "    </tr>\n",
       "    <tr>\n",
       "      <th>3</th>\n",
       "      <td>15</td>\n",
       "      <td>8</td>\n",
       "      <td>3</td>\n",
       "      <td>0</td>\n",
       "      <td>0</td>\n",
       "      <td>4</td>\n",
       "      <td>4</td>\n",
       "      <td>8</td>\n",
       "      <td>10</td>\n",
       "      <td>10</td>\n",
       "      <td>56</td>\n",
       "      <td>89</td>\n",
       "      <td>2</td>\n",
       "      <td>13</td>\n",
       "      <td>27</td>\n",
       "      <td>0</td>\n",
       "      <td>14</td>\n",
       "      <td>108</td>\n",
       "    </tr>\n",
       "    <tr>\n",
       "      <th>4</th>\n",
       "      <td>12</td>\n",
       "      <td>5</td>\n",
       "      <td>9</td>\n",
       "      <td>0</td>\n",
       "      <td>0</td>\n",
       "      <td>3</td>\n",
       "      <td>4</td>\n",
       "      <td>10</td>\n",
       "      <td>6</td>\n",
       "      <td>1</td>\n",
       "      <td>7</td>\n",
       "      <td>2</td>\n",
       "      <td>2</td>\n",
       "      <td>24</td>\n",
       "      <td>60</td>\n",
       "      <td>0</td>\n",
       "      <td>10</td>\n",
       "      <td>84</td>\n",
       "    </tr>\n",
       "  </tbody>\n",
       "</table>\n",
       "</div>"
      ],
      "text/plain": [
       "   cat99  cat100  cat101  cat102  cat103  cat104  cat105  cat106  cat107  \\\n",
       "0     15       1       6       0       0       8       4       6       9   \n",
       "1     15      11       5       0       0       4       4       8      10   \n",
       "2      1      11      14       0       1       4       5       7       5   \n",
       "3     15       8       3       0       0       4       4       8      10   \n",
       "4     12       5       9       0       0       3       4      10       6   \n",
       "\n",
       "   cat108  cat109  cat110  cat111  cat112  cat113  cat114  cat115  cat116  \n",
       "0       6      68      49       2      43      17       0      14     300  \n",
       "1      10      56      87       0      46      60       0      14     114  \n",
       "2       0      25     106       0       2      28       0       8     184  \n",
       "3      10      56      89       2      13      27       0      14     108  \n",
       "4       1       7       2       2      24      60       0      10      84  "
      ]
     },
     "execution_count": 18,
     "metadata": {},
     "output_type": "execute_result"
    }
   ],
   "source": [
    "features = dataCatAll.columns[98:]\n",
    "dataCatAll_2 = dataCatAll[features]\n",
    "cats = [feature for feature in features if feature.startswith('cat')]\n",
    "for feat in cats:\n",
    "    dataCatAll_2[feat] = pd.factorize(dataCatAll_2[feat], sort=True)[0]\n",
    "dataCatAll_2.head()\n",
    "# le.classes_"
   ]
  },
  {
   "cell_type": "code",
   "execution_count": 19,
   "metadata": {
    "collapsed": false
   },
   "outputs": [
    {
     "data": {
      "text/html": [
       "<div>\n",
       "<table border=\"1\" class=\"dataframe\">\n",
       "  <thead>\n",
       "    <tr style=\"text-align: right;\">\n",
       "      <th></th>\n",
       "      <th>cat1</th>\n",
       "      <th>cat2</th>\n",
       "      <th>cat3</th>\n",
       "      <th>cat4</th>\n",
       "      <th>cat5</th>\n",
       "      <th>cat6</th>\n",
       "      <th>cat7</th>\n",
       "      <th>cat8</th>\n",
       "      <th>cat9</th>\n",
       "      <th>cat10</th>\n",
       "      <th>...</th>\n",
       "      <th>cat89</th>\n",
       "      <th>cat90</th>\n",
       "      <th>cat91</th>\n",
       "      <th>cat92</th>\n",
       "      <th>cat93</th>\n",
       "      <th>cat94</th>\n",
       "      <th>cat95</th>\n",
       "      <th>cat96</th>\n",
       "      <th>cat97</th>\n",
       "      <th>cat98</th>\n",
       "    </tr>\n",
       "  </thead>\n",
       "  <tbody>\n",
       "    <tr>\n",
       "      <th>0</th>\n",
       "      <td>0A</td>\n",
       "      <td>0B</td>\n",
       "      <td>0A</td>\n",
       "      <td>0B</td>\n",
       "      <td>0A</td>\n",
       "      <td>0A</td>\n",
       "      <td>0A</td>\n",
       "      <td>0A</td>\n",
       "      <td>0B</td>\n",
       "      <td>0A</td>\n",
       "      <td>...</td>\n",
       "      <td>0A</td>\n",
       "      <td>0A</td>\n",
       "      <td>0A</td>\n",
       "      <td>0A</td>\n",
       "      <td>0D</td>\n",
       "      <td>0B</td>\n",
       "      <td>0C</td>\n",
       "      <td>0E</td>\n",
       "      <td>0A</td>\n",
       "      <td>0C</td>\n",
       "    </tr>\n",
       "    <tr>\n",
       "      <th>1</th>\n",
       "      <td>0A</td>\n",
       "      <td>0B</td>\n",
       "      <td>0A</td>\n",
       "      <td>0A</td>\n",
       "      <td>0A</td>\n",
       "      <td>0A</td>\n",
       "      <td>0A</td>\n",
       "      <td>0A</td>\n",
       "      <td>0B</td>\n",
       "      <td>0B</td>\n",
       "      <td>...</td>\n",
       "      <td>0A</td>\n",
       "      <td>0A</td>\n",
       "      <td>0A</td>\n",
       "      <td>0A</td>\n",
       "      <td>0D</td>\n",
       "      <td>0D</td>\n",
       "      <td>0C</td>\n",
       "      <td>0E</td>\n",
       "      <td>0E</td>\n",
       "      <td>0D</td>\n",
       "    </tr>\n",
       "    <tr>\n",
       "      <th>2</th>\n",
       "      <td>0A</td>\n",
       "      <td>0B</td>\n",
       "      <td>0A</td>\n",
       "      <td>0A</td>\n",
       "      <td>0B</td>\n",
       "      <td>0A</td>\n",
       "      <td>0A</td>\n",
       "      <td>0A</td>\n",
       "      <td>0B</td>\n",
       "      <td>0B</td>\n",
       "      <td>...</td>\n",
       "      <td>0A</td>\n",
       "      <td>0A</td>\n",
       "      <td>0A</td>\n",
       "      <td>0A</td>\n",
       "      <td>0D</td>\n",
       "      <td>0D</td>\n",
       "      <td>0C</td>\n",
       "      <td>0E</td>\n",
       "      <td>0E</td>\n",
       "      <td>0A</td>\n",
       "    </tr>\n",
       "    <tr>\n",
       "      <th>3</th>\n",
       "      <td>0B</td>\n",
       "      <td>0B</td>\n",
       "      <td>0A</td>\n",
       "      <td>0B</td>\n",
       "      <td>0A</td>\n",
       "      <td>0A</td>\n",
       "      <td>0A</td>\n",
       "      <td>0A</td>\n",
       "      <td>0B</td>\n",
       "      <td>0A</td>\n",
       "      <td>...</td>\n",
       "      <td>0A</td>\n",
       "      <td>0A</td>\n",
       "      <td>0A</td>\n",
       "      <td>0A</td>\n",
       "      <td>0D</td>\n",
       "      <td>0D</td>\n",
       "      <td>0C</td>\n",
       "      <td>0E</td>\n",
       "      <td>0E</td>\n",
       "      <td>0D</td>\n",
       "    </tr>\n",
       "    <tr>\n",
       "      <th>4</th>\n",
       "      <td>0A</td>\n",
       "      <td>0B</td>\n",
       "      <td>0A</td>\n",
       "      <td>0B</td>\n",
       "      <td>0A</td>\n",
       "      <td>0A</td>\n",
       "      <td>0A</td>\n",
       "      <td>0A</td>\n",
       "      <td>0B</td>\n",
       "      <td>0B</td>\n",
       "      <td>...</td>\n",
       "      <td>0A</td>\n",
       "      <td>0A</td>\n",
       "      <td>0B</td>\n",
       "      <td>0H</td>\n",
       "      <td>0D</td>\n",
       "      <td>0B</td>\n",
       "      <td>0D</td>\n",
       "      <td>0E</td>\n",
       "      <td>0E</td>\n",
       "      <td>0A</td>\n",
       "    </tr>\n",
       "  </tbody>\n",
       "</table>\n",
       "<p>5 rows × 98 columns</p>\n",
       "</div>"
      ],
      "text/plain": [
       "  cat1 cat2 cat3 cat4 cat5 cat6 cat7 cat8 cat9 cat10  ...  cat89 cat90 cat91  \\\n",
       "0   0A   0B   0A   0B   0A   0A   0A   0A   0B    0A  ...     0A    0A    0A   \n",
       "1   0A   0B   0A   0A   0A   0A   0A   0A   0B    0B  ...     0A    0A    0A   \n",
       "2   0A   0B   0A   0A   0B   0A   0A   0A   0B    0B  ...     0A    0A    0A   \n",
       "3   0B   0B   0A   0B   0A   0A   0A   0A   0B    0A  ...     0A    0A    0A   \n",
       "4   0A   0B   0A   0B   0A   0A   0A   0A   0B    0B  ...     0A    0A    0B   \n",
       "\n",
       "  cat92 cat93 cat94 cat95 cat96 cat97 cat98  \n",
       "0    0A    0D    0B    0C    0E    0A    0C  \n",
       "1    0A    0D    0D    0C    0E    0E    0D  \n",
       "2    0A    0D    0D    0C    0E    0E    0A  \n",
       "3    0A    0D    0D    0C    0E    0E    0D  \n",
       "4    0H    0D    0B    0D    0E    0E    0A  \n",
       "\n",
       "[5 rows x 98 columns]"
      ]
     },
     "execution_count": 19,
     "metadata": {},
     "output_type": "execute_result"
    }
   ],
   "source": [
    "dataCatAll = dataCatAll.drop(features,axis=1)\n",
    "dataCatAll.head()"
   ]
  },
  {
   "cell_type": "code",
   "execution_count": 20,
   "metadata": {
    "collapsed": false
   },
   "outputs": [
    {
     "name": "stdout",
     "output_type": "stream",
     "text": [
      "Index([u'cat1', u'cat2', u'cat3', u'cat4', u'cat5', u'cat6', u'cat7', u'cat8',\n",
      "       u'cat9', u'cat10', u'cat11', u'cat12', u'cat13', u'cat14', u'cat15',\n",
      "       u'cat16', u'cat17', u'cat18', u'cat19', u'cat20', u'cat21', u'cat22',\n",
      "       u'cat23', u'cat24', u'cat25', u'cat26', u'cat27', u'cat28', u'cat29',\n",
      "       u'cat30', u'cat31', u'cat32', u'cat33', u'cat34', u'cat35', u'cat36',\n",
      "       u'cat37', u'cat38', u'cat39', u'cat40', u'cat41', u'cat42', u'cat43',\n",
      "       u'cat44', u'cat45', u'cat46', u'cat47', u'cat48', u'cat49', u'cat50',\n",
      "       u'cat51', u'cat52', u'cat53', u'cat54', u'cat55', u'cat56', u'cat57',\n",
      "       u'cat58', u'cat59', u'cat60', u'cat61', u'cat62', u'cat63', u'cat64',\n",
      "       u'cat65', u'cat66', u'cat67', u'cat68', u'cat69', u'cat70', u'cat71',\n",
      "       u'cat72', u'cat73', u'cat74', u'cat75', u'cat76', u'cat77', u'cat78',\n",
      "       u'cat79', u'cat80', u'cat81', u'cat82', u'cat83', u'cat84', u'cat85',\n",
      "       u'cat86', u'cat87', u'cat88', u'cat89', u'cat90', u'cat91', u'cat92',\n",
      "       u'cat93', u'cat94', u'cat95', u'cat96', u'cat97', u'cat98'],\n",
      "      dtype='object')\n"
     ]
    }
   ],
   "source": [
    "from sklearn import preprocessing\n",
    "le = preprocessing.LabelEncoder()\n",
    "\n",
    "for col in dataCatAll.columns:\n",
    "    if (col.find('cat') !=-1):\n",
    "#        print(col)\n",
    "        dataCatAll[col]=le.fit_transform(dataCatAll[col])\n",
    "#         dataAll[col] = dataAll[col].map(lambda s: '<unknown>' if s not in le.classes_ else s)\n",
    "#         le.classes_ = np.append(le.classes_, '<unknown>')\n",
    "#         data_test_raw[str(col+'_numerical')]=le.transform(data_test_raw[col])\n",
    "print(dataCatAll.columns)\n"
   ]
  },
  {
   "cell_type": "code",
   "execution_count": 21,
   "metadata": {
    "collapsed": false
   },
   "outputs": [
    {
     "data": {
      "text/html": [
       "<div>\n",
       "<table border=\"1\" class=\"dataframe\">\n",
       "  <thead>\n",
       "    <tr style=\"text-align: right;\">\n",
       "      <th></th>\n",
       "      <th>cat1</th>\n",
       "      <th>cat2</th>\n",
       "      <th>cat3</th>\n",
       "      <th>cat4</th>\n",
       "      <th>cat5</th>\n",
       "      <th>cat6</th>\n",
       "      <th>cat7</th>\n",
       "      <th>cat8</th>\n",
       "      <th>cat9</th>\n",
       "      <th>cat10</th>\n",
       "      <th>...</th>\n",
       "      <th>cat89</th>\n",
       "      <th>cat90</th>\n",
       "      <th>cat91</th>\n",
       "      <th>cat92</th>\n",
       "      <th>cat93</th>\n",
       "      <th>cat94</th>\n",
       "      <th>cat95</th>\n",
       "      <th>cat96</th>\n",
       "      <th>cat97</th>\n",
       "      <th>cat98</th>\n",
       "    </tr>\n",
       "  </thead>\n",
       "  <tbody>\n",
       "    <tr>\n",
       "      <th>0</th>\n",
       "      <td>0</td>\n",
       "      <td>1</td>\n",
       "      <td>0</td>\n",
       "      <td>1</td>\n",
       "      <td>0</td>\n",
       "      <td>0</td>\n",
       "      <td>0</td>\n",
       "      <td>0</td>\n",
       "      <td>1</td>\n",
       "      <td>0</td>\n",
       "      <td>...</td>\n",
       "      <td>0</td>\n",
       "      <td>0</td>\n",
       "      <td>0</td>\n",
       "      <td>0</td>\n",
       "      <td>3</td>\n",
       "      <td>1</td>\n",
       "      <td>2</td>\n",
       "      <td>4</td>\n",
       "      <td>0</td>\n",
       "      <td>2</td>\n",
       "    </tr>\n",
       "    <tr>\n",
       "      <th>1</th>\n",
       "      <td>0</td>\n",
       "      <td>1</td>\n",
       "      <td>0</td>\n",
       "      <td>0</td>\n",
       "      <td>0</td>\n",
       "      <td>0</td>\n",
       "      <td>0</td>\n",
       "      <td>0</td>\n",
       "      <td>1</td>\n",
       "      <td>1</td>\n",
       "      <td>...</td>\n",
       "      <td>0</td>\n",
       "      <td>0</td>\n",
       "      <td>0</td>\n",
       "      <td>0</td>\n",
       "      <td>3</td>\n",
       "      <td>3</td>\n",
       "      <td>2</td>\n",
       "      <td>4</td>\n",
       "      <td>4</td>\n",
       "      <td>3</td>\n",
       "    </tr>\n",
       "    <tr>\n",
       "      <th>2</th>\n",
       "      <td>0</td>\n",
       "      <td>1</td>\n",
       "      <td>0</td>\n",
       "      <td>0</td>\n",
       "      <td>1</td>\n",
       "      <td>0</td>\n",
       "      <td>0</td>\n",
       "      <td>0</td>\n",
       "      <td>1</td>\n",
       "      <td>1</td>\n",
       "      <td>...</td>\n",
       "      <td>0</td>\n",
       "      <td>0</td>\n",
       "      <td>0</td>\n",
       "      <td>0</td>\n",
       "      <td>3</td>\n",
       "      <td>3</td>\n",
       "      <td>2</td>\n",
       "      <td>4</td>\n",
       "      <td>4</td>\n",
       "      <td>0</td>\n",
       "    </tr>\n",
       "    <tr>\n",
       "      <th>3</th>\n",
       "      <td>1</td>\n",
       "      <td>1</td>\n",
       "      <td>0</td>\n",
       "      <td>1</td>\n",
       "      <td>0</td>\n",
       "      <td>0</td>\n",
       "      <td>0</td>\n",
       "      <td>0</td>\n",
       "      <td>1</td>\n",
       "      <td>0</td>\n",
       "      <td>...</td>\n",
       "      <td>0</td>\n",
       "      <td>0</td>\n",
       "      <td>0</td>\n",
       "      <td>0</td>\n",
       "      <td>3</td>\n",
       "      <td>3</td>\n",
       "      <td>2</td>\n",
       "      <td>4</td>\n",
       "      <td>4</td>\n",
       "      <td>3</td>\n",
       "    </tr>\n",
       "    <tr>\n",
       "      <th>4</th>\n",
       "      <td>0</td>\n",
       "      <td>1</td>\n",
       "      <td>0</td>\n",
       "      <td>1</td>\n",
       "      <td>0</td>\n",
       "      <td>0</td>\n",
       "      <td>0</td>\n",
       "      <td>0</td>\n",
       "      <td>1</td>\n",
       "      <td>1</td>\n",
       "      <td>...</td>\n",
       "      <td>0</td>\n",
       "      <td>0</td>\n",
       "      <td>1</td>\n",
       "      <td>7</td>\n",
       "      <td>3</td>\n",
       "      <td>1</td>\n",
       "      <td>3</td>\n",
       "      <td>4</td>\n",
       "      <td>4</td>\n",
       "      <td>0</td>\n",
       "    </tr>\n",
       "  </tbody>\n",
       "</table>\n",
       "<p>5 rows × 98 columns</p>\n",
       "</div>"
      ],
      "text/plain": [
       "   cat1  cat2  cat3  cat4  cat5  cat6  cat7  cat8  cat9  cat10  ...    cat89  \\\n",
       "0     0     1     0     1     0     0     0     0     1      0  ...        0   \n",
       "1     0     1     0     0     0     0     0     0     1      1  ...        0   \n",
       "2     0     1     0     0     1     0     0     0     1      1  ...        0   \n",
       "3     1     1     0     1     0     0     0     0     1      0  ...        0   \n",
       "4     0     1     0     1     0     0     0     0     1      1  ...        0   \n",
       "\n",
       "   cat90  cat91  cat92  cat93  cat94  cat95  cat96  cat97  cat98  \n",
       "0      0      0      0      3      1      2      4      0      2  \n",
       "1      0      0      0      3      3      2      4      4      3  \n",
       "2      0      0      0      3      3      2      4      4      0  \n",
       "3      0      0      0      3      3      2      4      4      3  \n",
       "4      0      1      7      3      1      3      4      4      0  \n",
       "\n",
       "[5 rows x 98 columns]"
      ]
     },
     "execution_count": 21,
     "metadata": {},
     "output_type": "execute_result"
    }
   ],
   "source": [
    "dataCatAll.head()"
   ]
  },
  {
   "cell_type": "code",
   "execution_count": 22,
   "metadata": {
    "collapsed": true
   },
   "outputs": [],
   "source": [
    "# rescale the labeled categorical data\n",
    "from sklearn.preprocessing import MinMaxScaler\n",
    "mms = MinMaxScaler()\n",
    "x_catAll_2 = mms.fit_transform(dataCatAll_2)"
   ]
  },
  {
   "cell_type": "code",
   "execution_count": 23,
   "metadata": {
    "collapsed": false
   },
   "outputs": [
    {
     "name": "stdout",
     "output_type": "stream",
     "text": [
      "(313500, 18)\n"
     ]
    },
    {
     "data": {
      "text/plain": [
       "array([[ 0.9375    ,  0.07142857,  0.33333333, ...,  0.        ,\n",
       "         0.63636364,  0.86455331],\n",
       "       [ 0.9375    ,  0.78571429,  0.27777778, ...,  0.        ,\n",
       "         0.63636364,  0.32853026],\n",
       "       [ 0.0625    ,  0.78571429,  0.77777778, ...,  0.        ,\n",
       "         0.36363636,  0.53025937],\n",
       "       ..., \n",
       "       [ 0.9375    ,  0.35714286,  0.27777778, ...,  0.        ,\n",
       "         0.68181818,  0.93083573],\n",
       "       [ 0.9375    ,  0.64285714,  0.        , ...,  0.22222222,\n",
       "         0.63636364,  0.31123919],\n",
       "       [ 0.75      ,  0.5       ,  0.33333333, ...,  0.        ,\n",
       "         0.5       ,  0.26224784]])"
      ]
     },
     "execution_count": 23,
     "metadata": {},
     "output_type": "execute_result"
    }
   ],
   "source": [
    "print(x_catAll_2.shape)\n",
    "x_catAll_2"
   ]
  },
  {
   "cell_type": "markdown",
   "metadata": {},
   "source": [
    "# restore to x_trainDf and x_testDf - skipped"
   ]
  },
  {
   "cell_type": "code",
   "execution_count": 24,
   "metadata": {
    "collapsed": false
   },
   "outputs": [],
   "source": [
    "# # hstack all the features and .\n",
    "# x_allDf = pd.concat([dataCatAll,dataFltAll],axis=1)\n",
    "# x_means = x_allDf.mean()\n",
    "# x_stds = x_allDf.std()\n",
    "# x_allDf = (x_allDf-x_means)/x_stds\n",
    "# x_allDf.head()"
   ]
  },
  {
   "cell_type": "code",
   "execution_count": 25,
   "metadata": {
    "collapsed": true
   },
   "outputs": [],
   "source": [
    "# x_Train = x_allDf.iloc[0:len(labelSs),:]\n",
    "# x_Test = x_allDf.iloc[len(labelSs):,:]\n",
    "# y_Train = labelSs"
   ]
  },
  {
   "cell_type": "markdown",
   "metadata": {},
   "source": [
    "# one-hot-encoding - skipped in order to keep the alphabetical order"
   ]
  },
  {
   "cell_type": "code",
   "execution_count": 26,
   "metadata": {
    "collapsed": false
   },
   "outputs": [
    {
     "name": "stdout",
     "output_type": "stream",
     "text": [
      "(313500, 275)\n"
     ]
    }
   ],
   "source": [
    "# one-hot-encoding the categorical features\n",
    "enc = preprocessing.OneHotEncoder()\n",
    "x_catAll = enc.fit_transform(dataCatAll)\n",
    "print(x_catAll.shape)"
   ]
  },
  {
   "cell_type": "markdown",
   "metadata": {},
   "source": [
    "# split x_train and x_test"
   ]
  },
  {
   "cell_type": "code",
   "execution_count": 27,
   "metadata": {
    "collapsed": false
   },
   "outputs": [],
   "source": [
    "# split x_train and x_test\n",
    "x_Train = sp.sparse.hstack((x_catAll[0:len(labelSs),:],x_catAll_2[0:len(labelSs),:],sp.sparse.csr_matrix(dataFltAll.as_matrix())[0:len(labelSs),:]))\n",
    "x_Test = sp.sparse.hstack((x_catAll[len(labelSs):,:],x_catAll_2[len(labelSs):,:],sp.sparse.csr_matrix(dataFltAll.as_matrix())[len(labelSs):,:]))\n",
    "y_Train = labelSs.values"
   ]
  },
  {
   "cell_type": "markdown",
   "metadata": {},
   "source": [
    "# check the dimension of prepared data"
   ]
  },
  {
   "cell_type": "code",
   "execution_count": 28,
   "metadata": {
    "collapsed": false
   },
   "outputs": [
    {
     "name": "stdout",
     "output_type": "stream",
     "text": [
      "(125546, 307)\n",
      "(187954, 307)\n",
      "(187954,)\n"
     ]
    }
   ],
   "source": [
    "print(x_Test.shape)\n",
    "print(x_Train.shape)\n",
    "print(y_Train.shape)"
   ]
  },
  {
   "cell_type": "markdown",
   "metadata": {},
   "source": [
    "# splite the training data for valication"
   ]
  },
  {
   "cell_type": "code",
   "execution_count": 29,
   "metadata": {
    "collapsed": false
   },
   "outputs": [
    {
     "name": "stderr",
     "output_type": "stream",
     "text": [
      "/home/ec2-user/anaconda2/lib/python2.7/site-packages/sklearn/cross_validation.py:44: DeprecationWarning: This module was deprecated in version 0.18 in favor of the model_selection module into which all the refactored classes and functions are moved. Also note that the interface of the new CV iterators are different from that of this module. This module will be removed in 0.20.\n",
      "  \"This module will be removed in 0.20.\", DeprecationWarning)\n"
     ]
    },
    {
     "name": "stdout",
     "output_type": "stream",
     "text": [
      "(150363, 307)\n",
      "(150363,)\n",
      "(37591, 307)\n",
      "(37591,)\n"
     ]
    }
   ],
   "source": [
    "from sklearn import cross_validation\n",
    "val_size = 0.2\n",
    "seed = 0\n",
    "x_train, x_val, y_train, y_val = cross_validation.train_test_split(x_Train, y_Train, test_size=val_size, random_state=seed)\n",
    "print(x_train.shape)\n",
    "print(y_train.shape)\n",
    "print(x_val.shape)\n",
    "print(y_val.shape)"
   ]
  },
  {
   "cell_type": "code",
   "execution_count": 30,
   "metadata": {
    "collapsed": true
   },
   "outputs": [],
   "source": [
    "del x_Train\n",
    "del y_Train\n",
    "del x_catAll\n",
    "del dataCatAll\n",
    "# del trainDf\n",
    "# del testDf"
   ]
  },
  {
   "cell_type": "markdown",
   "metadata": {},
   "source": [
    "# Model Fitting"
   ]
  },
  {
   "cell_type": "code",
   "execution_count": 31,
   "metadata": {
    "collapsed": true
   },
   "outputs": [],
   "source": [
    "from sklearn.metrics import mean_absolute_error\n",
    "y_pred = []\n",
    "y_pred_val = []\n",
    "submission = pd.read_csv('../input/sample_submission.csv')"
   ]
  },
  {
   "cell_type": "code",
   "execution_count": 32,
   "metadata": {
    "collapsed": false
   },
   "outputs": [],
   "source": [
    "testList = ['XGBoostTrees', 'AdaBoosting', 'MLPRegressor','Ensemble']"
   ]
  },
  {
   "cell_type": "markdown",
   "metadata": {},
   "source": [
    "### Ridge Regression"
   ]
  },
  {
   "cell_type": "code",
   "execution_count": 33,
   "metadata": {
    "collapsed": true
   },
   "outputs": [],
   "source": [
    "# from sklearn.linear_model import RidgeCV\n",
    "# # from sklearn.linear_model import Ridge"
   ]
  },
  {
   "cell_type": "code",
   "execution_count": 34,
   "metadata": {
    "collapsed": false
   },
   "outputs": [],
   "source": [
    "# cv = 3\n",
    "# # alphas = (1e-2,1e-1,1,1e1,1e2)\n",
    "# # alphas = (5,20,30,40)\n",
    "# alphas = [10]\n",
    "# regCV = RidgeCV(cv=cv,alphas = alphas)\n",
    "# regCV.fit(x_train,y_train)\n",
    "# print('alpha: {}\\n'.format(regCV.alpha_))\n",
    "# # print('cv_values_: {}\\n'.format(regCV.cv_values_))"
   ]
  },
  {
   "cell_type": "code",
   "execution_count": 35,
   "metadata": {
    "collapsed": false
   },
   "outputs": [],
   "source": [
    "# print(mean_absolute_error(lossRestore(y_val,ymean,ystd),lossRestore(regCV.predict(x_val),ymean,ystd)))"
   ]
  },
  {
   "cell_type": "code",
   "execution_count": 36,
   "metadata": {
    "collapsed": false
   },
   "outputs": [],
   "source": [
    "# y_pred_i = lossRestore(regCV.predict(x_Test),ymean,ystd)\n",
    "# y_pred.append(y_pred_i)\n",
    "# y_pred_val.append(lossRestore(regCV.predict(x_val),ymean,ystd))"
   ]
  },
  {
   "cell_type": "markdown",
   "metadata": {},
   "source": [
    "### Lasso Regression"
   ]
  },
  {
   "cell_type": "code",
   "execution_count": 37,
   "metadata": {
    "collapsed": true
   },
   "outputs": [],
   "source": [
    "# from sklearn.linear_model import LassoCV"
   ]
  },
  {
   "cell_type": "code",
   "execution_count": 38,
   "metadata": {
    "collapsed": false
   },
   "outputs": [],
   "source": [
    "# cv = 3\n",
    "# # alphas = (1e-3,1e-2,1e-1,1,1e1,1e2,1e3)\n",
    "# # alphas = (0.0005,0.0007,0.001,0.003,0.005)\n",
    "# # alphas = [0.00005,0.0001,0.0003,0.0005]\n",
    "# alphas = [0.00005]\n",
    "# LassoCV = LassoCV(cv=cv,alphas = alphas)\n",
    "# LassoCV.fit(x_train,y_train)\n",
    "# print('alpha: {}\\n'.format(LassoCV.alpha_))"
   ]
  },
  {
   "cell_type": "code",
   "execution_count": 39,
   "metadata": {
    "collapsed": false
   },
   "outputs": [],
   "source": [
    "# print(mean_absolute_error(lossRestore(y_val,ymean,ystd),lossRestore(LassoCV.predict(x_val),ymean,ystd)))"
   ]
  },
  {
   "cell_type": "code",
   "execution_count": 40,
   "metadata": {
    "collapsed": false
   },
   "outputs": [],
   "source": [
    "# y_pred_i = lossRestore(LassoCV.predict(x_Test),ymean,ystd)\n",
    "# y_pred.append(y_pred_i)\n",
    "# y_pred_val.append(lossRestore(LassoCV.predict(x_val),ymean,ystd))"
   ]
  },
  {
   "cell_type": "markdown",
   "metadata": {},
   "source": [
    "### Skipped - Random Forest - using mse rather than mae, because the mae implementation is much slower."
   ]
  },
  {
   "cell_type": "code",
   "execution_count": 41,
   "metadata": {
    "collapsed": true
   },
   "outputs": [],
   "source": [
    "# from sklearn.ensemble import RandomForestRegressor"
   ]
  },
  {
   "cell_type": "code",
   "execution_count": 42,
   "metadata": {
    "collapsed": false
   },
   "outputs": [],
   "source": [
    "# criterion = 'mse'\n",
    "# n_estimators = [30]\n",
    "# err = 999999999\n",
    "# n_estimator = 0\n",
    "# random_state = 0\n",
    "# for n_est in n_estimators:\n",
    "#     tmpRFReg = RandomForestRegressor(n_estimators = n_est,criterion = criterion, random_state = random_state)\n",
    "#     tmpRFReg.fit(x_train,y_train)\n",
    "#     err_i = mean_absolute_error(lossRestore(y_val,ymean,ystd),lossRestore(tmpRFReg.predict(x_val),ymean,ystd))\n",
    "#     print(err_i)\n",
    "#     if err_i < err:\n",
    "#         RFReg = tmpRFReg\n",
    "#         n_estimator = n_est\n",
    "#         err = err_i"
   ]
  },
  {
   "cell_type": "code",
   "execution_count": 43,
   "metadata": {
    "collapsed": false
   },
   "outputs": [],
   "source": [
    "# print('n_estimator = {}'.format(n_estimator))\n",
    "# print(mean_absolute_error(lossRestore(y_val,ymean,ystd),lossRestore(RFReg.predict(x_val),ymean,ystd)))"
   ]
  },
  {
   "cell_type": "code",
   "execution_count": 44,
   "metadata": {
    "collapsed": false
   },
   "outputs": [],
   "source": [
    "# y_pred_i = lossRestore(RFReg.predict(x_Test),ymean,ystd)\n",
    "# y_pred.append(y_pred_i)\n",
    "# y_pred_val.append(lossRestore(RFReg.predict(x_val),ymean,ystd))"
   ]
  },
  {
   "cell_type": "markdown",
   "metadata": {},
   "source": [
    "### XGBoost Trees"
   ]
  },
  {
   "cell_type": "code",
   "execution_count": 45,
   "metadata": {
    "collapsed": false
   },
   "outputs": [],
   "source": [
    "import xgboost as xgb"
   ]
  },
  {
   "cell_type": "code",
   "execution_count": 46,
   "metadata": {
    "collapsed": false
   },
   "outputs": [],
   "source": [
    "d_train_xgb = xgb.DMatrix(x_train.tocsc(),label=y_train)\n",
    "d_val_xgb = xgb.DMatrix(x_val.tocsc(),label = y_val)\n",
    "x_val_xgb = xgb.DMatrix(x_val.tocsc())\n",
    "d_test_xgb = xgb.DMatrix(x_Test.tocsc())"
   ]
  },
  {
   "cell_type": "code",
   "execution_count": null,
   "metadata": {
    "collapsed": false
   },
   "outputs": [
    {
     "name": "stdout",
     "output_type": "stream",
     "text": [
      "[0]\teval-mae:0.246067\ttrain-mae:0.246598\n",
      "[1]\teval-mae:0.233767\ttrain-mae:0.234284\n",
      "[2]\teval-mae:0.222084\ttrain-mae:0.222586\n",
      "[3]\teval-mae:0.210995\ttrain-mae:0.211482\n",
      "[4]\teval-mae:0.200467\ttrain-mae:0.200936\n",
      "[5]\teval-mae:0.190472\ttrain-mae:0.190926\n",
      "[6]\teval-mae:0.180988\ttrain-mae:0.18143\n",
      "[7]\teval-mae:0.171998\ttrain-mae:0.172426\n",
      "[8]\teval-mae:0.163477\ttrain-mae:0.16389\n",
      "[9]\teval-mae:0.15541\ttrain-mae:0.155805\n",
      "[10]\teval-mae:0.147779\ttrain-mae:0.148151\n",
      "[11]\teval-mae:0.140552\ttrain-mae:0.14091\n",
      "[12]\teval-mae:0.133729\ttrain-mae:0.134068\n",
      "[13]\teval-mae:0.12729\ttrain-mae:0.127614\n",
      "[14]\teval-mae:0.121224\ttrain-mae:0.121532\n",
      "[15]\teval-mae:0.11552\ttrain-mae:0.115805\n",
      "[16]\teval-mae:0.110167\ttrain-mae:0.110428\n",
      "[17]\teval-mae:0.105141\ttrain-mae:0.105384\n",
      "[18]\teval-mae:0.100433\ttrain-mae:0.100656\n",
      "[19]\teval-mae:0.096029\ttrain-mae:0.096243\n",
      "[20]\teval-mae:0.091919\ttrain-mae:0.092121\n",
      "[21]\teval-mae:0.08808\ttrain-mae:0.088282\n",
      "[22]\teval-mae:0.084509\ttrain-mae:0.084706\n",
      "[23]\teval-mae:0.081209\ttrain-mae:0.081395\n",
      "[24]\teval-mae:0.078156\ttrain-mae:0.078325\n",
      "[25]\teval-mae:0.075318\ttrain-mae:0.075474\n",
      "[26]\teval-mae:0.072708\ttrain-mae:0.07284\n",
      "[27]\teval-mae:0.070304\ttrain-mae:0.070413\n",
      "[28]\teval-mae:0.06808\ttrain-mae:0.068159\n",
      "[29]\teval-mae:0.066028\ttrain-mae:0.066081\n",
      "[30]\teval-mae:0.064154\ttrain-mae:0.064172\n",
      "[31]\teval-mae:0.062426\ttrain-mae:0.062421\n",
      "[32]\teval-mae:0.060842\ttrain-mae:0.060811\n",
      "[33]\teval-mae:0.059375\ttrain-mae:0.05933\n",
      "[34]\teval-mae:0.058014\ttrain-mae:0.057958\n",
      "[35]\teval-mae:0.056794\ttrain-mae:0.05671\n",
      "[36]\teval-mae:0.055667\ttrain-mae:0.055565\n",
      "[37]\teval-mae:0.054625\ttrain-mae:0.054501\n",
      "[38]\teval-mae:0.053681\ttrain-mae:0.053535\n",
      "[39]\teval-mae:0.05282\ttrain-mae:0.052657\n",
      "[40]\teval-mae:0.052022\ttrain-mae:0.051839\n",
      "[41]\teval-mae:0.051298\ttrain-mae:0.051099\n",
      "[42]\teval-mae:0.050617\ttrain-mae:0.050408\n",
      "[43]\teval-mae:0.049997\ttrain-mae:0.049774\n",
      "[44]\teval-mae:0.049421\ttrain-mae:0.049195\n",
      "[45]\teval-mae:0.048905\ttrain-mae:0.048672\n",
      "[46]\teval-mae:0.048425\ttrain-mae:0.048184\n",
      "[47]\teval-mae:0.047993\ttrain-mae:0.047743\n",
      "[48]\teval-mae:0.047602\ttrain-mae:0.047343\n",
      "[49]\teval-mae:0.047234\ttrain-mae:0.046965\n",
      "[50]\teval-mae:0.046894\ttrain-mae:0.046617\n",
      "[51]\teval-mae:0.04658\ttrain-mae:0.046294\n",
      "[52]\teval-mae:0.046287\ttrain-mae:0.045999\n",
      "[53]\teval-mae:0.046025\ttrain-mae:0.045734\n",
      "[54]\teval-mae:0.045781\ttrain-mae:0.045487\n",
      "[55]\teval-mae:0.045546\ttrain-mae:0.045245\n",
      "[56]\teval-mae:0.04534\ttrain-mae:0.045038\n",
      "[57]\teval-mae:0.045135\ttrain-mae:0.044831\n",
      "[58]\teval-mae:0.04497\ttrain-mae:0.04466\n",
      "[59]\teval-mae:0.044782\ttrain-mae:0.04447\n",
      "[60]\teval-mae:0.044635\ttrain-mae:0.044321\n",
      "[61]\teval-mae:0.044493\ttrain-mae:0.044172\n",
      "[62]\teval-mae:0.044356\ttrain-mae:0.044033\n",
      "[63]\teval-mae:0.044214\ttrain-mae:0.043891\n",
      "[64]\teval-mae:0.044103\ttrain-mae:0.043775\n",
      "[65]\teval-mae:0.044\ttrain-mae:0.04367\n",
      "[66]\teval-mae:0.043902\ttrain-mae:0.043565\n",
      "[67]\teval-mae:0.043794\ttrain-mae:0.043453\n",
      "[68]\teval-mae:0.043717\ttrain-mae:0.043368\n",
      "[69]\teval-mae:0.043627\ttrain-mae:0.043275\n",
      "[70]\teval-mae:0.043549\ttrain-mae:0.043189\n",
      "[71]\teval-mae:0.043462\ttrain-mae:0.043099\n",
      "[72]\teval-mae:0.043396\ttrain-mae:0.043028\n",
      "[73]\teval-mae:0.043333\ttrain-mae:0.042961\n",
      "[74]\teval-mae:0.043272\ttrain-mae:0.042896\n",
      "[75]\teval-mae:0.043213\ttrain-mae:0.04283\n",
      "[76]\teval-mae:0.043151\ttrain-mae:0.042766\n",
      "[77]\teval-mae:0.043104\ttrain-mae:0.042718\n",
      "[78]\teval-mae:0.043058\ttrain-mae:0.042667\n",
      "[79]\teval-mae:0.043001\ttrain-mae:0.042611\n",
      "[80]\teval-mae:0.042953\ttrain-mae:0.042558\n",
      "[81]\teval-mae:0.042914\ttrain-mae:0.042519\n",
      "[82]\teval-mae:0.042869\ttrain-mae:0.042472\n",
      "[83]\teval-mae:0.042826\ttrain-mae:0.042428\n",
      "[84]\teval-mae:0.042789\ttrain-mae:0.04239\n",
      "[85]\teval-mae:0.04276\ttrain-mae:0.042359\n",
      "[86]\teval-mae:0.042726\ttrain-mae:0.042322\n",
      "[87]\teval-mae:0.042693\ttrain-mae:0.042289\n",
      "[88]\teval-mae:0.042657\ttrain-mae:0.042246\n",
      "[89]\teval-mae:0.042627\ttrain-mae:0.042214\n",
      "[90]\teval-mae:0.042597\ttrain-mae:0.042179\n",
      "[91]\teval-mae:0.042565\ttrain-mae:0.042144\n",
      "[92]\teval-mae:0.042526\ttrain-mae:0.042106\n",
      "[93]\teval-mae:0.042498\ttrain-mae:0.042077\n",
      "[94]\teval-mae:0.042468\ttrain-mae:0.042044\n",
      "[95]\teval-mae:0.042441\ttrain-mae:0.042013\n",
      "[96]\teval-mae:0.042408\ttrain-mae:0.041979\n",
      "[97]\teval-mae:0.042387\ttrain-mae:0.041956\n",
      "[98]\teval-mae:0.042371\ttrain-mae:0.041939\n",
      "[99]\teval-mae:0.042348\ttrain-mae:0.041912\n",
      "[100]\teval-mae:0.042323\ttrain-mae:0.041885\n",
      "[101]\teval-mae:0.042301\ttrain-mae:0.041861\n",
      "[102]\teval-mae:0.042274\ttrain-mae:0.041833\n",
      "[103]\teval-mae:0.042256\ttrain-mae:0.041815\n",
      "[104]\teval-mae:0.042236\ttrain-mae:0.041793\n",
      "[105]\teval-mae:0.042217\ttrain-mae:0.04177\n",
      "[106]\teval-mae:0.042195\ttrain-mae:0.041747\n",
      "[107]\teval-mae:0.042181\ttrain-mae:0.04173\n",
      "[108]\teval-mae:0.042162\ttrain-mae:0.04171\n",
      "[109]\teval-mae:0.042147\ttrain-mae:0.041692\n",
      "[110]\teval-mae:0.042123\ttrain-mae:0.041669\n",
      "[111]\teval-mae:0.042106\ttrain-mae:0.041649\n",
      "[112]\teval-mae:0.04209\ttrain-mae:0.041631\n",
      "[113]\teval-mae:0.042071\ttrain-mae:0.041612\n",
      "[114]\teval-mae:0.042054\ttrain-mae:0.041595\n",
      "[115]\teval-mae:0.04204\ttrain-mae:0.041579\n",
      "[116]\teval-mae:0.042021\ttrain-mae:0.04156\n",
      "[117]\teval-mae:0.042011\ttrain-mae:0.041549\n",
      "[118]\teval-mae:0.041997\ttrain-mae:0.041533\n",
      "[119]\teval-mae:0.041978\ttrain-mae:0.041513\n",
      "[120]\teval-mae:0.041964\ttrain-mae:0.041498\n",
      "[121]\teval-mae:0.041949\ttrain-mae:0.041482\n",
      "[122]\teval-mae:0.041936\ttrain-mae:0.041466\n",
      "[123]\teval-mae:0.041923\ttrain-mae:0.04145\n",
      "[124]\teval-mae:0.04191\ttrain-mae:0.041433\n",
      "[125]\teval-mae:0.041898\ttrain-mae:0.041419\n",
      "[126]\teval-mae:0.041889\ttrain-mae:0.041408\n",
      "[127]\teval-mae:0.04188\ttrain-mae:0.041397\n",
      "[128]\teval-mae:0.041862\ttrain-mae:0.04138\n",
      "[129]\teval-mae:0.041849\ttrain-mae:0.041363\n",
      "[130]\teval-mae:0.04183\ttrain-mae:0.041344\n",
      "[131]\teval-mae:0.041817\ttrain-mae:0.041328\n",
      "[132]\teval-mae:0.041804\ttrain-mae:0.041313\n",
      "[133]\teval-mae:0.04179\ttrain-mae:0.041298\n",
      "[134]\teval-mae:0.041781\ttrain-mae:0.041287\n",
      "[135]\teval-mae:0.04177\ttrain-mae:0.041274\n",
      "[136]\teval-mae:0.04176\ttrain-mae:0.041261\n",
      "[137]\teval-mae:0.041747\ttrain-mae:0.041247\n",
      "[138]\teval-mae:0.041732\ttrain-mae:0.04123\n",
      "[139]\teval-mae:0.041724\ttrain-mae:0.04122\n",
      "[140]\teval-mae:0.041717\ttrain-mae:0.041211\n",
      "[141]\teval-mae:0.041708\ttrain-mae:0.041201\n",
      "[142]\teval-mae:0.041701\ttrain-mae:0.041191\n",
      "[143]\teval-mae:0.041692\ttrain-mae:0.041182\n",
      "[144]\teval-mae:0.041681\ttrain-mae:0.041168\n",
      "[145]\teval-mae:0.041667\ttrain-mae:0.041153\n",
      "[146]\teval-mae:0.041661\ttrain-mae:0.041145\n",
      "[147]\teval-mae:0.041654\ttrain-mae:0.041137\n",
      "[148]\teval-mae:0.041648\ttrain-mae:0.04113\n",
      "[149]\teval-mae:0.041641\ttrain-mae:0.041121\n",
      "[150]\teval-mae:0.04163\ttrain-mae:0.041108\n",
      "[151]\teval-mae:0.041622\ttrain-mae:0.041099\n",
      "[152]\teval-mae:0.041613\ttrain-mae:0.041087\n",
      "[153]\teval-mae:0.041601\ttrain-mae:0.041076\n",
      "[154]\teval-mae:0.041591\ttrain-mae:0.041064\n",
      "[155]\teval-mae:0.04158\ttrain-mae:0.041053\n",
      "[156]\teval-mae:0.041573\ttrain-mae:0.041044\n",
      "[157]\teval-mae:0.041567\ttrain-mae:0.041036\n",
      "[158]\teval-mae:0.041557\ttrain-mae:0.041025\n",
      "[159]\teval-mae:0.041551\ttrain-mae:0.041017\n",
      "[160]\teval-mae:0.041543\ttrain-mae:0.041008\n",
      "[161]\teval-mae:0.041539\ttrain-mae:0.041002\n",
      "[162]\teval-mae:0.041533\ttrain-mae:0.040994\n",
      "[163]\teval-mae:0.041522\ttrain-mae:0.040983\n",
      "[164]\teval-mae:0.041517\ttrain-mae:0.040975\n",
      "[165]\teval-mae:0.04151\ttrain-mae:0.040966\n",
      "[166]\teval-mae:0.041503\ttrain-mae:0.040959\n",
      "[167]\teval-mae:0.041497\ttrain-mae:0.04095\n",
      "[168]\teval-mae:0.041489\ttrain-mae:0.04094\n",
      "[169]\teval-mae:0.041484\ttrain-mae:0.040933\n",
      "[170]\teval-mae:0.041475\ttrain-mae:0.040924\n",
      "[171]\teval-mae:0.041471\ttrain-mae:0.040917\n",
      "[172]\teval-mae:0.041465\ttrain-mae:0.040912\n",
      "[173]\teval-mae:0.041461\ttrain-mae:0.040906\n",
      "[174]\teval-mae:0.041454\ttrain-mae:0.040897\n",
      "[175]\teval-mae:0.041446\ttrain-mae:0.040888\n",
      "[176]\teval-mae:0.041437\ttrain-mae:0.040879\n",
      "[177]\teval-mae:0.041432\ttrain-mae:0.040873\n",
      "[178]\teval-mae:0.041422\ttrain-mae:0.040862\n",
      "[179]\teval-mae:0.041418\ttrain-mae:0.040857\n",
      "[180]\teval-mae:0.041411\ttrain-mae:0.040849\n",
      "[181]\teval-mae:0.041402\ttrain-mae:0.040838\n",
      "[182]\teval-mae:0.041396\ttrain-mae:0.040831\n",
      "[183]\teval-mae:0.041391\ttrain-mae:0.040825\n",
      "[184]\teval-mae:0.041388\ttrain-mae:0.04082\n",
      "[185]\teval-mae:0.041381\ttrain-mae:0.04081\n",
      "[186]\teval-mae:0.041376\ttrain-mae:0.040801\n",
      "[187]\teval-mae:0.041371\ttrain-mae:0.040794\n",
      "[188]\teval-mae:0.041365\ttrain-mae:0.040788\n",
      "[189]\teval-mae:0.041361\ttrain-mae:0.040782\n",
      "[190]\teval-mae:0.041353\ttrain-mae:0.040774\n",
      "[191]\teval-mae:0.041348\ttrain-mae:0.040766\n",
      "[192]\teval-mae:0.041344\ttrain-mae:0.040763\n",
      "[193]\teval-mae:0.04134\ttrain-mae:0.040755\n",
      "[194]\teval-mae:0.041333\ttrain-mae:0.040744\n",
      "[195]\teval-mae:0.041331\ttrain-mae:0.04074\n",
      "[196]\teval-mae:0.041324\ttrain-mae:0.040731\n",
      "[197]\teval-mae:0.04132\ttrain-mae:0.040725\n",
      "[198]\teval-mae:0.041317\ttrain-mae:0.040721\n",
      "[199]\teval-mae:0.04131\ttrain-mae:0.040711\n",
      "[200]\teval-mae:0.041304\ttrain-mae:0.040703\n",
      "[201]\teval-mae:0.041299\ttrain-mae:0.040697\n",
      "[202]\teval-mae:0.041292\ttrain-mae:0.040687\n",
      "[203]\teval-mae:0.041285\ttrain-mae:0.04068\n",
      "[204]\teval-mae:0.041281\ttrain-mae:0.040675\n",
      "[205]\teval-mae:0.041277\ttrain-mae:0.040669\n",
      "[206]\teval-mae:0.041274\ttrain-mae:0.040664\n",
      "[207]\teval-mae:0.041268\ttrain-mae:0.040657\n",
      "[208]\teval-mae:0.041263\ttrain-mae:0.040651\n",
      "[209]\teval-mae:0.04126\ttrain-mae:0.040647\n",
      "[210]\teval-mae:0.041256\ttrain-mae:0.040642\n",
      "[211]\teval-mae:0.041251\ttrain-mae:0.040635\n",
      "[212]\teval-mae:0.041247\ttrain-mae:0.04063\n",
      "[213]\teval-mae:0.041242\ttrain-mae:0.040623\n",
      "[214]\teval-mae:0.041239\ttrain-mae:0.040619\n",
      "[215]\teval-mae:0.041235\ttrain-mae:0.040614\n",
      "[216]\teval-mae:0.041233\ttrain-mae:0.040609\n",
      "[217]\teval-mae:0.041231\ttrain-mae:0.040605\n",
      "[218]\teval-mae:0.041229\ttrain-mae:0.040602\n",
      "[219]\teval-mae:0.041221\ttrain-mae:0.040594\n",
      "[220]\teval-mae:0.041211\ttrain-mae:0.040583\n",
      "[221]\teval-mae:0.041207\ttrain-mae:0.040576\n",
      "[222]\teval-mae:0.041201\ttrain-mae:0.040571\n",
      "[223]\teval-mae:0.041199\ttrain-mae:0.040568\n",
      "[224]\teval-mae:0.041196\ttrain-mae:0.040563\n",
      "[225]\teval-mae:0.041192\ttrain-mae:0.040558\n",
      "[226]\teval-mae:0.04119\ttrain-mae:0.040554\n",
      "[227]\teval-mae:0.041186\ttrain-mae:0.040551\n",
      "[228]\teval-mae:0.041183\ttrain-mae:0.040545\n",
      "[229]\teval-mae:0.041181\ttrain-mae:0.040541\n",
      "[230]\teval-mae:0.041179\ttrain-mae:0.040537\n",
      "[231]\teval-mae:0.041176\ttrain-mae:0.040534\n",
      "[232]\teval-mae:0.041171\ttrain-mae:0.040528\n",
      "[233]\teval-mae:0.041168\ttrain-mae:0.040524\n",
      "[234]\teval-mae:0.041164\ttrain-mae:0.040518\n",
      "[235]\teval-mae:0.041158\ttrain-mae:0.04051\n",
      "[236]\teval-mae:0.041156\ttrain-mae:0.040506\n",
      "[237]\teval-mae:0.041154\ttrain-mae:0.040503\n",
      "[238]\teval-mae:0.041151\ttrain-mae:0.0405\n",
      "[239]\teval-mae:0.041146\ttrain-mae:0.040494\n",
      "[240]\teval-mae:0.041143\ttrain-mae:0.04049\n",
      "[241]\teval-mae:0.041141\ttrain-mae:0.040486\n",
      "[242]\teval-mae:0.041138\ttrain-mae:0.040481\n",
      "[243]\teval-mae:0.041133\ttrain-mae:0.040475\n",
      "[244]\teval-mae:0.04113\ttrain-mae:0.040471\n",
      "[245]\teval-mae:0.041129\ttrain-mae:0.040468\n",
      "[246]\teval-mae:0.041126\ttrain-mae:0.040465\n",
      "[247]\teval-mae:0.041124\ttrain-mae:0.040461\n",
      "[248]\teval-mae:0.041121\ttrain-mae:0.040455\n",
      "[249]\teval-mae:0.041117\ttrain-mae:0.040451\n",
      "[250]\teval-mae:0.041114\ttrain-mae:0.040446\n",
      "[251]\teval-mae:0.041112\ttrain-mae:0.040443\n",
      "[252]\teval-mae:0.041111\ttrain-mae:0.040441\n",
      "[253]\teval-mae:0.04111\ttrain-mae:0.040438\n",
      "[254]\teval-mae:0.041108\ttrain-mae:0.040433\n",
      "[255]\teval-mae:0.041106\ttrain-mae:0.040429\n",
      "[256]\teval-mae:0.041104\ttrain-mae:0.040427\n",
      "[257]\teval-mae:0.041097\ttrain-mae:0.04042\n",
      "[258]\teval-mae:0.041094\ttrain-mae:0.040416\n",
      "[259]\teval-mae:0.041091\ttrain-mae:0.040412\n",
      "[260]\teval-mae:0.04109\ttrain-mae:0.040409\n",
      "[261]\teval-mae:0.041083\ttrain-mae:0.0404\n",
      "[262]\teval-mae:0.041082\ttrain-mae:0.040398\n",
      "[263]\teval-mae:0.04108\ttrain-mae:0.040395\n",
      "[264]\teval-mae:0.041077\ttrain-mae:0.040389\n",
      "[265]\teval-mae:0.041075\ttrain-mae:0.040387\n",
      "[266]\teval-mae:0.041074\ttrain-mae:0.040384\n",
      "[267]\teval-mae:0.041073\ttrain-mae:0.040381\n",
      "[268]\teval-mae:0.041068\ttrain-mae:0.040375\n",
      "[269]\teval-mae:0.041066\ttrain-mae:0.04037\n",
      "[270]\teval-mae:0.041062\ttrain-mae:0.040366\n"
     ]
    }
   ],
   "source": [
    "num_round = 1500\n",
    "# params = {'eval_metric':'mae','max_depth':6,'colsample_bytree':1,'alpha':1,'gamma':1,'eta':0.155,'min_child_weight':1}# 1132, 75 rounds\n",
    "# params = {'eval_metric':'mae','max_depth':6,'colsample_bytree':1,'alpha':1,'gamma':1,'eta':0.15,'min_child_weight':1}# 1136, 75 rounds\n",
    "# params = {'eval_metric':'mae','max_depth':12,'colsample_bytree':1,'alpha':1,'gamma':0.01,'eta':0.05,'min_child_weight':1}# 1136, 500 rounds\n",
    "params = {'eval_metric':'mae','max_depth':6,'colsample_bytree':1,'alpha':1,'gamma':0.01,'eta':0.05,'min_child_weight':0}# 1130, 2500 rounds\n",
    "\n",
    "watchlist  = [(d_val_xgb,'eval'), (d_train_xgb,'train')]\n",
    "gbt = xgb.train(params, d_train_xgb,num_round,watchlist)"
   ]
  },
  {
   "cell_type": "code",
   "execution_count": null,
   "metadata": {
    "collapsed": false
   },
   "outputs": [],
   "source": [
    "print(mean_absolute_error(lossRestore(y_val,ymean,ystd),lossRestore(gbt.predict(x_val_xgb),ymean,ystd)))"
   ]
  },
  {
   "cell_type": "code",
   "execution_count": null,
   "metadata": {
    "collapsed": false
   },
   "outputs": [],
   "source": [
    "y_pred_i = lossRestore(gbt.predict(d_test_xgb),ymean,ystd)\n",
    "y_pred.append(y_pred_i)\n",
    "y_pred_val.append(lossRestore(gbt.predict(x_val_xgb),ymean,ystd))"
   ]
  },
  {
   "cell_type": "markdown",
   "metadata": {},
   "source": [
    "### AdaBoost Regression"
   ]
  },
  {
   "cell_type": "code",
   "execution_count": null,
   "metadata": {
    "collapsed": true
   },
   "outputs": [],
   "source": [
    "from sklearn.ensemble import AdaBoostRegressor\n",
    "from sklearn.linear_model import Ridge"
   ]
  },
  {
   "cell_type": "code",
   "execution_count": null,
   "metadata": {
    "collapsed": false
   },
   "outputs": [],
   "source": [
    "# n_estimators = [30, 60, 90, 120]\n",
    "# n_estimators = [10,20,30,40]\n",
    "n_estimators = [6]\n",
    "base_estimator = Ridge(alpha = 40)\n",
    "err = 999999999\n",
    "n_estimator = 0\n",
    "random_state = 0\n",
    "for n_est in n_estimators:\n",
    "    tmpAdReg = AdaBoostRegressor(n_estimators = n_est, random_state = random_state,base_estimator = base_estimator)\n",
    "#     tmpAdReg = AdaBoostRegressor(n_estimators = n_est, random_state = random_state)\n",
    "    tmpAdReg.fit(x_train,y_train)\n",
    "    err_i = mean_absolute_error(lossRestore(y_val,ymean,ystd),lossRestore(tmpAdReg.predict(x_val),ymean,ystd))\n",
    "    print(err_i)\n",
    "    if err_i < err:\n",
    "        AdReg = tmpAdReg\n",
    "        n_estimator = n_est\n",
    "        err = err_i"
   ]
  },
  {
   "cell_type": "code",
   "execution_count": null,
   "metadata": {
    "collapsed": false
   },
   "outputs": [],
   "source": [
    "print('n_estimator = {}'.format(n_estimator))\n",
    "print(mean_absolute_error(lossRestore(y_val,ymean,ystd),lossRestore(AdReg.predict(x_val),ymean,ystd)))"
   ]
  },
  {
   "cell_type": "code",
   "execution_count": null,
   "metadata": {
    "collapsed": true
   },
   "outputs": [],
   "source": [
    "y_pred_i = lossRestore(AdReg.predict(x_Test),ymean,ystd)\n",
    "y_pred.append(y_pred_i)\n",
    "y_pred_val.append(lossRestore(AdReg.predict(x_val),ymean,ystd))"
   ]
  },
  {
   "cell_type": "markdown",
   "metadata": {},
   "source": [
    "### Skipped - K Nearest Neighbors"
   ]
  },
  {
   "cell_type": "code",
   "execution_count": null,
   "metadata": {
    "collapsed": true
   },
   "outputs": [],
   "source": [
    "# from sklearn.neighbors import KNeighborsRegressor"
   ]
  },
  {
   "cell_type": "code",
   "execution_count": null,
   "metadata": {
    "collapsed": false
   },
   "outputs": [],
   "source": [
    "# n_neighbors = [5, 10, 15]\n",
    "# weights = 'distance'\n",
    "# err = 999999999\n",
    "# n_nns = 0\n",
    "# # random_state = 0\n",
    "# for n_nn in n_neighbors:\n",
    "#     tmpKNReg = KNeighborsRegressor(n_neighbors = n_nn,weights = weights)\n",
    "#     tmpKNReg.fit(x_train,y_train)\n",
    "#     err_i = mean_absolute_error(lossRestore(y_val,ymean,ystd),lossRestore(tmpKNReg.predict(x_val),ymean,ystd))\n",
    "#     print(err_i)\n",
    "#     if err_i < err:\n",
    "#         KNReg = tmpKNReg\n",
    "#         n_nns = n_nn\n",
    "#         err = err_i"
   ]
  },
  {
   "cell_type": "code",
   "execution_count": null,
   "metadata": {
    "collapsed": false
   },
   "outputs": [],
   "source": [
    "# print('n_neighbors = {}'.format(n_nns))\n",
    "# print(mean_absolute_error(lossRestore(y_val,ymean,ystd),lossRestore(KNReg.predict(x_val),ymean,ystd)))"
   ]
  },
  {
   "cell_type": "code",
   "execution_count": null,
   "metadata": {
    "collapsed": true
   },
   "outputs": [],
   "source": [
    "# y_pred_i = lossRestore(KNReg.predict(x_Test),ymean,ystd)\n",
    "# y_pred.append(y_pred_i)\n",
    "# y_pred_val.append(lossRestore(KNReg.predict(x_val),ymean,ystd))"
   ]
  },
  {
   "cell_type": "markdown",
   "metadata": {},
   "source": [
    "### Linear SVR"
   ]
  },
  {
   "cell_type": "code",
   "execution_count": null,
   "metadata": {
    "collapsed": false
   },
   "outputs": [],
   "source": [
    "# from sklearn.svm import LinearSVR"
   ]
  },
  {
   "cell_type": "code",
   "execution_count": null,
   "metadata": {
    "collapsed": false
   },
   "outputs": [],
   "source": [
    "# # SVReg = svm.SVR(kernel = 'rbf')\n",
    "# # SVReg.fit(x_train,y_train)\n",
    "# SVReg = LinearSVR(C=0.5)\n",
    "# SVReg.fit(x_train,y_train)"
   ]
  },
  {
   "cell_type": "code",
   "execution_count": null,
   "metadata": {
    "collapsed": false
   },
   "outputs": [],
   "source": [
    "# print(mean_absolute_error(lossRestore(y_val,ymean,ystd),lossRestore(SVReg.predict(x_val),ymean,ystd)))"
   ]
  },
  {
   "cell_type": "code",
   "execution_count": null,
   "metadata": {
    "collapsed": true
   },
   "outputs": [],
   "source": [
    "# y_pred_i = lossRestore(SVReg.predict(x_Test),ymean,ystd)\n",
    "# y_pred.append(y_pred_i)\n",
    "# y_pred_val.append(lossRestore(SVReg.predict(x_val),ymean,ystd))"
   ]
  },
  {
   "cell_type": "markdown",
   "metadata": {},
   "source": [
    "### MLP Regressor"
   ]
  },
  {
   "cell_type": "code",
   "execution_count": null,
   "metadata": {
    "collapsed": true
   },
   "outputs": [],
   "source": [
    "from sklearn.neural_network import MLPRegressor"
   ]
  },
  {
   "cell_type": "code",
   "execution_count": null,
   "metadata": {
    "collapsed": false
   },
   "outputs": [],
   "source": [
    "MLPReg = MLPRegressor(alpha = 1e-5, hidden_layer_sizes = (35,3),random_state=0,early_stopping=True)\n",
    "MLPReg.fit(x_train,y_train)"
   ]
  },
  {
   "cell_type": "code",
   "execution_count": null,
   "metadata": {
    "collapsed": false
   },
   "outputs": [],
   "source": [
    "print(mean_absolute_error(lossRestore(y_val,ymean,ystd),lossRestore(MLPReg.predict(x_val),ymean,ystd)))"
   ]
  },
  {
   "cell_type": "code",
   "execution_count": null,
   "metadata": {
    "collapsed": true
   },
   "outputs": [],
   "source": [
    "y_pred_i = lossRestore(MLPReg.predict(x_Test),ymean,ystd)\n",
    "y_pred.append(y_pred_i)\n",
    "y_pred_val.append(lossRestore(MLPReg.predict(x_val),ymean,ystd))"
   ]
  },
  {
   "cell_type": "markdown",
   "metadata": {},
   "source": [
    "# save files for submission"
   ]
  },
  {
   "cell_type": "code",
   "execution_count": null,
   "metadata": {
    "collapsed": false
   },
   "outputs": [],
   "source": [
    "# ensemble the results\n",
    "y_pred.append(np.ndarray.mean(np.vstack(y_pred).T,axis=1))\n",
    "\n",
    "# ensembled y_val\n",
    "print('The loss of the ensembled result:')\n",
    "y_pred_val_en = np.ndarray.mean(np.vstack(y_pred_val).T,axis=1)\n",
    "mean_absolute_error(lossRestore(y_val,ymean,ystd),y_pred_val_en)"
   ]
  },
  {
   "cell_type": "code",
   "execution_count": null,
   "metadata": {
    "collapsed": false
   },
   "outputs": [],
   "source": [
    "# Save all the predictions for submission\n",
    "for i,stri in enumerate(testList):\n",
    "    submission['id'] = subId\n",
    "    submission['loss']=pd.Series(data=y_pred[i])\n",
    "    submission.to_csv('../output/'+stri+'.csv',index=False)"
   ]
  },
  {
   "cell_type": "code",
   "execution_count": null,
   "metadata": {
    "collapsed": false
   },
   "outputs": [],
   "source": [
    "from sklearn.externals import joblib\n",
    "joblib.dump([regCV, gbt, AdReg, MLPReg, y_pred, y_pred_val, x_train, x_val, y_train, y_val, x_Test]\n",
    "            ,'../output/models_data_on_raw_features.pkl',compress=3) \n",
    "\n",
    "# clf = joblib.load('filename.pkl') "
   ]
  },
  {
   "cell_type": "code",
   "execution_count": null,
   "metadata": {
    "collapsed": false
   },
   "outputs": [],
   "source": [
    "testList\n"
   ]
  },
  {
   "cell_type": "code",
   "execution_count": null,
   "metadata": {
    "collapsed": true
   },
   "outputs": [],
   "source": []
  }
 ],
 "metadata": {
  "kernelspec": {
   "display_name": "Python [Root]",
   "language": "python",
   "name": "Python [Root]"
  },
  "language_info": {
   "codemirror_mode": {
    "name": "ipython",
    "version": 2
   },
   "file_extension": ".py",
   "mimetype": "text/x-python",
   "name": "python",
   "nbconvert_exporter": "python",
   "pygments_lexer": "ipython2",
   "version": "2.7.12"
  }
 },
 "nbformat": 4,
 "nbformat_minor": 0
}
