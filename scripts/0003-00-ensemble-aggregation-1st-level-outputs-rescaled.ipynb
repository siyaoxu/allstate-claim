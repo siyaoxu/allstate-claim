{
 "cells": [
  {
   "cell_type": "markdown",
   "metadata": {},
   "source": [
    "# Load the data"
   ]
  },
  {
   "cell_type": "code",
   "execution_count": 1,
   "metadata": {
    "collapsed": true
   },
   "outputs": [],
   "source": [
    "# This Python 3 environment comes with many helpful analytics libraries installed\n",
    "# It is defined by the kaggle/python docker image: https://github.com/kaggle/docker-python\n",
    "# For example, here's several helpful packages to load in \n",
    "\n",
    "import numpy as np # linear algebra\n",
    "import pandas as pd # data processing, CSV file I/O (e.g. pd.read_csv)\n",
    "import scipy as sp\n",
    "\n",
    "# from scipy.special import erfinv\n",
    "from scipy.stats import norm\n",
    "\n",
    "# Input data files are available in the \"../input/\" directory.\n",
    "# For example, running this (by clicking run or pressing Shift+Enter) will list the files in the input directory\n",
    "\n",
    "# from subprocess import check_output\n",
    "# print(check_output([\"ls\", \"../input\"]).decode(\"utf8\"))\n",
    "\n",
    "# Any results you write to the current directory are saved as output.\n",
    "\n",
    "%matplotlib inline\n",
    "\n",
    "import matplotlib.pyplot as plt\n",
    "from sklearn.model_selection import GridSearchCV\n",
    "seed=0"
   ]
  },
  {
   "cell_type": "code",
   "execution_count": 69,
   "metadata": {
    "collapsed": false
   },
   "outputs": [],
   "source": [
    "from sklearn.externals import joblib\n",
    "\n",
    "pred_val_xgb,pred_xgb = joblib.load('./xgb_bagged_prediction_val.pkl')\n",
    "pred_val_lgbm,pred_lgbm = joblib.load('./LightGBM_bagged_prediction_val.pkl')\n",
    "\n",
    "y_val = joblib.load('./LightGBM_bagged_y_val.pkl') "
   ]
  },
  {
   "cell_type": "code",
   "execution_count": 70,
   "metadata": {
    "collapsed": false
   },
   "outputs": [
    {
     "name": "stdout",
     "output_type": "stream",
     "text": [
      "125546\n",
      "18800\n",
      "125546\n",
      "18800\n"
     ]
    }
   ],
   "source": [
    "print(len(pred_xgb))\n",
    "print(len(pred_val_xgb))\n",
    "print(len(pre_lgbm))\n",
    "print(len(pred_val_lgbm))"
   ]
  },
  {
   "cell_type": "code",
   "execution_count": 71,
   "metadata": {
    "collapsed": true
   },
   "outputs": [],
   "source": [
    "def lossRestore(logloss, ymean, ystd):\n",
    "    loss = np.exp(logloss*ystd+ymean)\n",
    "    return loss"
   ]
  },
  {
   "cell_type": "markdown",
   "metadata": {},
   "source": [
    "# Preprocessing and Transformation"
   ]
  },
  {
   "cell_type": "code",
   "execution_count": 72,
   "metadata": {
    "collapsed": false
   },
   "outputs": [],
   "source": [
    "ys = [y_val,pred_val_xgb,pred_val_lgbm]"
   ]
  },
  {
   "cell_type": "code",
   "execution_count": 73,
   "metadata": {
    "collapsed": false
   },
   "outputs": [
    {
     "data": {
      "image/png": "[encoded data removed]",
      "text/plain": [
       "<matplotlib.figure.Figure at 0x7f98402cf190>"
      ]
     },
     "metadata": {},
     "output_type": "display_data"
    }
   ],
   "source": [
    "plt.figure()\n",
    "plt.hist(ys);"
   ]
  },
  {
   "cell_type": "code",
   "execution_count": 74,
   "metadata": {
    "collapsed": false
   },
   "outputs": [
    {
     "data": {
      "text/plain": [
       "array([[ 1.        ,  0.77467877,  0.77453155],\n",
       "       [ 0.77467877,  1.        ,  0.99553522],\n",
       "       [ 0.77453155,  0.99553522,  1.        ]])"
      ]
     },
     "execution_count": 74,
     "metadata": {},
     "output_type": "execute_result"
    }
   ],
   "source": [
    "np.corrcoef(np.array(ys))"
   ]
  },
  {
   "cell_type": "markdown",
   "metadata": {},
   "source": [
    "# Try different averages"
   ]
  },
  {
   "cell_type": "code",
   "execution_count": 75,
   "metadata": {
    "collapsed": true
   },
   "outputs": [],
   "source": [
    "from sklearn.metrics import mean_absolute_error"
   ]
  },
  {
   "cell_type": "code",
   "execution_count": 76,
   "metadata": {
    "collapsed": false
   },
   "outputs": [
    {
     "name": "stdout",
     "output_type": "stream",
     "text": [
      "(0.0, 1.0)\n",
      "1093.94467002\n",
      "1093.94467002\n",
      "1093.94467002\n",
      "\n",
      "\n",
      "(0.1, 0.9)\n",
      "1092.96596478\n",
      "1092.98760723\n",
      "1092.97742624\n",
      "\n",
      "\n",
      "(0.2, 0.8)\n",
      "1092.17074768\n",
      "1092.20237505\n",
      "1092.18631563\n",
      "\n",
      "\n",
      "(0.3, 0.7)\n",
      "1091.53847175\n",
      "1091.58269963\n",
      "1091.55966601\n",
      "\n",
      "\n",
      "(0.4, 0.6)\n",
      "1091.06361754\n",
      "1091.11115523\n",
      "1091.0865163\n",
      "\n",
      "\n",
      "(0.5, 0.5)\n",
      "1090.7210407\n",
      "1090.7693482\n",
      "1090.74438689\n",
      "\n",
      "\n",
      "(0.6, 0.4)\n",
      "1090.52917766\n",
      "1090.56720183\n",
      "1090.54622173\n",
      "\n",
      "\n",
      "(0.7, 0.30000000000000004)\n",
      "1090.48099588\n",
      "1090.51094084\n",
      "1090.49535844\n",
      "\n",
      "\n",
      "(0.8, 0.19999999999999996)\n",
      "1090.57154851\n",
      "1090.58875763\n",
      "1090.5807152\n",
      "\n",
      "\n",
      "(0.9, 0.09999999999999998)\n",
      "1090.81529852\n",
      "1090.82123102\n",
      "1090.81905714\n",
      "\n",
      "\n",
      "(1.0, 0.0)\n",
      "1091.20516953\n",
      "1091.20516965\n",
      "1091.20518083\n",
      "\n",
      "\n"
     ]
    }
   ],
   "source": [
    "ws = [k/10.0 for k in range(0,11)]\n",
    "names = ['arith','harm','geom']\n",
    "avgs = {names[0]:[],names[1]:[],names[2]:[]}\n",
    "for w in ws:\n",
    "    w1 = w\n",
    "    w2 = 1.0-w\n",
    "    print((w1,w2))\n",
    "    \n",
    "    arithAvg = ys[1]*w1+ys[2]*w2\n",
    "    avgs[names[0]].append(arithAvg)\n",
    "    print(mean_absolute_error(ys[0],arithAvg))\n",
    "    \n",
    "    harmAvg = 1.0/(w1/ys[1] + w2/ys[2])\n",
    "    avgs[names[1]].append(harmAvg)\n",
    "    print(mean_absolute_error(ys[0],harmAvg))\n",
    "    \n",
    "    geomAvg = np.exp(w1*np.log(ys[1]) + w2*np.log(ys[2]))\n",
    "    avgs[names[2]].append(geomAvg)\n",
    "    print(mean_absolute_error(ys[0],geomAvg))\n",
    "    print('\\n')\n",
    "        "
   ]
  },
  {
   "cell_type": "markdown",
   "metadata": {},
   "source": [
    "### The best weights are "
   ]
  },
  {
   "cell_type": "code",
   "execution_count": null,
   "metadata": {
    "collapsed": true
   },
   "outputs": [],
   "source": [
    "kerasdf = pd.to_csv('../output/keras_bagging_5folds.csv')\n",
    "kerasdf = pd.to_csv('../output/keras_bagging_5folds.csv')\n",
    "kerasdf = pd.to_csv('../output/keras_bagging_5folds.csv')"
   ]
  },
  {
   "cell_type": "code",
   "execution_count": 77,
   "metadata": {
    "collapsed": false
   },
   "outputs": [],
   "source": [
    "# arithmatic w1 0.5, w2 0.5\n",
    "w1=0.5\n",
    "w2 = 0.5"
   ]
  },
  {
   "cell_type": "code",
   "execution_count": 78,
   "metadata": {
    "collapsed": false
   },
   "outputs": [],
   "source": [
    "arithAvg = pred_xgb*w1 + pred_lgbm*w2\n",
    "harmAvg = 1.0/(w1/pred_xgb + w2/pred_lgbm)\n",
    "geomAvg = np.exp(w1*np.log(pred_xgb) + w2*np.log(pred_lgbm))"
   ]
  },
  {
   "cell_type": "markdown",
   "metadata": {},
   "source": [
    "# Save All Ensembles"
   ]
  },
  {
   "cell_type": "code",
   "execution_count": 79,
   "metadata": {
    "collapsed": true
   },
   "outputs": [],
   "source": [
    "submission = pd.read_csv('../input/sample_submission.csv')"
   ]
  },
  {
   "cell_type": "code",
   "execution_count": 80,
   "metadata": {
    "collapsed": false
   },
   "outputs": [],
   "source": [
    "submission['loss'] = arithAvg\n",
    "submission.to_csv('../output/arithAvg.csv',index=False)\n",
    "\n",
    "submission['loss'] = harmAvg\n",
    "submission.to_csv('../output/harmAvg.csv',index=False)\n",
    "\n",
    "submission['loss'] = geomAvg\n",
    "submission.to_csv('../output/geomAvg.csv',index=False)"
   ]
  },
  {
   "cell_type": "code",
   "execution_count": 61,
   "metadata": {
    "collapsed": false
   },
   "outputs": [
    {
     "data": {
      "text/plain": [
       "(125546, 2)"
      ]
     },
     "execution_count": 61,
     "metadata": {},
     "output_type": "execute_result"
    }
   ],
   "source": [
    "submission.shape"
   ]
  },
  {
   "cell_type": "code",
   "execution_count": 62,
   "metadata": {
    "collapsed": false
   },
   "outputs": [
    {
     "data": {
      "text/plain": [
       "18800"
      ]
     },
     "execution_count": 62,
     "metadata": {},
     "output_type": "execute_result"
    }
   ],
   "source": [
    "len(arithAvg)"
   ]
  }
 ],
 "metadata": {
  "kernelspec": {
   "display_name": "Python [Root]",
   "language": "python",
   "name": "Python [Root]"
  },
  "language_info": {
   "codemirror_mode": {
    "name": "ipython",
    "version": 2
   },
   "file_extension": ".py",
   "mimetype": "text/x-python",
   "name": "python",
   "nbconvert_exporter": "python",
   "pygments_lexer": "ipython2",
   "version": "2.7.12"
  }
 },
 "nbformat": 4,
 "nbformat_minor": 0
}
